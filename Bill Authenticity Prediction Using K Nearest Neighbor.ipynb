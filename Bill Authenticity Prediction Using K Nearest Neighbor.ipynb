{
 "cells": [
  {
   "cell_type": "markdown",
   "metadata": {},
   "source": [
    "# <center>Bill Authenticity Prediction Using K Nearest Neighbor</center>"
   ]
  },
  {
   "cell_type": "markdown",
   "metadata": {},
   "source": [
    "## Introduction \n",
    "In various financial transactions, the authenticity of bills is of utmost importance. Counterfeit bills can lead to significant financial losses and undermine trust in the monetary system. To address this issue, the Bill Authenticity Prediction project provides a solution to automate the process of determining whether a bill is genuine or fake based on its physical attributes.\n",
    "\n",
    "This project leverages the power of machine learning and specifically employs the K Nearest Neighbors algorithm for classification. By analyzing the attributes of bills, including diagonal length, height_left, height_right, margin_low, margin_up, and length, the project predicts whether a bill is genuine or not."
   ]
  },
  {
   "cell_type": "markdown",
   "metadata": {},
   "source": [
    "## Step 1: Importing the Data and Relevant Libraries\n",
    "The first step in the data analysis process is to import the dataset and the necessary libraries. For this project, the dataset is in CSV format, and we will use Python's pandas library to load the data into a dataframe for analysis."
   ]
  },
  {
   "cell_type": "code",
   "execution_count": 1,
   "metadata": {},
   "outputs": [
    {
     "data": {
      "text/html": [
       "        <script type=\"text/javascript\">\n",
       "        window.PlotlyConfig = {MathJaxConfig: 'local'};\n",
       "        if (window.MathJax && window.MathJax.Hub && window.MathJax.Hub.Config) {window.MathJax.Hub.Config({SVG: {font: \"STIX-Web\"}});}\n",
       "        if (typeof require !== 'undefined') {\n",
       "        require.undef(\"plotly\");\n",
       "        requirejs.config({\n",
       "            paths: {\n",
       "                'plotly': ['https://cdn.plot.ly/plotly-2.12.1.min']\n",
       "            }\n",
       "        });\n",
       "        require(['plotly'], function(Plotly) {\n",
       "            window._Plotly = Plotly;\n",
       "        });\n",
       "        }\n",
       "        </script>\n",
       "        "
      ]
     },
     "metadata": {},
     "output_type": "display_data"
    },
    {
     "data": {
      "text/html": [
       "        <script type=\"text/javascript\">\n",
       "        window.PlotlyConfig = {MathJaxConfig: 'local'};\n",
       "        if (window.MathJax && window.MathJax.Hub && window.MathJax.Hub.Config) {window.MathJax.Hub.Config({SVG: {font: \"STIX-Web\"}});}\n",
       "        if (typeof require !== 'undefined') {\n",
       "        require.undef(\"plotly\");\n",
       "        requirejs.config({\n",
       "            paths: {\n",
       "                'plotly': ['https://cdn.plot.ly/plotly-2.12.1.min']\n",
       "            }\n",
       "        });\n",
       "        require(['plotly'], function(Plotly) {\n",
       "            window._Plotly = Plotly;\n",
       "        });\n",
       "        }\n",
       "        </script>\n",
       "        "
      ]
     },
     "metadata": {},
     "output_type": "display_data"
    }
   ],
   "source": [
    "# Importing Libraries \n",
    "import numpy as np\n",
    "import pandas as pd\n",
    "import matplotlib.pyplot as plt\n",
    "import seaborn as sns\n",
    "import cufflinks as cf\n",
    "from plotly.offline import download_plotlyjs, init_notebook_mode, plot, iplot\n",
    "import cufflinks as cf\n",
    "# for notebook use\n",
    "init_notebook_mode(connected=True)\n",
    "# For offline use\n",
    "cf.go_offline()\n",
    "import plotly.express as px"
   ]
  },
  {
   "cell_type": "code",
   "execution_count": 2,
   "metadata": {},
   "outputs": [
    {
     "data": {
      "text/html": [
       "<div>\n",
       "<style scoped>\n",
       "    .dataframe tbody tr th:only-of-type {\n",
       "        vertical-align: middle;\n",
       "    }\n",
       "\n",
       "    .dataframe tbody tr th {\n",
       "        vertical-align: top;\n",
       "    }\n",
       "\n",
       "    .dataframe thead th {\n",
       "        text-align: right;\n",
       "    }\n",
       "</style>\n",
       "<table border=\"1\" class=\"dataframe\">\n",
       "  <thead>\n",
       "    <tr style=\"text-align: right;\">\n",
       "      <th></th>\n",
       "      <th>is_genuine</th>\n",
       "      <th>diagonal</th>\n",
       "      <th>height_left</th>\n",
       "      <th>height_right</th>\n",
       "      <th>margin_low</th>\n",
       "      <th>margin_up</th>\n",
       "      <th>length</th>\n",
       "    </tr>\n",
       "  </thead>\n",
       "  <tbody>\n",
       "    <tr>\n",
       "      <th>0</th>\n",
       "      <td>True</td>\n",
       "      <td>171.81</td>\n",
       "      <td>104.86</td>\n",
       "      <td>104.95</td>\n",
       "      <td>4.52</td>\n",
       "      <td>2.89</td>\n",
       "      <td>112.83</td>\n",
       "    </tr>\n",
       "    <tr>\n",
       "      <th>1</th>\n",
       "      <td>True</td>\n",
       "      <td>171.46</td>\n",
       "      <td>103.36</td>\n",
       "      <td>103.66</td>\n",
       "      <td>3.77</td>\n",
       "      <td>2.99</td>\n",
       "      <td>113.09</td>\n",
       "    </tr>\n",
       "    <tr>\n",
       "      <th>2</th>\n",
       "      <td>True</td>\n",
       "      <td>172.69</td>\n",
       "      <td>104.48</td>\n",
       "      <td>103.50</td>\n",
       "      <td>4.40</td>\n",
       "      <td>2.94</td>\n",
       "      <td>113.16</td>\n",
       "    </tr>\n",
       "    <tr>\n",
       "      <th>3</th>\n",
       "      <td>True</td>\n",
       "      <td>171.36</td>\n",
       "      <td>103.91</td>\n",
       "      <td>103.94</td>\n",
       "      <td>3.62</td>\n",
       "      <td>3.01</td>\n",
       "      <td>113.51</td>\n",
       "    </tr>\n",
       "    <tr>\n",
       "      <th>4</th>\n",
       "      <td>True</td>\n",
       "      <td>171.73</td>\n",
       "      <td>104.28</td>\n",
       "      <td>103.46</td>\n",
       "      <td>4.04</td>\n",
       "      <td>3.48</td>\n",
       "      <td>112.54</td>\n",
       "    </tr>\n",
       "  </tbody>\n",
       "</table>\n",
       "</div>"
      ],
      "text/plain": [
       "   is_genuine  diagonal  height_left  height_right  margin_low  margin_up  \\\n",
       "0        True    171.81       104.86        104.95        4.52       2.89   \n",
       "1        True    171.46       103.36        103.66        3.77       2.99   \n",
       "2        True    172.69       104.48        103.50        4.40       2.94   \n",
       "3        True    171.36       103.91        103.94        3.62       3.01   \n",
       "4        True    171.73       104.28        103.46        4.04       3.48   \n",
       "\n",
       "   length  \n",
       "0  112.83  \n",
       "1  113.09  \n",
       "2  113.16  \n",
       "3  113.51  \n",
       "4  112.54  "
      ]
     },
     "execution_count": 2,
     "metadata": {},
     "output_type": "execute_result"
    }
   ],
   "source": [
    "#Importing the data \n",
    "df=pd.read_csv('fake_bills.csv')\n",
    "df.head()"
   ]
  },
  {
   "cell_type": "markdown",
   "metadata": {},
   "source": [
    "## Step 2: Exploratory Data Analysis & Cleaning\n",
    "\n",
    "In this step, we will perform exploratory data analysis to gain insights into our dataset and identify any quality issues that may need to be addressed. The exploratory data analysis process involves examining the data, understanding its characteristics, and visualizing relationships between variables.\n",
    "\n",
    "To start, we will explore the following aspects of our dataset:\n",
    "\n",
    "1. **Data Quality Check:** We will assess the overall quality of the data, looking for missing values, outliers, or any inconsistencies in the data entries. Addressing these issues is crucial to ensure the reliability of our analysis.\n",
    "\n",
    "2. **Univariate Analysis:** We will examine individual variables in our dataset to understand their distributions, identify any outliers, and uncover patterns or insights that can guide our further analysis.\n",
    "\n",
    "3. **Bivariate Analysis:** We will analyze the relationships between pairs of variables to uncover any associations or correlations. This will help us identify potential predictors or variables that may have an impact on the outcome we are trying to predict.\n",
    "\n",
    "4. **Multivariate Analysis:** By considering multiple variables simultaneously, we can explore complex relationships and interactions. We will use techniques such as scatter plots, heatmaps, or parallel coordinate plots to visualize these relationships.\n",
    "\n",
    "The main goal of the exploratory data analysis is to gain a deep understanding of our dataset and prepare it for subsequent modeling or analysis steps. Through this process, we can identify any data quality issues, discover patterns, and generate hypotheses that will guide our decision-making in the later stages of the project.\n",
    "\n",
    "By performing a thorough exploratory data analysis, we ensure that our data is suitable for modeling and enable us to make more informed decisions throughout the project.\n"
   ]
  },
  {
   "cell_type": "markdown",
   "metadata": {},
   "source": [
    "## 2a. Data Cleaning"
   ]
  },
  {
   "cell_type": "code",
   "execution_count": 3,
   "metadata": {},
   "outputs": [
    {
     "name": "stdout",
     "output_type": "stream",
     "text": [
      "<class 'pandas.core.frame.DataFrame'>\n",
      "RangeIndex: 1500 entries, 0 to 1499\n",
      "Data columns (total 7 columns):\n",
      " #   Column        Non-Null Count  Dtype  \n",
      "---  ------        --------------  -----  \n",
      " 0   is_genuine    1500 non-null   bool   \n",
      " 1   diagonal      1500 non-null   float64\n",
      " 2   height_left   1500 non-null   float64\n",
      " 3   height_right  1500 non-null   float64\n",
      " 4   margin_low    1463 non-null   float64\n",
      " 5   margin_up     1500 non-null   float64\n",
      " 6   length        1500 non-null   float64\n",
      "dtypes: bool(1), float64(6)\n",
      "memory usage: 71.9 KB\n"
     ]
    }
   ],
   "source": [
    "df.info()"
   ]
  },
  {
   "cell_type": "code",
   "execution_count": 4,
   "metadata": {},
   "outputs": [
    {
     "data": {
      "text/plain": [
       "0"
      ]
     },
     "execution_count": 4,
     "metadata": {},
     "output_type": "execute_result"
    }
   ],
   "source": [
    "#Checking for duplicates\n",
    "df.duplicated().sum()"
   ]
  },
  {
   "cell_type": "code",
   "execution_count": 5,
   "metadata": {},
   "outputs": [
    {
     "data": {
      "text/plain": [
       "is_genuine       0\n",
       "diagonal         0\n",
       "height_left      0\n",
       "height_right     0\n",
       "margin_low      37\n",
       "margin_up        0\n",
       "length           0\n",
       "dtype: int64"
      ]
     },
     "execution_count": 5,
     "metadata": {},
     "output_type": "execute_result"
    }
   ],
   "source": [
    "#Checking for nulls \n",
    "df.isnull().sum()"
   ]
  },
  {
   "cell_type": "code",
   "execution_count": 6,
   "metadata": {},
   "outputs": [],
   "source": [
    "# Fixing nulls \n",
    "df['margin_low'].fillna(df['margin_low'].mean(),inplace=True)"
   ]
  },
  {
   "cell_type": "code",
   "execution_count": 7,
   "metadata": {},
   "outputs": [
    {
     "data": {
      "text/plain": [
       "is_genuine      0\n",
       "diagonal        0\n",
       "height_left     0\n",
       "height_right    0\n",
       "margin_low      0\n",
       "margin_up       0\n",
       "length          0\n",
       "dtype: int64"
      ]
     },
     "execution_count": 7,
     "metadata": {},
     "output_type": "execute_result"
    }
   ],
   "source": [
    "df.isnull().sum()"
   ]
  },
  {
   "cell_type": "markdown",
   "metadata": {},
   "source": [
    "### 2b. Exploratory Data Analysis"
   ]
  },
  {
   "cell_type": "markdown",
   "metadata": {},
   "source": [
    "We will commence our Exploratory Data Analysis (EDA) by generating univariate plots to examine the distribution of variables within our dataset."
   ]
  },
  {
   "cell_type": "code",
   "execution_count": 8,
   "metadata": {},
   "outputs": [
    {
     "data": {
      "text/plain": [
       "Text(0.5, 1.0, 'Count of Classes')"
      ]
     },
     "execution_count": 8,
     "metadata": {},
     "output_type": "execute_result"
    },
    {
     "data": {
      "image/png": "[encoded data removed]",
      "text/plain": [
       "<Figure size 640x480 with 1 Axes>"
      ]
     },
     "metadata": {},
     "output_type": "display_data"
    }
   ],
   "source": [
    "sns.countplot(x=df['is_genuine']).set_title('Count of Classes')\n"
   ]
  },
  {
   "cell_type": "code",
   "execution_count": 9,
   "metadata": {},
   "outputs": [
    {
     "data": {
      "application/vnd.plotly.v1+json": {
       "config": {
        "linkText": "Export to plot.ly",
        "plotlyServerURL": "https://plot.ly",
        "showLink": true
       },
       "data": [
        {
         "histfunc": "count",
         "histnorm": "",
         "marker": {
          "color": "rgba(255, 153, 51, 1.0)",
          "line": {
           "color": "#4D5663",
           "width": 1.3
          }
         },
         "name": "diagonal",
         "opacity": 0.8,
         "orientation": "v",
         "type": "histogram",
         "x": [
          171.81,
          171.46,
          172.69,
          171.36,
          171.73,
          172.17,
          172.34,
          171.88,
          172.47,
          172.47,
          171.83,
          171.84,
          171.89,
          172.2,
          172.06,
          171.73,
          171.3,
          171.88,
          172.47,
          171.9,
          171.87,
          171.82,
          172.1,
          172.56,
          172.22,
          172.09,
          171.83,
          171.88,
          172.02,
          171.58,
          171.71,
          171.98,
          171.99,
          171.85,
          172.29,
          172.01,
          171.8,
          171.73,
          172,
          172.28,
          172.44,
          172.08,
          172.1,
          172.4,
          171.79,
          171.42,
          171.47,
          172.13,
          172.07,
          171.82,
          171.95,
          172.03,
          171.64,
          171.71,
          172.02,
          171.56,
          171.25,
          171.66,
          171.88,
          171.88,
          172.24,
          171.9,
          171.42,
          171.98,
          171.79,
          172.08,
          172.41,
          172.33,
          171.6,
          171.98,
          171.81,
          171.84,
          171.94,
          171.35,
          172.49,
          172.26,
          171.65,
          171.84,
          171.71,
          171.58,
          171.89,
          171.85,
          172.08,
          172.52,
          171.85,
          171.98,
          172.01,
          171.7,
          171.93,
          171.94,
          171.81,
          172.08,
          171.81,
          172.05,
          172.34,
          172,
          171.57,
          171.86,
          171.54,
          171.93,
          171.53,
          171.55,
          172.05,
          172,
          171.96,
          171.85,
          172.27,
          172.69,
          171.91,
          171.65,
          172.07,
          172.03,
          171.8,
          171.82,
          172.24,
          171.88,
          172.23,
          172.11,
          171.92,
          171.89,
          171.92,
          172.23,
          171.81,
          171.62,
          171.89,
          171.5,
          172.22,
          171.93,
          171.96,
          172,
          171.66,
          171.27,
          171.84,
          171.54,
          172.27,
          171.87,
          172.06,
          171.6,
          172.43,
          172.46,
          172.47,
          171.52,
          172.18,
          172.04,
          171.8,
          171.65,
          172.38,
          172.35,
          172.46,
          171.91,
          171.72,
          172.07,
          171.97,
          171.96,
          172.08,
          171.75,
          171.57,
          171.88,
          172.05,
          172.15,
          172.26,
          172.31,
          172.09,
          171.9,
          172.38,
          171.81,
          172.31,
          172.2,
          172.21,
          171.28,
          171.62,
          172.4,
          172.26,
          172.58,
          171.55,
          172.13,
          171.75,
          172.09,
          171.79,
          171.66,
          171.8,
          172.37,
          171.94,
          171.94,
          171.84,
          172.4,
          172.21,
          172.74,
          172.1,
          172.18,
          171.95,
          171.86,
          171.78,
          172.35,
          171.94,
          172.22,
          171.99,
          171.45,
          171.9,
          171.9,
          171.97,
          171.71,
          172.11,
          172.33,
          171.88,
          172.16,
          172.18,
          172.3,
          171.59,
          172.23,
          172.12,
          171.78,
          171.59,
          172.26,
          172.1,
          172.05,
          171.74,
          172.37,
          172.19,
          172.11,
          171.26,
          172.04,
          171.79,
          171.97,
          172.12,
          171.29,
          171.84,
          171.69,
          172.5,
          172.28,
          172.32,
          172.76,
          171.34,
          172.26,
          171.97,
          171.77,
          171.85,
          172.19,
          172.23,
          171.85,
          171.86,
          171.83,
          171.74,
          172.17,
          171.57,
          171.99,
          171.94,
          172.45,
          172.12,
          171.67,
          172.38,
          171.8,
          171.68,
          172.07,
          172.17,
          171.82,
          171.85,
          172.19,
          171.71,
          172.35,
          172.27,
          171.99,
          171.91,
          172.06,
          171.75,
          172.15,
          171.95,
          171.48,
          171.47,
          171.88,
          172.11,
          172.06,
          171.6,
          172.19,
          171.52,
          171.81,
          171.62,
          172.08,
          171.86,
          172.29,
          171.85,
          171.99,
          172.02,
          172.47,
          171.92,
          172.27,
          172.04,
          171.92,
          172.21,
          172.08,
          171.85,
          171.77,
          172.09,
          172.5,
          171.52,
          172.34,
          171.87,
          172.12,
          172.43,
          171.68,
          171.54,
          171.46,
          171.65,
          172.02,
          172.3,
          171.83,
          172.1,
          172.24,
          171.87,
          172.25,
          172.47,
          172.58,
          172.07,
          172.32,
          172.1,
          171.99,
          171.91,
          171.51,
          172.22,
          172.05,
          172.07,
          171.74,
          171.75,
          171.91,
          172.1,
          171.96,
          171.42,
          171.85,
          172.05,
          172,
          171.99,
          172.4,
          171.95,
          171.53,
          171.85,
          172.33,
          171.8,
          171.59,
          171.69,
          172.26,
          172.52,
          171.9,
          171.78,
          171.7,
          172.53,
          171.54,
          172.32,
          172.46,
          171.87,
          172.08,
          171.93,
          172.06,
          171.81,
          172.21,
          171.96,
          172.3,
          171.93,
          172.33,
          172.04,
          171.36,
          171.61,
          172.19,
          171.62,
          172.4,
          172.29,
          171.57,
          171.72,
          171.73,
          171.65,
          172.46,
          172.1,
          171.91,
          171.43,
          171.65,
          172.07,
          171.54,
          171.74,
          171.94,
          172.06,
          172.15,
          171.95,
          171.75,
          172.28,
          171.71,
          171.65,
          171.49,
          172.16,
          172.37,
          172.42,
          172.21,
          171.66,
          171.55,
          171.79,
          171.96,
          171.67,
          171.82,
          172.47,
          172.15,
          171.87,
          171.52,
          171.63,
          172.45,
          172.3,
          171.95,
          172.19,
          172.4,
          171.82,
          172.5,
          172.18,
          172.06,
          172.56,
          172.27,
          172.44,
          172.3,
          172.3,
          172,
          172.44,
          172.73,
          172.02,
          171.56,
          171.89,
          171.19,
          171.53,
          171.7,
          171.7,
          171.91,
          171.91,
          171.82,
          171.86,
          172.09,
          172.12,
          172.14,
          171.47,
          171.71,
          172.04,
          171.55,
          171.88,
          171.65,
          172.07,
          171.99,
          172.45,
          171.93,
          172.03,
          171.61,
          172.23,
          172.34,
          172.51,
          171.59,
          172.01,
          171.92,
          172.01,
          172.17,
          171.68,
          172.54,
          172.3,
          171.7,
          172.25,
          171.75,
          172,
          171.64,
          172.16,
          172.01,
          171.48,
          172.19,
          172.16,
          171.55,
          171.98,
          171.8,
          171.83,
          172.36,
          171.73,
          172.58,
          171.97,
          172.26,
          172.29,
          172.02,
          171.41,
          171.95,
          171.71,
          171.87,
          171.97,
          171.81,
          172.35,
          172.14,
          172.1,
          171.83,
          171.95,
          171.75,
          172.19,
          171.98,
          172.13,
          172.6,
          172.33,
          172.55,
          172.08,
          171.81,
          172.21,
          172.45,
          171.76,
          172.04,
          171.95,
          171.87,
          171.7,
          172.46,
          171.68,
          172.01,
          171.82,
          171.97,
          171.82,
          171.4,
          171.87,
          172.44,
          171.95,
          171.77,
          171.43,
          172.21,
          171.91,
          171.53,
          171.36,
          172.13,
          172.12,
          171.89,
          172.02,
          172.13,
          172.09,
          171.97,
          171.88,
          171.92,
          172.32,
          172.16,
          171.9,
          172.22,
          171.73,
          172.33,
          171.76,
          171.68,
          172.38,
          171.61,
          171.9,
          171.87,
          171.96,
          171.49,
          171.64,
          172.3,
          172.25,
          171.99,
          171.73,
          172.37,
          172.05,
          171.89,
          171.79,
          171.56,
          171.86,
          171.51,
          171.61,
          172.07,
          171.83,
          171.24,
          171.81,
          172.12,
          172.09,
          172.25,
          172.45,
          171.87,
          172,
          172.23,
          172.15,
          172.13,
          172.05,
          171.93,
          171.57,
          171.95,
          171.83,
          172.28,
          172.35,
          171.99,
          172.03,
          172.01,
          172.53,
          172.03,
          171.76,
          172.51,
          172.13,
          171.68,
          171.98,
          171.97,
          171.89,
          171.74,
          171.92,
          172.04,
          171.85,
          171.67,
          171.99,
          172.29,
          171.65,
          171.96,
          172.24,
          171.95,
          171.67,
          172.31,
          172.2,
          171.74,
          171.68,
          172.08,
          172.45,
          172.37,
          171.52,
          171.91,
          172.34,
          172.53,
          171.8,
          171.8,
          171.95,
          172.45,
          172.4,
          171.95,
          172.51,
          172.36,
          172.22,
          172.26,
          171.87,
          171.99,
          171.56,
          171.85,
          172.09,
          172.05,
          171.98,
          172,
          171.44,
          172.01,
          172.49,
          172.75,
          171.66,
          172.4,
          172.2,
          172.21,
          171.13,
          171.51,
          171.81,
          171.88,
          171.91,
          171.79,
          171.85,
          172.07,
          171.81,
          171.73,
          171.59,
          171.71,
          172.22,
          171.59,
          172.32,
          171.62,
          172.14,
          172.53,
          171.97,
          172.09,
          172.07,
          171.82,
          172.19,
          171.84,
          172.14,
          171.69,
          171.83,
          171.8,
          172.05,
          172.57,
          172.38,
          171.58,
          171.96,
          172.14,
          172.27,
          172.07,
          172.19,
          171.82,
          172.04,
          171.6,
          171.69,
          172.05,
          172.15,
          171.75,
          172.03,
          172.49,
          172.24,
          172.59,
          172.13,
          172.21,
          172.41,
          172.02,
          172.11,
          172.22,
          172.33,
          171.64,
          172.49,
          172,
          171.49,
          172.1,
          171.81,
          171.9,
          172.24,
          171.71,
          172.22,
          172.03,
          172.11,
          172.1,
          171.75,
          172.46,
          172.17,
          172.48,
          171.99,
          172.07,
          172.03,
          172.43,
          172.09,
          171.56,
          172.03,
          172.36,
          171.77,
          172.43,
          172.43,
          171.79,
          171.86,
          171.65,
          172.3,
          171.99,
          172.16,
          171.73,
          171.79,
          172.05,
          171.94,
          171.04,
          172.17,
          171.97,
          171.52,
          172.1,
          171.35,
          171.92,
          171.69,
          172.16,
          171.7,
          172.07,
          171.95,
          172.17,
          172.14,
          172.3,
          172.1,
          172.16,
          172.02,
          171.91,
          171.99,
          171.77,
          171.69,
          172.67,
          171.45,
          171.96,
          172.34,
          171.62,
          171.72,
          172.44,
          171.66,
          172.24,
          171.54,
          172.16,
          172.02,
          172.41,
          171.74,
          171.91,
          172.46,
          172.62,
          171.69,
          171.99,
          171.8,
          172.1,
          172.12,
          172.03,
          172,
          172.53,
          171.26,
          172.26,
          171.92,
          172.13,
          172.41,
          171.93,
          172.25,
          172.28,
          172.51,
          172.19,
          171.42,
          172.25,
          171.99,
          172,
          171.55,
          171.82,
          172.28,
          172.47,
          171.88,
          171.9,
          171.64,
          171.96,
          171.96,
          172.5,
          171.96,
          172.19,
          171.35,
          171.87,
          171.34,
          171.38,
          171.91,
          171.36,
          172.16,
          172.01,
          172.17,
          171.56,
          171.58,
          172.29,
          171.87,
          171.9,
          171.84,
          172.21,
          172.15,
          172.2,
          171.88,
          172.29,
          171.97,
          171.86,
          172.1,
          171.94,
          172.21,
          172.45,
          172.92,
          172.26,
          171.49,
          172.1,
          171.8,
          172.22,
          172.07,
          172.15,
          172.52,
          172.18,
          171.72,
          172.09,
          172.48,
          172.36,
          172.89,
          172.61,
          171.62,
          172.02,
          171.83,
          172.14,
          172.44,
          172.02,
          172.19,
          172.16,
          171.92,
          171.74,
          171.87,
          172.26,
          171.94,
          172.18,
          172.3,
          171.85,
          171.38,
          171.86,
          172.08,
          171.97,
          171.68,
          172.34,
          171.67,
          172.12,
          172.23,
          172.25,
          172.14,
          171.37,
          171.66,
          172.29,
          172.22,
          171.94,
          172.18,
          171.95,
          172.27,
          172.34,
          171.71,
          171.54,
          172.16,
          171.73,
          172.57,
          171.71,
          172,
          172.08,
          172.15,
          172.31,
          172.35,
          172.16,
          172.63,
          172.2,
          172.02,
          171.81,
          171.66,
          172,
          171.95,
          172.39,
          171.65,
          171.83,
          171.5,
          171.41,
          172.16,
          171.99,
          172.32,
          171.99,
          172.22,
          171.62,
          171.84,
          172.05,
          172.25,
          171.98,
          171.65,
          172.37,
          171.64,
          171.99,
          172.48,
          171.92,
          171.85,
          171.36,
          172.24,
          171.49,
          172.45,
          171.82,
          172.15,
          172.18,
          172.39,
          172.13,
          172.36,
          171.83,
          171.77,
          172.05,
          172.17,
          171.52,
          172.17,
          171.64,
          172.19,
          171.94,
          171.9,
          172.13,
          172.1,
          171.79,
          171.66,
          172.09,
          171.63,
          171.9,
          171.84,
          172.02,
          172.4,
          171.95,
          172.39,
          171.66,
          171.77,
          172.37,
          172.22,
          172.24,
          172.15,
          172.31,
          171.87,
          171.79,
          172.12,
          172.09,
          171.84,
          171.42,
          171.92,
          172.36,
          172.06,
          171.75,
          172.06,
          171.57,
          171.4,
          172.41,
          172.06,
          172.43,
          172.31,
          171.62,
          172.43,
          172,
          172.12,
          172.02,
          171.43,
          172.33,
          171.63,
          171.88,
          171.92,
          171.83,
          172.25,
          171.68,
          171.74,
          172.21,
          171.79,
          171.91,
          172.11,
          171.66,
          172.16,
          171.78,
          171.44,
          171.56,
          172.28,
          171.92,
          171.59,
          172.02,
          172.55,
          171.88,
          171.63,
          171.83,
          172.3,
          172.09,
          171.43,
          172.09,
          171.37,
          171.98,
          171.73,
          171.86,
          171.99,
          171.81,
          171.79,
          172.16,
          171.14,
          171.91,
          172.89,
          172.02,
          171.52,
          172.17,
          171.88,
          171.63,
          171.74,
          171.96,
          171.96,
          172.4,
          172.08,
          171.72,
          172.35,
          172.05,
          171.58,
          172.09,
          172.08,
          171.65,
          171.91,
          171.77,
          171.75,
          172.05,
          171.55,
          172.4,
          172.07,
          171.78,
          172.16,
          171.69,
          171.96,
          171.81,
          172.13,
          171.85,
          172.39,
          171.74,
          171.5,
          172.02,
          171.98,
          172.15,
          171.75,
          172.02,
          171.65,
          171.44,
          171.87,
          171.87,
          171.92,
          171.37,
          171.89,
          171.21,
          172.08,
          171.5,
          171.41,
          172.13,
          172.14,
          172.02,
          171.57,
          171.8,
          172.21,
          172.17,
          172.23,
          171.82,
          171.75,
          171.85,
          171.94,
          171.39,
          171.54,
          171.91,
          171.91,
          171.13,
          172.11,
          172.2,
          171.87,
          172.08,
          172.13,
          171.83,
          172.34,
          172.51,
          171.32,
          171.19,
          172.29,
          171.86,
          172.31,
          171.88,
          171.95,
          172.37,
          172.08,
          172.12,
          171.78,
          172.03,
          171.73,
          172.03,
          172.06,
          171.84,
          172.1,
          172.18,
          172.26,
          171.94,
          171.38,
          172,
          171.48,
          171.4,
          172.09,
          172.07,
          171.88,
          172.04,
          171.84,
          172.04,
          172.37,
          171.68,
          171.56,
          171.77,
          172.04,
          171.79,
          171.91,
          171.81,
          172.41,
          171.77,
          172.01,
          171.32,
          172.15,
          171.98,
          171.04,
          171.9,
          171.88,
          171.79,
          171.94,
          172.43,
          171.84,
          172.02,
          171.79,
          171.97,
          171.83,
          172.42,
          172.32,
          172.36,
          171.78,
          172.09,
          172.11,
          171.47,
          172.39,
          171.92,
          172.46,
          172.34,
          171.5,
          171.5,
          171.89,
          171.84,
          171.83,
          171.99,
          171.63,
          171.86,
          171.87,
          172.12,
          171.84,
          172.13,
          171.59,
          172.07,
          172.21,
          171.47,
          171.68,
          171.26,
          172.05,
          172.25,
          171.97,
          171.38,
          171.56,
          171.52,
          171.74,
          172.18,
          171.45,
          171.42,
          171.95,
          171.59,
          171.67,
          172.61,
          171.94,
          171.94,
          172.05,
          172.03,
          171.99,
          171.85,
          172.26,
          172.02,
          171.96,
          171.92,
          171.73,
          171.71,
          171.96,
          172.25,
          172.29,
          172.31,
          171.9,
          171.76,
          171.87,
          171.88,
          171.93,
          171.63,
          171.68,
          172.23,
          171.91,
          172.27,
          171.69,
          172.24,
          171.74,
          172.03,
          171.6,
          172.26,
          172.27,
          171.94,
          171.92,
          171.75,
          171.9,
          172.13,
          171.95,
          172.27,
          172.57,
          171.72,
          172.27,
          171.99,
          172.16,
          171.66,
          171.58,
          171.64,
          171.91,
          172.26,
          171.76,
          171.57,
          172.31,
          171.45,
          172.27,
          172.25,
          172.03,
          171.8,
          171.15,
          171.9,
          172,
          172.39,
          172.42,
          172.2,
          171.88,
          171.56,
          171.93,
          171.59,
          171.92,
          172.37,
          171.67,
          172.13,
          171.94,
          172.04,
          171.26,
          172.4,
          171.73,
          172.33,
          171.96,
          171.82,
          172.47,
          173.01,
          172.11,
          171.43,
          171.74,
          171.62,
          171.8,
          171.6,
          172.1,
          172.12,
          171.93,
          171.31,
          172.06,
          171.57,
          171.94,
          171.84,
          171.86,
          171.57,
          172.4,
          171.9,
          171.55,
          171.96,
          172,
          172.11,
          171.38,
          171.33,
          172.08,
          172.17,
          171.91,
          172.1,
          172.13,
          171.68,
          172.36,
          172,
          171.92,
          171.78,
          171.92,
          171.83,
          172.43,
          172.08,
          172.4,
          171.99,
          171.91,
          171.74,
          172.05,
          172.29,
          172.07,
          171.84,
          171.51,
          171.83,
          171.75,
          171.78,
          172.1,
          172.5,
          171.89,
          172.32,
          172.09,
          172.1,
          172.22,
          172.04,
          171.79,
          172.22,
          171.99,
          171.75,
          172.04,
          171.94,
          171.97,
          171.62,
          171.43,
          171.56,
          171.94,
          171.72,
          171.84,
          171.53,
          171.38,
          172.1,
          171.62,
          171.61,
          171.67,
          171.68,
          171.95,
          171.91,
          171.67,
          172.25,
          171.98,
          171.95,
          171.56,
          172,
          171.69,
          171.74,
          171.83,
          171.6,
          171.65,
          171.94,
          171.69,
          171.86,
          171.38,
          171.69,
          172.02,
          171.74,
          171.8,
          172.3,
          171.41,
          172.15,
          171.58,
          172.08,
          171.97,
          171.75,
          171.26,
          171.46,
          172.05,
          171.8,
          171.05,
          172.31,
          171.43,
          172.36,
          171.59,
          171.67,
          172,
          171.5,
          171.91,
          172.24,
          171.73,
          171.81,
          172.03,
          171.62,
          171.89,
          171.53,
          171.76,
          171.79,
          171.54,
          172.02,
          171.99,
          171.9,
          171.96,
          171.95,
          172.25,
          171.83,
          171.92,
          171.93,
          171.76,
          171.21,
          171.79,
          172.13,
          171.56,
          172.24,
          171.49,
          171.74,
          171.68,
          171.94,
          172.22,
          172.27,
          172.39,
          171.49,
          171.76,
          172.52,
          171.96,
          172.43,
          171.66,
          172.66,
          171.76,
          171.92,
          171.9,
          171.65,
          171.53,
          171.63,
          171.4,
          172.19,
          171.84,
          172.14,
          171.65,
          172.07,
          171.74,
          171.66,
          172.72,
          171.94,
          171.93,
          171.55,
          172.2,
          171.56,
          172.48,
          171.34,
          171.65,
          171.78,
          171.99,
          171.92,
          171.9,
          172.23,
          172.07,
          172.17,
          171.58,
          171.16,
          172.21,
          172.37,
          171.49,
          171.93,
          171.85,
          171.76,
          171.7,
          172.03,
          171.43,
          172.16,
          172.36,
          171.55,
          171.64,
          172.17,
          172.3,
          172.08,
          172.08,
          172.52,
          172.47,
          171.3,
          171.78,
          172.11,
          171.82,
          171.79,
          172.01,
          171.63,
          171.57,
          171.75,
          172.19,
          171.8,
          172.06,
          171.47
         ]
        }
       ],
       "layout": {
        "barmode": "overlay",
        "legend": {
         "bgcolor": "#F5F6F9",
         "font": {
          "color": "#4D5663"
         }
        },
        "paper_bgcolor": "#F5F6F9",
        "plot_bgcolor": "#F5F6F9",
        "template": {
         "data": {
          "bar": [
           {
            "error_x": {
             "color": "#2a3f5f"
            },
            "error_y": {
             "color": "#2a3f5f"
            },
            "marker": {
             "line": {
              "color": "#E5ECF6",
              "width": 0.5
             },
             "pattern": {
              "fillmode": "overlay",
              "size": 10,
              "solidity": 0.2
             }
            },
            "type": "bar"
           }
          ],
          "barpolar": [
           {
            "marker": {
             "line": {
              "color": "#E5ECF6",
              "width": 0.5
             },
             "pattern": {
              "fillmode": "overlay",
              "size": 10,
              "solidity": 0.2
             }
            },
            "type": "barpolar"
           }
          ],
          "carpet": [
           {
            "aaxis": {
             "endlinecolor": "#2a3f5f",
             "gridcolor": "white",
             "linecolor": "white",
             "minorgridcolor": "white",
             "startlinecolor": "#2a3f5f"
            },
            "baxis": {
             "endlinecolor": "#2a3f5f",
             "gridcolor": "white",
             "linecolor": "white",
             "minorgridcolor": "white",
             "startlinecolor": "#2a3f5f"
            },
            "type": "carpet"
           }
          ],
          "choropleth": [
           {
            "colorbar": {
             "outlinewidth": 0,
             "ticks": ""
            },
            "type": "choropleth"
           }
          ],
          "contour": [
           {
            "colorbar": {
             "outlinewidth": 0,
             "ticks": ""
            },
            "colorscale": [
             [
              0,
              "#0d0887"
             ],
             [
              0.1111111111111111,
              "#46039f"
             ],
             [
              0.2222222222222222,
              "#7201a8"
             ],
             [
              0.3333333333333333,
              "#9c179e"
             ],
             [
              0.4444444444444444,
              "#bd3786"
             ],
             [
              0.5555555555555556,
              "#d8576b"
             ],
             [
              0.6666666666666666,
              "#ed7953"
             ],
             [
              0.7777777777777778,
              "#fb9f3a"
             ],
             [
              0.8888888888888888,
              "#fdca26"
             ],
             [
              1,
              "#f0f921"
             ]
            ],
            "type": "contour"
           }
          ],
          "contourcarpet": [
           {
            "colorbar": {
             "outlinewidth": 0,
             "ticks": ""
            },
            "type": "contourcarpet"
           }
          ],
          "heatmap": [
           {
            "colorbar": {
             "outlinewidth": 0,
             "ticks": ""
            },
            "colorscale": [
             [
              0,
              "#0d0887"
             ],
             [
              0.1111111111111111,
              "#46039f"
             ],
             [
              0.2222222222222222,
              "#7201a8"
             ],
             [
              0.3333333333333333,
              "#9c179e"
             ],
             [
              0.4444444444444444,
              "#bd3786"
             ],
             [
              0.5555555555555556,
              "#d8576b"
             ],
             [
              0.6666666666666666,
              "#ed7953"
             ],
             [
              0.7777777777777778,
              "#fb9f3a"
             ],
             [
              0.8888888888888888,
              "#fdca26"
             ],
             [
              1,
              "#f0f921"
             ]
            ],
            "type": "heatmap"
           }
          ],
          "heatmapgl": [
           {
            "colorbar": {
             "outlinewidth": 0,
             "ticks": ""
            },
            "colorscale": [
             [
              0,
              "#0d0887"
             ],
             [
              0.1111111111111111,
              "#46039f"
             ],
             [
              0.2222222222222222,
              "#7201a8"
             ],
             [
              0.3333333333333333,
              "#9c179e"
             ],
             [
              0.4444444444444444,
              "#bd3786"
             ],
             [
              0.5555555555555556,
              "#d8576b"
             ],
             [
              0.6666666666666666,
              "#ed7953"
             ],
             [
              0.7777777777777778,
              "#fb9f3a"
             ],
             [
              0.8888888888888888,
              "#fdca26"
             ],
             [
              1,
              "#f0f921"
             ]
            ],
            "type": "heatmapgl"
           }
          ],
          "histogram": [
           {
            "marker": {
             "pattern": {
              "fillmode": "overlay",
              "size": 10,
              "solidity": 0.2
             }
            },
            "type": "histogram"
           }
          ],
          "histogram2d": [
           {
            "colorbar": {
             "outlinewidth": 0,
             "ticks": ""
            },
            "colorscale": [
             [
              0,
              "#0d0887"
             ],
             [
              0.1111111111111111,
              "#46039f"
             ],
             [
              0.2222222222222222,
              "#7201a8"
             ],
             [
              0.3333333333333333,
              "#9c179e"
             ],
             [
              0.4444444444444444,
              "#bd3786"
             ],
             [
              0.5555555555555556,
              "#d8576b"
             ],
             [
              0.6666666666666666,
              "#ed7953"
             ],
             [
              0.7777777777777778,
              "#fb9f3a"
             ],
             [
              0.8888888888888888,
              "#fdca26"
             ],
             [
              1,
              "#f0f921"
             ]
            ],
            "type": "histogram2d"
           }
          ],
          "histogram2dcontour": [
           {
            "colorbar": {
             "outlinewidth": 0,
             "ticks": ""
            },
            "colorscale": [
             [
              0,
              "#0d0887"
             ],
             [
              0.1111111111111111,
              "#46039f"
             ],
             [
              0.2222222222222222,
              "#7201a8"
             ],
             [
              0.3333333333333333,
              "#9c179e"
             ],
             [
              0.4444444444444444,
              "#bd3786"
             ],
             [
              0.5555555555555556,
              "#d8576b"
             ],
             [
              0.6666666666666666,
              "#ed7953"
             ],
             [
              0.7777777777777778,
              "#fb9f3a"
             ],
             [
              0.8888888888888888,
              "#fdca26"
             ],
             [
              1,
              "#f0f921"
             ]
            ],
            "type": "histogram2dcontour"
           }
          ],
          "mesh3d": [
           {
            "colorbar": {
             "outlinewidth": 0,
             "ticks": ""
            },
            "type": "mesh3d"
           }
          ],
          "parcoords": [
           {
            "line": {
             "colorbar": {
              "outlinewidth": 0,
              "ticks": ""
             }
            },
            "type": "parcoords"
           }
          ],
          "pie": [
           {
            "automargin": true,
            "type": "pie"
           }
          ],
          "scatter": [
           {
            "fillpattern": {
             "fillmode": "overlay",
             "size": 10,
             "solidity": 0.2
            },
            "type": "scatter"
           }
          ],
          "scatter3d": [
           {
            "line": {
             "colorbar": {
              "outlinewidth": 0,
              "ticks": ""
             }
            },
            "marker": {
             "colorbar": {
              "outlinewidth": 0,
              "ticks": ""
             }
            },
            "type": "scatter3d"
           }
          ],
          "scattercarpet": [
           {
            "marker": {
             "colorbar": {
              "outlinewidth": 0,
              "ticks": ""
             }
            },
            "type": "scattercarpet"
           }
          ],
          "scattergeo": [
           {
            "marker": {
             "colorbar": {
              "outlinewidth": 0,
              "ticks": ""
             }
            },
            "type": "scattergeo"
           }
          ],
          "scattergl": [
           {
            "marker": {
             "colorbar": {
              "outlinewidth": 0,
              "ticks": ""
             }
            },
            "type": "scattergl"
           }
          ],
          "scattermapbox": [
           {
            "marker": {
             "colorbar": {
              "outlinewidth": 0,
              "ticks": ""
             }
            },
            "type": "scattermapbox"
           }
          ],
          "scatterpolar": [
           {
            "marker": {
             "colorbar": {
              "outlinewidth": 0,
              "ticks": ""
             }
            },
            "type": "scatterpolar"
           }
          ],
          "scatterpolargl": [
           {
            "marker": {
             "colorbar": {
              "outlinewidth": 0,
              "ticks": ""
             }
            },
            "type": "scatterpolargl"
           }
          ],
          "scatterternary": [
           {
            "marker": {
             "colorbar": {
              "outlinewidth": 0,
              "ticks": ""
             }
            },
            "type": "scatterternary"
           }
          ],
          "surface": [
           {
            "colorbar": {
             "outlinewidth": 0,
             "ticks": ""
            },
            "colorscale": [
             [
              0,
              "#0d0887"
             ],
             [
              0.1111111111111111,
              "#46039f"
             ],
             [
              0.2222222222222222,
              "#7201a8"
             ],
             [
              0.3333333333333333,
              "#9c179e"
             ],
             [
              0.4444444444444444,
              "#bd3786"
             ],
             [
              0.5555555555555556,
              "#d8576b"
             ],
             [
              0.6666666666666666,
              "#ed7953"
             ],
             [
              0.7777777777777778,
              "#fb9f3a"
             ],
             [
              0.8888888888888888,
              "#fdca26"
             ],
             [
              1,
              "#f0f921"
             ]
            ],
            "type": "surface"
           }
          ],
          "table": [
           {
            "cells": {
             "fill": {
              "color": "#EBF0F8"
             },
             "line": {
              "color": "white"
             }
            },
            "header": {
             "fill": {
              "color": "#C8D4E3"
             },
             "line": {
              "color": "white"
             }
            },
            "type": "table"
           }
          ]
         },
         "layout": {
          "annotationdefaults": {
           "arrowcolor": "#2a3f5f",
           "arrowhead": 0,
           "arrowwidth": 1
          },
          "autotypenumbers": "strict",
          "coloraxis": {
           "colorbar": {
            "outlinewidth": 0,
            "ticks": ""
           }
          },
          "colorscale": {
           "diverging": [
            [
             0,
             "#8e0152"
            ],
            [
             0.1,
             "#c51b7d"
            ],
            [
             0.2,
             "#de77ae"
            ],
            [
             0.3,
             "#f1b6da"
            ],
            [
             0.4,
             "#fde0ef"
            ],
            [
             0.5,
             "#f7f7f7"
            ],
            [
             0.6,
             "#e6f5d0"
            ],
            [
             0.7,
             "#b8e186"
            ],
            [
             0.8,
             "#7fbc41"
            ],
            [
             0.9,
             "#4d9221"
            ],
            [
             1,
             "#276419"
            ]
           ],
           "sequential": [
            [
             0,
             "#0d0887"
            ],
            [
             0.1111111111111111,
             "#46039f"
            ],
            [
             0.2222222222222222,
             "#7201a8"
            ],
            [
             0.3333333333333333,
             "#9c179e"
            ],
            [
             0.4444444444444444,
             "#bd3786"
            ],
            [
             0.5555555555555556,
             "#d8576b"
            ],
            [
             0.6666666666666666,
             "#ed7953"
            ],
            [
             0.7777777777777778,
             "#fb9f3a"
            ],
            [
             0.8888888888888888,
             "#fdca26"
            ],
            [
             1,
             "#f0f921"
            ]
           ],
           "sequentialminus": [
            [
             0,
             "#0d0887"
            ],
            [
             0.1111111111111111,
             "#46039f"
            ],
            [
             0.2222222222222222,
             "#7201a8"
            ],
            [
             0.3333333333333333,
             "#9c179e"
            ],
            [
             0.4444444444444444,
             "#bd3786"
            ],
            [
             0.5555555555555556,
             "#d8576b"
            ],
            [
             0.6666666666666666,
             "#ed7953"
            ],
            [
             0.7777777777777778,
             "#fb9f3a"
            ],
            [
             0.8888888888888888,
             "#fdca26"
            ],
            [
             1,
             "#f0f921"
            ]
           ]
          },
          "colorway": [
           "#636efa",
           "#EF553B",
           "#00cc96",
           "#ab63fa",
           "#FFA15A",
           "#19d3f3",
           "#FF6692",
           "#B6E880",
           "#FF97FF",
           "#FECB52"
          ],
          "font": {
           "color": "#2a3f5f"
          },
          "geo": {
           "bgcolor": "white",
           "lakecolor": "white",
           "landcolor": "#E5ECF6",
           "showlakes": true,
           "showland": true,
           "subunitcolor": "white"
          },
          "hoverlabel": {
           "align": "left"
          },
          "hovermode": "closest",
          "mapbox": {
           "style": "light"
          },
          "paper_bgcolor": "white",
          "plot_bgcolor": "#E5ECF6",
          "polar": {
           "angularaxis": {
            "gridcolor": "white",
            "linecolor": "white",
            "ticks": ""
           },
           "bgcolor": "#E5ECF6",
           "radialaxis": {
            "gridcolor": "white",
            "linecolor": "white",
            "ticks": ""
           }
          },
          "scene": {
           "xaxis": {
            "backgroundcolor": "#E5ECF6",
            "gridcolor": "white",
            "gridwidth": 2,
            "linecolor": "white",
            "showbackground": true,
            "ticks": "",
            "zerolinecolor": "white"
           },
           "yaxis": {
            "backgroundcolor": "#E5ECF6",
            "gridcolor": "white",
            "gridwidth": 2,
            "linecolor": "white",
            "showbackground": true,
            "ticks": "",
            "zerolinecolor": "white"
           },
           "zaxis": {
            "backgroundcolor": "#E5ECF6",
            "gridcolor": "white",
            "gridwidth": 2,
            "linecolor": "white",
            "showbackground": true,
            "ticks": "",
            "zerolinecolor": "white"
           }
          },
          "shapedefaults": {
           "line": {
            "color": "#2a3f5f"
           }
          },
          "ternary": {
           "aaxis": {
            "gridcolor": "white",
            "linecolor": "white",
            "ticks": ""
           },
           "baxis": {
            "gridcolor": "white",
            "linecolor": "white",
            "ticks": ""
           },
           "bgcolor": "#E5ECF6",
           "caxis": {
            "gridcolor": "white",
            "linecolor": "white",
            "ticks": ""
           }
          },
          "title": {
           "x": 0.05
          },
          "xaxis": {
           "automargin": true,
           "gridcolor": "white",
           "linecolor": "white",
           "ticks": "",
           "title": {
            "standoff": 15
           },
           "zerolinecolor": "white",
           "zerolinewidth": 2
          },
          "yaxis": {
           "automargin": true,
           "gridcolor": "white",
           "linecolor": "white",
           "ticks": "",
           "title": {
            "standoff": 15
           },
           "zerolinecolor": "white",
           "zerolinewidth": 2
          }
         }
        },
        "title": {
         "font": {
          "color": "#4D5663"
         },
         "text": "Distribution of diagonal"
        },
        "xaxis": {
         "gridcolor": "#E1E5ED",
         "showgrid": true,
         "tickfont": {
          "color": "#4D5663"
         },
         "title": {
          "font": {
           "color": "#4D5663"
          },
          "text": "diagonal"
         },
         "zerolinecolor": "#E1E5ED"
        },
        "yaxis": {
         "gridcolor": "#E1E5ED",
         "showgrid": true,
         "tickfont": {
          "color": "#4D5663"
         },
         "title": {
          "font": {
           "color": "#4D5663"
          },
          "text": "Count"
         },
         "zerolinecolor": "#E1E5ED"
        }
       }
      },
      "text/html": [
       "<div>                            <div id=\"8a84a1b0-2695-4021-8c0a-8321fe86cc3f\" class=\"plotly-graph-div\" style=\"height:525px; width:100%;\"></div>            <script type=\"text/javascript\">                require([\"plotly\"], function(Plotly) {                    window.PLOTLYENV=window.PLOTLYENV || {};\n",
       "                    window.PLOTLYENV.BASE_URL='https://plot.ly';                                    if (document.getElementById(\"8a84a1b0-2695-4021-8c0a-8321fe86cc3f\")) {                    Plotly.newPlot(                        \"8a84a1b0-2695-4021-8c0a-8321fe86cc3f\",                        [{\"histfunc\":\"count\",\"histnorm\":\"\",\"marker\":{\"color\":\"rgba(255, 153, 51, 1.0)\",\"line\":{\"color\":\"#4D5663\",\"width\":1.3}},\"name\":\"diagonal\",\"opacity\":0.8,\"orientation\":\"v\",\"x\":[171.81,171.46,172.69,171.36,171.73,172.17,172.34,171.88,172.47,172.47,171.83,171.84,171.89,172.2,172.06,171.73,171.3,171.88,172.47,171.9,171.87,171.82,172.1,172.56,172.22,172.09,171.83,171.88,172.02,171.58,171.71,171.98,171.99,171.85,172.29,172.01,171.8,171.73,172.0,172.28,172.44,172.08,172.1,172.4,171.79,171.42,171.47,172.13,172.07,171.82,171.95,172.03,171.64,171.71,172.02,171.56,171.25,171.66,171.88,171.88,172.24,171.9,171.42,171.98,171.79,172.08,172.41,172.33,171.6,171.98,171.81,171.84,171.94,171.35,172.49,172.26,171.65,171.84,171.71,171.58,171.89,171.85,172.08,172.52,171.85,171.98,172.01,171.7,171.93,171.94,171.81,172.08,171.81,172.05,172.34,172.0,171.57,171.86,171.54,171.93,171.53,171.55,172.05,172.0,171.96,171.85,172.27,172.69,171.91,171.65,172.07,172.03,171.8,171.82,172.24,171.88,172.23,172.11,171.92,171.89,171.92,172.23,171.81,171.62,171.89,171.5,172.22,171.93,171.96,172.0,171.66,171.27,171.84,171.54,172.27,171.87,172.06,171.6,172.43,172.46,172.47,171.52,172.18,172.04,171.8,171.65,172.38,172.35,172.46,171.91,171.72,172.07,171.97,171.96,172.08,171.75,171.57,171.88,172.05,172.15,172.26,172.31,172.09,171.9,172.38,171.81,172.31,172.2,172.21,171.28,171.62,172.4,172.26,172.58,171.55,172.13,171.75,172.09,171.79,171.66,171.8,172.37,171.94,171.94,171.84,172.4,172.21,172.74,172.1,172.18,171.95,171.86,171.78,172.35,171.94,172.22,171.99,171.45,171.9,171.9,171.97,171.71,172.11,172.33,171.88,172.16,172.18,172.3,171.59,172.23,172.12,171.78,171.59,172.26,172.1,172.05,171.74,172.37,172.19,172.11,171.26,172.04,171.79,171.97,172.12,171.29,171.84,171.69,172.5,172.28,172.32,172.76,171.34,172.26,171.97,171.77,171.85,172.19,172.23,171.85,171.86,171.83,171.74,172.17,171.57,171.99,171.94,172.45,172.12,171.67,172.38,171.8,171.68,172.07,172.17,171.82,171.85,172.19,171.71,172.35,172.27,171.99,171.91,172.06,171.75,172.15,171.95,171.48,171.47,171.88,172.11,172.06,171.6,172.19,171.52,171.81,171.62,172.08,171.86,172.29,171.85,171.99,172.02,172.47,171.92,172.27,172.04,171.92,172.21,172.08,171.85,171.77,172.09,172.5,171.52,172.34,171.87,172.12,172.43,171.68,171.54,171.46,171.65,172.02,172.3,171.83,172.1,172.24,171.87,172.25,172.47,172.58,172.07,172.32,172.1,171.99,171.91,171.51,172.22,172.05,172.07,171.74,171.75,171.91,172.1,171.96,171.42,171.85,172.05,172.0,171.99,172.4,171.95,171.53,171.85,172.33,171.8,171.59,171.69,172.26,172.52,171.9,171.78,171.7,172.53,171.54,172.32,172.46,171.87,172.08,171.93,172.06,171.81,172.21,171.96,172.3,171.93,172.33,172.04,171.36,171.61,172.19,171.62,172.4,172.29,171.57,171.72,171.73,171.65,172.46,172.1,171.91,171.43,171.65,172.07,171.54,171.74,171.94,172.06,172.15,171.95,171.75,172.28,171.71,171.65,171.49,172.16,172.37,172.42,172.21,171.66,171.55,171.79,171.96,171.67,171.82,172.47,172.15,171.87,171.52,171.63,172.45,172.3,171.95,172.19,172.4,171.82,172.5,172.18,172.06,172.56,172.27,172.44,172.3,172.3,172.0,172.44,172.73,172.02,171.56,171.89,171.19,171.53,171.7,171.7,171.91,171.91,171.82,171.86,172.09,172.12,172.14,171.47,171.71,172.04,171.55,171.88,171.65,172.07,171.99,172.45,171.93,172.03,171.61,172.23,172.34,172.51,171.59,172.01,171.92,172.01,172.17,171.68,172.54,172.3,171.7,172.25,171.75,172.0,171.64,172.16,172.01,171.48,172.19,172.16,171.55,171.98,171.8,171.83,172.36,171.73,172.58,171.97,172.26,172.29,172.02,171.41,171.95,171.71,171.87,171.97,171.81,172.35,172.14,172.1,171.83,171.95,171.75,172.19,171.98,172.13,172.6,172.33,172.55,172.08,171.81,172.21,172.45,171.76,172.04,171.95,171.87,171.7,172.46,171.68,172.01,171.82,171.97,171.82,171.4,171.87,172.44,171.95,171.77,171.43,172.21,171.91,171.53,171.36,172.13,172.12,171.89,172.02,172.13,172.09,171.97,171.88,171.92,172.32,172.16,171.9,172.22,171.73,172.33,171.76,171.68,172.38,171.61,171.9,171.87,171.96,171.49,171.64,172.3,172.25,171.99,171.73,172.37,172.05,171.89,171.79,171.56,171.86,171.51,171.61,172.07,171.83,171.24,171.81,172.12,172.09,172.25,172.45,171.87,172.0,172.23,172.15,172.13,172.05,171.93,171.57,171.95,171.83,172.28,172.35,171.99,172.03,172.01,172.53,172.03,171.76,172.51,172.13,171.68,171.98,171.97,171.89,171.74,171.92,172.04,171.85,171.67,171.99,172.29,171.65,171.96,172.24,171.95,171.67,172.31,172.2,171.74,171.68,172.08,172.45,172.37,171.52,171.91,172.34,172.53,171.8,171.8,171.95,172.45,172.4,171.95,172.51,172.36,172.22,172.26,171.87,171.99,171.56,171.85,172.09,172.05,171.98,172.0,171.44,172.01,172.49,172.75,171.66,172.4,172.2,172.21,171.13,171.51,171.81,171.88,171.91,171.79,171.85,172.07,171.81,171.73,171.59,171.71,172.22,171.59,172.32,171.62,172.14,172.53,171.97,172.09,172.07,171.82,172.19,171.84,172.14,171.69,171.83,171.8,172.05,172.57,172.38,171.58,171.96,172.14,172.27,172.07,172.19,171.82,172.04,171.6,171.69,172.05,172.15,171.75,172.03,172.49,172.24,172.59,172.13,172.21,172.41,172.02,172.11,172.22,172.33,171.64,172.49,172.0,171.49,172.1,171.81,171.9,172.24,171.71,172.22,172.03,172.11,172.1,171.75,172.46,172.17,172.48,171.99,172.07,172.03,172.43,172.09,171.56,172.03,172.36,171.77,172.43,172.43,171.79,171.86,171.65,172.3,171.99,172.16,171.73,171.79,172.05,171.94,171.04,172.17,171.97,171.52,172.1,171.35,171.92,171.69,172.16,171.7,172.07,171.95,172.17,172.14,172.3,172.1,172.16,172.02,171.91,171.99,171.77,171.69,172.67,171.45,171.96,172.34,171.62,171.72,172.44,171.66,172.24,171.54,172.16,172.02,172.41,171.74,171.91,172.46,172.62,171.69,171.99,171.8,172.1,172.12,172.03,172.0,172.53,171.26,172.26,171.92,172.13,172.41,171.93,172.25,172.28,172.51,172.19,171.42,172.25,171.99,172.0,171.55,171.82,172.28,172.47,171.88,171.9,171.64,171.96,171.96,172.5,171.96,172.19,171.35,171.87,171.34,171.38,171.91,171.36,172.16,172.01,172.17,171.56,171.58,172.29,171.87,171.9,171.84,172.21,172.15,172.2,171.88,172.29,171.97,171.86,172.1,171.94,172.21,172.45,172.92,172.26,171.49,172.1,171.8,172.22,172.07,172.15,172.52,172.18,171.72,172.09,172.48,172.36,172.89,172.61,171.62,172.02,171.83,172.14,172.44,172.02,172.19,172.16,171.92,171.74,171.87,172.26,171.94,172.18,172.3,171.85,171.38,171.86,172.08,171.97,171.68,172.34,171.67,172.12,172.23,172.25,172.14,171.37,171.66,172.29,172.22,171.94,172.18,171.95,172.27,172.34,171.71,171.54,172.16,171.73,172.57,171.71,172.0,172.08,172.15,172.31,172.35,172.16,172.63,172.2,172.02,171.81,171.66,172.0,171.95,172.39,171.65,171.83,171.5,171.41,172.16,171.99,172.32,171.99,172.22,171.62,171.84,172.05,172.25,171.98,171.65,172.37,171.64,171.99,172.48,171.92,171.85,171.36,172.24,171.49,172.45,171.82,172.15,172.18,172.39,172.13,172.36,171.83,171.77,172.05,172.17,171.52,172.17,171.64,172.19,171.94,171.9,172.13,172.1,171.79,171.66,172.09,171.63,171.9,171.84,172.02,172.4,171.95,172.39,171.66,171.77,172.37,172.22,172.24,172.15,172.31,171.87,171.79,172.12,172.09,171.84,171.42,171.92,172.36,172.06,171.75,172.06,171.57,171.4,172.41,172.06,172.43,172.31,171.62,172.43,172.0,172.12,172.02,171.43,172.33,171.63,171.88,171.92,171.83,172.25,171.68,171.74,172.21,171.79,171.91,172.11,171.66,172.16,171.78,171.44,171.56,172.28,171.92,171.59,172.02,172.55,171.88,171.63,171.83,172.3,172.09,171.43,172.09,171.37,171.98,171.73,171.86,171.99,171.81,171.79,172.16,171.14,171.91,172.89,172.02,171.52,172.17,171.88,171.63,171.74,171.96,171.96,172.4,172.08,171.72,172.35,172.05,171.58,172.09,172.08,171.65,171.91,171.77,171.75,172.05,171.55,172.4,172.07,171.78,172.16,171.69,171.96,171.81,172.13,171.85,172.39,171.74,171.5,172.02,171.98,172.15,171.75,172.02,171.65,171.44,171.87,171.87,171.92,171.37,171.89,171.21,172.08,171.5,171.41,172.13,172.14,172.02,171.57,171.8,172.21,172.17,172.23,171.82,171.75,171.85,171.94,171.39,171.54,171.91,171.91,171.13,172.11,172.2,171.87,172.08,172.13,171.83,172.34,172.51,171.32,171.19,172.29,171.86,172.31,171.88,171.95,172.37,172.08,172.12,171.78,172.03,171.73,172.03,172.06,171.84,172.1,172.18,172.26,171.94,171.38,172.0,171.48,171.4,172.09,172.07,171.88,172.04,171.84,172.04,172.37,171.68,171.56,171.77,172.04,171.79,171.91,171.81,172.41,171.77,172.01,171.32,172.15,171.98,171.04,171.9,171.88,171.79,171.94,172.43,171.84,172.02,171.79,171.97,171.83,172.42,172.32,172.36,171.78,172.09,172.11,171.47,172.39,171.92,172.46,172.34,171.5,171.5,171.89,171.84,171.83,171.99,171.63,171.86,171.87,172.12,171.84,172.13,171.59,172.07,172.21,171.47,171.68,171.26,172.05,172.25,171.97,171.38,171.56,171.52,171.74,172.18,171.45,171.42,171.95,171.59,171.67,172.61,171.94,171.94,172.05,172.03,171.99,171.85,172.26,172.02,171.96,171.92,171.73,171.71,171.96,172.25,172.29,172.31,171.9,171.76,171.87,171.88,171.93,171.63,171.68,172.23,171.91,172.27,171.69,172.24,171.74,172.03,171.6,172.26,172.27,171.94,171.92,171.75,171.9,172.13,171.95,172.27,172.57,171.72,172.27,171.99,172.16,171.66,171.58,171.64,171.91,172.26,171.76,171.57,172.31,171.45,172.27,172.25,172.03,171.8,171.15,171.9,172.0,172.39,172.42,172.2,171.88,171.56,171.93,171.59,171.92,172.37,171.67,172.13,171.94,172.04,171.26,172.4,171.73,172.33,171.96,171.82,172.47,173.01,172.11,171.43,171.74,171.62,171.8,171.6,172.1,172.12,171.93,171.31,172.06,171.57,171.94,171.84,171.86,171.57,172.4,171.9,171.55,171.96,172.0,172.11,171.38,171.33,172.08,172.17,171.91,172.1,172.13,171.68,172.36,172.0,171.92,171.78,171.92,171.83,172.43,172.08,172.4,171.99,171.91,171.74,172.05,172.29,172.07,171.84,171.51,171.83,171.75,171.78,172.1,172.5,171.89,172.32,172.09,172.1,172.22,172.04,171.79,172.22,171.99,171.75,172.04,171.94,171.97,171.62,171.43,171.56,171.94,171.72,171.84,171.53,171.38,172.1,171.62,171.61,171.67,171.68,171.95,171.91,171.67,172.25,171.98,171.95,171.56,172.0,171.69,171.74,171.83,171.6,171.65,171.94,171.69,171.86,171.38,171.69,172.02,171.74,171.8,172.3,171.41,172.15,171.58,172.08,171.97,171.75,171.26,171.46,172.05,171.8,171.05,172.31,171.43,172.36,171.59,171.67,172.0,171.5,171.91,172.24,171.73,171.81,172.03,171.62,171.89,171.53,171.76,171.79,171.54,172.02,171.99,171.9,171.96,171.95,172.25,171.83,171.92,171.93,171.76,171.21,171.79,172.13,171.56,172.24,171.49,171.74,171.68,171.94,172.22,172.27,172.39,171.49,171.76,172.52,171.96,172.43,171.66,172.66,171.76,171.92,171.9,171.65,171.53,171.63,171.4,172.19,171.84,172.14,171.65,172.07,171.74,171.66,172.72,171.94,171.93,171.55,172.2,171.56,172.48,171.34,171.65,171.78,171.99,171.92,171.9,172.23,172.07,172.17,171.58,171.16,172.21,172.37,171.49,171.93,171.85,171.76,171.7,172.03,171.43,172.16,172.36,171.55,171.64,172.17,172.3,172.08,172.08,172.52,172.47,171.3,171.78,172.11,171.82,171.79,172.01,171.63,171.57,171.75,172.19,171.8,172.06,171.47],\"type\":\"histogram\"}],                        {\"barmode\":\"overlay\",\"legend\":{\"bgcolor\":\"#F5F6F9\",\"font\":{\"color\":\"#4D5663\"}},\"paper_bgcolor\":\"#F5F6F9\",\"plot_bgcolor\":\"#F5F6F9\",\"template\":{\"data\":{\"barpolar\":[{\"marker\":{\"line\":{\"color\":\"#E5ECF6\",\"width\":0.5},\"pattern\":{\"fillmode\":\"overlay\",\"size\":10,\"solidity\":0.2}},\"type\":\"barpolar\"}],\"bar\":[{\"error_x\":{\"color\":\"#2a3f5f\"},\"error_y\":{\"color\":\"#2a3f5f\"},\"marker\":{\"line\":{\"color\":\"#E5ECF6\",\"width\":0.5},\"pattern\":{\"fillmode\":\"overlay\",\"size\":10,\"solidity\":0.2}},\"type\":\"bar\"}],\"carpet\":[{\"aaxis\":{\"endlinecolor\":\"#2a3f5f\",\"gridcolor\":\"white\",\"linecolor\":\"white\",\"minorgridcolor\":\"white\",\"startlinecolor\":\"#2a3f5f\"},\"baxis\":{\"endlinecolor\":\"#2a3f5f\",\"gridcolor\":\"white\",\"linecolor\":\"white\",\"minorgridcolor\":\"white\",\"startlinecolor\":\"#2a3f5f\"},\"type\":\"carpet\"}],\"choropleth\":[{\"colorbar\":{\"outlinewidth\":0,\"ticks\":\"\"},\"type\":\"choropleth\"}],\"contourcarpet\":[{\"colorbar\":{\"outlinewidth\":0,\"ticks\":\"\"},\"type\":\"contourcarpet\"}],\"contour\":[{\"colorbar\":{\"outlinewidth\":0,\"ticks\":\"\"},\"colorscale\":[[0.0,\"#0d0887\"],[0.1111111111111111,\"#46039f\"],[0.2222222222222222,\"#7201a8\"],[0.3333333333333333,\"#9c179e\"],[0.4444444444444444,\"#bd3786\"],[0.5555555555555556,\"#d8576b\"],[0.6666666666666666,\"#ed7953\"],[0.7777777777777778,\"#fb9f3a\"],[0.8888888888888888,\"#fdca26\"],[1.0,\"#f0f921\"]],\"type\":\"contour\"}],\"heatmapgl\":[{\"colorbar\":{\"outlinewidth\":0,\"ticks\":\"\"},\"colorscale\":[[0.0,\"#0d0887\"],[0.1111111111111111,\"#46039f\"],[0.2222222222222222,\"#7201a8\"],[0.3333333333333333,\"#9c179e\"],[0.4444444444444444,\"#bd3786\"],[0.5555555555555556,\"#d8576b\"],[0.6666666666666666,\"#ed7953\"],[0.7777777777777778,\"#fb9f3a\"],[0.8888888888888888,\"#fdca26\"],[1.0,\"#f0f921\"]],\"type\":\"heatmapgl\"}],\"heatmap\":[{\"colorbar\":{\"outlinewidth\":0,\"ticks\":\"\"},\"colorscale\":[[0.0,\"#0d0887\"],[0.1111111111111111,\"#46039f\"],[0.2222222222222222,\"#7201a8\"],[0.3333333333333333,\"#9c179e\"],[0.4444444444444444,\"#bd3786\"],[0.5555555555555556,\"#d8576b\"],[0.6666666666666666,\"#ed7953\"],[0.7777777777777778,\"#fb9f3a\"],[0.8888888888888888,\"#fdca26\"],[1.0,\"#f0f921\"]],\"type\":\"heatmap\"}],\"histogram2dcontour\":[{\"colorbar\":{\"outlinewidth\":0,\"ticks\":\"\"},\"colorscale\":[[0.0,\"#0d0887\"],[0.1111111111111111,\"#46039f\"],[0.2222222222222222,\"#7201a8\"],[0.3333333333333333,\"#9c179e\"],[0.4444444444444444,\"#bd3786\"],[0.5555555555555556,\"#d8576b\"],[0.6666666666666666,\"#ed7953\"],[0.7777777777777778,\"#fb9f3a\"],[0.8888888888888888,\"#fdca26\"],[1.0,\"#f0f921\"]],\"type\":\"histogram2dcontour\"}],\"histogram2d\":[{\"colorbar\":{\"outlinewidth\":0,\"ticks\":\"\"},\"colorscale\":[[0.0,\"#0d0887\"],[0.1111111111111111,\"#46039f\"],[0.2222222222222222,\"#7201a8\"],[0.3333333333333333,\"#9c179e\"],[0.4444444444444444,\"#bd3786\"],[0.5555555555555556,\"#d8576b\"],[0.6666666666666666,\"#ed7953\"],[0.7777777777777778,\"#fb9f3a\"],[0.8888888888888888,\"#fdca26\"],[1.0,\"#f0f921\"]],\"type\":\"histogram2d\"}],\"histogram\":[{\"marker\":{\"pattern\":{\"fillmode\":\"overlay\",\"size\":10,\"solidity\":0.2}},\"type\":\"histogram\"}],\"mesh3d\":[{\"colorbar\":{\"outlinewidth\":0,\"ticks\":\"\"},\"type\":\"mesh3d\"}],\"parcoords\":[{\"line\":{\"colorbar\":{\"outlinewidth\":0,\"ticks\":\"\"}},\"type\":\"parcoords\"}],\"pie\":[{\"automargin\":true,\"type\":\"pie\"}],\"scatter3d\":[{\"line\":{\"colorbar\":{\"outlinewidth\":0,\"ticks\":\"\"}},\"marker\":{\"colorbar\":{\"outlinewidth\":0,\"ticks\":\"\"}},\"type\":\"scatter3d\"}],\"scattercarpet\":[{\"marker\":{\"colorbar\":{\"outlinewidth\":0,\"ticks\":\"\"}},\"type\":\"scattercarpet\"}],\"scattergeo\":[{\"marker\":{\"colorbar\":{\"outlinewidth\":0,\"ticks\":\"\"}},\"type\":\"scattergeo\"}],\"scattergl\":[{\"marker\":{\"colorbar\":{\"outlinewidth\":0,\"ticks\":\"\"}},\"type\":\"scattergl\"}],\"scattermapbox\":[{\"marker\":{\"colorbar\":{\"outlinewidth\":0,\"ticks\":\"\"}},\"type\":\"scattermapbox\"}],\"scatterpolargl\":[{\"marker\":{\"colorbar\":{\"outlinewidth\":0,\"ticks\":\"\"}},\"type\":\"scatterpolargl\"}],\"scatterpolar\":[{\"marker\":{\"colorbar\":{\"outlinewidth\":0,\"ticks\":\"\"}},\"type\":\"scatterpolar\"}],\"scatter\":[{\"fillpattern\":{\"fillmode\":\"overlay\",\"size\":10,\"solidity\":0.2},\"type\":\"scatter\"}],\"scatterternary\":[{\"marker\":{\"colorbar\":{\"outlinewidth\":0,\"ticks\":\"\"}},\"type\":\"scatterternary\"}],\"surface\":[{\"colorbar\":{\"outlinewidth\":0,\"ticks\":\"\"},\"colorscale\":[[0.0,\"#0d0887\"],[0.1111111111111111,\"#46039f\"],[0.2222222222222222,\"#7201a8\"],[0.3333333333333333,\"#9c179e\"],[0.4444444444444444,\"#bd3786\"],[0.5555555555555556,\"#d8576b\"],[0.6666666666666666,\"#ed7953\"],[0.7777777777777778,\"#fb9f3a\"],[0.8888888888888888,\"#fdca26\"],[1.0,\"#f0f921\"]],\"type\":\"surface\"}],\"table\":[{\"cells\":{\"fill\":{\"color\":\"#EBF0F8\"},\"line\":{\"color\":\"white\"}},\"header\":{\"fill\":{\"color\":\"#C8D4E3\"},\"line\":{\"color\":\"white\"}},\"type\":\"table\"}]},\"layout\":{\"annotationdefaults\":{\"arrowcolor\":\"#2a3f5f\",\"arrowhead\":0,\"arrowwidth\":1},\"autotypenumbers\":\"strict\",\"coloraxis\":{\"colorbar\":{\"outlinewidth\":0,\"ticks\":\"\"}},\"colorscale\":{\"diverging\":[[0,\"#8e0152\"],[0.1,\"#c51b7d\"],[0.2,\"#de77ae\"],[0.3,\"#f1b6da\"],[0.4,\"#fde0ef\"],[0.5,\"#f7f7f7\"],[0.6,\"#e6f5d0\"],[0.7,\"#b8e186\"],[0.8,\"#7fbc41\"],[0.9,\"#4d9221\"],[1,\"#276419\"]],\"sequential\":[[0.0,\"#0d0887\"],[0.1111111111111111,\"#46039f\"],[0.2222222222222222,\"#7201a8\"],[0.3333333333333333,\"#9c179e\"],[0.4444444444444444,\"#bd3786\"],[0.5555555555555556,\"#d8576b\"],[0.6666666666666666,\"#ed7953\"],[0.7777777777777778,\"#fb9f3a\"],[0.8888888888888888,\"#fdca26\"],[1.0,\"#f0f921\"]],\"sequentialminus\":[[0.0,\"#0d0887\"],[0.1111111111111111,\"#46039f\"],[0.2222222222222222,\"#7201a8\"],[0.3333333333333333,\"#9c179e\"],[0.4444444444444444,\"#bd3786\"],[0.5555555555555556,\"#d8576b\"],[0.6666666666666666,\"#ed7953\"],[0.7777777777777778,\"#fb9f3a\"],[0.8888888888888888,\"#fdca26\"],[1.0,\"#f0f921\"]]},\"colorway\":[\"#636efa\",\"#EF553B\",\"#00cc96\",\"#ab63fa\",\"#FFA15A\",\"#19d3f3\",\"#FF6692\",\"#B6E880\",\"#FF97FF\",\"#FECB52\"],\"font\":{\"color\":\"#2a3f5f\"},\"geo\":{\"bgcolor\":\"white\",\"lakecolor\":\"white\",\"landcolor\":\"#E5ECF6\",\"showlakes\":true,\"showland\":true,\"subunitcolor\":\"white\"},\"hoverlabel\":{\"align\":\"left\"},\"hovermode\":\"closest\",\"mapbox\":{\"style\":\"light\"},\"paper_bgcolor\":\"white\",\"plot_bgcolor\":\"#E5ECF6\",\"polar\":{\"angularaxis\":{\"gridcolor\":\"white\",\"linecolor\":\"white\",\"ticks\":\"\"},\"bgcolor\":\"#E5ECF6\",\"radialaxis\":{\"gridcolor\":\"white\",\"linecolor\":\"white\",\"ticks\":\"\"}},\"scene\":{\"xaxis\":{\"backgroundcolor\":\"#E5ECF6\",\"gridcolor\":\"white\",\"gridwidth\":2,\"linecolor\":\"white\",\"showbackground\":true,\"ticks\":\"\",\"zerolinecolor\":\"white\"},\"yaxis\":{\"backgroundcolor\":\"#E5ECF6\",\"gridcolor\":\"white\",\"gridwidth\":2,\"linecolor\":\"white\",\"showbackground\":true,\"ticks\":\"\",\"zerolinecolor\":\"white\"},\"zaxis\":{\"backgroundcolor\":\"#E5ECF6\",\"gridcolor\":\"white\",\"gridwidth\":2,\"linecolor\":\"white\",\"showbackground\":true,\"ticks\":\"\",\"zerolinecolor\":\"white\"}},\"shapedefaults\":{\"line\":{\"color\":\"#2a3f5f\"}},\"ternary\":{\"aaxis\":{\"gridcolor\":\"white\",\"linecolor\":\"white\",\"ticks\":\"\"},\"baxis\":{\"gridcolor\":\"white\",\"linecolor\":\"white\",\"ticks\":\"\"},\"bgcolor\":\"#E5ECF6\",\"caxis\":{\"gridcolor\":\"white\",\"linecolor\":\"white\",\"ticks\":\"\"}},\"title\":{\"x\":0.05},\"xaxis\":{\"automargin\":true,\"gridcolor\":\"white\",\"linecolor\":\"white\",\"ticks\":\"\",\"title\":{\"standoff\":15},\"zerolinecolor\":\"white\",\"zerolinewidth\":2},\"yaxis\":{\"automargin\":true,\"gridcolor\":\"white\",\"linecolor\":\"white\",\"ticks\":\"\",\"title\":{\"standoff\":15},\"zerolinecolor\":\"white\",\"zerolinewidth\":2}}},\"title\":{\"font\":{\"color\":\"#4D5663\"},\"text\":\"Distribution of diagonal\"},\"xaxis\":{\"gridcolor\":\"#E1E5ED\",\"showgrid\":true,\"tickfont\":{\"color\":\"#4D5663\"},\"title\":{\"font\":{\"color\":\"#4D5663\"},\"text\":\"diagonal\"},\"zerolinecolor\":\"#E1E5ED\"},\"yaxis\":{\"gridcolor\":\"#E1E5ED\",\"showgrid\":true,\"tickfont\":{\"color\":\"#4D5663\"},\"title\":{\"font\":{\"color\":\"#4D5663\"},\"text\":\"Count\"},\"zerolinecolor\":\"#E1E5ED\"}},                        {\"showLink\": true, \"linkText\": \"Export to plot.ly\", \"plotlyServerURL\": \"https://plot.ly\", \"responsive\": true}                    ).then(function(){\n",
       "                            \n",
       "var gd = document.getElementById('8a84a1b0-2695-4021-8c0a-8321fe86cc3f');\n",
       "var x = new MutationObserver(function (mutations, observer) {{\n",
       "        var display = window.getComputedStyle(gd).display;\n",
       "        if (!display || display === 'none') {{\n",
       "            console.log([gd, 'removed!']);\n",
       "            Plotly.purge(gd);\n",
       "            observer.disconnect();\n",
       "        }}\n",
       "}});\n",
       "\n",
       "// Listen for the removal of the full notebook cells\n",
       "var notebookContainer = gd.closest('#notebook-container');\n",
       "if (notebookContainer) {{\n",
       "    x.observe(notebookContainer, {childList: true});\n",
       "}}\n",
       "\n",
       "// Listen for the clearing of the current output cell\n",
       "var outputEl = gd.closest('.output');\n",
       "if (outputEl) {{\n",
       "    x.observe(outputEl, {childList: true});\n",
       "}}\n",
       "\n",
       "                        })                };                });            </script>        </div>"
      ]
     },
     "metadata": {},
     "output_type": "display_data"
    }
   ],
   "source": [
    "def distr(data,title,xlabel,ylabel):\n",
    "    data.iplot(kind='hist',title=title,xTitle=xlabel,yTitle=ylabel)\n",
    "distr(data=df['diagonal'],title='Distribution of diagonal',xlabel='diagonal',ylabel='Count')"
   ]
  },
  {
   "cell_type": "code",
   "execution_count": 10,
   "metadata": {},
   "outputs": [
    {
     "data": {
      "application/vnd.plotly.v1+json": {
       "config": {
        "linkText": "Export to plot.ly",
        "plotlyServerURL": "https://plot.ly",
        "showLink": true
       },
       "data": [
        {
         "histfunc": "count",
         "histnorm": "",
         "marker": {
          "color": "rgba(255, 153, 51, 1.0)",
          "line": {
           "color": "#4D5663",
           "width": 1.3
          }
         },
         "name": "height_left",
         "opacity": 0.8,
         "orientation": "v",
         "type": "histogram",
         "x": [
          104.86,
          103.36,
          104.48,
          103.91,
          104.28,
          103.74,
          104.18,
          103.76,
          103.92,
          104.07,
          104.14,
          104.59,
          103.89,
          104.35,
          103.87,
          103.92,
          104.19,
          104.47,
          103.89,
          103.67,
          103.91,
          103.65,
          103.96,
          103.85,
          103.75,
          103.63,
          103.44,
          103.92,
          104.18,
          103.59,
          103.95,
          104.33,
          103.79,
          104.1,
          103.61,
          103.81,
          104.28,
          104.1,
          103.76,
          104.11,
          103.96,
          104.19,
          103.73,
          103.41,
          103.83,
          104.65,
          103.74,
          104.15,
          104.05,
          103.82,
          104.02,
          103.59,
          104.18,
          103.99,
          103.58,
          103.42,
          104.23,
          103.75,
          104.12,
          103.91,
          104.03,
          103.46,
          103.82,
          103.92,
          103.91,
          104.49,
          104.1,
          103.97,
          103.55,
          104.16,
          103.84,
          103.59,
          103.89,
          103.58,
          103.69,
          103.85,
          103.3,
          104.09,
          103.43,
          103.71,
          103.42,
          103.87,
          103.93,
          104.32,
          103.91,
          104.32,
          104.58,
          103.75,
          103.65,
          103.49,
          103.76,
          104.01,
          104.14,
          103.75,
          104.26,
          103.83,
          104.61,
          103.6,
          103.75,
          104.07,
          104.02,
          103.35,
          103.69,
          104.14,
          103.95,
          103.66,
          103.95,
          103.88,
          104.23,
          103.77,
          103.72,
          103.96,
          104.22,
          104.23,
          103.97,
          103.61,
          104.18,
          104.36,
          103.6,
          103.66,
          103.78,
          104.12,
          103.22,
          104.24,
          103.63,
          104.03,
          104.07,
          103.98,
          104.34,
          104.05,
          103.43,
          104.14,
          103.77,
          104.36,
          104.12,
          104.71,
          104.19,
          104.02,
          104.05,
          103.81,
          103.82,
          104.11,
          104.46,
          103.82,
          104.31,
          103.59,
          103.72,
          103.72,
          103.99,
          103.97,
          103.91,
          103.8,
          104.29,
          104.16,
          103.95,
          104.03,
          103.98,
          104.04,
          103.88,
          103.74,
          104.46,
          103.89,
          104.05,
          103.4,
          103.98,
          103.53,
          104.05,
          104.06,
          103.32,
          104.2,
          104.41,
          103.51,
          104.09,
          104.03,
          104.4,
          104.26,
          103.63,
          104.19,
          104.57,
          104.16,
          104.17,
          103.31,
          104.44,
          103.97,
          103.71,
          104.13,
          103.48,
          104.05,
          104.05,
          104.02,
          103.73,
          104.7,
          103.74,
          103.73,
          104.34,
          103.59,
          103.98,
          103.66,
          104.14,
          104.42,
          104.01,
          104.27,
          103.98,
          104.18,
          103.83,
          104.04,
          103.68,
          104.34,
          103.8,
          103.25,
          103.76,
          103.52,
          104.06,
          103.75,
          103.61,
          104.08,
          104.43,
          104.32,
          104.07,
          103.33,
          103.59,
          103.67,
          103.88,
          104.05,
          103.2,
          104.22,
          103.81,
          103.8,
          104.54,
          103.63,
          103.22,
          104.22,
          104.26,
          104.16,
          103.55,
          103.62,
          104.1,
          103.96,
          104.21,
          104.07,
          103.6,
          104.14,
          103.95,
          103.61,
          104.09,
          103.7,
          103.91,
          103.97,
          104.03,
          103.74,
          103.45,
          103.26,
          104.27,
          104.33,
          104.21,
          103.49,
          103.65,
          104.03,
          103.53,
          103.62,
          103.71,
          103.75,
          103.97,
          103.92,
          104.12,
          104.02,
          103.94,
          103.27,
          104.3,
          103.93,
          103.98,
          104.21,
          104.22,
          104.05,
          103.74,
          104.17,
          104.11,
          104.16,
          104.15,
          103.73,
          103.64,
          103.9,
          104.54,
          103.57,
          103.83,
          103.78,
          103.99,
          104.12,
          104.22,
          104.4,
          103.93,
          103.79,
          103.14,
          103.81,
          103.97,
          104.54,
          103.99,
          103.9,
          103.83,
          103.77,
          104.27,
          103.83,
          103.22,
          103.45,
          103.88,
          104.65,
          103.93,
          104.22,
          103.99,
          104.14,
          103.87,
          103.99,
          104.09,
          103.99,
          104.16,
          103.6,
          103.99,
          104.34,
          103.51,
          104.11,
          104.35,
          103.74,
          104.13,
          103.83,
          104.42,
          104.17,
          103.47,
          103.86,
          103.79,
          103.85,
          104.12,
          104.17,
          103.44,
          104.56,
          103.7,
          103.81,
          103.96,
          103.8,
          104.3,
          103.88,
          103.9,
          104.21,
          103.94,
          103.77,
          103.97,
          103.93,
          103.38,
          103.78,
          103.77,
          104.17,
          104.4,
          103.82,
          103.64,
          103.8,
          104.18,
          103.82,
          103.58,
          103.64,
          103.95,
          103.59,
          103.73,
          104.09,
          103.4,
          104.32,
          103.83,
          103.92,
          104.15,
          104.17,
          103.58,
          103.64,
          103.99,
          104.05,
          103.49,
          104.29,
          104.49,
          104.64,
          104.53,
          104.34,
          104.24,
          103.63,
          104.08,
          103.95,
          104.62,
          104.22,
          103.5,
          104.02,
          103.56,
          104.19,
          104.07,
          104,
          103.65,
          103.68,
          103.87,
          104.19,
          104.57,
          104.33,
          103.66,
          104.18,
          104.29,
          104.08,
          104.3,
          104.72,
          104.23,
          104.03,
          103.68,
          104.26,
          103.72,
          103.39,
          103.56,
          103.96,
          103.72,
          104.06,
          103.96,
          103.66,
          104.12,
          103.68,
          104.11,
          104.02,
          104.23,
          103.97,
          103.99,
          103.95,
          103.53,
          104.32,
          103.74,
          103.97,
          103.99,
          103.64,
          103.77,
          103.78,
          104.08,
          103.8,
          104.46,
          103.71,
          103.82,
          103.92,
          104.58,
          103.88,
          104.07,
          103.74,
          103.87,
          103.88,
          103.73,
          103.93,
          103.94,
          104.42,
          104.53,
          103.86,
          103.93,
          103.91,
          104.11,
          103.79,
          103.48,
          104.05,
          104.21,
          103.57,
          104.22,
          103.48,
          104.07,
          104.45,
          103.69,
          103.95,
          103.95,
          104.14,
          103.87,
          103.5,
          103.77,
          104.06,
          103.97,
          104.34,
          104.02,
          104.17,
          104.04,
          104.08,
          103.78,
          104.36,
          104.47,
          104.25,
          104.49,
          103.86,
          103.62,
          103.53,
          104.2,
          103.91,
          104.02,
          104.29,
          104.39,
          103.89,
          104.07,
          104.36,
          103.71,
          104.83,
          104.46,
          103.97,
          104.19,
          103.93,
          103.67,
          103.95,
          104.01,
          104.34,
          104.11,
          103.73,
          103.79,
          103.51,
          103.95,
          103.97,
          104.27,
          104.05,
          104.12,
          103.96,
          103.87,
          103.69,
          104.09,
          104.19,
          104.42,
          103.25,
          104.34,
          103.69,
          104.15,
          103.76,
          103.66,
          104.3,
          104.42,
          103.57,
          103.61,
          103.61,
          103.61,
          103.79,
          103.69,
          104.17,
          103.94,
          104,
          103.77,
          103.73,
          104.04,
          104.18,
          103.64,
          103.86,
          104.5,
          103.75,
          103.68,
          103.63,
          103.95,
          103.98,
          104.08,
          103.75,
          103.76,
          104.41,
          103.75,
          104.22,
          104.37,
          103.44,
          103.93,
          104.49,
          103.76,
          104.18,
          104.54,
          103.81,
          103.79,
          103.59,
          104.02,
          103.71,
          103.78,
          103.99,
          104.1,
          104,
          103.51,
          104.08,
          104.11,
          104.08,
          104.07,
          103.76,
          103.8,
          104.09,
          104.13,
          104.1,
          103.63,
          103.62,
          103.8,
          104.19,
          104.48,
          103.57,
          103.99,
          103.84,
          104.18,
          104.04,
          104.33,
          103.72,
          103.67,
          104.16,
          103.58,
          103.81,
          103.54,
          104.46,
          103.43,
          103.83,
          104.51,
          103.85,
          103.88,
          103.93,
          103.82,
          103.25,
          103.88,
          104.03,
          103.85,
          104.26,
          104.52,
          104.17,
          104.5,
          103.47,
          103.71,
          103.68,
          103.35,
          104.52,
          103.86,
          103.77,
          104.23,
          103.89,
          103.75,
          104.06,
          103.4,
          103.69,
          104.32,
          104.33,
          103.98,
          103.42,
          104.44,
          104.23,
          103.52,
          104.03,
          104.33,
          104.33,
          104.17,
          104.19,
          103.93,
          104.27,
          104.28,
          103.85,
          104.1,
          103.66,
          104.34,
          103.51,
          103.9,
          103.83,
          103.91,
          103.82,
          103.23,
          103.83,
          104.48,
          104.06,
          104.16,
          103.49,
          103.74,
          103.99,
          103.69,
          104.06,
          103.97,
          103.77,
          104.05,
          103.75,
          104.01,
          104.22,
          103.76,
          103.78,
          103.7,
          104.65,
          103.55,
          103.65,
          103.51,
          104.34,
          104.29,
          103.64,
          104.61,
          103.78,
          103.94,
          103.85,
          103.9,
          103.9,
          103.65,
          104.16,
          103.87,
          104.44,
          104.51,
          104.22,
          103.76,
          104.28,
          104.14,
          104.23,
          103.67,
          103.75,
          103.83,
          103.58,
          103.92,
          104.32,
          103.77,
          103.98,
          103.96,
          104,
          103.97,
          103.52,
          103.96,
          103.64,
          104.06,
          103.85,
          103.6,
          103.75,
          103.31,
          104.56,
          104.03,
          104.21,
          103.97,
          103.6,
          103.68,
          103.92,
          104.69,
          104.11,
          103.92,
          103.97,
          103.58,
          103.65,
          103.47,
          103.95,
          104.04,
          103.97,
          104.43,
          103.6,
          103.74,
          103.72,
          104.11,
          103.84,
          103.93,
          103.69,
          103.92,
          103.94,
          103.7,
          103.93,
          103.85,
          104.39,
          103.88,
          103.74,
          103.84,
          103.75,
          104.06,
          104.58,
          103.95,
          103.92,
          103.73,
          104.28,
          103.91,
          103.73,
          104.05,
          104.69,
          104.21,
          103.4,
          104.2,
          104.12,
          103.95,
          104.06,
          104.12,
          104.06,
          103.7,
          103.93,
          104.01,
          104.43,
          103.59,
          103.88,
          103.89,
          104,
          103.91,
          103.27,
          104.17,
          104.3,
          103.95,
          103.93,
          103.69,
          104.29,
          103.87,
          104.03,
          103.6,
          103.34,
          103.95,
          104.34,
          104.02,
          104.03,
          103.78,
          103.42,
          103.33,
          103.96,
          103.67,
          103.84,
          104.05,
          103.67,
          103.98,
          104.46,
          103.84,
          103.81,
          103.75,
          104.18,
          103.84,
          104.03,
          104.09,
          103.84,
          104.62,
          103.27,
          103.95,
          103.75,
          103.99,
          103.61,
          104.36,
          103.51,
          104.44,
          103.81,
          103.34,
          103.95,
          103.94,
          104.22,
          103.62,
          103.96,
          104.13,
          104.01,
          104.44,
          104.04,
          103.79,
          103.78,
          104.09,
          104.03,
          103.95,
          103.94,
          103.55,
          104.14,
          103.94,
          103.57,
          104.3,
          103.71,
          103.61,
          104.08,
          103.98,
          103.6,
          103.96,
          104.2,
          103.71,
          103.92,
          103.77,
          103.98,
          104.14,
          104.21,
          104.01,
          104.07,
          104.26,
          104.07,
          103.77,
          103.76,
          103.72,
          104,
          103.95,
          104.66,
          104.52,
          104.04,
          104.18,
          103.85,
          103.83,
          104.21,
          103.78,
          104,
          103.54,
          103.94,
          103.76,
          104.32,
          103.87,
          104.21,
          104.34,
          104.07,
          104.42,
          103.93,
          103.75,
          104.09,
          103.85,
          103.62,
          104.21,
          104.14,
          104.31,
          104.36,
          103.77,
          104.38,
          103.78,
          104.14,
          104.35,
          104.04,
          104.28,
          103.94,
          104.04,
          103.63,
          104.13,
          103.52,
          103.67,
          103.68,
          104,
          103.65,
          103.65,
          103.98,
          103.84,
          104.08,
          104.27,
          104.03,
          104.1,
          104.76,
          103.97,
          104.44,
          104.05,
          103.8,
          104.03,
          103.75,
          103.93,
          103.75,
          103.82,
          104.11,
          103.9,
          103.62,
          103.59,
          103.68,
          103.27,
          103.72,
          103.95,
          104.24,
          103.99,
          103.61,
          103.98,
          104.65,
          104.08,
          104.1,
          103.52,
          104.01,
          104.27,
          103.78,
          104.27,
          103.85,
          104.06,
          103.6,
          104.08,
          104.64,
          104.11,
          103.35,
          104.17,
          103.56,
          103.68,
          103.74,
          103.87,
          104.08,
          104.39,
          103.89,
          104.09,
          103.86,
          104.2,
          103.54,
          103.63,
          104.06,
          103.72,
          103.8,
          103.84,
          103.98,
          103.88,
          103.77,
          103.64,
          103.65,
          103.72,
          104.79,
          104.57,
          104.09,
          103.56,
          103.6,
          104.45,
          103.58,
          103.88,
          104.1,
          104.08,
          104.04,
          104.29,
          103.94,
          103.65,
          103.76,
          104.08,
          104.23,
          104.52,
          103.69,
          103.7,
          103.87,
          103.61,
          103.77,
          103.99,
          103.9,
          103.9,
          104.42,
          103.69,
          103.73,
          104.12,
          103.92,
          103.72,
          103.38,
          103.96,
          104.07,
          103.95,
          103.86,
          104.14,
          104.33,
          104.25,
          104.3,
          104.05,
          104.13,
          104.28,
          104.26,
          103.85,
          104.44,
          103.73,
          104.18,
          103.99,
          104.51,
          104.23,
          104.37,
          104.18,
          104.03,
          104.31,
          104.2,
          104.03,
          104.26,
          104.05,
          104.2,
          103.85,
          104.02,
          104.05,
          104.29,
          104.45,
          104,
          104.22,
          104.06,
          103.79,
          104.37,
          104.13,
          104.24,
          104.1,
          104.12,
          104.08,
          104.12,
          103.99,
          104.29,
          104.18,
          104.05,
          104.36,
          103.95,
          104.24,
          104.09,
          104.24,
          103.91,
          104.09,
          104.52,
          104.16,
          104.07,
          104.32,
          104.43,
          104.33,
          104.41,
          104.34,
          104.06,
          104.19,
          103.99,
          104.16,
          104.21,
          104.39,
          104.08,
          104.49,
          104.29,
          104.38,
          103.9,
          104.06,
          103.67,
          104.49,
          104.51,
          104.27,
          104.12,
          104.4,
          104.33,
          103.83,
          103.9,
          103.96,
          103.6,
          104.27,
          103.51,
          104.53,
          104.28,
          104.26,
          104.13,
          104.88,
          104.31,
          104.76,
          104.33,
          104.4,
          104.11,
          104.36,
          104.43,
          104.28,
          104.18,
          104.09,
          104.49,
          104.11,
          104.05,
          103.89,
          104.03,
          103.95,
          104.18,
          104.24,
          104.16,
          104.32,
          104.52,
          104.28,
          104.52,
          104.1,
          104.14,
          103.9,
          104.14,
          104.52,
          104.2,
          104.46,
          104.38,
          104.15,
          104.03,
          103.92,
          104.26,
          104.06,
          103.76,
          104.25,
          104.04,
          104.29,
          104.34,
          104.32,
          103.99,
          103.7,
          104.17,
          104.32,
          103.98,
          104.06,
          104.2,
          104.26,
          103.81,
          104.23,
          104.25,
          103.84,
          103.81,
          104.53,
          104.06,
          104.63,
          104.08,
          104.86,
          104.19,
          103.83,
          104.33,
          103.95,
          104.04,
          104.33,
          103.7,
          104.1,
          104.33,
          104.05,
          104.29,
          103.87,
          104.36,
          104.52,
          104.11,
          104.23,
          104.21,
          103.56,
          104.14,
          104.3,
          103.94,
          104.07,
          104.38,
          104.17,
          104.06,
          104.05,
          103.91,
          104.5,
          104.28,
          104,
          104.02,
          104.15,
          103.96,
          103.95,
          104.39,
          104.34,
          104.18,
          103.77,
          104.53,
          104.21,
          103.87,
          104.08,
          103.93,
          104.06,
          104.31,
          104.04,
          104.2,
          104.2,
          104.32,
          104.04,
          104.12,
          104.23,
          104.22,
          104.01,
          103.9,
          104.09,
          104.12,
          104.38,
          104.18,
          104.43,
          103.98,
          104.33,
          104.13,
          104.26,
          104.14,
          104.09,
          104.61,
          104.67,
          103.81,
          104.13,
          104.06,
          104.51,
          104.31,
          104.52,
          104.15,
          103.9,
          103.94,
          104.36,
          103.88,
          104.43,
          103.96,
          103.94,
          104.35,
          104,
          103.87,
          104.13,
          104.05,
          103.88,
          104.02,
          104.12,
          104.17,
          104.23,
          104.2,
          103.8,
          104.04,
          104.14,
          104.04,
          103.97,
          104.03,
          104.18,
          104.21,
          104.6,
          104.51,
          104.09,
          104.22,
          104.23,
          104.34,
          103.69,
          104.45,
          103.89,
          104.03,
          104.43,
          104.05,
          104.33,
          104.54,
          104.12,
          103.99,
          104.38,
          104.37,
          104.22,
          104.42,
          103.74,
          104.36,
          104,
          103.97,
          104.27,
          104.59,
          104.23,
          104.26,
          104.02,
          104.53,
          104.14,
          104.23,
          104.16,
          104.38,
          104.24,
          103.95,
          104,
          104.08,
          104.06,
          104.46,
          104.04,
          104.29,
          104.27,
          103.97,
          104.46,
          104.47,
          104.36,
          104.24,
          104.13,
          104.28,
          103.98,
          104.49,
          104,
          104.36,
          103.99,
          104.24,
          104.02,
          104.45,
          104.84,
          104.07,
          104.37,
          104.12,
          104.32,
          104.15,
          104.55,
          104.28,
          103.99,
          104.4,
          104.6,
          104.72,
          104.5,
          104.23,
          104.13,
          104.39,
          104.36,
          104.51,
          104.22,
          104.07,
          104.32,
          104.6,
          104.4,
          104.3,
          104.41,
          104.17,
          104.05,
          104.17,
          104.18,
          104.16,
          104.34,
          104.21,
          104.38,
          104.14,
          104.14,
          104.17,
          104.37,
          104.46,
          104.32,
          104.03,
          103.78,
          103.98,
          104.21,
          104.04,
          103.79,
          103.89,
          104.26,
          103.91,
          104.16,
          104.52,
          104.44,
          104.47,
          103.8,
          104.46,
          104.18,
          103.96,
          104.18,
          104.37,
          104.32,
          104.56,
          103.87,
          104.12,
          104.04,
          104.17,
          103.9,
          104.41,
          104.31,
          104.18,
          104.2,
          104.23,
          103.87,
          104.04,
          104.85,
          104.16,
          104.19,
          104.4,
          104.22,
          103.97,
          104.09,
          104.31,
          104.26,
          104.01,
          104.17,
          104.08,
          104.17,
          104.28,
          104.53,
          104.32,
          104.12,
          104.44,
          104.46,
          104.32,
          103.79,
          104.25,
          103.79,
          104.3,
          103.98,
          103.99,
          103.95,
          104.09,
          103.86,
          104.39,
          103.94,
          104.42,
          104.17,
          104.58,
          104.25,
          103.92,
          104.64,
          104.33,
          104.47,
          104.11,
          104.12,
          104.17,
          103.9,
          104.36,
          103.92,
          104.39,
          104.04,
          104.64,
          104.55,
          104.11,
          103.92,
          104.18,
          103.8,
          104.33,
          104.03,
          104.18,
          104.28,
          103.94,
          104.41,
          104.55,
          104.21,
          104.26,
          104.17,
          104.39,
          104.41,
          104.25,
          104.32,
          104.1,
          104.05,
          104.2,
          104.15,
          104.2,
          104.56,
          103.65,
          104.41,
          104.43,
          104,
          104.31,
          104.28,
          104.66,
          104.02,
          104.27,
          104.17,
          103.89,
          104.55,
          103.8,
          103.88,
          104.52,
          104.42,
          104.58,
          104.27,
          104.04,
          104.42,
          104.48,
          104.46,
          104.23,
          103.93,
          103.76,
          103.92,
          104.33,
          104.04,
          104.16,
          103.96,
          104.48,
          104.16,
          104.49,
          103.93,
          104.14,
          104.32,
          104.18,
          103.97,
          104.33,
          104.14,
          104.38,
          104.63,
          104.01,
          104.28,
          104.15
         ]
        }
       ],
       "layout": {
        "barmode": "overlay",
        "legend": {
         "bgcolor": "#F5F6F9",
         "font": {
          "color": "#4D5663"
         }
        },
        "paper_bgcolor": "#F5F6F9",
        "plot_bgcolor": "#F5F6F9",
        "template": {
         "data": {
          "bar": [
           {
            "error_x": {
             "color": "#2a3f5f"
            },
            "error_y": {
             "color": "#2a3f5f"
            },
            "marker": {
             "line": {
              "color": "#E5ECF6",
              "width": 0.5
             },
             "pattern": {
              "fillmode": "overlay",
              "size": 10,
              "solidity": 0.2
             }
            },
            "type": "bar"
           }
          ],
          "barpolar": [
           {
            "marker": {
             "line": {
              "color": "#E5ECF6",
              "width": 0.5
             },
             "pattern": {
              "fillmode": "overlay",
              "size": 10,
              "solidity": 0.2
             }
            },
            "type": "barpolar"
           }
          ],
          "carpet": [
           {
            "aaxis": {
             "endlinecolor": "#2a3f5f",
             "gridcolor": "white",
             "linecolor": "white",
             "minorgridcolor": "white",
             "startlinecolor": "#2a3f5f"
            },
            "baxis": {
             "endlinecolor": "#2a3f5f",
             "gridcolor": "white",
             "linecolor": "white",
             "minorgridcolor": "white",
             "startlinecolor": "#2a3f5f"
            },
            "type": "carpet"
           }
          ],
          "choropleth": [
           {
            "colorbar": {
             "outlinewidth": 0,
             "ticks": ""
            },
            "type": "choropleth"
           }
          ],
          "contour": [
           {
            "colorbar": {
             "outlinewidth": 0,
             "ticks": ""
            },
            "colorscale": [
             [
              0,
              "#0d0887"
             ],
             [
              0.1111111111111111,
              "#46039f"
             ],
             [
              0.2222222222222222,
              "#7201a8"
             ],
             [
              0.3333333333333333,
              "#9c179e"
             ],
             [
              0.4444444444444444,
              "#bd3786"
             ],
             [
              0.5555555555555556,
              "#d8576b"
             ],
             [
              0.6666666666666666,
              "#ed7953"
             ],
             [
              0.7777777777777778,
              "#fb9f3a"
             ],
             [
              0.8888888888888888,
              "#fdca26"
             ],
             [
              1,
              "#f0f921"
             ]
            ],
            "type": "contour"
           }
          ],
          "contourcarpet": [
           {
            "colorbar": {
             "outlinewidth": 0,
             "ticks": ""
            },
            "type": "contourcarpet"
           }
          ],
          "heatmap": [
           {
            "colorbar": {
             "outlinewidth": 0,
             "ticks": ""
            },
            "colorscale": [
             [
              0,
              "#0d0887"
             ],
             [
              0.1111111111111111,
              "#46039f"
             ],
             [
              0.2222222222222222,
              "#7201a8"
             ],
             [
              0.3333333333333333,
              "#9c179e"
             ],
             [
              0.4444444444444444,
              "#bd3786"
             ],
             [
              0.5555555555555556,
              "#d8576b"
             ],
             [
              0.6666666666666666,
              "#ed7953"
             ],
             [
              0.7777777777777778,
              "#fb9f3a"
             ],
             [
              0.8888888888888888,
              "#fdca26"
             ],
             [
              1,
              "#f0f921"
             ]
            ],
            "type": "heatmap"
           }
          ],
          "heatmapgl": [
           {
            "colorbar": {
             "outlinewidth": 0,
             "ticks": ""
            },
            "colorscale": [
             [
              0,
              "#0d0887"
             ],
             [
              0.1111111111111111,
              "#46039f"
             ],
             [
              0.2222222222222222,
              "#7201a8"
             ],
             [
              0.3333333333333333,
              "#9c179e"
             ],
             [
              0.4444444444444444,
              "#bd3786"
             ],
             [
              0.5555555555555556,
              "#d8576b"
             ],
             [
              0.6666666666666666,
              "#ed7953"
             ],
             [
              0.7777777777777778,
              "#fb9f3a"
             ],
             [
              0.8888888888888888,
              "#fdca26"
             ],
             [
              1,
              "#f0f921"
             ]
            ],
            "type": "heatmapgl"
           }
          ],
          "histogram": [
           {
            "marker": {
             "pattern": {
              "fillmode": "overlay",
              "size": 10,
              "solidity": 0.2
             }
            },
            "type": "histogram"
           }
          ],
          "histogram2d": [
           {
            "colorbar": {
             "outlinewidth": 0,
             "ticks": ""
            },
            "colorscale": [
             [
              0,
              "#0d0887"
             ],
             [
              0.1111111111111111,
              "#46039f"
             ],
             [
              0.2222222222222222,
              "#7201a8"
             ],
             [
              0.3333333333333333,
              "#9c179e"
             ],
             [
              0.4444444444444444,
              "#bd3786"
             ],
             [
              0.5555555555555556,
              "#d8576b"
             ],
             [
              0.6666666666666666,
              "#ed7953"
             ],
             [
              0.7777777777777778,
              "#fb9f3a"
             ],
             [
              0.8888888888888888,
              "#fdca26"
             ],
             [
              1,
              "#f0f921"
             ]
            ],
            "type": "histogram2d"
           }
          ],
          "histogram2dcontour": [
           {
            "colorbar": {
             "outlinewidth": 0,
             "ticks": ""
            },
            "colorscale": [
             [
              0,
              "#0d0887"
             ],
             [
              0.1111111111111111,
              "#46039f"
             ],
             [
              0.2222222222222222,
              "#7201a8"
             ],
             [
              0.3333333333333333,
              "#9c179e"
             ],
             [
              0.4444444444444444,
              "#bd3786"
             ],
             [
              0.5555555555555556,
              "#d8576b"
             ],
             [
              0.6666666666666666,
              "#ed7953"
             ],
             [
              0.7777777777777778,
              "#fb9f3a"
             ],
             [
              0.8888888888888888,
              "#fdca26"
             ],
             [
              1,
              "#f0f921"
             ]
            ],
            "type": "histogram2dcontour"
           }
          ],
          "mesh3d": [
           {
            "colorbar": {
             "outlinewidth": 0,
             "ticks": ""
            },
            "type": "mesh3d"
           }
          ],
          "parcoords": [
           {
            "line": {
             "colorbar": {
              "outlinewidth": 0,
              "ticks": ""
             }
            },
            "type": "parcoords"
           }
          ],
          "pie": [
           {
            "automargin": true,
            "type": "pie"
           }
          ],
          "scatter": [
           {
            "fillpattern": {
             "fillmode": "overlay",
             "size": 10,
             "solidity": 0.2
            },
            "type": "scatter"
           }
          ],
          "scatter3d": [
           {
            "line": {
             "colorbar": {
              "outlinewidth": 0,
              "ticks": ""
             }
            },
            "marker": {
             "colorbar": {
              "outlinewidth": 0,
              "ticks": ""
             }
            },
            "type": "scatter3d"
           }
          ],
          "scattercarpet": [
           {
            "marker": {
             "colorbar": {
              "outlinewidth": 0,
              "ticks": ""
             }
            },
            "type": "scattercarpet"
           }
          ],
          "scattergeo": [
           {
            "marker": {
             "colorbar": {
              "outlinewidth": 0,
              "ticks": ""
             }
            },
            "type": "scattergeo"
           }
          ],
          "scattergl": [
           {
            "marker": {
             "colorbar": {
              "outlinewidth": 0,
              "ticks": ""
             }
            },
            "type": "scattergl"
           }
          ],
          "scattermapbox": [
           {
            "marker": {
             "colorbar": {
              "outlinewidth": 0,
              "ticks": ""
             }
            },
            "type": "scattermapbox"
           }
          ],
          "scatterpolar": [
           {
            "marker": {
             "colorbar": {
              "outlinewidth": 0,
              "ticks": ""
             }
            },
            "type": "scatterpolar"
           }
          ],
          "scatterpolargl": [
           {
            "marker": {
             "colorbar": {
              "outlinewidth": 0,
              "ticks": ""
             }
            },
            "type": "scatterpolargl"
           }
          ],
          "scatterternary": [
           {
            "marker": {
             "colorbar": {
              "outlinewidth": 0,
              "ticks": ""
             }
            },
            "type": "scatterternary"
           }
          ],
          "surface": [
           {
            "colorbar": {
             "outlinewidth": 0,
             "ticks": ""
            },
            "colorscale": [
             [
              0,
              "#0d0887"
             ],
             [
              0.1111111111111111,
              "#46039f"
             ],
             [
              0.2222222222222222,
              "#7201a8"
             ],
             [
              0.3333333333333333,
              "#9c179e"
             ],
             [
              0.4444444444444444,
              "#bd3786"
             ],
             [
              0.5555555555555556,
              "#d8576b"
             ],
             [
              0.6666666666666666,
              "#ed7953"
             ],
             [
              0.7777777777777778,
              "#fb9f3a"
             ],
             [
              0.8888888888888888,
              "#fdca26"
             ],
             [
              1,
              "#f0f921"
             ]
            ],
            "type": "surface"
           }
          ],
          "table": [
           {
            "cells": {
             "fill": {
              "color": "#EBF0F8"
             },
             "line": {
              "color": "white"
             }
            },
            "header": {
             "fill": {
              "color": "#C8D4E3"
             },
             "line": {
              "color": "white"
             }
            },
            "type": "table"
           }
          ]
         },
         "layout": {
          "annotationdefaults": {
           "arrowcolor": "#2a3f5f",
           "arrowhead": 0,
           "arrowwidth": 1
          },
          "autotypenumbers": "strict",
          "coloraxis": {
           "colorbar": {
            "outlinewidth": 0,
            "ticks": ""
           }
          },
          "colorscale": {
           "diverging": [
            [
             0,
             "#8e0152"
            ],
            [
             0.1,
             "#c51b7d"
            ],
            [
             0.2,
             "#de77ae"
            ],
            [
             0.3,
             "#f1b6da"
            ],
            [
             0.4,
             "#fde0ef"
            ],
            [
             0.5,
             "#f7f7f7"
            ],
            [
             0.6,
             "#e6f5d0"
            ],
            [
             0.7,
             "#b8e186"
            ],
            [
             0.8,
             "#7fbc41"
            ],
            [
             0.9,
             "#4d9221"
            ],
            [
             1,
             "#276419"
            ]
           ],
           "sequential": [
            [
             0,
             "#0d0887"
            ],
            [
             0.1111111111111111,
             "#46039f"
            ],
            [
             0.2222222222222222,
             "#7201a8"
            ],
            [
             0.3333333333333333,
             "#9c179e"
            ],
            [
             0.4444444444444444,
             "#bd3786"
            ],
            [
             0.5555555555555556,
             "#d8576b"
            ],
            [
             0.6666666666666666,
             "#ed7953"
            ],
            [
             0.7777777777777778,
             "#fb9f3a"
            ],
            [
             0.8888888888888888,
             "#fdca26"
            ],
            [
             1,
             "#f0f921"
            ]
           ],
           "sequentialminus": [
            [
             0,
             "#0d0887"
            ],
            [
             0.1111111111111111,
             "#46039f"
            ],
            [
             0.2222222222222222,
             "#7201a8"
            ],
            [
             0.3333333333333333,
             "#9c179e"
            ],
            [
             0.4444444444444444,
             "#bd3786"
            ],
            [
             0.5555555555555556,
             "#d8576b"
            ],
            [
             0.6666666666666666,
             "#ed7953"
            ],
            [
             0.7777777777777778,
             "#fb9f3a"
            ],
            [
             0.8888888888888888,
             "#fdca26"
            ],
            [
             1,
             "#f0f921"
            ]
           ]
          },
          "colorway": [
           "#636efa",
           "#EF553B",
           "#00cc96",
           "#ab63fa",
           "#FFA15A",
           "#19d3f3",
           "#FF6692",
           "#B6E880",
           "#FF97FF",
           "#FECB52"
          ],
          "font": {
           "color": "#2a3f5f"
          },
          "geo": {
           "bgcolor": "white",
           "lakecolor": "white",
           "landcolor": "#E5ECF6",
           "showlakes": true,
           "showland": true,
           "subunitcolor": "white"
          },
          "hoverlabel": {
           "align": "left"
          },
          "hovermode": "closest",
          "mapbox": {
           "style": "light"
          },
          "paper_bgcolor": "white",
          "plot_bgcolor": "#E5ECF6",
          "polar": {
           "angularaxis": {
            "gridcolor": "white",
            "linecolor": "white",
            "ticks": ""
           },
           "bgcolor": "#E5ECF6",
           "radialaxis": {
            "gridcolor": "white",
            "linecolor": "white",
            "ticks": ""
           }
          },
          "scene": {
           "xaxis": {
            "backgroundcolor": "#E5ECF6",
            "gridcolor": "white",
            "gridwidth": 2,
            "linecolor": "white",
            "showbackground": true,
            "ticks": "",
            "zerolinecolor": "white"
           },
           "yaxis": {
            "backgroundcolor": "#E5ECF6",
            "gridcolor": "white",
            "gridwidth": 2,
            "linecolor": "white",
            "showbackground": true,
            "ticks": "",
            "zerolinecolor": "white"
           },
           "zaxis": {
            "backgroundcolor": "#E5ECF6",
            "gridcolor": "white",
            "gridwidth": 2,
            "linecolor": "white",
            "showbackground": true,
            "ticks": "",
            "zerolinecolor": "white"
           }
          },
          "shapedefaults": {
           "line": {
            "color": "#2a3f5f"
           }
          },
          "ternary": {
           "aaxis": {
            "gridcolor": "white",
            "linecolor": "white",
            "ticks": ""
           },
           "baxis": {
            "gridcolor": "white",
            "linecolor": "white",
            "ticks": ""
           },
           "bgcolor": "#E5ECF6",
           "caxis": {
            "gridcolor": "white",
            "linecolor": "white",
            "ticks": ""
           }
          },
          "title": {
           "x": 0.05
          },
          "xaxis": {
           "automargin": true,
           "gridcolor": "white",
           "linecolor": "white",
           "ticks": "",
           "title": {
            "standoff": 15
           },
           "zerolinecolor": "white",
           "zerolinewidth": 2
          },
          "yaxis": {
           "automargin": true,
           "gridcolor": "white",
           "linecolor": "white",
           "ticks": "",
           "title": {
            "standoff": 15
           },
           "zerolinecolor": "white",
           "zerolinewidth": 2
          }
         }
        },
        "title": {
         "font": {
          "color": "#4D5663"
         },
         "text": "Distribution of height_left"
        },
        "xaxis": {
         "gridcolor": "#E1E5ED",
         "showgrid": true,
         "tickfont": {
          "color": "#4D5663"
         },
         "title": {
          "font": {
           "color": "#4D5663"
          },
          "text": "height_left"
         },
         "zerolinecolor": "#E1E5ED"
        },
        "yaxis": {
         "gridcolor": "#E1E5ED",
         "showgrid": true,
         "tickfont": {
          "color": "#4D5663"
         },
         "title": {
          "font": {
           "color": "#4D5663"
          },
          "text": "Count"
         },
         "zerolinecolor": "#E1E5ED"
        }
       }
      },
      "text/html": [
       "<div>                            <div id=\"a211e4c9-bdc3-48bc-945e-ecda5ba01325\" class=\"plotly-graph-div\" style=\"height:525px; width:100%;\"></div>            <script type=\"text/javascript\">                require([\"plotly\"], function(Plotly) {                    window.PLOTLYENV=window.PLOTLYENV || {};\n",
       "                    window.PLOTLYENV.BASE_URL='https://plot.ly';                                    if (document.getElementById(\"a211e4c9-bdc3-48bc-945e-ecda5ba01325\")) {                    Plotly.newPlot(                        \"a211e4c9-bdc3-48bc-945e-ecda5ba01325\",                        [{\"histfunc\":\"count\",\"histnorm\":\"\",\"marker\":{\"color\":\"rgba(255, 153, 51, 1.0)\",\"line\":{\"color\":\"#4D5663\",\"width\":1.3}},\"name\":\"height_left\",\"opacity\":0.8,\"orientation\":\"v\",\"x\":[104.86,103.36,104.48,103.91,104.28,103.74,104.18,103.76,103.92,104.07,104.14,104.59,103.89,104.35,103.87,103.92,104.19,104.47,103.89,103.67,103.91,103.65,103.96,103.85,103.75,103.63,103.44,103.92,104.18,103.59,103.95,104.33,103.79,104.1,103.61,103.81,104.28,104.1,103.76,104.11,103.96,104.19,103.73,103.41,103.83,104.65,103.74,104.15,104.05,103.82,104.02,103.59,104.18,103.99,103.58,103.42,104.23,103.75,104.12,103.91,104.03,103.46,103.82,103.92,103.91,104.49,104.1,103.97,103.55,104.16,103.84,103.59,103.89,103.58,103.69,103.85,103.3,104.09,103.43,103.71,103.42,103.87,103.93,104.32,103.91,104.32,104.58,103.75,103.65,103.49,103.76,104.01,104.14,103.75,104.26,103.83,104.61,103.6,103.75,104.07,104.02,103.35,103.69,104.14,103.95,103.66,103.95,103.88,104.23,103.77,103.72,103.96,104.22,104.23,103.97,103.61,104.18,104.36,103.6,103.66,103.78,104.12,103.22,104.24,103.63,104.03,104.07,103.98,104.34,104.05,103.43,104.14,103.77,104.36,104.12,104.71,104.19,104.02,104.05,103.81,103.82,104.11,104.46,103.82,104.31,103.59,103.72,103.72,103.99,103.97,103.91,103.8,104.29,104.16,103.95,104.03,103.98,104.04,103.88,103.74,104.46,103.89,104.05,103.4,103.98,103.53,104.05,104.06,103.32,104.2,104.41,103.51,104.09,104.03,104.4,104.26,103.63,104.19,104.57,104.16,104.17,103.31,104.44,103.97,103.71,104.13,103.48,104.05,104.05,104.02,103.73,104.7,103.74,103.73,104.34,103.59,103.98,103.66,104.14,104.42,104.01,104.27,103.98,104.18,103.83,104.04,103.68,104.34,103.8,103.25,103.76,103.52,104.06,103.75,103.61,104.08,104.43,104.32,104.07,103.33,103.59,103.67,103.88,104.05,103.2,104.22,103.81,103.8,104.54,103.63,103.22,104.22,104.26,104.16,103.55,103.62,104.1,103.96,104.21,104.07,103.6,104.14,103.95,103.61,104.09,103.7,103.91,103.97,104.03,103.74,103.45,103.26,104.27,104.33,104.21,103.49,103.65,104.03,103.53,103.62,103.71,103.75,103.97,103.92,104.12,104.02,103.94,103.27,104.3,103.93,103.98,104.21,104.22,104.05,103.74,104.17,104.11,104.16,104.15,103.73,103.64,103.9,104.54,103.57,103.83,103.78,103.99,104.12,104.22,104.4,103.93,103.79,103.14,103.81,103.97,104.54,103.99,103.9,103.83,103.77,104.27,103.83,103.22,103.45,103.88,104.65,103.93,104.22,103.99,104.14,103.87,103.99,104.09,103.99,104.16,103.6,103.99,104.34,103.51,104.11,104.35,103.74,104.13,103.83,104.42,104.17,103.47,103.86,103.79,103.85,104.12,104.17,103.44,104.56,103.7,103.81,103.96,103.8,104.3,103.88,103.9,104.21,103.94,103.77,103.97,103.93,103.38,103.78,103.77,104.17,104.4,103.82,103.64,103.8,104.18,103.82,103.58,103.64,103.95,103.59,103.73,104.09,103.4,104.32,103.83,103.92,104.15,104.17,103.58,103.64,103.99,104.05,103.49,104.29,104.49,104.64,104.53,104.34,104.24,103.63,104.08,103.95,104.62,104.22,103.5,104.02,103.56,104.19,104.07,104.0,103.65,103.68,103.87,104.19,104.57,104.33,103.66,104.18,104.29,104.08,104.3,104.72,104.23,104.03,103.68,104.26,103.72,103.39,103.56,103.96,103.72,104.06,103.96,103.66,104.12,103.68,104.11,104.02,104.23,103.97,103.99,103.95,103.53,104.32,103.74,103.97,103.99,103.64,103.77,103.78,104.08,103.8,104.46,103.71,103.82,103.92,104.58,103.88,104.07,103.74,103.87,103.88,103.73,103.93,103.94,104.42,104.53,103.86,103.93,103.91,104.11,103.79,103.48,104.05,104.21,103.57,104.22,103.48,104.07,104.45,103.69,103.95,103.95,104.14,103.87,103.5,103.77,104.06,103.97,104.34,104.02,104.17,104.04,104.08,103.78,104.36,104.47,104.25,104.49,103.86,103.62,103.53,104.2,103.91,104.02,104.29,104.39,103.89,104.07,104.36,103.71,104.83,104.46,103.97,104.19,103.93,103.67,103.95,104.01,104.34,104.11,103.73,103.79,103.51,103.95,103.97,104.27,104.05,104.12,103.96,103.87,103.69,104.09,104.19,104.42,103.25,104.34,103.69,104.15,103.76,103.66,104.3,104.42,103.57,103.61,103.61,103.61,103.79,103.69,104.17,103.94,104.0,103.77,103.73,104.04,104.18,103.64,103.86,104.5,103.75,103.68,103.63,103.95,103.98,104.08,103.75,103.76,104.41,103.75,104.22,104.37,103.44,103.93,104.49,103.76,104.18,104.54,103.81,103.79,103.59,104.02,103.71,103.78,103.99,104.1,104.0,103.51,104.08,104.11,104.08,104.07,103.76,103.8,104.09,104.13,104.1,103.63,103.62,103.8,104.19,104.48,103.57,103.99,103.84,104.18,104.04,104.33,103.72,103.67,104.16,103.58,103.81,103.54,104.46,103.43,103.83,104.51,103.85,103.88,103.93,103.82,103.25,103.88,104.03,103.85,104.26,104.52,104.17,104.5,103.47,103.71,103.68,103.35,104.52,103.86,103.77,104.23,103.89,103.75,104.06,103.4,103.69,104.32,104.33,103.98,103.42,104.44,104.23,103.52,104.03,104.33,104.33,104.17,104.19,103.93,104.27,104.28,103.85,104.1,103.66,104.34,103.51,103.9,103.83,103.91,103.82,103.23,103.83,104.48,104.06,104.16,103.49,103.74,103.99,103.69,104.06,103.97,103.77,104.05,103.75,104.01,104.22,103.76,103.78,103.7,104.65,103.55,103.65,103.51,104.34,104.29,103.64,104.61,103.78,103.94,103.85,103.9,103.9,103.65,104.16,103.87,104.44,104.51,104.22,103.76,104.28,104.14,104.23,103.67,103.75,103.83,103.58,103.92,104.32,103.77,103.98,103.96,104.0,103.97,103.52,103.96,103.64,104.06,103.85,103.6,103.75,103.31,104.56,104.03,104.21,103.97,103.6,103.68,103.92,104.69,104.11,103.92,103.97,103.58,103.65,103.47,103.95,104.04,103.97,104.43,103.6,103.74,103.72,104.11,103.84,103.93,103.69,103.92,103.94,103.7,103.93,103.85,104.39,103.88,103.74,103.84,103.75,104.06,104.58,103.95,103.92,103.73,104.28,103.91,103.73,104.05,104.69,104.21,103.4,104.2,104.12,103.95,104.06,104.12,104.06,103.7,103.93,104.01,104.43,103.59,103.88,103.89,104.0,103.91,103.27,104.17,104.3,103.95,103.93,103.69,104.29,103.87,104.03,103.6,103.34,103.95,104.34,104.02,104.03,103.78,103.42,103.33,103.96,103.67,103.84,104.05,103.67,103.98,104.46,103.84,103.81,103.75,104.18,103.84,104.03,104.09,103.84,104.62,103.27,103.95,103.75,103.99,103.61,104.36,103.51,104.44,103.81,103.34,103.95,103.94,104.22,103.62,103.96,104.13,104.01,104.44,104.04,103.79,103.78,104.09,104.03,103.95,103.94,103.55,104.14,103.94,103.57,104.3,103.71,103.61,104.08,103.98,103.6,103.96,104.2,103.71,103.92,103.77,103.98,104.14,104.21,104.01,104.07,104.26,104.07,103.77,103.76,103.72,104.0,103.95,104.66,104.52,104.04,104.18,103.85,103.83,104.21,103.78,104.0,103.54,103.94,103.76,104.32,103.87,104.21,104.34,104.07,104.42,103.93,103.75,104.09,103.85,103.62,104.21,104.14,104.31,104.36,103.77,104.38,103.78,104.14,104.35,104.04,104.28,103.94,104.04,103.63,104.13,103.52,103.67,103.68,104.0,103.65,103.65,103.98,103.84,104.08,104.27,104.03,104.1,104.76,103.97,104.44,104.05,103.8,104.03,103.75,103.93,103.75,103.82,104.11,103.9,103.62,103.59,103.68,103.27,103.72,103.95,104.24,103.99,103.61,103.98,104.65,104.08,104.1,103.52,104.01,104.27,103.78,104.27,103.85,104.06,103.6,104.08,104.64,104.11,103.35,104.17,103.56,103.68,103.74,103.87,104.08,104.39,103.89,104.09,103.86,104.2,103.54,103.63,104.06,103.72,103.8,103.84,103.98,103.88,103.77,103.64,103.65,103.72,104.79,104.57,104.09,103.56,103.6,104.45,103.58,103.88,104.1,104.08,104.04,104.29,103.94,103.65,103.76,104.08,104.23,104.52,103.69,103.7,103.87,103.61,103.77,103.99,103.9,103.9,104.42,103.69,103.73,104.12,103.92,103.72,103.38,103.96,104.07,103.95,103.86,104.14,104.33,104.25,104.3,104.05,104.13,104.28,104.26,103.85,104.44,103.73,104.18,103.99,104.51,104.23,104.37,104.18,104.03,104.31,104.2,104.03,104.26,104.05,104.2,103.85,104.02,104.05,104.29,104.45,104.0,104.22,104.06,103.79,104.37,104.13,104.24,104.1,104.12,104.08,104.12,103.99,104.29,104.18,104.05,104.36,103.95,104.24,104.09,104.24,103.91,104.09,104.52,104.16,104.07,104.32,104.43,104.33,104.41,104.34,104.06,104.19,103.99,104.16,104.21,104.39,104.08,104.49,104.29,104.38,103.9,104.06,103.67,104.49,104.51,104.27,104.12,104.4,104.33,103.83,103.9,103.96,103.6,104.27,103.51,104.53,104.28,104.26,104.13,104.88,104.31,104.76,104.33,104.4,104.11,104.36,104.43,104.28,104.18,104.09,104.49,104.11,104.05,103.89,104.03,103.95,104.18,104.24,104.16,104.32,104.52,104.28,104.52,104.1,104.14,103.9,104.14,104.52,104.2,104.46,104.38,104.15,104.03,103.92,104.26,104.06,103.76,104.25,104.04,104.29,104.34,104.32,103.99,103.7,104.17,104.32,103.98,104.06,104.2,104.26,103.81,104.23,104.25,103.84,103.81,104.53,104.06,104.63,104.08,104.86,104.19,103.83,104.33,103.95,104.04,104.33,103.7,104.1,104.33,104.05,104.29,103.87,104.36,104.52,104.11,104.23,104.21,103.56,104.14,104.3,103.94,104.07,104.38,104.17,104.06,104.05,103.91,104.5,104.28,104.0,104.02,104.15,103.96,103.95,104.39,104.34,104.18,103.77,104.53,104.21,103.87,104.08,103.93,104.06,104.31,104.04,104.2,104.2,104.32,104.04,104.12,104.23,104.22,104.01,103.9,104.09,104.12,104.38,104.18,104.43,103.98,104.33,104.13,104.26,104.14,104.09,104.61,104.67,103.81,104.13,104.06,104.51,104.31,104.52,104.15,103.9,103.94,104.36,103.88,104.43,103.96,103.94,104.35,104.0,103.87,104.13,104.05,103.88,104.02,104.12,104.17,104.23,104.2,103.8,104.04,104.14,104.04,103.97,104.03,104.18,104.21,104.6,104.51,104.09,104.22,104.23,104.34,103.69,104.45,103.89,104.03,104.43,104.05,104.33,104.54,104.12,103.99,104.38,104.37,104.22,104.42,103.74,104.36,104.0,103.97,104.27,104.59,104.23,104.26,104.02,104.53,104.14,104.23,104.16,104.38,104.24,103.95,104.0,104.08,104.06,104.46,104.04,104.29,104.27,103.97,104.46,104.47,104.36,104.24,104.13,104.28,103.98,104.49,104.0,104.36,103.99,104.24,104.02,104.45,104.84,104.07,104.37,104.12,104.32,104.15,104.55,104.28,103.99,104.4,104.6,104.72,104.5,104.23,104.13,104.39,104.36,104.51,104.22,104.07,104.32,104.6,104.4,104.3,104.41,104.17,104.05,104.17,104.18,104.16,104.34,104.21,104.38,104.14,104.14,104.17,104.37,104.46,104.32,104.03,103.78,103.98,104.21,104.04,103.79,103.89,104.26,103.91,104.16,104.52,104.44,104.47,103.8,104.46,104.18,103.96,104.18,104.37,104.32,104.56,103.87,104.12,104.04,104.17,103.9,104.41,104.31,104.18,104.2,104.23,103.87,104.04,104.85,104.16,104.19,104.4,104.22,103.97,104.09,104.31,104.26,104.01,104.17,104.08,104.17,104.28,104.53,104.32,104.12,104.44,104.46,104.32,103.79,104.25,103.79,104.3,103.98,103.99,103.95,104.09,103.86,104.39,103.94,104.42,104.17,104.58,104.25,103.92,104.64,104.33,104.47,104.11,104.12,104.17,103.9,104.36,103.92,104.39,104.04,104.64,104.55,104.11,103.92,104.18,103.8,104.33,104.03,104.18,104.28,103.94,104.41,104.55,104.21,104.26,104.17,104.39,104.41,104.25,104.32,104.1,104.05,104.2,104.15,104.2,104.56,103.65,104.41,104.43,104.0,104.31,104.28,104.66,104.02,104.27,104.17,103.89,104.55,103.8,103.88,104.52,104.42,104.58,104.27,104.04,104.42,104.48,104.46,104.23,103.93,103.76,103.92,104.33,104.04,104.16,103.96,104.48,104.16,104.49,103.93,104.14,104.32,104.18,103.97,104.33,104.14,104.38,104.63,104.01,104.28,104.15],\"type\":\"histogram\"}],                        {\"barmode\":\"overlay\",\"legend\":{\"bgcolor\":\"#F5F6F9\",\"font\":{\"color\":\"#4D5663\"}},\"paper_bgcolor\":\"#F5F6F9\",\"plot_bgcolor\":\"#F5F6F9\",\"template\":{\"data\":{\"barpolar\":[{\"marker\":{\"line\":{\"color\":\"#E5ECF6\",\"width\":0.5},\"pattern\":{\"fillmode\":\"overlay\",\"size\":10,\"solidity\":0.2}},\"type\":\"barpolar\"}],\"bar\":[{\"error_x\":{\"color\":\"#2a3f5f\"},\"error_y\":{\"color\":\"#2a3f5f\"},\"marker\":{\"line\":{\"color\":\"#E5ECF6\",\"width\":0.5},\"pattern\":{\"fillmode\":\"overlay\",\"size\":10,\"solidity\":0.2}},\"type\":\"bar\"}],\"carpet\":[{\"aaxis\":{\"endlinecolor\":\"#2a3f5f\",\"gridcolor\":\"white\",\"linecolor\":\"white\",\"minorgridcolor\":\"white\",\"startlinecolor\":\"#2a3f5f\"},\"baxis\":{\"endlinecolor\":\"#2a3f5f\",\"gridcolor\":\"white\",\"linecolor\":\"white\",\"minorgridcolor\":\"white\",\"startlinecolor\":\"#2a3f5f\"},\"type\":\"carpet\"}],\"choropleth\":[{\"colorbar\":{\"outlinewidth\":0,\"ticks\":\"\"},\"type\":\"choropleth\"}],\"contourcarpet\":[{\"colorbar\":{\"outlinewidth\":0,\"ticks\":\"\"},\"type\":\"contourcarpet\"}],\"contour\":[{\"colorbar\":{\"outlinewidth\":0,\"ticks\":\"\"},\"colorscale\":[[0.0,\"#0d0887\"],[0.1111111111111111,\"#46039f\"],[0.2222222222222222,\"#7201a8\"],[0.3333333333333333,\"#9c179e\"],[0.4444444444444444,\"#bd3786\"],[0.5555555555555556,\"#d8576b\"],[0.6666666666666666,\"#ed7953\"],[0.7777777777777778,\"#fb9f3a\"],[0.8888888888888888,\"#fdca26\"],[1.0,\"#f0f921\"]],\"type\":\"contour\"}],\"heatmapgl\":[{\"colorbar\":{\"outlinewidth\":0,\"ticks\":\"\"},\"colorscale\":[[0.0,\"#0d0887\"],[0.1111111111111111,\"#46039f\"],[0.2222222222222222,\"#7201a8\"],[0.3333333333333333,\"#9c179e\"],[0.4444444444444444,\"#bd3786\"],[0.5555555555555556,\"#d8576b\"],[0.6666666666666666,\"#ed7953\"],[0.7777777777777778,\"#fb9f3a\"],[0.8888888888888888,\"#fdca26\"],[1.0,\"#f0f921\"]],\"type\":\"heatmapgl\"}],\"heatmap\":[{\"colorbar\":{\"outlinewidth\":0,\"ticks\":\"\"},\"colorscale\":[[0.0,\"#0d0887\"],[0.1111111111111111,\"#46039f\"],[0.2222222222222222,\"#7201a8\"],[0.3333333333333333,\"#9c179e\"],[0.4444444444444444,\"#bd3786\"],[0.5555555555555556,\"#d8576b\"],[0.6666666666666666,\"#ed7953\"],[0.7777777777777778,\"#fb9f3a\"],[0.8888888888888888,\"#fdca26\"],[1.0,\"#f0f921\"]],\"type\":\"heatmap\"}],\"histogram2dcontour\":[{\"colorbar\":{\"outlinewidth\":0,\"ticks\":\"\"},\"colorscale\":[[0.0,\"#0d0887\"],[0.1111111111111111,\"#46039f\"],[0.2222222222222222,\"#7201a8\"],[0.3333333333333333,\"#9c179e\"],[0.4444444444444444,\"#bd3786\"],[0.5555555555555556,\"#d8576b\"],[0.6666666666666666,\"#ed7953\"],[0.7777777777777778,\"#fb9f3a\"],[0.8888888888888888,\"#fdca26\"],[1.0,\"#f0f921\"]],\"type\":\"histogram2dcontour\"}],\"histogram2d\":[{\"colorbar\":{\"outlinewidth\":0,\"ticks\":\"\"},\"colorscale\":[[0.0,\"#0d0887\"],[0.1111111111111111,\"#46039f\"],[0.2222222222222222,\"#7201a8\"],[0.3333333333333333,\"#9c179e\"],[0.4444444444444444,\"#bd3786\"],[0.5555555555555556,\"#d8576b\"],[0.6666666666666666,\"#ed7953\"],[0.7777777777777778,\"#fb9f3a\"],[0.8888888888888888,\"#fdca26\"],[1.0,\"#f0f921\"]],\"type\":\"histogram2d\"}],\"histogram\":[{\"marker\":{\"pattern\":{\"fillmode\":\"overlay\",\"size\":10,\"solidity\":0.2}},\"type\":\"histogram\"}],\"mesh3d\":[{\"colorbar\":{\"outlinewidth\":0,\"ticks\":\"\"},\"type\":\"mesh3d\"}],\"parcoords\":[{\"line\":{\"colorbar\":{\"outlinewidth\":0,\"ticks\":\"\"}},\"type\":\"parcoords\"}],\"pie\":[{\"automargin\":true,\"type\":\"pie\"}],\"scatter3d\":[{\"line\":{\"colorbar\":{\"outlinewidth\":0,\"ticks\":\"\"}},\"marker\":{\"colorbar\":{\"outlinewidth\":0,\"ticks\":\"\"}},\"type\":\"scatter3d\"}],\"scattercarpet\":[{\"marker\":{\"colorbar\":{\"outlinewidth\":0,\"ticks\":\"\"}},\"type\":\"scattercarpet\"}],\"scattergeo\":[{\"marker\":{\"colorbar\":{\"outlinewidth\":0,\"ticks\":\"\"}},\"type\":\"scattergeo\"}],\"scattergl\":[{\"marker\":{\"colorbar\":{\"outlinewidth\":0,\"ticks\":\"\"}},\"type\":\"scattergl\"}],\"scattermapbox\":[{\"marker\":{\"colorbar\":{\"outlinewidth\":0,\"ticks\":\"\"}},\"type\":\"scattermapbox\"}],\"scatterpolargl\":[{\"marker\":{\"colorbar\":{\"outlinewidth\":0,\"ticks\":\"\"}},\"type\":\"scatterpolargl\"}],\"scatterpolar\":[{\"marker\":{\"colorbar\":{\"outlinewidth\":0,\"ticks\":\"\"}},\"type\":\"scatterpolar\"}],\"scatter\":[{\"fillpattern\":{\"fillmode\":\"overlay\",\"size\":10,\"solidity\":0.2},\"type\":\"scatter\"}],\"scatterternary\":[{\"marker\":{\"colorbar\":{\"outlinewidth\":0,\"ticks\":\"\"}},\"type\":\"scatterternary\"}],\"surface\":[{\"colorbar\":{\"outlinewidth\":0,\"ticks\":\"\"},\"colorscale\":[[0.0,\"#0d0887\"],[0.1111111111111111,\"#46039f\"],[0.2222222222222222,\"#7201a8\"],[0.3333333333333333,\"#9c179e\"],[0.4444444444444444,\"#bd3786\"],[0.5555555555555556,\"#d8576b\"],[0.6666666666666666,\"#ed7953\"],[0.7777777777777778,\"#fb9f3a\"],[0.8888888888888888,\"#fdca26\"],[1.0,\"#f0f921\"]],\"type\":\"surface\"}],\"table\":[{\"cells\":{\"fill\":{\"color\":\"#EBF0F8\"},\"line\":{\"color\":\"white\"}},\"header\":{\"fill\":{\"color\":\"#C8D4E3\"},\"line\":{\"color\":\"white\"}},\"type\":\"table\"}]},\"layout\":{\"annotationdefaults\":{\"arrowcolor\":\"#2a3f5f\",\"arrowhead\":0,\"arrowwidth\":1},\"autotypenumbers\":\"strict\",\"coloraxis\":{\"colorbar\":{\"outlinewidth\":0,\"ticks\":\"\"}},\"colorscale\":{\"diverging\":[[0,\"#8e0152\"],[0.1,\"#c51b7d\"],[0.2,\"#de77ae\"],[0.3,\"#f1b6da\"],[0.4,\"#fde0ef\"],[0.5,\"#f7f7f7\"],[0.6,\"#e6f5d0\"],[0.7,\"#b8e186\"],[0.8,\"#7fbc41\"],[0.9,\"#4d9221\"],[1,\"#276419\"]],\"sequential\":[[0.0,\"#0d0887\"],[0.1111111111111111,\"#46039f\"],[0.2222222222222222,\"#7201a8\"],[0.3333333333333333,\"#9c179e\"],[0.4444444444444444,\"#bd3786\"],[0.5555555555555556,\"#d8576b\"],[0.6666666666666666,\"#ed7953\"],[0.7777777777777778,\"#fb9f3a\"],[0.8888888888888888,\"#fdca26\"],[1.0,\"#f0f921\"]],\"sequentialminus\":[[0.0,\"#0d0887\"],[0.1111111111111111,\"#46039f\"],[0.2222222222222222,\"#7201a8\"],[0.3333333333333333,\"#9c179e\"],[0.4444444444444444,\"#bd3786\"],[0.5555555555555556,\"#d8576b\"],[0.6666666666666666,\"#ed7953\"],[0.7777777777777778,\"#fb9f3a\"],[0.8888888888888888,\"#fdca26\"],[1.0,\"#f0f921\"]]},\"colorway\":[\"#636efa\",\"#EF553B\",\"#00cc96\",\"#ab63fa\",\"#FFA15A\",\"#19d3f3\",\"#FF6692\",\"#B6E880\",\"#FF97FF\",\"#FECB52\"],\"font\":{\"color\":\"#2a3f5f\"},\"geo\":{\"bgcolor\":\"white\",\"lakecolor\":\"white\",\"landcolor\":\"#E5ECF6\",\"showlakes\":true,\"showland\":true,\"subunitcolor\":\"white\"},\"hoverlabel\":{\"align\":\"left\"},\"hovermode\":\"closest\",\"mapbox\":{\"style\":\"light\"},\"paper_bgcolor\":\"white\",\"plot_bgcolor\":\"#E5ECF6\",\"polar\":{\"angularaxis\":{\"gridcolor\":\"white\",\"linecolor\":\"white\",\"ticks\":\"\"},\"bgcolor\":\"#E5ECF6\",\"radialaxis\":{\"gridcolor\":\"white\",\"linecolor\":\"white\",\"ticks\":\"\"}},\"scene\":{\"xaxis\":{\"backgroundcolor\":\"#E5ECF6\",\"gridcolor\":\"white\",\"gridwidth\":2,\"linecolor\":\"white\",\"showbackground\":true,\"ticks\":\"\",\"zerolinecolor\":\"white\"},\"yaxis\":{\"backgroundcolor\":\"#E5ECF6\",\"gridcolor\":\"white\",\"gridwidth\":2,\"linecolor\":\"white\",\"showbackground\":true,\"ticks\":\"\",\"zerolinecolor\":\"white\"},\"zaxis\":{\"backgroundcolor\":\"#E5ECF6\",\"gridcolor\":\"white\",\"gridwidth\":2,\"linecolor\":\"white\",\"showbackground\":true,\"ticks\":\"\",\"zerolinecolor\":\"white\"}},\"shapedefaults\":{\"line\":{\"color\":\"#2a3f5f\"}},\"ternary\":{\"aaxis\":{\"gridcolor\":\"white\",\"linecolor\":\"white\",\"ticks\":\"\"},\"baxis\":{\"gridcolor\":\"white\",\"linecolor\":\"white\",\"ticks\":\"\"},\"bgcolor\":\"#E5ECF6\",\"caxis\":{\"gridcolor\":\"white\",\"linecolor\":\"white\",\"ticks\":\"\"}},\"title\":{\"x\":0.05},\"xaxis\":{\"automargin\":true,\"gridcolor\":\"white\",\"linecolor\":\"white\",\"ticks\":\"\",\"title\":{\"standoff\":15},\"zerolinecolor\":\"white\",\"zerolinewidth\":2},\"yaxis\":{\"automargin\":true,\"gridcolor\":\"white\",\"linecolor\":\"white\",\"ticks\":\"\",\"title\":{\"standoff\":15},\"zerolinecolor\":\"white\",\"zerolinewidth\":2}}},\"title\":{\"font\":{\"color\":\"#4D5663\"},\"text\":\"Distribution of height_left\"},\"xaxis\":{\"gridcolor\":\"#E1E5ED\",\"showgrid\":true,\"tickfont\":{\"color\":\"#4D5663\"},\"title\":{\"font\":{\"color\":\"#4D5663\"},\"text\":\"height_left\"},\"zerolinecolor\":\"#E1E5ED\"},\"yaxis\":{\"gridcolor\":\"#E1E5ED\",\"showgrid\":true,\"tickfont\":{\"color\":\"#4D5663\"},\"title\":{\"font\":{\"color\":\"#4D5663\"},\"text\":\"Count\"},\"zerolinecolor\":\"#E1E5ED\"}},                        {\"showLink\": true, \"linkText\": \"Export to plot.ly\", \"plotlyServerURL\": \"https://plot.ly\", \"responsive\": true}                    ).then(function(){\n",
       "                            \n",
       "var gd = document.getElementById('a211e4c9-bdc3-48bc-945e-ecda5ba01325');\n",
       "var x = new MutationObserver(function (mutations, observer) {{\n",
       "        var display = window.getComputedStyle(gd).display;\n",
       "        if (!display || display === 'none') {{\n",
       "            console.log([gd, 'removed!']);\n",
       "            Plotly.purge(gd);\n",
       "            observer.disconnect();\n",
       "        }}\n",
       "}});\n",
       "\n",
       "// Listen for the removal of the full notebook cells\n",
       "var notebookContainer = gd.closest('#notebook-container');\n",
       "if (notebookContainer) {{\n",
       "    x.observe(notebookContainer, {childList: true});\n",
       "}}\n",
       "\n",
       "// Listen for the clearing of the current output cell\n",
       "var outputEl = gd.closest('.output');\n",
       "if (outputEl) {{\n",
       "    x.observe(outputEl, {childList: true});\n",
       "}}\n",
       "\n",
       "                        })                };                });            </script>        </div>"
      ]
     },
     "metadata": {},
     "output_type": "display_data"
    }
   ],
   "source": [
    "distr(df['height_left'],title='Distribution of height_left',xlabel='height_left',ylabel='Count')"
   ]
  },
  {
   "cell_type": "code",
   "execution_count": 11,
   "metadata": {},
   "outputs": [
    {
     "data": {
      "application/vnd.plotly.v1+json": {
       "config": {
        "linkText": "Export to plot.ly",
        "plotlyServerURL": "https://plot.ly",
        "showLink": true
       },
       "data": [
        {
         "histfunc": "count",
         "histnorm": "",
         "marker": {
          "color": "rgba(255, 153, 51, 1.0)",
          "line": {
           "color": "#4D5663",
           "width": 1.3
          }
         },
         "name": "height_right",
         "opacity": 0.8,
         "orientation": "v",
         "type": "histogram",
         "x": [
          104.95,
          103.66,
          103.5,
          103.94,
          103.46,
          104.08,
          103.85,
          104.08,
          103.67,
          104.02,
          103.62,
          104,
          103.4,
          103.67,
          103.83,
          103.74,
          103.7,
          103.45,
          104.14,
          103.15,
          103.96,
          103.64,
          103.71,
          103.62,
          103.89,
          103.33,
          103.7,
          103.74,
          104.16,
          103.79,
          103.97,
          103.61,
          103.9,
          103.88,
          104.44,
          103.65,
          104.06,
          104.19,
          104.27,
          104.19,
          104.55,
          103.82,
          103.33,
          103.85,
          103.76,
          103.63,
          104.42,
          103.93,
          103.82,
          103.61,
          103.82,
          104.09,
          103.78,
          103.47,
          103.8,
          103.64,
          103.93,
          104.07,
          103.86,
          103.88,
          103.86,
          104.22,
          103.84,
          103.57,
          103.94,
          103.96,
          104.27,
          103.66,
          103.74,
          103.76,
          103.66,
          103.98,
          103.45,
          103.59,
          103.79,
          103.7,
          103.55,
          103.03,
          103.61,
          103.57,
          103.35,
          103.27,
          103.85,
          103.86,
          103.91,
          103.71,
          103.89,
          103.4,
          103.56,
          103.82,
          103.61,
          104.5,
          103.35,
          103.98,
          103.76,
          103.82,
          103.91,
          103.99,
          103.62,
          104.18,
          103.87,
          103.69,
          103.89,
          103.98,
          103.81,
          103.9,
          103.75,
          104.06,
          104.14,
          103.95,
          103.44,
          103.58,
          103.74,
          104.05,
          103.69,
          103.46,
          103.71,
          104.01,
          103.36,
          103.28,
          103.61,
          103.75,
          103.92,
          103.85,
          104.12,
          103.97,
          103.98,
          104.07,
          103.85,
          103.67,
          103.54,
          103.78,
          103.98,
          103.28,
          103.96,
          103.85,
          103.59,
          103.9,
          104.02,
          103.52,
          103.59,
          104.23,
          103.8,
          103.79,
          103.78,
          103.83,
          103.88,
          103.67,
          104.04,
          103.6,
          104.57,
          104.38,
          104.04,
          103.67,
          103.7,
          103.85,
          103.4,
          104.08,
          103.76,
          103.92,
          103.6,
          103.78,
          104.26,
          103.45,
          104.4,
          103.76,
          103.51,
          103.97,
          103.99,
          103.89,
          103.71,
          103.52,
          103.56,
          103.9,
          103.17,
          103.88,
          102.97,
          103.5,
          104.04,
          103.94,
          103.74,
          103.5,
          104.13,
          103.84,
          103.9,
          103.84,
          104.04,
          104.17,
          103.84,
          103.54,
          103.77,
          103.62,
          103.55,
          102.95,
          103.99,
          103.81,
          103.73,
          103.8,
          103.75,
          104.02,
          103.41,
          104.19,
          104.02,
          104.04,
          103.31,
          104.02,
          103.14,
          103.93,
          104.08,
          103.97,
          103.66,
          103.69,
          103.85,
          103.87,
          103.79,
          103.66,
          103.09,
          103.52,
          103.71,
          103.8,
          103.8,
          103.6,
          103.7,
          103.82,
          103.92,
          104.16,
          103.83,
          104.1,
          103.78,
          103.97,
          104,
          104,
          104.06,
          103.2,
          104.2,
          103.32,
          104.16,
          104.03,
          103.97,
          103.9,
          104.09,
          104.06,
          103.78,
          104.33,
          103.58,
          103.59,
          103.99,
          104.32,
          104.02,
          103.7,
          104.11,
          102.82,
          104.07,
          104.33,
          103.87,
          103.47,
          103.55,
          104.25,
          103.78,
          103.78,
          103.64,
          103.53,
          103.81,
          103.42,
          104.1,
          103.94,
          103.8,
          103.42,
          104.01,
          103.72,
          104.33,
          103.88,
          104.11,
          103.54,
          104.1,
          103.72,
          103.71,
          104.17,
          103.5,
          103.55,
          103.63,
          104.21,
          103.74,
          103.89,
          103.76,
          103.86,
          104.12,
          104.15,
          103.57,
          103.94,
          103.81,
          104.11,
          103.81,
          103.83,
          103.81,
          103.56,
          104.03,
          104.32,
          104.13,
          103.82,
          104.01,
          103.95,
          104.11,
          103.79,
          103.85,
          103.66,
          103.43,
          103.67,
          104.02,
          103.76,
          104.16,
          103.63,
          103.7,
          104.01,
          104.18,
          103.43,
          103.81,
          103.49,
          103.99,
          104.14,
          104.43,
          103.78,
          103.91,
          103.68,
          103.6,
          103.35,
          103.82,
          104.08,
          104.17,
          104.04,
          104.18,
          104.09,
          103.8,
          103.9,
          103.96,
          103.67,
          103.87,
          103.95,
          103.94,
          104.15,
          104.03,
          104.21,
          103.84,
          103.88,
          103.28,
          103.49,
          103.74,
          103.54,
          104.23,
          103.48,
          103.4,
          103.73,
          104.15,
          103.23,
          104.14,
          104.09,
          104.02,
          104.15,
          104.09,
          103.68,
          104.01,
          103.82,
          104.05,
          103.6,
          103.25,
          104.03,
          103.75,
          104.02,
          104.21,
          103.53,
          104.02,
          103.97,
          103.99,
          103.81,
          103.52,
          103.06,
          103.38,
          103.71,
          103.66,
          103.93,
          103.91,
          103.36,
          103.8,
          103.72,
          103.24,
          103.9,
          103.64,
          104.58,
          103.73,
          103.86,
          103.44,
          104.27,
          103.95,
          104.14,
          103.43,
          103.83,
          103.92,
          103.53,
          103.53,
          104.06,
          103.75,
          104.17,
          104.03,
          103.68,
          103.93,
          103.83,
          104.18,
          103.99,
          104.39,
          103.72,
          103.51,
          103.71,
          103.86,
          103.5,
          103.89,
          104.1,
          104.25,
          104.18,
          103.97,
          103.96,
          103.45,
          103.73,
          103.63,
          104.07,
          103.89,
          103.98,
          103.5,
          104.21,
          103.93,
          104.22,
          103.93,
          103.56,
          104.3,
          103.36,
          103.99,
          103.77,
          104.31,
          103.59,
          103.67,
          103.46,
          104.4,
          104.35,
          104.19,
          103.41,
          103.46,
          103.22,
          103.5,
          104.33,
          103.69,
          103.93,
          103.13,
          103.54,
          103.47,
          103.78,
          104.46,
          104.2,
          103.62,
          103.94,
          103.55,
          103.97,
          103.71,
          103.77,
          103.93,
          103.59,
          103.34,
          104.51,
          103.91,
          103.57,
          104,
          103.7,
          103.92,
          103.13,
          104.24,
          103.86,
          103.76,
          103.64,
          104.08,
          103.64,
          103.54,
          103.27,
          103.64,
          103.96,
          103.75,
          103.65,
          103.88,
          103.58,
          103.59,
          103.81,
          104.02,
          103.44,
          103.6,
          103.56,
          103.79,
          104.04,
          104.03,
          103.43,
          104,
          103.5,
          103.68,
          103.55,
          103.87,
          103.69,
          103.98,
          103.85,
          103.6,
          104.05,
          103.55,
          104.11,
          103.95,
          103.85,
          104.27,
          104.16,
          103.73,
          103.69,
          103.41,
          103.78,
          103.73,
          103.51,
          103.76,
          103.33,
          104.22,
          103.57,
          102.91,
          103.8,
          103.9,
          103.6,
          103.9,
          103.34,
          103.6,
          103.27,
          103.38,
          103.98,
          103.95,
          103.8,
          103.88,
          103.89,
          103.81,
          104.06,
          103.49,
          103.55,
          103.84,
          103.83,
          103.45,
          103.72,
          103.59,
          104.14,
          103.91,
          103.75,
          103.47,
          104.18,
          103.37,
          104.09,
          103.8,
          103.4,
          103.89,
          104.1,
          103.91,
          103.74,
          103.94,
          103.77,
          103.79,
          103.97,
          103.79,
          104.11,
          104.36,
          103.35,
          103.76,
          103.64,
          104.07,
          103.78,
          103.85,
          103.99,
          104.22,
          104.2,
          103.58,
          103.57,
          104,
          103.26,
          103.82,
          104.01,
          104.01,
          104.27,
          104.22,
          103.98,
          103.96,
          103.82,
          103.97,
          103.52,
          104.24,
          104.05,
          104.17,
          103.76,
          103.44,
          104.42,
          103.83,
          103.87,
          103.9,
          104.28,
          103.94,
          103.32,
          103.74,
          104.07,
          104.14,
          103.42,
          103.89,
          103.87,
          103.96,
          103.62,
          103.66,
          103.99,
          103.67,
          103.49,
          103.76,
          103.72,
          103.88,
          103.81,
          103.85,
          103.67,
          103.55,
          103.99,
          103.82,
          103.51,
          104.33,
          104.03,
          103.39,
          104.1,
          104.08,
          103.74,
          103.49,
          103.67,
          104.03,
          103.97,
          104.16,
          103.98,
          103.49,
          104.01,
          103.14,
          103.36,
          103.69,
          103.52,
          103.77,
          103.25,
          103.74,
          103.71,
          103.78,
          103.85,
          103.64,
          103.51,
          104.06,
          103.99,
          104.14,
          103.58,
          103.52,
          103.55,
          103.54,
          103.9,
          103.84,
          103.79,
          103.81,
          103.38,
          104,
          104.62,
          103.76,
          103.65,
          103.75,
          104.44,
          103.8,
          103.37,
          103.75,
          104.2,
          104.22,
          103.67,
          103.69,
          103.76,
          103.76,
          103.91,
          104.13,
          103.76,
          103.66,
          104,
          103.4,
          103.98,
          103.97,
          104.01,
          103.85,
          104.37,
          104.06,
          104.26,
          103.43,
          103.49,
          103.54,
          103.46,
          103.91,
          104.26,
          103.6,
          103.86,
          103.47,
          104.07,
          104.11,
          103.34,
          103.97,
          103.59,
          104.21,
          103.68,
          103.4,
          104.02,
          103.89,
          104.03,
          103.43,
          103.82,
          103.86,
          104.12,
          103.99,
          103.5,
          103.87,
          103.31,
          103.9,
          103.93,
          103.77,
          103.61,
          103.59,
          103.61,
          103.93,
          103.89,
          104.06,
          103.34,
          103.48,
          103.81,
          104.16,
          103.64,
          103.62,
          104.17,
          103.66,
          103.75,
          103.43,
          104.06,
          103.53,
          103.85,
          103.56,
          103.76,
          103.68,
          103.29,
          103.96,
          104.17,
          103.72,
          103.76,
          103.31,
          103.92,
          103.79,
          103.48,
          103.73,
          104.18,
          104.19,
          104.29,
          103.69,
          103.81,
          104.11,
          103.79,
          103.94,
          103.53,
          103.89,
          103.04,
          103.57,
          103.65,
          103.94,
          103.79,
          103.74,
          104.03,
          103.26,
          103.31,
          103.8,
          103.74,
          104.08,
          103.53,
          103.91,
          103.87,
          104.41,
          103.98,
          103.92,
          103.62,
          103.79,
          103.72,
          104.16,
          104.14,
          103.94,
          103.61,
          103.54,
          103.49,
          103.76,
          103.72,
          104.05,
          103.8,
          103.98,
          103.41,
          103.87,
          103.8,
          104.17,
          104.04,
          103.62,
          103.79,
          103.67,
          104.62,
          103.58,
          104.5,
          103.29,
          103.16,
          103.76,
          103.96,
          104.02,
          103.48,
          103.31,
          103.8,
          103.82,
          103.99,
          103.22,
          103.56,
          103.93,
          103.55,
          103.52,
          103.74,
          103.5,
          103.94,
          103.56,
          103.5,
          103.83,
          103.49,
          103.74,
          103.9,
          103.94,
          103.73,
          103.85,
          103.8,
          103.58,
          103.43,
          104.34,
          104.1,
          103.74,
          103.76,
          103.19,
          103.85,
          103.79,
          103.08,
          104.24,
          103.73,
          104.49,
          104.05,
          103.88,
          103.83,
          103.56,
          104.13,
          103.39,
          103.72,
          103.66,
          103.83,
          103.52,
          103.58,
          103.77,
          104.12,
          104.1,
          103.45,
          103.99,
          103.74,
          103.13,
          103.37,
          104.31,
          103.91,
          103.59,
          103.19,
          104.05,
          103.79,
          103.98,
          103.75,
          103.5,
          103.82,
          103.91,
          103.28,
          103.67,
          103.91,
          103.59,
          104.06,
          104.1,
          103.83,
          103.63,
          103.26,
          103.65,
          103.99,
          103.29,
          104.08,
          103.67,
          103.89,
          104.18,
          103.59,
          104.17,
          103.78,
          104.22,
          103.8,
          103.47,
          103.83,
          103.9,
          104.05,
          104.25,
          103.7,
          104.04,
          104.21,
          103.78,
          104.55,
          104.33,
          103.88,
          103.86,
          103.48,
          103.88,
          104.15,
          103.49,
          103.83,
          103.37,
          104.09,
          104.07,
          103.42,
          104.03,
          103.45,
          103.96,
          104.76,
          103.52,
          104.32,
          104.39,
          103.84,
          103.89,
          103.81,
          103.76,
          103.69,
          103.7,
          103.92,
          103.94,
          103.81,
          104.32,
          103.75,
          103.37,
          103.76,
          104.17,
          103.7,
          103.69,
          104.17,
          103.78,
          103.77,
          103.41,
          103.52,
          104.66,
          103.94,
          103.83,
          103.93,
          103.74,
          103.8,
          103.88,
          104.16,
          103.59,
          103.69,
          103.8,
          104.36,
          103.32,
          103.53,
          104.07,
          104,
          103.65,
          103.25,
          103.57,
          104.16,
          104.17,
          103.75,
          103.76,
          103.06,
          103.73,
          104.06,
          103.54,
          103.9,
          103.47,
          104.26,
          103.72,
          104.14,
          104.3,
          104.07,
          104.49,
          103.72,
          103.42,
          103.66,
          103.63,
          104.02,
          103.83,
          103.84,
          103.84,
          103.68,
          103.6,
          103.53,
          103.68,
          103.51,
          103.83,
          103.47,
          103.61,
          104.22,
          103.92,
          103.58,
          103.91,
          104.3,
          104.38,
          104.33,
          104.23,
          104.18,
          104.25,
          104.52,
          103.9,
          103.96,
          103.94,
          104.24,
          104.18,
          103.59,
          103.86,
          104.29,
          104.33,
          104.18,
          103.87,
          104.44,
          104.3,
          103.57,
          104.03,
          104.2,
          104.31,
          104.13,
          103.96,
          104.66,
          103.93,
          104.03,
          104.48,
          103.82,
          104.41,
          103.8,
          104.35,
          104.14,
          104.67,
          103.83,
          103.96,
          104.33,
          104.16,
          104.42,
          104.21,
          103.8,
          103.83,
          103.94,
          104.04,
          104.27,
          104.47,
          104.49,
          103.75,
          104.77,
          104.16,
          104.05,
          103.92,
          104.08,
          104.66,
          104.37,
          104.28,
          104.4,
          104.58,
          104.16,
          103.96,
          104.04,
          104.44,
          103.82,
          103.93,
          104.16,
          104.38,
          104.41,
          104.22,
          103.98,
          104.42,
          103.82,
          103.76,
          103.69,
          104.44,
          104.06,
          104.28,
          104.24,
          104.29,
          103.67,
          103.83,
          103.82,
          103.94,
          103.5,
          104.15,
          103.86,
          104.62,
          104.26,
          104.1,
          104.4,
          104.02,
          103.94,
          103.43,
          103.92,
          103.82,
          104.17,
          104.36,
          104.01,
          103.92,
          103.87,
          103.74,
          103.75,
          103.69,
          104.47,
          103.9,
          104.31,
          103.94,
          104.31,
          104.07,
          103.96,
          104.31,
          104.19,
          104.2,
          104.37,
          104.12,
          104.14,
          104.22,
          104.35,
          104.24,
          104.19,
          104.17,
          103.58,
          104.27,
          103.87,
          104.1,
          104.03,
          103.67,
          104.68,
          104.19,
          103.44,
          103.81,
          103.67,
          104.41,
          103.93,
          103.93,
          103.76,
          104.12,
          104.09,
          104.2,
          104.35,
          104.22,
          104.64,
          104.18,
          103.97,
          103.81,
          104.02,
          104.43,
          104.01,
          104.34,
          104.05,
          103.92,
          104.4,
          103.94,
          104.31,
          103.58,
          104.27,
          104.18,
          104.03,
          104.32,
          104.27,
          104.36,
          103.83,
          104.19,
          104.14,
          104.52,
          104.07,
          103.76,
          104.15,
          103.85,
          103.81,
          103.54,
          104.31,
          104.12,
          103.92,
          103.94,
          104.21,
          104.46,
          103.89,
          104.29,
          103.93,
          104.56,
          103.92,
          103.73,
          104.56,
          104.43,
          103.99,
          104.31,
          104.14,
          104.18,
          104.51,
          104.08,
          103.95,
          104.15,
          104.13,
          104.27,
          103.65,
          104.11,
          104.87,
          104.25,
          103.69,
          103.98,
          104.19,
          104.54,
          104.58,
          104.47,
          104.14,
          103.82,
          104.23,
          104.8,
          104.09,
          104.4,
          104.19,
          103.99,
          104.42,
          104.51,
          104.29,
          103.71,
          104.13,
          104.24,
          104.24,
          103.81,
          104.66,
          104.23,
          104.24,
          104.29,
          103.95,
          103.68,
          104.1,
          103.77,
          104.15,
          104.59,
          104,
          103.88,
          104.35,
          104.19,
          104.36,
          104.16,
          104.06,
          104.21,
          104.02,
          104.5,
          104.1,
          103.99,
          104.43,
          104.54,
          104.14,
          104.03,
          104.26,
          103.78,
          103.98,
          104,
          104.57,
          104.3,
          104.09,
          104.52,
          104.1,
          104.29,
          104.02,
          104.41,
          103.93,
          104.15,
          104.4,
          104.06,
          104.03,
          103.98,
          103.78,
          103.81,
          104.09,
          104.07,
          104.18,
          104.38,
          104.31,
          103.95,
          103.88,
          104.1,
          104.31,
          104.45,
          103.97,
          104.22,
          103.64,
          104.26,
          104.45,
          104.34,
          103.93,
          103.71,
          104.07,
          104.02,
          104.12,
          104.22,
          104.15,
          104.43,
          104.28,
          104.18,
          104.36,
          104.36,
          104.06,
          104.16,
          104.06,
          104.22,
          104.19,
          104.23,
          103.76,
          104.49,
          104.08,
          104.06,
          104,
          104.32,
          104.19,
          104.6,
          104.16,
          104.05,
          104.01,
          103.95,
          104.17,
          104.22,
          104.32,
          104.23,
          104.39,
          104.32,
          104.86,
          104.23,
          104.31,
          103.9,
          104.17,
          104.02,
          104.06,
          103.99,
          103.71,
          103.94,
          104.83,
          104.21,
          104.21,
          104.64,
          103.9,
          104.3,
          104.07,
          104.2,
          104.23,
          104.48,
          104.1,
          104.18,
          104.45,
          103.95,
          103.87,
          104.14,
          104.12,
          104.5,
          104.05,
          103.7,
          104.28,
          103.99,
          104.06,
          103.44,
          103.7,
          103.97,
          103.98,
          104.08,
          104.22,
          104.26,
          104.34,
          103.87,
          104.3,
          104.28,
          103.47,
          104.26,
          104.2,
          104.38,
          104.25,
          104.16,
          104.1,
          104.2,
          104.37,
          104.1,
          104.08,
          104.49,
          104.54,
          103.73,
          104.41,
          104.07,
          103.44,
          104.52,
          104.16,
          104.26,
          104.3,
          104.05,
          103.93,
          104.5,
          104.72,
          103.91,
          104.41,
          104.09,
          104.73,
          104.44,
          104.22,
          104.23,
          103.83,
          104.36,
          104.23,
          103.8,
          104.76,
          104.17,
          104.17,
          104.05,
          104.31,
          103.96,
          104.28,
          104.27,
          104.73,
          103.86,
          104.31,
          103.68,
          104.03,
          104.11,
          104.35,
          104.65,
          104.29,
          103.74,
          103.69,
          104.04,
          103.55,
          104.33,
          104.56,
          104.41,
          104.01,
          104.03,
          104.5,
          104.32,
          104.25,
          103.8,
          104.35,
          104.23,
          104.43,
          104.09,
          104.41,
          103.85,
          103.9,
          104.29,
          104.19,
          103.85,
          103.81,
          104.44,
          104.12,
          103.98,
          104.1,
          104.06,
          103.62,
          103.64,
          104.15,
          104.17,
          103.81,
          103.98,
          104.49,
          103.58,
          103.75,
          104.47,
          104.28,
          104.53,
          103.82,
          104.48,
          104.31,
          103.91,
          104.28,
          104.37,
          103.87,
          103.83,
          103.93,
          104.65,
          104.37,
          104.4,
          103.73,
          103.83,
          104.12,
          104.04,
          104.33,
          103.95,
          104.19,
          104,
          104.21,
          104.66,
          104.53,
          103.85,
          104.58,
          104.95,
          104.17,
          103.85,
          103.89,
          103.93,
          104.15,
          104.05,
          104.54,
          104.4,
          104.61,
          104.14,
          104.17,
          104.44,
          104.12,
          104.06,
          103.82
         ]
        }
       ],
       "layout": {
        "barmode": "overlay",
        "legend": {
         "bgcolor": "#F5F6F9",
         "font": {
          "color": "#4D5663"
         }
        },
        "paper_bgcolor": "#F5F6F9",
        "plot_bgcolor": "#F5F6F9",
        "template": {
         "data": {
          "bar": [
           {
            "error_x": {
             "color": "#2a3f5f"
            },
            "error_y": {
             "color": "#2a3f5f"
            },
            "marker": {
             "line": {
              "color": "#E5ECF6",
              "width": 0.5
             },
             "pattern": {
              "fillmode": "overlay",
              "size": 10,
              "solidity": 0.2
             }
            },
            "type": "bar"
           }
          ],
          "barpolar": [
           {
            "marker": {
             "line": {
              "color": "#E5ECF6",
              "width": 0.5
             },
             "pattern": {
              "fillmode": "overlay",
              "size": 10,
              "solidity": 0.2
             }
            },
            "type": "barpolar"
           }
          ],
          "carpet": [
           {
            "aaxis": {
             "endlinecolor": "#2a3f5f",
             "gridcolor": "white",
             "linecolor": "white",
             "minorgridcolor": "white",
             "startlinecolor": "#2a3f5f"
            },
            "baxis": {
             "endlinecolor": "#2a3f5f",
             "gridcolor": "white",
             "linecolor": "white",
             "minorgridcolor": "white",
             "startlinecolor": "#2a3f5f"
            },
            "type": "carpet"
           }
          ],
          "choropleth": [
           {
            "colorbar": {
             "outlinewidth": 0,
             "ticks": ""
            },
            "type": "choropleth"
           }
          ],
          "contour": [
           {
            "colorbar": {
             "outlinewidth": 0,
             "ticks": ""
            },
            "colorscale": [
             [
              0,
              "#0d0887"
             ],
             [
              0.1111111111111111,
              "#46039f"
             ],
             [
              0.2222222222222222,
              "#7201a8"
             ],
             [
              0.3333333333333333,
              "#9c179e"
             ],
             [
              0.4444444444444444,
              "#bd3786"
             ],
             [
              0.5555555555555556,
              "#d8576b"
             ],
             [
              0.6666666666666666,
              "#ed7953"
             ],
             [
              0.7777777777777778,
              "#fb9f3a"
             ],
             [
              0.8888888888888888,
              "#fdca26"
             ],
             [
              1,
              "#f0f921"
             ]
            ],
            "type": "contour"
           }
          ],
          "contourcarpet": [
           {
            "colorbar": {
             "outlinewidth": 0,
             "ticks": ""
            },
            "type": "contourcarpet"
           }
          ],
          "heatmap": [
           {
            "colorbar": {
             "outlinewidth": 0,
             "ticks": ""
            },
            "colorscale": [
             [
              0,
              "#0d0887"
             ],
             [
              0.1111111111111111,
              "#46039f"
             ],
             [
              0.2222222222222222,
              "#7201a8"
             ],
             [
              0.3333333333333333,
              "#9c179e"
             ],
             [
              0.4444444444444444,
              "#bd3786"
             ],
             [
              0.5555555555555556,
              "#d8576b"
             ],
             [
              0.6666666666666666,
              "#ed7953"
             ],
             [
              0.7777777777777778,
              "#fb9f3a"
             ],
             [
              0.8888888888888888,
              "#fdca26"
             ],
             [
              1,
              "#f0f921"
             ]
            ],
            "type": "heatmap"
           }
          ],
          "heatmapgl": [
           {
            "colorbar": {
             "outlinewidth": 0,
             "ticks": ""
            },
            "colorscale": [
             [
              0,
              "#0d0887"
             ],
             [
              0.1111111111111111,
              "#46039f"
             ],
             [
              0.2222222222222222,
              "#7201a8"
             ],
             [
              0.3333333333333333,
              "#9c179e"
             ],
             [
              0.4444444444444444,
              "#bd3786"
             ],
             [
              0.5555555555555556,
              "#d8576b"
             ],
             [
              0.6666666666666666,
              "#ed7953"
             ],
             [
              0.7777777777777778,
              "#fb9f3a"
             ],
             [
              0.8888888888888888,
              "#fdca26"
             ],
             [
              1,
              "#f0f921"
             ]
            ],
            "type": "heatmapgl"
           }
          ],
          "histogram": [
           {
            "marker": {
             "pattern": {
              "fillmode": "overlay",
              "size": 10,
              "solidity": 0.2
             }
            },
            "type": "histogram"
           }
          ],
          "histogram2d": [
           {
            "colorbar": {
             "outlinewidth": 0,
             "ticks": ""
            },
            "colorscale": [
             [
              0,
              "#0d0887"
             ],
             [
              0.1111111111111111,
              "#46039f"
             ],
             [
              0.2222222222222222,
              "#7201a8"
             ],
             [
              0.3333333333333333,
              "#9c179e"
             ],
             [
              0.4444444444444444,
              "#bd3786"
             ],
             [
              0.5555555555555556,
              "#d8576b"
             ],
             [
              0.6666666666666666,
              "#ed7953"
             ],
             [
              0.7777777777777778,
              "#fb9f3a"
             ],
             [
              0.8888888888888888,
              "#fdca26"
             ],
             [
              1,
              "#f0f921"
             ]
            ],
            "type": "histogram2d"
           }
          ],
          "histogram2dcontour": [
           {
            "colorbar": {
             "outlinewidth": 0,
             "ticks": ""
            },
            "colorscale": [
             [
              0,
              "#0d0887"
             ],
             [
              0.1111111111111111,
              "#46039f"
             ],
             [
              0.2222222222222222,
              "#7201a8"
             ],
             [
              0.3333333333333333,
              "#9c179e"
             ],
             [
              0.4444444444444444,
              "#bd3786"
             ],
             [
              0.5555555555555556,
              "#d8576b"
             ],
             [
              0.6666666666666666,
              "#ed7953"
             ],
             [
              0.7777777777777778,
              "#fb9f3a"
             ],
             [
              0.8888888888888888,
              "#fdca26"
             ],
             [
              1,
              "#f0f921"
             ]
            ],
            "type": "histogram2dcontour"
           }
          ],
          "mesh3d": [
           {
            "colorbar": {
             "outlinewidth": 0,
             "ticks": ""
            },
            "type": "mesh3d"
           }
          ],
          "parcoords": [
           {
            "line": {
             "colorbar": {
              "outlinewidth": 0,
              "ticks": ""
             }
            },
            "type": "parcoords"
           }
          ],
          "pie": [
           {
            "automargin": true,
            "type": "pie"
           }
          ],
          "scatter": [
           {
            "fillpattern": {
             "fillmode": "overlay",
             "size": 10,
             "solidity": 0.2
            },
            "type": "scatter"
           }
          ],
          "scatter3d": [
           {
            "line": {
             "colorbar": {
              "outlinewidth": 0,
              "ticks": ""
             }
            },
            "marker": {
             "colorbar": {
              "outlinewidth": 0,
              "ticks": ""
             }
            },
            "type": "scatter3d"
           }
          ],
          "scattercarpet": [
           {
            "marker": {
             "colorbar": {
              "outlinewidth": 0,
              "ticks": ""
             }
            },
            "type": "scattercarpet"
           }
          ],
          "scattergeo": [
           {
            "marker": {
             "colorbar": {
              "outlinewidth": 0,
              "ticks": ""
             }
            },
            "type": "scattergeo"
           }
          ],
          "scattergl": [
           {
            "marker": {
             "colorbar": {
              "outlinewidth": 0,
              "ticks": ""
             }
            },
            "type": "scattergl"
           }
          ],
          "scattermapbox": [
           {
            "marker": {
             "colorbar": {
              "outlinewidth": 0,
              "ticks": ""
             }
            },
            "type": "scattermapbox"
           }
          ],
          "scatterpolar": [
           {
            "marker": {
             "colorbar": {
              "outlinewidth": 0,
              "ticks": ""
             }
            },
            "type": "scatterpolar"
           }
          ],
          "scatterpolargl": [
           {
            "marker": {
             "colorbar": {
              "outlinewidth": 0,
              "ticks": ""
             }
            },
            "type": "scatterpolargl"
           }
          ],
          "scatterternary": [
           {
            "marker": {
             "colorbar": {
              "outlinewidth": 0,
              "ticks": ""
             }
            },
            "type": "scatterternary"
           }
          ],
          "surface": [
           {
            "colorbar": {
             "outlinewidth": 0,
             "ticks": ""
            },
            "colorscale": [
             [
              0,
              "#0d0887"
             ],
             [
              0.1111111111111111,
              "#46039f"
             ],
             [
              0.2222222222222222,
              "#7201a8"
             ],
             [
              0.3333333333333333,
              "#9c179e"
             ],
             [
              0.4444444444444444,
              "#bd3786"
             ],
             [
              0.5555555555555556,
              "#d8576b"
             ],
             [
              0.6666666666666666,
              "#ed7953"
             ],
             [
              0.7777777777777778,
              "#fb9f3a"
             ],
             [
              0.8888888888888888,
              "#fdca26"
             ],
             [
              1,
              "#f0f921"
             ]
            ],
            "type": "surface"
           }
          ],
          "table": [
           {
            "cells": {
             "fill": {
              "color": "#EBF0F8"
             },
             "line": {
              "color": "white"
             }
            },
            "header": {
             "fill": {
              "color": "#C8D4E3"
             },
             "line": {
              "color": "white"
             }
            },
            "type": "table"
           }
          ]
         },
         "layout": {
          "annotationdefaults": {
           "arrowcolor": "#2a3f5f",
           "arrowhead": 0,
           "arrowwidth": 1
          },
          "autotypenumbers": "strict",
          "coloraxis": {
           "colorbar": {
            "outlinewidth": 0,
            "ticks": ""
           }
          },
          "colorscale": {
           "diverging": [
            [
             0,
             "#8e0152"
            ],
            [
             0.1,
             "#c51b7d"
            ],
            [
             0.2,
             "#de77ae"
            ],
            [
             0.3,
             "#f1b6da"
            ],
            [
             0.4,
             "#fde0ef"
            ],
            [
             0.5,
             "#f7f7f7"
            ],
            [
             0.6,
             "#e6f5d0"
            ],
            [
             0.7,
             "#b8e186"
            ],
            [
             0.8,
             "#7fbc41"
            ],
            [
             0.9,
             "#4d9221"
            ],
            [
             1,
             "#276419"
            ]
           ],
           "sequential": [
            [
             0,
             "#0d0887"
            ],
            [
             0.1111111111111111,
             "#46039f"
            ],
            [
             0.2222222222222222,
             "#7201a8"
            ],
            [
             0.3333333333333333,
             "#9c179e"
            ],
            [
             0.4444444444444444,
             "#bd3786"
            ],
            [
             0.5555555555555556,
             "#d8576b"
            ],
            [
             0.6666666666666666,
             "#ed7953"
            ],
            [
             0.7777777777777778,
             "#fb9f3a"
            ],
            [
             0.8888888888888888,
             "#fdca26"
            ],
            [
             1,
             "#f0f921"
            ]
           ],
           "sequentialminus": [
            [
             0,
             "#0d0887"
            ],
            [
             0.1111111111111111,
             "#46039f"
            ],
            [
             0.2222222222222222,
             "#7201a8"
            ],
            [
             0.3333333333333333,
             "#9c179e"
            ],
            [
             0.4444444444444444,
             "#bd3786"
            ],
            [
             0.5555555555555556,
             "#d8576b"
            ],
            [
             0.6666666666666666,
             "#ed7953"
            ],
            [
             0.7777777777777778,
             "#fb9f3a"
            ],
            [
             0.8888888888888888,
             "#fdca26"
            ],
            [
             1,
             "#f0f921"
            ]
           ]
          },
          "colorway": [
           "#636efa",
           "#EF553B",
           "#00cc96",
           "#ab63fa",
           "#FFA15A",
           "#19d3f3",
           "#FF6692",
           "#B6E880",
           "#FF97FF",
           "#FECB52"
          ],
          "font": {
           "color": "#2a3f5f"
          },
          "geo": {
           "bgcolor": "white",
           "lakecolor": "white",
           "landcolor": "#E5ECF6",
           "showlakes": true,
           "showland": true,
           "subunitcolor": "white"
          },
          "hoverlabel": {
           "align": "left"
          },
          "hovermode": "closest",
          "mapbox": {
           "style": "light"
          },
          "paper_bgcolor": "white",
          "plot_bgcolor": "#E5ECF6",
          "polar": {
           "angularaxis": {
            "gridcolor": "white",
            "linecolor": "white",
            "ticks": ""
           },
           "bgcolor": "#E5ECF6",
           "radialaxis": {
            "gridcolor": "white",
            "linecolor": "white",
            "ticks": ""
           }
          },
          "scene": {
           "xaxis": {
            "backgroundcolor": "#E5ECF6",
            "gridcolor": "white",
            "gridwidth": 2,
            "linecolor": "white",
            "showbackground": true,
            "ticks": "",
            "zerolinecolor": "white"
           },
           "yaxis": {
            "backgroundcolor": "#E5ECF6",
            "gridcolor": "white",
            "gridwidth": 2,
            "linecolor": "white",
            "showbackground": true,
            "ticks": "",
            "zerolinecolor": "white"
           },
           "zaxis": {
            "backgroundcolor": "#E5ECF6",
            "gridcolor": "white",
            "gridwidth": 2,
            "linecolor": "white",
            "showbackground": true,
            "ticks": "",
            "zerolinecolor": "white"
           }
          },
          "shapedefaults": {
           "line": {
            "color": "#2a3f5f"
           }
          },
          "ternary": {
           "aaxis": {
            "gridcolor": "white",
            "linecolor": "white",
            "ticks": ""
           },
           "baxis": {
            "gridcolor": "white",
            "linecolor": "white",
            "ticks": ""
           },
           "bgcolor": "#E5ECF6",
           "caxis": {
            "gridcolor": "white",
            "linecolor": "white",
            "ticks": ""
           }
          },
          "title": {
           "x": 0.05
          },
          "xaxis": {
           "automargin": true,
           "gridcolor": "white",
           "linecolor": "white",
           "ticks": "",
           "title": {
            "standoff": 15
           },
           "zerolinecolor": "white",
           "zerolinewidth": 2
          },
          "yaxis": {
           "automargin": true,
           "gridcolor": "white",
           "linecolor": "white",
           "ticks": "",
           "title": {
            "standoff": 15
           },
           "zerolinecolor": "white",
           "zerolinewidth": 2
          }
         }
        },
        "title": {
         "font": {
          "color": "#4D5663"
         },
         "text": "Distribution of height_right"
        },
        "xaxis": {
         "gridcolor": "#E1E5ED",
         "showgrid": true,
         "tickfont": {
          "color": "#4D5663"
         },
         "title": {
          "font": {
           "color": "#4D5663"
          },
          "text": "height_right"
         },
         "zerolinecolor": "#E1E5ED"
        },
        "yaxis": {
         "gridcolor": "#E1E5ED",
         "showgrid": true,
         "tickfont": {
          "color": "#4D5663"
         },
         "title": {
          "font": {
           "color": "#4D5663"
          },
          "text": "Count"
         },
         "zerolinecolor": "#E1E5ED"
        }
       }
      },
      "text/html": [
       "<div>                            <div id=\"2079e731-aae5-4eee-889f-79a606a65e0b\" class=\"plotly-graph-div\" style=\"height:525px; width:100%;\"></div>            <script type=\"text/javascript\">                require([\"plotly\"], function(Plotly) {                    window.PLOTLYENV=window.PLOTLYENV || {};\n",
       "                    window.PLOTLYENV.BASE_URL='https://plot.ly';                                    if (document.getElementById(\"2079e731-aae5-4eee-889f-79a606a65e0b\")) {                    Plotly.newPlot(                        \"2079e731-aae5-4eee-889f-79a606a65e0b\",                        [{\"histfunc\":\"count\",\"histnorm\":\"\",\"marker\":{\"color\":\"rgba(255, 153, 51, 1.0)\",\"line\":{\"color\":\"#4D5663\",\"width\":1.3}},\"name\":\"height_right\",\"opacity\":0.8,\"orientation\":\"v\",\"x\":[104.95,103.66,103.5,103.94,103.46,104.08,103.85,104.08,103.67,104.02,103.62,104.0,103.4,103.67,103.83,103.74,103.7,103.45,104.14,103.15,103.96,103.64,103.71,103.62,103.89,103.33,103.7,103.74,104.16,103.79,103.97,103.61,103.9,103.88,104.44,103.65,104.06,104.19,104.27,104.19,104.55,103.82,103.33,103.85,103.76,103.63,104.42,103.93,103.82,103.61,103.82,104.09,103.78,103.47,103.8,103.64,103.93,104.07,103.86,103.88,103.86,104.22,103.84,103.57,103.94,103.96,104.27,103.66,103.74,103.76,103.66,103.98,103.45,103.59,103.79,103.7,103.55,103.03,103.61,103.57,103.35,103.27,103.85,103.86,103.91,103.71,103.89,103.4,103.56,103.82,103.61,104.5,103.35,103.98,103.76,103.82,103.91,103.99,103.62,104.18,103.87,103.69,103.89,103.98,103.81,103.9,103.75,104.06,104.14,103.95,103.44,103.58,103.74,104.05,103.69,103.46,103.71,104.01,103.36,103.28,103.61,103.75,103.92,103.85,104.12,103.97,103.98,104.07,103.85,103.67,103.54,103.78,103.98,103.28,103.96,103.85,103.59,103.9,104.02,103.52,103.59,104.23,103.8,103.79,103.78,103.83,103.88,103.67,104.04,103.6,104.57,104.38,104.04,103.67,103.7,103.85,103.4,104.08,103.76,103.92,103.6,103.78,104.26,103.45,104.4,103.76,103.51,103.97,103.99,103.89,103.71,103.52,103.56,103.9,103.17,103.88,102.97,103.5,104.04,103.94,103.74,103.5,104.13,103.84,103.9,103.84,104.04,104.17,103.84,103.54,103.77,103.62,103.55,102.95,103.99,103.81,103.73,103.8,103.75,104.02,103.41,104.19,104.02,104.04,103.31,104.02,103.14,103.93,104.08,103.97,103.66,103.69,103.85,103.87,103.79,103.66,103.09,103.52,103.71,103.8,103.8,103.6,103.7,103.82,103.92,104.16,103.83,104.1,103.78,103.97,104.0,104.0,104.06,103.2,104.2,103.32,104.16,104.03,103.97,103.9,104.09,104.06,103.78,104.33,103.58,103.59,103.99,104.32,104.02,103.7,104.11,102.82,104.07,104.33,103.87,103.47,103.55,104.25,103.78,103.78,103.64,103.53,103.81,103.42,104.1,103.94,103.8,103.42,104.01,103.72,104.33,103.88,104.11,103.54,104.1,103.72,103.71,104.17,103.5,103.55,103.63,104.21,103.74,103.89,103.76,103.86,104.12,104.15,103.57,103.94,103.81,104.11,103.81,103.83,103.81,103.56,104.03,104.32,104.13,103.82,104.01,103.95,104.11,103.79,103.85,103.66,103.43,103.67,104.02,103.76,104.16,103.63,103.7,104.01,104.18,103.43,103.81,103.49,103.99,104.14,104.43,103.78,103.91,103.68,103.6,103.35,103.82,104.08,104.17,104.04,104.18,104.09,103.8,103.9,103.96,103.67,103.87,103.95,103.94,104.15,104.03,104.21,103.84,103.88,103.28,103.49,103.74,103.54,104.23,103.48,103.4,103.73,104.15,103.23,104.14,104.09,104.02,104.15,104.09,103.68,104.01,103.82,104.05,103.6,103.25,104.03,103.75,104.02,104.21,103.53,104.02,103.97,103.99,103.81,103.52,103.06,103.38,103.71,103.66,103.93,103.91,103.36,103.8,103.72,103.24,103.9,103.64,104.58,103.73,103.86,103.44,104.27,103.95,104.14,103.43,103.83,103.92,103.53,103.53,104.06,103.75,104.17,104.03,103.68,103.93,103.83,104.18,103.99,104.39,103.72,103.51,103.71,103.86,103.5,103.89,104.1,104.25,104.18,103.97,103.96,103.45,103.73,103.63,104.07,103.89,103.98,103.5,104.21,103.93,104.22,103.93,103.56,104.3,103.36,103.99,103.77,104.31,103.59,103.67,103.46,104.4,104.35,104.19,103.41,103.46,103.22,103.5,104.33,103.69,103.93,103.13,103.54,103.47,103.78,104.46,104.2,103.62,103.94,103.55,103.97,103.71,103.77,103.93,103.59,103.34,104.51,103.91,103.57,104.0,103.7,103.92,103.13,104.24,103.86,103.76,103.64,104.08,103.64,103.54,103.27,103.64,103.96,103.75,103.65,103.88,103.58,103.59,103.81,104.02,103.44,103.6,103.56,103.79,104.04,104.03,103.43,104.0,103.5,103.68,103.55,103.87,103.69,103.98,103.85,103.6,104.05,103.55,104.11,103.95,103.85,104.27,104.16,103.73,103.69,103.41,103.78,103.73,103.51,103.76,103.33,104.22,103.57,102.91,103.8,103.9,103.6,103.9,103.34,103.6,103.27,103.38,103.98,103.95,103.8,103.88,103.89,103.81,104.06,103.49,103.55,103.84,103.83,103.45,103.72,103.59,104.14,103.91,103.75,103.47,104.18,103.37,104.09,103.8,103.4,103.89,104.1,103.91,103.74,103.94,103.77,103.79,103.97,103.79,104.11,104.36,103.35,103.76,103.64,104.07,103.78,103.85,103.99,104.22,104.2,103.58,103.57,104.0,103.26,103.82,104.01,104.01,104.27,104.22,103.98,103.96,103.82,103.97,103.52,104.24,104.05,104.17,103.76,103.44,104.42,103.83,103.87,103.9,104.28,103.94,103.32,103.74,104.07,104.14,103.42,103.89,103.87,103.96,103.62,103.66,103.99,103.67,103.49,103.76,103.72,103.88,103.81,103.85,103.67,103.55,103.99,103.82,103.51,104.33,104.03,103.39,104.1,104.08,103.74,103.49,103.67,104.03,103.97,104.16,103.98,103.49,104.01,103.14,103.36,103.69,103.52,103.77,103.25,103.74,103.71,103.78,103.85,103.64,103.51,104.06,103.99,104.14,103.58,103.52,103.55,103.54,103.9,103.84,103.79,103.81,103.38,104.0,104.62,103.76,103.65,103.75,104.44,103.8,103.37,103.75,104.2,104.22,103.67,103.69,103.76,103.76,103.91,104.13,103.76,103.66,104.0,103.4,103.98,103.97,104.01,103.85,104.37,104.06,104.26,103.43,103.49,103.54,103.46,103.91,104.26,103.6,103.86,103.47,104.07,104.11,103.34,103.97,103.59,104.21,103.68,103.4,104.02,103.89,104.03,103.43,103.82,103.86,104.12,103.99,103.5,103.87,103.31,103.9,103.93,103.77,103.61,103.59,103.61,103.93,103.89,104.06,103.34,103.48,103.81,104.16,103.64,103.62,104.17,103.66,103.75,103.43,104.06,103.53,103.85,103.56,103.76,103.68,103.29,103.96,104.17,103.72,103.76,103.31,103.92,103.79,103.48,103.73,104.18,104.19,104.29,103.69,103.81,104.11,103.79,103.94,103.53,103.89,103.04,103.57,103.65,103.94,103.79,103.74,104.03,103.26,103.31,103.8,103.74,104.08,103.53,103.91,103.87,104.41,103.98,103.92,103.62,103.79,103.72,104.16,104.14,103.94,103.61,103.54,103.49,103.76,103.72,104.05,103.8,103.98,103.41,103.87,103.8,104.17,104.04,103.62,103.79,103.67,104.62,103.58,104.5,103.29,103.16,103.76,103.96,104.02,103.48,103.31,103.8,103.82,103.99,103.22,103.56,103.93,103.55,103.52,103.74,103.5,103.94,103.56,103.5,103.83,103.49,103.74,103.9,103.94,103.73,103.85,103.8,103.58,103.43,104.34,104.1,103.74,103.76,103.19,103.85,103.79,103.08,104.24,103.73,104.49,104.05,103.88,103.83,103.56,104.13,103.39,103.72,103.66,103.83,103.52,103.58,103.77,104.12,104.1,103.45,103.99,103.74,103.13,103.37,104.31,103.91,103.59,103.19,104.05,103.79,103.98,103.75,103.5,103.82,103.91,103.28,103.67,103.91,103.59,104.06,104.1,103.83,103.63,103.26,103.65,103.99,103.29,104.08,103.67,103.89,104.18,103.59,104.17,103.78,104.22,103.8,103.47,103.83,103.9,104.05,104.25,103.7,104.04,104.21,103.78,104.55,104.33,103.88,103.86,103.48,103.88,104.15,103.49,103.83,103.37,104.09,104.07,103.42,104.03,103.45,103.96,104.76,103.52,104.32,104.39,103.84,103.89,103.81,103.76,103.69,103.7,103.92,103.94,103.81,104.32,103.75,103.37,103.76,104.17,103.7,103.69,104.17,103.78,103.77,103.41,103.52,104.66,103.94,103.83,103.93,103.74,103.8,103.88,104.16,103.59,103.69,103.8,104.36,103.32,103.53,104.07,104.0,103.65,103.25,103.57,104.16,104.17,103.75,103.76,103.06,103.73,104.06,103.54,103.9,103.47,104.26,103.72,104.14,104.3,104.07,104.49,103.72,103.42,103.66,103.63,104.02,103.83,103.84,103.84,103.68,103.6,103.53,103.68,103.51,103.83,103.47,103.61,104.22,103.92,103.58,103.91,104.3,104.38,104.33,104.23,104.18,104.25,104.52,103.9,103.96,103.94,104.24,104.18,103.59,103.86,104.29,104.33,104.18,103.87,104.44,104.3,103.57,104.03,104.2,104.31,104.13,103.96,104.66,103.93,104.03,104.48,103.82,104.41,103.8,104.35,104.14,104.67,103.83,103.96,104.33,104.16,104.42,104.21,103.8,103.83,103.94,104.04,104.27,104.47,104.49,103.75,104.77,104.16,104.05,103.92,104.08,104.66,104.37,104.28,104.4,104.58,104.16,103.96,104.04,104.44,103.82,103.93,104.16,104.38,104.41,104.22,103.98,104.42,103.82,103.76,103.69,104.44,104.06,104.28,104.24,104.29,103.67,103.83,103.82,103.94,103.5,104.15,103.86,104.62,104.26,104.1,104.4,104.02,103.94,103.43,103.92,103.82,104.17,104.36,104.01,103.92,103.87,103.74,103.75,103.69,104.47,103.9,104.31,103.94,104.31,104.07,103.96,104.31,104.19,104.2,104.37,104.12,104.14,104.22,104.35,104.24,104.19,104.17,103.58,104.27,103.87,104.1,104.03,103.67,104.68,104.19,103.44,103.81,103.67,104.41,103.93,103.93,103.76,104.12,104.09,104.2,104.35,104.22,104.64,104.18,103.97,103.81,104.02,104.43,104.01,104.34,104.05,103.92,104.4,103.94,104.31,103.58,104.27,104.18,104.03,104.32,104.27,104.36,103.83,104.19,104.14,104.52,104.07,103.76,104.15,103.85,103.81,103.54,104.31,104.12,103.92,103.94,104.21,104.46,103.89,104.29,103.93,104.56,103.92,103.73,104.56,104.43,103.99,104.31,104.14,104.18,104.51,104.08,103.95,104.15,104.13,104.27,103.65,104.11,104.87,104.25,103.69,103.98,104.19,104.54,104.58,104.47,104.14,103.82,104.23,104.8,104.09,104.4,104.19,103.99,104.42,104.51,104.29,103.71,104.13,104.24,104.24,103.81,104.66,104.23,104.24,104.29,103.95,103.68,104.1,103.77,104.15,104.59,104.0,103.88,104.35,104.19,104.36,104.16,104.06,104.21,104.02,104.5,104.1,103.99,104.43,104.54,104.14,104.03,104.26,103.78,103.98,104.0,104.57,104.3,104.09,104.52,104.1,104.29,104.02,104.41,103.93,104.15,104.4,104.06,104.03,103.98,103.78,103.81,104.09,104.07,104.18,104.38,104.31,103.95,103.88,104.1,104.31,104.45,103.97,104.22,103.64,104.26,104.45,104.34,103.93,103.71,104.07,104.02,104.12,104.22,104.15,104.43,104.28,104.18,104.36,104.36,104.06,104.16,104.06,104.22,104.19,104.23,103.76,104.49,104.08,104.06,104.0,104.32,104.19,104.6,104.16,104.05,104.01,103.95,104.17,104.22,104.32,104.23,104.39,104.32,104.86,104.23,104.31,103.9,104.17,104.02,104.06,103.99,103.71,103.94,104.83,104.21,104.21,104.64,103.9,104.3,104.07,104.2,104.23,104.48,104.1,104.18,104.45,103.95,103.87,104.14,104.12,104.5,104.05,103.7,104.28,103.99,104.06,103.44,103.7,103.97,103.98,104.08,104.22,104.26,104.34,103.87,104.3,104.28,103.47,104.26,104.2,104.38,104.25,104.16,104.1,104.2,104.37,104.1,104.08,104.49,104.54,103.73,104.41,104.07,103.44,104.52,104.16,104.26,104.3,104.05,103.93,104.5,104.72,103.91,104.41,104.09,104.73,104.44,104.22,104.23,103.83,104.36,104.23,103.8,104.76,104.17,104.17,104.05,104.31,103.96,104.28,104.27,104.73,103.86,104.31,103.68,104.03,104.11,104.35,104.65,104.29,103.74,103.69,104.04,103.55,104.33,104.56,104.41,104.01,104.03,104.5,104.32,104.25,103.8,104.35,104.23,104.43,104.09,104.41,103.85,103.9,104.29,104.19,103.85,103.81,104.44,104.12,103.98,104.1,104.06,103.62,103.64,104.15,104.17,103.81,103.98,104.49,103.58,103.75,104.47,104.28,104.53,103.82,104.48,104.31,103.91,104.28,104.37,103.87,103.83,103.93,104.65,104.37,104.4,103.73,103.83,104.12,104.04,104.33,103.95,104.19,104.0,104.21,104.66,104.53,103.85,104.58,104.95,104.17,103.85,103.89,103.93,104.15,104.05,104.54,104.4,104.61,104.14,104.17,104.44,104.12,104.06,103.82],\"type\":\"histogram\"}],                        {\"barmode\":\"overlay\",\"legend\":{\"bgcolor\":\"#F5F6F9\",\"font\":{\"color\":\"#4D5663\"}},\"paper_bgcolor\":\"#F5F6F9\",\"plot_bgcolor\":\"#F5F6F9\",\"template\":{\"data\":{\"barpolar\":[{\"marker\":{\"line\":{\"color\":\"#E5ECF6\",\"width\":0.5},\"pattern\":{\"fillmode\":\"overlay\",\"size\":10,\"solidity\":0.2}},\"type\":\"barpolar\"}],\"bar\":[{\"error_x\":{\"color\":\"#2a3f5f\"},\"error_y\":{\"color\":\"#2a3f5f\"},\"marker\":{\"line\":{\"color\":\"#E5ECF6\",\"width\":0.5},\"pattern\":{\"fillmode\":\"overlay\",\"size\":10,\"solidity\":0.2}},\"type\":\"bar\"}],\"carpet\":[{\"aaxis\":{\"endlinecolor\":\"#2a3f5f\",\"gridcolor\":\"white\",\"linecolor\":\"white\",\"minorgridcolor\":\"white\",\"startlinecolor\":\"#2a3f5f\"},\"baxis\":{\"endlinecolor\":\"#2a3f5f\",\"gridcolor\":\"white\",\"linecolor\":\"white\",\"minorgridcolor\":\"white\",\"startlinecolor\":\"#2a3f5f\"},\"type\":\"carpet\"}],\"choropleth\":[{\"colorbar\":{\"outlinewidth\":0,\"ticks\":\"\"},\"type\":\"choropleth\"}],\"contourcarpet\":[{\"colorbar\":{\"outlinewidth\":0,\"ticks\":\"\"},\"type\":\"contourcarpet\"}],\"contour\":[{\"colorbar\":{\"outlinewidth\":0,\"ticks\":\"\"},\"colorscale\":[[0.0,\"#0d0887\"],[0.1111111111111111,\"#46039f\"],[0.2222222222222222,\"#7201a8\"],[0.3333333333333333,\"#9c179e\"],[0.4444444444444444,\"#bd3786\"],[0.5555555555555556,\"#d8576b\"],[0.6666666666666666,\"#ed7953\"],[0.7777777777777778,\"#fb9f3a\"],[0.8888888888888888,\"#fdca26\"],[1.0,\"#f0f921\"]],\"type\":\"contour\"}],\"heatmapgl\":[{\"colorbar\":{\"outlinewidth\":0,\"ticks\":\"\"},\"colorscale\":[[0.0,\"#0d0887\"],[0.1111111111111111,\"#46039f\"],[0.2222222222222222,\"#7201a8\"],[0.3333333333333333,\"#9c179e\"],[0.4444444444444444,\"#bd3786\"],[0.5555555555555556,\"#d8576b\"],[0.6666666666666666,\"#ed7953\"],[0.7777777777777778,\"#fb9f3a\"],[0.8888888888888888,\"#fdca26\"],[1.0,\"#f0f921\"]],\"type\":\"heatmapgl\"}],\"heatmap\":[{\"colorbar\":{\"outlinewidth\":0,\"ticks\":\"\"},\"colorscale\":[[0.0,\"#0d0887\"],[0.1111111111111111,\"#46039f\"],[0.2222222222222222,\"#7201a8\"],[0.3333333333333333,\"#9c179e\"],[0.4444444444444444,\"#bd3786\"],[0.5555555555555556,\"#d8576b\"],[0.6666666666666666,\"#ed7953\"],[0.7777777777777778,\"#fb9f3a\"],[0.8888888888888888,\"#fdca26\"],[1.0,\"#f0f921\"]],\"type\":\"heatmap\"}],\"histogram2dcontour\":[{\"colorbar\":{\"outlinewidth\":0,\"ticks\":\"\"},\"colorscale\":[[0.0,\"#0d0887\"],[0.1111111111111111,\"#46039f\"],[0.2222222222222222,\"#7201a8\"],[0.3333333333333333,\"#9c179e\"],[0.4444444444444444,\"#bd3786\"],[0.5555555555555556,\"#d8576b\"],[0.6666666666666666,\"#ed7953\"],[0.7777777777777778,\"#fb9f3a\"],[0.8888888888888888,\"#fdca26\"],[1.0,\"#f0f921\"]],\"type\":\"histogram2dcontour\"}],\"histogram2d\":[{\"colorbar\":{\"outlinewidth\":0,\"ticks\":\"\"},\"colorscale\":[[0.0,\"#0d0887\"],[0.1111111111111111,\"#46039f\"],[0.2222222222222222,\"#7201a8\"],[0.3333333333333333,\"#9c179e\"],[0.4444444444444444,\"#bd3786\"],[0.5555555555555556,\"#d8576b\"],[0.6666666666666666,\"#ed7953\"],[0.7777777777777778,\"#fb9f3a\"],[0.8888888888888888,\"#fdca26\"],[1.0,\"#f0f921\"]],\"type\":\"histogram2d\"}],\"histogram\":[{\"marker\":{\"pattern\":{\"fillmode\":\"overlay\",\"size\":10,\"solidity\":0.2}},\"type\":\"histogram\"}],\"mesh3d\":[{\"colorbar\":{\"outlinewidth\":0,\"ticks\":\"\"},\"type\":\"mesh3d\"}],\"parcoords\":[{\"line\":{\"colorbar\":{\"outlinewidth\":0,\"ticks\":\"\"}},\"type\":\"parcoords\"}],\"pie\":[{\"automargin\":true,\"type\":\"pie\"}],\"scatter3d\":[{\"line\":{\"colorbar\":{\"outlinewidth\":0,\"ticks\":\"\"}},\"marker\":{\"colorbar\":{\"outlinewidth\":0,\"ticks\":\"\"}},\"type\":\"scatter3d\"}],\"scattercarpet\":[{\"marker\":{\"colorbar\":{\"outlinewidth\":0,\"ticks\":\"\"}},\"type\":\"scattercarpet\"}],\"scattergeo\":[{\"marker\":{\"colorbar\":{\"outlinewidth\":0,\"ticks\":\"\"}},\"type\":\"scattergeo\"}],\"scattergl\":[{\"marker\":{\"colorbar\":{\"outlinewidth\":0,\"ticks\":\"\"}},\"type\":\"scattergl\"}],\"scattermapbox\":[{\"marker\":{\"colorbar\":{\"outlinewidth\":0,\"ticks\":\"\"}},\"type\":\"scattermapbox\"}],\"scatterpolargl\":[{\"marker\":{\"colorbar\":{\"outlinewidth\":0,\"ticks\":\"\"}},\"type\":\"scatterpolargl\"}],\"scatterpolar\":[{\"marker\":{\"colorbar\":{\"outlinewidth\":0,\"ticks\":\"\"}},\"type\":\"scatterpolar\"}],\"scatter\":[{\"fillpattern\":{\"fillmode\":\"overlay\",\"size\":10,\"solidity\":0.2},\"type\":\"scatter\"}],\"scatterternary\":[{\"marker\":{\"colorbar\":{\"outlinewidth\":0,\"ticks\":\"\"}},\"type\":\"scatterternary\"}],\"surface\":[{\"colorbar\":{\"outlinewidth\":0,\"ticks\":\"\"},\"colorscale\":[[0.0,\"#0d0887\"],[0.1111111111111111,\"#46039f\"],[0.2222222222222222,\"#7201a8\"],[0.3333333333333333,\"#9c179e\"],[0.4444444444444444,\"#bd3786\"],[0.5555555555555556,\"#d8576b\"],[0.6666666666666666,\"#ed7953\"],[0.7777777777777778,\"#fb9f3a\"],[0.8888888888888888,\"#fdca26\"],[1.0,\"#f0f921\"]],\"type\":\"surface\"}],\"table\":[{\"cells\":{\"fill\":{\"color\":\"#EBF0F8\"},\"line\":{\"color\":\"white\"}},\"header\":{\"fill\":{\"color\":\"#C8D4E3\"},\"line\":{\"color\":\"white\"}},\"type\":\"table\"}]},\"layout\":{\"annotationdefaults\":{\"arrowcolor\":\"#2a3f5f\",\"arrowhead\":0,\"arrowwidth\":1},\"autotypenumbers\":\"strict\",\"coloraxis\":{\"colorbar\":{\"outlinewidth\":0,\"ticks\":\"\"}},\"colorscale\":{\"diverging\":[[0,\"#8e0152\"],[0.1,\"#c51b7d\"],[0.2,\"#de77ae\"],[0.3,\"#f1b6da\"],[0.4,\"#fde0ef\"],[0.5,\"#f7f7f7\"],[0.6,\"#e6f5d0\"],[0.7,\"#b8e186\"],[0.8,\"#7fbc41\"],[0.9,\"#4d9221\"],[1,\"#276419\"]],\"sequential\":[[0.0,\"#0d0887\"],[0.1111111111111111,\"#46039f\"],[0.2222222222222222,\"#7201a8\"],[0.3333333333333333,\"#9c179e\"],[0.4444444444444444,\"#bd3786\"],[0.5555555555555556,\"#d8576b\"],[0.6666666666666666,\"#ed7953\"],[0.7777777777777778,\"#fb9f3a\"],[0.8888888888888888,\"#fdca26\"],[1.0,\"#f0f921\"]],\"sequentialminus\":[[0.0,\"#0d0887\"],[0.1111111111111111,\"#46039f\"],[0.2222222222222222,\"#7201a8\"],[0.3333333333333333,\"#9c179e\"],[0.4444444444444444,\"#bd3786\"],[0.5555555555555556,\"#d8576b\"],[0.6666666666666666,\"#ed7953\"],[0.7777777777777778,\"#fb9f3a\"],[0.8888888888888888,\"#fdca26\"],[1.0,\"#f0f921\"]]},\"colorway\":[\"#636efa\",\"#EF553B\",\"#00cc96\",\"#ab63fa\",\"#FFA15A\",\"#19d3f3\",\"#FF6692\",\"#B6E880\",\"#FF97FF\",\"#FECB52\"],\"font\":{\"color\":\"#2a3f5f\"},\"geo\":{\"bgcolor\":\"white\",\"lakecolor\":\"white\",\"landcolor\":\"#E5ECF6\",\"showlakes\":true,\"showland\":true,\"subunitcolor\":\"white\"},\"hoverlabel\":{\"align\":\"left\"},\"hovermode\":\"closest\",\"mapbox\":{\"style\":\"light\"},\"paper_bgcolor\":\"white\",\"plot_bgcolor\":\"#E5ECF6\",\"polar\":{\"angularaxis\":{\"gridcolor\":\"white\",\"linecolor\":\"white\",\"ticks\":\"\"},\"bgcolor\":\"#E5ECF6\",\"radialaxis\":{\"gridcolor\":\"white\",\"linecolor\":\"white\",\"ticks\":\"\"}},\"scene\":{\"xaxis\":{\"backgroundcolor\":\"#E5ECF6\",\"gridcolor\":\"white\",\"gridwidth\":2,\"linecolor\":\"white\",\"showbackground\":true,\"ticks\":\"\",\"zerolinecolor\":\"white\"},\"yaxis\":{\"backgroundcolor\":\"#E5ECF6\",\"gridcolor\":\"white\",\"gridwidth\":2,\"linecolor\":\"white\",\"showbackground\":true,\"ticks\":\"\",\"zerolinecolor\":\"white\"},\"zaxis\":{\"backgroundcolor\":\"#E5ECF6\",\"gridcolor\":\"white\",\"gridwidth\":2,\"linecolor\":\"white\",\"showbackground\":true,\"ticks\":\"\",\"zerolinecolor\":\"white\"}},\"shapedefaults\":{\"line\":{\"color\":\"#2a3f5f\"}},\"ternary\":{\"aaxis\":{\"gridcolor\":\"white\",\"linecolor\":\"white\",\"ticks\":\"\"},\"baxis\":{\"gridcolor\":\"white\",\"linecolor\":\"white\",\"ticks\":\"\"},\"bgcolor\":\"#E5ECF6\",\"caxis\":{\"gridcolor\":\"white\",\"linecolor\":\"white\",\"ticks\":\"\"}},\"title\":{\"x\":0.05},\"xaxis\":{\"automargin\":true,\"gridcolor\":\"white\",\"linecolor\":\"white\",\"ticks\":\"\",\"title\":{\"standoff\":15},\"zerolinecolor\":\"white\",\"zerolinewidth\":2},\"yaxis\":{\"automargin\":true,\"gridcolor\":\"white\",\"linecolor\":\"white\",\"ticks\":\"\",\"title\":{\"standoff\":15},\"zerolinecolor\":\"white\",\"zerolinewidth\":2}}},\"title\":{\"font\":{\"color\":\"#4D5663\"},\"text\":\"Distribution of height_right\"},\"xaxis\":{\"gridcolor\":\"#E1E5ED\",\"showgrid\":true,\"tickfont\":{\"color\":\"#4D5663\"},\"title\":{\"font\":{\"color\":\"#4D5663\"},\"text\":\"height_right\"},\"zerolinecolor\":\"#E1E5ED\"},\"yaxis\":{\"gridcolor\":\"#E1E5ED\",\"showgrid\":true,\"tickfont\":{\"color\":\"#4D5663\"},\"title\":{\"font\":{\"color\":\"#4D5663\"},\"text\":\"Count\"},\"zerolinecolor\":\"#E1E5ED\"}},                        {\"showLink\": true, \"linkText\": \"Export to plot.ly\", \"plotlyServerURL\": \"https://plot.ly\", \"responsive\": true}                    ).then(function(){\n",
       "                            \n",
       "var gd = document.getElementById('2079e731-aae5-4eee-889f-79a606a65e0b');\n",
       "var x = new MutationObserver(function (mutations, observer) {{\n",
       "        var display = window.getComputedStyle(gd).display;\n",
       "        if (!display || display === 'none') {{\n",
       "            console.log([gd, 'removed!']);\n",
       "            Plotly.purge(gd);\n",
       "            observer.disconnect();\n",
       "        }}\n",
       "}});\n",
       "\n",
       "// Listen for the removal of the full notebook cells\n",
       "var notebookContainer = gd.closest('#notebook-container');\n",
       "if (notebookContainer) {{\n",
       "    x.observe(notebookContainer, {childList: true});\n",
       "}}\n",
       "\n",
       "// Listen for the clearing of the current output cell\n",
       "var outputEl = gd.closest('.output');\n",
       "if (outputEl) {{\n",
       "    x.observe(outputEl, {childList: true});\n",
       "}}\n",
       "\n",
       "                        })                };                });            </script>        </div>"
      ]
     },
     "metadata": {},
     "output_type": "display_data"
    }
   ],
   "source": [
    "distr(df['height_right'],title='Distribution of height_right',xlabel='height_right',ylabel='Count')"
   ]
  },
  {
   "cell_type": "code",
   "execution_count": 12,
   "metadata": {},
   "outputs": [
    {
     "data": {
      "application/vnd.plotly.v1+json": {
       "config": {
        "linkText": "Export to plot.ly",
        "plotlyServerURL": "https://plot.ly",
        "showLink": true
       },
       "data": [
        {
         "histfunc": "count",
         "histnorm": "",
         "marker": {
          "color": "rgba(255, 153, 51, 1.0)",
          "line": {
           "color": "#4D5663",
           "width": 1.3
          }
         },
         "name": "margin_low",
         "opacity": 0.8,
         "orientation": "v",
         "type": "histogram",
         "x": [
          4.52,
          3.77,
          4.4,
          3.62,
          4.04,
          4.42,
          4.58,
          3.98,
          4,
          4.04,
          3.16,
          3.88,
          4.11,
          4.44,
          4.09,
          4.43,
          4.12,
          4.56,
          3.74,
          4.55,
          3.74,
          4.25,
          3.93,
          3.32,
          4.18,
          4.32,
          4.15,
          4.02,
          3.97,
          4.1,
          4,
          3.68,
          4.62,
          4.13,
          4.54,
          4.36,
          4.47,
          3.39,
          4.42,
          3.93,
          3.73,
          3.99,
          3.72,
          4.01,
          3.99,
          3.99,
          4.19,
          3.97,
          3.71,
          4.42,
          4.28,
          4.49,
          3.49,
          4.49,
          3.95,
          3.77,
          4.36,
          4.01,
          4.07,
          4.05,
          3.71,
          3.99,
          4.01,
          4.14,
          3.44,
          4.38,
          3.8,
          3.97,
          3.79,
          4.08,
          4.35,
          4.09,
          4.485967190704033,
          4.08,
          3.81,
          4.16,
          4.14,
          4.11,
          4.11,
          4.49,
          4.92,
          4.09,
          4.3,
          3.7,
          4.5,
          4.25,
          3.96,
          4.47,
          4.12,
          4.24,
          4.31,
          4.3,
          4.03,
          4.1,
          4.01,
          4.64,
          4.49,
          3.65,
          4.59,
          4.485967190704033,
          4.1,
          4.31,
          4.42,
          3.87,
          4.23,
          4.16,
          3.94,
          4.27,
          3.59,
          4.18,
          4.03,
          4.06,
          3.66,
          4.21,
          4.32,
          3.52,
          3.93,
          4.14,
          4.23,
          3.79,
          4.02,
          3.91,
          3.99,
          4.08,
          4.37,
          3.26,
          4.01,
          4.41,
          3.95,
          4.02,
          4.38,
          3.91,
          4.61,
          3.99,
          4.12,
          4.36,
          4.39,
          4.2,
          4.09,
          4.05,
          3.85,
          4.73,
          4.31,
          4.07,
          3.79,
          3.97,
          4.36,
          4.2,
          4.14,
          4.66,
          4.08,
          4.485967190704033,
          4.46,
          3.98,
          3.76,
          4.36,
          4.05,
          3.8,
          4.2,
          4.64,
          4.18,
          4.49,
          4.1,
          4.09,
          3.81,
          3.91,
          4.43,
          4.16,
          4.11,
          4.29,
          4.13,
          3.68,
          3.53,
          3.79,
          4.54,
          3.97,
          4.46,
          4.16,
          4.26,
          4.05,
          4.03,
          3.79,
          3.32,
          3.95,
          4.61,
          4.25,
          4.4,
          3.68,
          3.76,
          4.17,
          4.09,
          4.01,
          3.86,
          4.49,
          4.27,
          3.47,
          4.34,
          4.485967190704033,
          4.56,
          4.38,
          3.8,
          3.56,
          4.17,
          4.29,
          4.36,
          4.06,
          4.16,
          3.98,
          4.18,
          4.01,
          4.27,
          4.31,
          4.41,
          3.95,
          4.86,
          4.49,
          4.23,
          3.96,
          4,
          4.55,
          4.11,
          4.09,
          4.1,
          4.09,
          4.46,
          4.37,
          4.33,
          4.32,
          3.99,
          3.79,
          4.01,
          4.2,
          3.77,
          4.55,
          4.21,
          3.9,
          4.18,
          3.95,
          3.74,
          4.8,
          3.9,
          4.485967190704033,
          4.74,
          3.39,
          3.99,
          4.37,
          4.02,
          4.15,
          4.38,
          4.01,
          4.72,
          4.485967190704033,
          4.08,
          4.41,
          4.35,
          4.79,
          4.48,
          4.17,
          3.89,
          4.38,
          4.64,
          3.79,
          3.96,
          4.28,
          3.85,
          3.96,
          4.1,
          3.84,
          4.32,
          4.88,
          4.3,
          4.63,
          4.25,
          3.8,
          4.47,
          4.17,
          4.33,
          3.54,
          4.31,
          3.84,
          3.73,
          4.18,
          3.96,
          4.6,
          4.485967190704033,
          4.25,
          4.2,
          3.83,
          3.57,
          4.22,
          4.36,
          3.92,
          4.88,
          4.19,
          4.08,
          4.04,
          4.42,
          3.83,
          3.72,
          4.24,
          4.63,
          4.21,
          3.51,
          3.91,
          4.22,
          3.83,
          3.96,
          4.3,
          4.23,
          3.84,
          4.63,
          4.43,
          4.11,
          4.22,
          4.03,
          4.57,
          4,
          4.29,
          3.67,
          4.73,
          4.1,
          4.43,
          4.24,
          4.05,
          4.18,
          4.35,
          4.35,
          4.23,
          4.08,
          3.75,
          4.41,
          4.46,
          4.08,
          3.99,
          4.485967190704033,
          4.58,
          3.97,
          4.09,
          4.27,
          4.3,
          3.97,
          4.77,
          3.55,
          4.1,
          4.61,
          4.08,
          4.43,
          3.89,
          4.1,
          4.62,
          3.87,
          4.18,
          4.17,
          3.7,
          3.35,
          4.18,
          4.14,
          4.39,
          4.48,
          4.44,
          4.29,
          3.82,
          3.53,
          4.13,
          3.62,
          4.59,
          4.1,
          3.64,
          3.91,
          4.41,
          4.19,
          3.88,
          4.07,
          4.26,
          4.24,
          3.54,
          4.39,
          3.67,
          4.24,
          4.33,
          4.16,
          4.57,
          4.08,
          4.35,
          3.82,
          4.37,
          4.24,
          4.25,
          4.23,
          4.05,
          3.26,
          4.08,
          4.54,
          4.3,
          3.57,
          3.92,
          3.59,
          3.92,
          3.91,
          4.41,
          3.62,
          4.18,
          4.12,
          4.11,
          4.36,
          4.31,
          4.22,
          4.45,
          3.75,
          4.18,
          4.485967190704033,
          3.74,
          4.02,
          4.485967190704033,
          3.55,
          3.84,
          4.53,
          3.74,
          4.3,
          4.12,
          4.12,
          3.96,
          4.04,
          4.21,
          4.43,
          4.23,
          3.41,
          4.08,
          4.83,
          4.16,
          4.72,
          3.94,
          4.12,
          4.1,
          3.88,
          4.12,
          4.88,
          3.94,
          3.82,
          4,
          3.75,
          4.26,
          3.75,
          4.45,
          3.95,
          4.485967190704033,
          4.51,
          4.12,
          3.89,
          4.34,
          4.53,
          4.07,
          3.32,
          4.34,
          3.69,
          4.22,
          3.96,
          3.76,
          3.86,
          4.16,
          3.68,
          4.16,
          4.52,
          4.11,
          4.32,
          4.61,
          4.75,
          4.06,
          3.72,
          4.22,
          4.1,
          4.64,
          4.23,
          3.93,
          4.7,
          4.12,
          3.87,
          3.24,
          3.77,
          4.14,
          4.47,
          4.485967190704033,
          3.7,
          4.19,
          3.95,
          4,
          4.69,
          3.64,
          4.19,
          4.19,
          3.59,
          4.1,
          4.08,
          4.25,
          4.11,
          4.61,
          4.12,
          4.1,
          4.07,
          3.52,
          4.2,
          4.06,
          4.44,
          4.23,
          3.98,
          4.485967190704033,
          4.21,
          4.15,
          4.18,
          4.15,
          4.44,
          3.73,
          4.34,
          4.17,
          4.06,
          4.48,
          3.71,
          3.97,
          3.44,
          4.37,
          3.81,
          3.98,
          3.86,
          4.4,
          4.58,
          4.89,
          4.4,
          3.84,
          4.24,
          4.1,
          3.67,
          3.99,
          4.25,
          3.77,
          4.18,
          4.4,
          4.46,
          4.31,
          4.08,
          3.86,
          4.46,
          3.85,
          3.98,
          4.28,
          4.52,
          4.19,
          4.28,
          3.71,
          4.19,
          4.11,
          4.31,
          4.41,
          4.27,
          3.85,
          4.02,
          4.47,
          4.11,
          4.69,
          4.14,
          3.74,
          3.8,
          3.93,
          3.9,
          3.66,
          3.83,
          4.43,
          4.26,
          3.93,
          3.6,
          4.03,
          3.82,
          3.25,
          4.66,
          3.66,
          4.75,
          3.64,
          3.7,
          4.91,
          4.64,
          3.99,
          4.35,
          3.72,
          3.61,
          3.52,
          4.41,
          4.04,
          3.95,
          3.94,
          4.11,
          4,
          4.32,
          4.59,
          3.8,
          3.97,
          4.36,
          3.52,
          4.06,
          4.13,
          4.2,
          4.73,
          4.22,
          3.8,
          4,
          3.79,
          4.03,
          4.47,
          3.43,
          4.01,
          4.19,
          3.84,
          4.48,
          4.485967190704033,
          3.85,
          4.12,
          3.87,
          4.13,
          4.74,
          4.34,
          3.93,
          4.03,
          4.06,
          3.9,
          3.92,
          4.23,
          4.1,
          4.45,
          4.67,
          4.41,
          4.09,
          3.9,
          4.28,
          4.34,
          4.75,
          4.08,
          3.8,
          4.23,
          4.16,
          4.49,
          4.29,
          4.66,
          4.45,
          4.05,
          4.13,
          4.44,
          3.66,
          3.97,
          4.01,
          3.8,
          4.59,
          3.93,
          3.78,
          3.95,
          4.56,
          4.5,
          4.485967190704033,
          3.97,
          4.05,
          4.36,
          3.9,
          4.08,
          3.64,
          4.11,
          4.4,
          3.73,
          5.04,
          4.54,
          3.97,
          3.54,
          4.06,
          4.63,
          3.89,
          3.86,
          4,
          3.81,
          3.81,
          4.485967190704033,
          4.07,
          4.52,
          3.6,
          4.19,
          4.29,
          4.08,
          4.18,
          4.47,
          3.65,
          4.06,
          4.45,
          4.92,
          4.19,
          3.69,
          3.98,
          3.72,
          4.42,
          4.53,
          4.01,
          4.47,
          4,
          4.52,
          4.02,
          4.12,
          4.94,
          3.63,
          4.42,
          4.25,
          4.02,
          4.26,
          4.38,
          3.79,
          4.08,
          4.29,
          4.485967190704033,
          4.57,
          3.74,
          4.41,
          4.17,
          4.04,
          4.61,
          3.99,
          3.95,
          4.19,
          4.04,
          4.03,
          4.33,
          4.22,
          4.51,
          3.82,
          4.6,
          4.21,
          4.08,
          4.22,
          4.06,
          4.32,
          3.81,
          3.66,
          3.71,
          4.38,
          3.86,
          3.77,
          3.89,
          4.485967190704033,
          3.79,
          4.43,
          4.485967190704033,
          4.36,
          4.49,
          4.35,
          4.35,
          3.64,
          4.05,
          4.21,
          3.87,
          4.31,
          3.91,
          3.77,
          3.32,
          4.38,
          3.75,
          4.28,
          4.44,
          4.13,
          3.88,
          4.14,
          4.5,
          3.97,
          3.96,
          4.17,
          3.57,
          4.31,
          4.04,
          3.78,
          4.67,
          3.85,
          4.5,
          4.43,
          4.12,
          4.17,
          4.43,
          3.97,
          4.33,
          3.93,
          4.485967190704033,
          3.78,
          3.87,
          4.48,
          4.24,
          4.18,
          3.87,
          4.5,
          3.12,
          4.77,
          4.29,
          4.6,
          4.51,
          4.4,
          4.18,
          4.15,
          4.17,
          4.57,
          4.485967190704033,
          4.27,
          3.75,
          4.14,
          4.32,
          3.85,
          4.89,
          4.32,
          3.62,
          3.97,
          4.11,
          4.42,
          4.15,
          4.24,
          3.53,
          3.86,
          3.71,
          3.52,
          4.29,
          3.91,
          4,
          4.06,
          4.53,
          3.81,
          4.17,
          3.88,
          4.49,
          4.16,
          3.79,
          4.28,
          4.78,
          4.41,
          4.32,
          4.2,
          4.75,
          4.13,
          4.34,
          4.34,
          4.66,
          3.59,
          3.81,
          4.87,
          3.91,
          3.69,
          4.12,
          3.87,
          4.485967190704033,
          4.485967190704033,
          4.18,
          3.79,
          3.48,
          3.72,
          4.17,
          4.18,
          4.41,
          3.95,
          3.94,
          4.36,
          4.1,
          4.26,
          4.52,
          3.85,
          4.44,
          4.43,
          3.44,
          3.86,
          3.9,
          4.13,
          3.82,
          4.04,
          3.9,
          3.84,
          3.84,
          4.485967190704033,
          3.76,
          4.25,
          4.5,
          3.98,
          3.83,
          4.91,
          3.9,
          4.11,
          4.54,
          3.86,
          4.06,
          4,
          4.27,
          4.49,
          3.73,
          3.66,
          4.28,
          4,
          4.47,
          4.25,
          3.77,
          3.66,
          4.4,
          4.485967190704033,
          3.9,
          2.98,
          3.98,
          4.26,
          3.56,
          3.28,
          3.97,
          4.26,
          3.84,
          4.39,
          4.06,
          4.04,
          4.68,
          4.16,
          4.31,
          4.39,
          4.17,
          4.39,
          4.37,
          4.78,
          3.6,
          3.48,
          4.1,
          4.485967190704033,
          4,
          4.17,
          4.33,
          3.58,
          3.43,
          3.99,
          4.21,
          3.95,
          3.85,
          4.39,
          4.17,
          4.35,
          4.34,
          4.17,
          4.52,
          3.95,
          4.32,
          4.42,
          4.17,
          4.36,
          3.68,
          4.23,
          4.61,
          4.15,
          4.35,
          4.485967190704033,
          4.485967190704033,
          4.17,
          3.77,
          4.14,
          3.74,
          4.51,
          3.95,
          4,
          3.52,
          4.09,
          4.36,
          4.18,
          4.21,
          4.04,
          3.8,
          4.1,
          4.23,
          3.96,
          4.33,
          3.45,
          4.09,
          3.98,
          3.83,
          4.03,
          4.18,
          3.86,
          3.75,
          4.06,
          4.47,
          4.56,
          3.98,
          4.59,
          4.09,
          4.36,
          4.09,
          4.485967190704033,
          4.05,
          3.76,
          4.21,
          4.12,
          4.08,
          4.1,
          3.81,
          3.78,
          3.87,
          4.48,
          3.65,
          4.6,
          3.9,
          4.26,
          4.3,
          4.23,
          3.68,
          3.55,
          4.78,
          4.96,
          4.97,
          5.19,
          5.6,
          5.34,
          4.61,
          4.94,
          5.1,
          4.45,
          4.37,
          4.9,
          4.97,
          5.44,
          5.55,
          5.97,
          5.13,
          5.9,
          5.55,
          5.33,
          5.46,
          4.53,
          6.03,
          6.2,
          4.24,
          3.86,
          5.1,
          6.7,
          5.38,
          6.01,
          5.31,
          6.33,
          4.51,
          5.69,
          5.18,
          5.38,
          5.86,
          5.1,
          5.64,
          5.56,
          5.91,
          6.65,
          4.74,
          4.94,
          4.46,
          5.01,
          5.6,
          4.64,
          6.08,
          5.28,
          5.5,
          5.28,
          5.45,
          6.21,
          5.66,
          5.06,
          4.92,
          5.59,
          4.86,
          5.64,
          4.26,
          4.74,
          5.37,
          4.81,
          6.04,
          4.81,
          5.18,
          5.55,
          5.2,
          5.14,
          5.51,
          4.82,
          5.04,
          4.27,
          4.36,
          6.23,
          4.485967190704033,
          5.66,
          5.28,
          4.93,
          5.61,
          4.79,
          5.39,
          4.6,
          4.46,
          5.52,
          5.69,
          5.48,
          5.86,
          3.86,
          4.8,
          4.6,
          6.3,
          4.77,
          4.44,
          5.63,
          4.92,
          5.11,
          5.08,
          4.82,
          4.51,
          5.21,
          4.96,
          4.41,
          4.45,
          4.95,
          5.45,
          5.36,
          4.64,
          5.46,
          6.56,
          4.3,
          5.61,
          4.6,
          5.16,
          6.04,
          4.99,
          4.69,
          4.58,
          5.18,
          4.94,
          4.485967190704033,
          4.15,
          5.33,
          6.7,
          5.21,
          4.87,
          5.07,
          5.12,
          5.32,
          5.23,
          5.12,
          5.57,
          6.16,
          6.34,
          4.77,
          5.82,
          5.16,
          5.71,
          5.67,
          5.5,
          4.57,
          4.87,
          4.46,
          5.02,
          5.86,
          5.07,
          4.93,
          5.24,
          4.63,
          5.39,
          4.79,
          5.34,
          5.34,
          4.23,
          4.76,
          6.01,
          5.53,
          4.52,
          5.25,
          4.13,
          5.76,
          5.56,
          6.03,
          4.84,
          5.38,
          4.6,
          5.85,
          5.56,
          6.48,
          5.45,
          5.12,
          4.59,
          4.82,
          4.42,
          5.54,
          4.485967190704033,
          4.12,
          4.92,
          5.78,
          4.9,
          5.6,
          5.35,
          4.67,
          5.15,
          5.96,
          5.92,
          5.93,
          4.99,
          5.97,
          4.55,
          5.07,
          5.66,
          5.25,
          4.87,
          5.85,
          4.75,
          5,
          4.09,
          4.49,
          4.77,
          4.86,
          6.03,
          5.14,
          5.21,
          5.56,
          4.81,
          4.84,
          5.19,
          5.11,
          4.86,
          5.28,
          4.7,
          5.22,
          4.87,
          4.34,
          4.87,
          5.31,
          5.26,
          5.24,
          5.28,
          5.43,
          5.02,
          4.2,
          5.59,
          5.12,
          6.11,
          5.7,
          5.74,
          6.05,
          5.79,
          4.84,
          5.04,
          5.69,
          5.8,
          5.58,
          5.1,
          5.4,
          5.91,
          5.34,
          5.01,
          4.71,
          5.14,
          5.43,
          6.14,
          3.82,
          5.14,
          5.27,
          4.6,
          4.88,
          5.58,
          5.71,
          4.36,
          5.5,
          6.49,
          5.28,
          5.76,
          5.89,
          5.25,
          4.81,
          4.75,
          5.47,
          5.8,
          5.05,
          4.45,
          5.82,
          5.68,
          5.47,
          4.87,
          4.81,
          4.78,
          4.62,
          5.14,
          4.4,
          5.63,
          4.73,
          4.88,
          5.04,
          5.24,
          5.73,
          5.33,
          4.89,
          5.67,
          5.57,
          6,
          4.71,
          5.48,
          5.14,
          5.09,
          5.46,
          6.9,
          4.51,
          4.63,
          5.12,
          4.92,
          5.59,
          4.69,
          4.84,
          4.94,
          5.61,
          5.67,
          5.72,
          4.99,
          4.485967190704033,
          4.68,
          4.96,
          5.8,
          4.49,
          5.62,
          5.5,
          5.96,
          5.77,
          4.95,
          5.59,
          4.13,
          4.485967190704033,
          5.18,
          4.71,
          5.01,
          4.87,
          5.12,
          5.71,
          6.19,
          5.1,
          4.99,
          5.51,
          6,
          5.9,
          5.26,
          3.82,
          5.64,
          4.84,
          5.28,
          4.07,
          5.2,
          5.05,
          5.02,
          4.52,
          5.26,
          5.75,
          4.88,
          4.28,
          5.59,
          4.94,
          5.34,
          6.16,
          5.37,
          4.485967190704033,
          6.28,
          5.77,
          5.22,
          5.78,
          5.5,
          6.19,
          5.13,
          5.97,
          5.88,
          4.78,
          5.42,
          4.65,
          5.75,
          5.92,
          5.66,
          5.27,
          5.62,
          5.14,
          5,
          5.82,
          5.65,
          4.6,
          5.46,
          6.01,
          5.54,
          5.31,
          5.92,
          4.66,
          5.97,
          5.04,
          4.31,
          5.47,
          4.67,
          5.39,
          5.87,
          4.23,
          5.17,
          5.2,
          5.87,
          5.39,
          4.72,
          4.86,
          5.14,
          5.23,
          5.25,
          4.93,
          4.72,
          5.2,
          4.75,
          5.6,
          4.71,
          5.29,
          5.59,
          4.92,
          5.11,
          4.3,
          5.12,
          5.65,
          5.57,
          4.22,
          5.46,
          4.59,
          5.06,
          5.98,
          4.14,
          6,
          5.59,
          6.04,
          4.25,
          5.18,
          5.97,
          4.75,
          6.38,
          5.02,
          5.93,
          5.54,
          4.74,
          5.14,
          6.25,
          5.09,
          5.09,
          4.31,
          5.28,
          5.3,
          5,
          4.57,
          4.73,
          4.485967190704033,
          5.79,
          5.67,
          4.485967190704033,
          4.67,
          4.64,
          6.56,
          5.59,
          5.23,
          4.91,
          4.44,
          5.37,
          5.1,
          5.47,
          4.53,
          4.21,
          5.1,
          4.57,
          5.42,
          5.19,
          4.85,
          4.81,
          4.7,
          5.69,
          6.19,
          5.27,
          5.15,
          5.38,
          4.35,
          6.54,
          5.22,
          5.5,
          4.95,
          4.82,
          5.36,
          5.08,
          5.28,
          4.15,
          6.29,
          4.75,
          5.66,
          5.13,
          5.09,
          6.08,
          5.11,
          5.71,
          5.06,
          4.12,
          4.79,
          5.22,
          5.16,
          3.99,
          4.88,
          5.88,
          4.84,
          6.06,
          5.13,
          5.52,
          4.88,
          5.41,
          4.42,
          5.27,
          5.51,
          5.17,
          4.63
         ]
        }
       ],
       "layout": {
        "barmode": "overlay",
        "legend": {
         "bgcolor": "#F5F6F9",
         "font": {
          "color": "#4D5663"
         }
        },
        "paper_bgcolor": "#F5F6F9",
        "plot_bgcolor": "#F5F6F9",
        "template": {
         "data": {
          "bar": [
           {
            "error_x": {
             "color": "#2a3f5f"
            },
            "error_y": {
             "color": "#2a3f5f"
            },
            "marker": {
             "line": {
              "color": "#E5ECF6",
              "width": 0.5
             },
             "pattern": {
              "fillmode": "overlay",
              "size": 10,
              "solidity": 0.2
             }
            },
            "type": "bar"
           }
          ],
          "barpolar": [
           {
            "marker": {
             "line": {
              "color": "#E5ECF6",
              "width": 0.5
             },
             "pattern": {
              "fillmode": "overlay",
              "size": 10,
              "solidity": 0.2
             }
            },
            "type": "barpolar"
           }
          ],
          "carpet": [
           {
            "aaxis": {
             "endlinecolor": "#2a3f5f",
             "gridcolor": "white",
             "linecolor": "white",
             "minorgridcolor": "white",
             "startlinecolor": "#2a3f5f"
            },
            "baxis": {
             "endlinecolor": "#2a3f5f",
             "gridcolor": "white",
             "linecolor": "white",
             "minorgridcolor": "white",
             "startlinecolor": "#2a3f5f"
            },
            "type": "carpet"
           }
          ],
          "choropleth": [
           {
            "colorbar": {
             "outlinewidth": 0,
             "ticks": ""
            },
            "type": "choropleth"
           }
          ],
          "contour": [
           {
            "colorbar": {
             "outlinewidth": 0,
             "ticks": ""
            },
            "colorscale": [
             [
              0,
              "#0d0887"
             ],
             [
              0.1111111111111111,
              "#46039f"
             ],
             [
              0.2222222222222222,
              "#7201a8"
             ],
             [
              0.3333333333333333,
              "#9c179e"
             ],
             [
              0.4444444444444444,
              "#bd3786"
             ],
             [
              0.5555555555555556,
              "#d8576b"
             ],
             [
              0.6666666666666666,
              "#ed7953"
             ],
             [
              0.7777777777777778,
              "#fb9f3a"
             ],
             [
              0.8888888888888888,
              "#fdca26"
             ],
             [
              1,
              "#f0f921"
             ]
            ],
            "type": "contour"
           }
          ],
          "contourcarpet": [
           {
            "colorbar": {
             "outlinewidth": 0,
             "ticks": ""
            },
            "type": "contourcarpet"
           }
          ],
          "heatmap": [
           {
            "colorbar": {
             "outlinewidth": 0,
             "ticks": ""
            },
            "colorscale": [
             [
              0,
              "#0d0887"
             ],
             [
              0.1111111111111111,
              "#46039f"
             ],
             [
              0.2222222222222222,
              "#7201a8"
             ],
             [
              0.3333333333333333,
              "#9c179e"
             ],
             [
              0.4444444444444444,
              "#bd3786"
             ],
             [
              0.5555555555555556,
              "#d8576b"
             ],
             [
              0.6666666666666666,
              "#ed7953"
             ],
             [
              0.7777777777777778,
              "#fb9f3a"
             ],
             [
              0.8888888888888888,
              "#fdca26"
             ],
             [
              1,
              "#f0f921"
             ]
            ],
            "type": "heatmap"
           }
          ],
          "heatmapgl": [
           {
            "colorbar": {
             "outlinewidth": 0,
             "ticks": ""
            },
            "colorscale": [
             [
              0,
              "#0d0887"
             ],
             [
              0.1111111111111111,
              "#46039f"
             ],
             [
              0.2222222222222222,
              "#7201a8"
             ],
             [
              0.3333333333333333,
              "#9c179e"
             ],
             [
              0.4444444444444444,
              "#bd3786"
             ],
             [
              0.5555555555555556,
              "#d8576b"
             ],
             [
              0.6666666666666666,
              "#ed7953"
             ],
             [
              0.7777777777777778,
              "#fb9f3a"
             ],
             [
              0.8888888888888888,
              "#fdca26"
             ],
             [
              1,
              "#f0f921"
             ]
            ],
            "type": "heatmapgl"
           }
          ],
          "histogram": [
           {
            "marker": {
             "pattern": {
              "fillmode": "overlay",
              "size": 10,
              "solidity": 0.2
             }
            },
            "type": "histogram"
           }
          ],
          "histogram2d": [
           {
            "colorbar": {
             "outlinewidth": 0,
             "ticks": ""
            },
            "colorscale": [
             [
              0,
              "#0d0887"
             ],
             [
              0.1111111111111111,
              "#46039f"
             ],
             [
              0.2222222222222222,
              "#7201a8"
             ],
             [
              0.3333333333333333,
              "#9c179e"
             ],
             [
              0.4444444444444444,
              "#bd3786"
             ],
             [
              0.5555555555555556,
              "#d8576b"
             ],
             [
              0.6666666666666666,
              "#ed7953"
             ],
             [
              0.7777777777777778,
              "#fb9f3a"
             ],
             [
              0.8888888888888888,
              "#fdca26"
             ],
             [
              1,
              "#f0f921"
             ]
            ],
            "type": "histogram2d"
           }
          ],
          "histogram2dcontour": [
           {
            "colorbar": {
             "outlinewidth": 0,
             "ticks": ""
            },
            "colorscale": [
             [
              0,
              "#0d0887"
             ],
             [
              0.1111111111111111,
              "#46039f"
             ],
             [
              0.2222222222222222,
              "#7201a8"
             ],
             [
              0.3333333333333333,
              "#9c179e"
             ],
             [
              0.4444444444444444,
              "#bd3786"
             ],
             [
              0.5555555555555556,
              "#d8576b"
             ],
             [
              0.6666666666666666,
              "#ed7953"
             ],
             [
              0.7777777777777778,
              "#fb9f3a"
             ],
             [
              0.8888888888888888,
              "#fdca26"
             ],
             [
              1,
              "#f0f921"
             ]
            ],
            "type": "histogram2dcontour"
           }
          ],
          "mesh3d": [
           {
            "colorbar": {
             "outlinewidth": 0,
             "ticks": ""
            },
            "type": "mesh3d"
           }
          ],
          "parcoords": [
           {
            "line": {
             "colorbar": {
              "outlinewidth": 0,
              "ticks": ""
             }
            },
            "type": "parcoords"
           }
          ],
          "pie": [
           {
            "automargin": true,
            "type": "pie"
           }
          ],
          "scatter": [
           {
            "fillpattern": {
             "fillmode": "overlay",
             "size": 10,
             "solidity": 0.2
            },
            "type": "scatter"
           }
          ],
          "scatter3d": [
           {
            "line": {
             "colorbar": {
              "outlinewidth": 0,
              "ticks": ""
             }
            },
            "marker": {
             "colorbar": {
              "outlinewidth": 0,
              "ticks": ""
             }
            },
            "type": "scatter3d"
           }
          ],
          "scattercarpet": [
           {
            "marker": {
             "colorbar": {
              "outlinewidth": 0,
              "ticks": ""
             }
            },
            "type": "scattercarpet"
           }
          ],
          "scattergeo": [
           {
            "marker": {
             "colorbar": {
              "outlinewidth": 0,
              "ticks": ""
             }
            },
            "type": "scattergeo"
           }
          ],
          "scattergl": [
           {
            "marker": {
             "colorbar": {
              "outlinewidth": 0,
              "ticks": ""
             }
            },
            "type": "scattergl"
           }
          ],
          "scattermapbox": [
           {
            "marker": {
             "colorbar": {
              "outlinewidth": 0,
              "ticks": ""
             }
            },
            "type": "scattermapbox"
           }
          ],
          "scatterpolar": [
           {
            "marker": {
             "colorbar": {
              "outlinewidth": 0,
              "ticks": ""
             }
            },
            "type": "scatterpolar"
           }
          ],
          "scatterpolargl": [
           {
            "marker": {
             "colorbar": {
              "outlinewidth": 0,
              "ticks": ""
             }
            },
            "type": "scatterpolargl"
           }
          ],
          "scatterternary": [
           {
            "marker": {
             "colorbar": {
              "outlinewidth": 0,
              "ticks": ""
             }
            },
            "type": "scatterternary"
           }
          ],
          "surface": [
           {
            "colorbar": {
             "outlinewidth": 0,
             "ticks": ""
            },
            "colorscale": [
             [
              0,
              "#0d0887"
             ],
             [
              0.1111111111111111,
              "#46039f"
             ],
             [
              0.2222222222222222,
              "#7201a8"
             ],
             [
              0.3333333333333333,
              "#9c179e"
             ],
             [
              0.4444444444444444,
              "#bd3786"
             ],
             [
              0.5555555555555556,
              "#d8576b"
             ],
             [
              0.6666666666666666,
              "#ed7953"
             ],
             [
              0.7777777777777778,
              "#fb9f3a"
             ],
             [
              0.8888888888888888,
              "#fdca26"
             ],
             [
              1,
              "#f0f921"
             ]
            ],
            "type": "surface"
           }
          ],
          "table": [
           {
            "cells": {
             "fill": {
              "color": "#EBF0F8"
             },
             "line": {
              "color": "white"
             }
            },
            "header": {
             "fill": {
              "color": "#C8D4E3"
             },
             "line": {
              "color": "white"
             }
            },
            "type": "table"
           }
          ]
         },
         "layout": {
          "annotationdefaults": {
           "arrowcolor": "#2a3f5f",
           "arrowhead": 0,
           "arrowwidth": 1
          },
          "autotypenumbers": "strict",
          "coloraxis": {
           "colorbar": {
            "outlinewidth": 0,
            "ticks": ""
           }
          },
          "colorscale": {
           "diverging": [
            [
             0,
             "#8e0152"
            ],
            [
             0.1,
             "#c51b7d"
            ],
            [
             0.2,
             "#de77ae"
            ],
            [
             0.3,
             "#f1b6da"
            ],
            [
             0.4,
             "#fde0ef"
            ],
            [
             0.5,
             "#f7f7f7"
            ],
            [
             0.6,
             "#e6f5d0"
            ],
            [
             0.7,
             "#b8e186"
            ],
            [
             0.8,
             "#7fbc41"
            ],
            [
             0.9,
             "#4d9221"
            ],
            [
             1,
             "#276419"
            ]
           ],
           "sequential": [
            [
             0,
             "#0d0887"
            ],
            [
             0.1111111111111111,
             "#46039f"
            ],
            [
             0.2222222222222222,
             "#7201a8"
            ],
            [
             0.3333333333333333,
             "#9c179e"
            ],
            [
             0.4444444444444444,
             "#bd3786"
            ],
            [
             0.5555555555555556,
             "#d8576b"
            ],
            [
             0.6666666666666666,
             "#ed7953"
            ],
            [
             0.7777777777777778,
             "#fb9f3a"
            ],
            [
             0.8888888888888888,
             "#fdca26"
            ],
            [
             1,
             "#f0f921"
            ]
           ],
           "sequentialminus": [
            [
             0,
             "#0d0887"
            ],
            [
             0.1111111111111111,
             "#46039f"
            ],
            [
             0.2222222222222222,
             "#7201a8"
            ],
            [
             0.3333333333333333,
             "#9c179e"
            ],
            [
             0.4444444444444444,
             "#bd3786"
            ],
            [
             0.5555555555555556,
             "#d8576b"
            ],
            [
             0.6666666666666666,
             "#ed7953"
            ],
            [
             0.7777777777777778,
             "#fb9f3a"
            ],
            [
             0.8888888888888888,
             "#fdca26"
            ],
            [
             1,
             "#f0f921"
            ]
           ]
          },
          "colorway": [
           "#636efa",
           "#EF553B",
           "#00cc96",
           "#ab63fa",
           "#FFA15A",
           "#19d3f3",
           "#FF6692",
           "#B6E880",
           "#FF97FF",
           "#FECB52"
          ],
          "font": {
           "color": "#2a3f5f"
          },
          "geo": {
           "bgcolor": "white",
           "lakecolor": "white",
           "landcolor": "#E5ECF6",
           "showlakes": true,
           "showland": true,
           "subunitcolor": "white"
          },
          "hoverlabel": {
           "align": "left"
          },
          "hovermode": "closest",
          "mapbox": {
           "style": "light"
          },
          "paper_bgcolor": "white",
          "plot_bgcolor": "#E5ECF6",
          "polar": {
           "angularaxis": {
            "gridcolor": "white",
            "linecolor": "white",
            "ticks": ""
           },
           "bgcolor": "#E5ECF6",
           "radialaxis": {
            "gridcolor": "white",
            "linecolor": "white",
            "ticks": ""
           }
          },
          "scene": {
           "xaxis": {
            "backgroundcolor": "#E5ECF6",
            "gridcolor": "white",
            "gridwidth": 2,
            "linecolor": "white",
            "showbackground": true,
            "ticks": "",
            "zerolinecolor": "white"
           },
           "yaxis": {
            "backgroundcolor": "#E5ECF6",
            "gridcolor": "white",
            "gridwidth": 2,
            "linecolor": "white",
            "showbackground": true,
            "ticks": "",
            "zerolinecolor": "white"
           },
           "zaxis": {
            "backgroundcolor": "#E5ECF6",
            "gridcolor": "white",
            "gridwidth": 2,
            "linecolor": "white",
            "showbackground": true,
            "ticks": "",
            "zerolinecolor": "white"
           }
          },
          "shapedefaults": {
           "line": {
            "color": "#2a3f5f"
           }
          },
          "ternary": {
           "aaxis": {
            "gridcolor": "white",
            "linecolor": "white",
            "ticks": ""
           },
           "baxis": {
            "gridcolor": "white",
            "linecolor": "white",
            "ticks": ""
           },
           "bgcolor": "#E5ECF6",
           "caxis": {
            "gridcolor": "white",
            "linecolor": "white",
            "ticks": ""
           }
          },
          "title": {
           "x": 0.05
          },
          "xaxis": {
           "automargin": true,
           "gridcolor": "white",
           "linecolor": "white",
           "ticks": "",
           "title": {
            "standoff": 15
           },
           "zerolinecolor": "white",
           "zerolinewidth": 2
          },
          "yaxis": {
           "automargin": true,
           "gridcolor": "white",
           "linecolor": "white",
           "ticks": "",
           "title": {
            "standoff": 15
           },
           "zerolinecolor": "white",
           "zerolinewidth": 2
          }
         }
        },
        "title": {
         "font": {
          "color": "#4D5663"
         },
         "text": "Distribution of margin_low"
        },
        "xaxis": {
         "gridcolor": "#E1E5ED",
         "showgrid": true,
         "tickfont": {
          "color": "#4D5663"
         },
         "title": {
          "font": {
           "color": "#4D5663"
          },
          "text": "margin_low"
         },
         "zerolinecolor": "#E1E5ED"
        },
        "yaxis": {
         "gridcolor": "#E1E5ED",
         "showgrid": true,
         "tickfont": {
          "color": "#4D5663"
         },
         "title": {
          "font": {
           "color": "#4D5663"
          },
          "text": "Count"
         },
         "zerolinecolor": "#E1E5ED"
        }
       }
      },
      "text/html": [
       "<div>                            <div id=\"8d2bcbc9-03ff-453f-a723-bae7177352c0\" class=\"plotly-graph-div\" style=\"height:525px; width:100%;\"></div>            <script type=\"text/javascript\">                require([\"plotly\"], function(Plotly) {                    window.PLOTLYENV=window.PLOTLYENV || {};\n",
       "                    window.PLOTLYENV.BASE_URL='https://plot.ly';                                    if (document.getElementById(\"8d2bcbc9-03ff-453f-a723-bae7177352c0\")) {                    Plotly.newPlot(                        \"8d2bcbc9-03ff-453f-a723-bae7177352c0\",                        [{\"histfunc\":\"count\",\"histnorm\":\"\",\"marker\":{\"color\":\"rgba(255, 153, 51, 1.0)\",\"line\":{\"color\":\"#4D5663\",\"width\":1.3}},\"name\":\"margin_low\",\"opacity\":0.8,\"orientation\":\"v\",\"x\":[4.52,3.77,4.4,3.62,4.04,4.42,4.58,3.98,4.0,4.04,3.16,3.88,4.11,4.44,4.09,4.43,4.12,4.56,3.74,4.55,3.74,4.25,3.93,3.32,4.18,4.32,4.15,4.02,3.97,4.1,4.0,3.68,4.62,4.13,4.54,4.36,4.47,3.39,4.42,3.93,3.73,3.99,3.72,4.01,3.99,3.99,4.19,3.97,3.71,4.42,4.28,4.49,3.49,4.49,3.95,3.77,4.36,4.01,4.07,4.05,3.71,3.99,4.01,4.14,3.44,4.38,3.8,3.97,3.79,4.08,4.35,4.09,4.485967190704033,4.08,3.81,4.16,4.14,4.11,4.11,4.49,4.92,4.09,4.3,3.7,4.5,4.25,3.96,4.47,4.12,4.24,4.31,4.3,4.03,4.1,4.01,4.64,4.49,3.65,4.59,4.485967190704033,4.1,4.31,4.42,3.87,4.23,4.16,3.94,4.27,3.59,4.18,4.03,4.06,3.66,4.21,4.32,3.52,3.93,4.14,4.23,3.79,4.02,3.91,3.99,4.08,4.37,3.26,4.01,4.41,3.95,4.02,4.38,3.91,4.61,3.99,4.12,4.36,4.39,4.2,4.09,4.05,3.85,4.73,4.31,4.07,3.79,3.97,4.36,4.2,4.14,4.66,4.08,4.485967190704033,4.46,3.98,3.76,4.36,4.05,3.8,4.2,4.64,4.18,4.49,4.1,4.09,3.81,3.91,4.43,4.16,4.11,4.29,4.13,3.68,3.53,3.79,4.54,3.97,4.46,4.16,4.26,4.05,4.03,3.79,3.32,3.95,4.61,4.25,4.4,3.68,3.76,4.17,4.09,4.01,3.86,4.49,4.27,3.47,4.34,4.485967190704033,4.56,4.38,3.8,3.56,4.17,4.29,4.36,4.06,4.16,3.98,4.18,4.01,4.27,4.31,4.41,3.95,4.86,4.49,4.23,3.96,4.0,4.55,4.11,4.09,4.1,4.09,4.46,4.37,4.33,4.32,3.99,3.79,4.01,4.2,3.77,4.55,4.21,3.9,4.18,3.95,3.74,4.8,3.9,4.485967190704033,4.74,3.39,3.99,4.37,4.02,4.15,4.38,4.01,4.72,4.485967190704033,4.08,4.41,4.35,4.79,4.48,4.17,3.89,4.38,4.64,3.79,3.96,4.28,3.85,3.96,4.1,3.84,4.32,4.88,4.3,4.63,4.25,3.8,4.47,4.17,4.33,3.54,4.31,3.84,3.73,4.18,3.96,4.6,4.485967190704033,4.25,4.2,3.83,3.57,4.22,4.36,3.92,4.88,4.19,4.08,4.04,4.42,3.83,3.72,4.24,4.63,4.21,3.51,3.91,4.22,3.83,3.96,4.3,4.23,3.84,4.63,4.43,4.11,4.22,4.03,4.57,4.0,4.29,3.67,4.73,4.1,4.43,4.24,4.05,4.18,4.35,4.35,4.23,4.08,3.75,4.41,4.46,4.08,3.99,4.485967190704033,4.58,3.97,4.09,4.27,4.3,3.97,4.77,3.55,4.1,4.61,4.08,4.43,3.89,4.1,4.62,3.87,4.18,4.17,3.7,3.35,4.18,4.14,4.39,4.48,4.44,4.29,3.82,3.53,4.13,3.62,4.59,4.1,3.64,3.91,4.41,4.19,3.88,4.07,4.26,4.24,3.54,4.39,3.67,4.24,4.33,4.16,4.57,4.08,4.35,3.82,4.37,4.24,4.25,4.23,4.05,3.26,4.08,4.54,4.3,3.57,3.92,3.59,3.92,3.91,4.41,3.62,4.18,4.12,4.11,4.36,4.31,4.22,4.45,3.75,4.18,4.485967190704033,3.74,4.02,4.485967190704033,3.55,3.84,4.53,3.74,4.3,4.12,4.12,3.96,4.04,4.21,4.43,4.23,3.41,4.08,4.83,4.16,4.72,3.94,4.12,4.1,3.88,4.12,4.88,3.94,3.82,4.0,3.75,4.26,3.75,4.45,3.95,4.485967190704033,4.51,4.12,3.89,4.34,4.53,4.07,3.32,4.34,3.69,4.22,3.96,3.76,3.86,4.16,3.68,4.16,4.52,4.11,4.32,4.61,4.75,4.06,3.72,4.22,4.1,4.64,4.23,3.93,4.7,4.12,3.87,3.24,3.77,4.14,4.47,4.485967190704033,3.7,4.19,3.95,4.0,4.69,3.64,4.19,4.19,3.59,4.1,4.08,4.25,4.11,4.61,4.12,4.1,4.07,3.52,4.2,4.06,4.44,4.23,3.98,4.485967190704033,4.21,4.15,4.18,4.15,4.44,3.73,4.34,4.17,4.06,4.48,3.71,3.97,3.44,4.37,3.81,3.98,3.86,4.4,4.58,4.89,4.4,3.84,4.24,4.1,3.67,3.99,4.25,3.77,4.18,4.4,4.46,4.31,4.08,3.86,4.46,3.85,3.98,4.28,4.52,4.19,4.28,3.71,4.19,4.11,4.31,4.41,4.27,3.85,4.02,4.47,4.11,4.69,4.14,3.74,3.8,3.93,3.9,3.66,3.83,4.43,4.26,3.93,3.6,4.03,3.82,3.25,4.66,3.66,4.75,3.64,3.7,4.91,4.64,3.99,4.35,3.72,3.61,3.52,4.41,4.04,3.95,3.94,4.11,4.0,4.32,4.59,3.8,3.97,4.36,3.52,4.06,4.13,4.2,4.73,4.22,3.8,4.0,3.79,4.03,4.47,3.43,4.01,4.19,3.84,4.48,4.485967190704033,3.85,4.12,3.87,4.13,4.74,4.34,3.93,4.03,4.06,3.9,3.92,4.23,4.1,4.45,4.67,4.41,4.09,3.9,4.28,4.34,4.75,4.08,3.8,4.23,4.16,4.49,4.29,4.66,4.45,4.05,4.13,4.44,3.66,3.97,4.01,3.8,4.59,3.93,3.78,3.95,4.56,4.5,4.485967190704033,3.97,4.05,4.36,3.9,4.08,3.64,4.11,4.4,3.73,5.04,4.54,3.97,3.54,4.06,4.63,3.89,3.86,4.0,3.81,3.81,4.485967190704033,4.07,4.52,3.6,4.19,4.29,4.08,4.18,4.47,3.65,4.06,4.45,4.92,4.19,3.69,3.98,3.72,4.42,4.53,4.01,4.47,4.0,4.52,4.02,4.12,4.94,3.63,4.42,4.25,4.02,4.26,4.38,3.79,4.08,4.29,4.485967190704033,4.57,3.74,4.41,4.17,4.04,4.61,3.99,3.95,4.19,4.04,4.03,4.33,4.22,4.51,3.82,4.6,4.21,4.08,4.22,4.06,4.32,3.81,3.66,3.71,4.38,3.86,3.77,3.89,4.485967190704033,3.79,4.43,4.485967190704033,4.36,4.49,4.35,4.35,3.64,4.05,4.21,3.87,4.31,3.91,3.77,3.32,4.38,3.75,4.28,4.44,4.13,3.88,4.14,4.5,3.97,3.96,4.17,3.57,4.31,4.04,3.78,4.67,3.85,4.5,4.43,4.12,4.17,4.43,3.97,4.33,3.93,4.485967190704033,3.78,3.87,4.48,4.24,4.18,3.87,4.5,3.12,4.77,4.29,4.6,4.51,4.4,4.18,4.15,4.17,4.57,4.485967190704033,4.27,3.75,4.14,4.32,3.85,4.89,4.32,3.62,3.97,4.11,4.42,4.15,4.24,3.53,3.86,3.71,3.52,4.29,3.91,4.0,4.06,4.53,3.81,4.17,3.88,4.49,4.16,3.79,4.28,4.78,4.41,4.32,4.2,4.75,4.13,4.34,4.34,4.66,3.59,3.81,4.87,3.91,3.69,4.12,3.87,4.485967190704033,4.485967190704033,4.18,3.79,3.48,3.72,4.17,4.18,4.41,3.95,3.94,4.36,4.1,4.26,4.52,3.85,4.44,4.43,3.44,3.86,3.9,4.13,3.82,4.04,3.9,3.84,3.84,4.485967190704033,3.76,4.25,4.5,3.98,3.83,4.91,3.9,4.11,4.54,3.86,4.06,4.0,4.27,4.49,3.73,3.66,4.28,4.0,4.47,4.25,3.77,3.66,4.4,4.485967190704033,3.9,2.98,3.98,4.26,3.56,3.28,3.97,4.26,3.84,4.39,4.06,4.04,4.68,4.16,4.31,4.39,4.17,4.39,4.37,4.78,3.6,3.48,4.1,4.485967190704033,4.0,4.17,4.33,3.58,3.43,3.99,4.21,3.95,3.85,4.39,4.17,4.35,4.34,4.17,4.52,3.95,4.32,4.42,4.17,4.36,3.68,4.23,4.61,4.15,4.35,4.485967190704033,4.485967190704033,4.17,3.77,4.14,3.74,4.51,3.95,4.0,3.52,4.09,4.36,4.18,4.21,4.04,3.8,4.1,4.23,3.96,4.33,3.45,4.09,3.98,3.83,4.03,4.18,3.86,3.75,4.06,4.47,4.56,3.98,4.59,4.09,4.36,4.09,4.485967190704033,4.05,3.76,4.21,4.12,4.08,4.1,3.81,3.78,3.87,4.48,3.65,4.6,3.9,4.26,4.3,4.23,3.68,3.55,4.78,4.96,4.97,5.19,5.6,5.34,4.61,4.94,5.1,4.45,4.37,4.9,4.97,5.44,5.55,5.97,5.13,5.9,5.55,5.33,5.46,4.53,6.03,6.2,4.24,3.86,5.1,6.7,5.38,6.01,5.31,6.33,4.51,5.69,5.18,5.38,5.86,5.1,5.64,5.56,5.91,6.65,4.74,4.94,4.46,5.01,5.6,4.64,6.08,5.28,5.5,5.28,5.45,6.21,5.66,5.06,4.92,5.59,4.86,5.64,4.26,4.74,5.37,4.81,6.04,4.81,5.18,5.55,5.2,5.14,5.51,4.82,5.04,4.27,4.36,6.23,4.485967190704033,5.66,5.28,4.93,5.61,4.79,5.39,4.6,4.46,5.52,5.69,5.48,5.86,3.86,4.8,4.6,6.3,4.77,4.44,5.63,4.92,5.11,5.08,4.82,4.51,5.21,4.96,4.41,4.45,4.95,5.45,5.36,4.64,5.46,6.56,4.3,5.61,4.6,5.16,6.04,4.99,4.69,4.58,5.18,4.94,4.485967190704033,4.15,5.33,6.7,5.21,4.87,5.07,5.12,5.32,5.23,5.12,5.57,6.16,6.34,4.77,5.82,5.16,5.71,5.67,5.5,4.57,4.87,4.46,5.02,5.86,5.07,4.93,5.24,4.63,5.39,4.79,5.34,5.34,4.23,4.76,6.01,5.53,4.52,5.25,4.13,5.76,5.56,6.03,4.84,5.38,4.6,5.85,5.56,6.48,5.45,5.12,4.59,4.82,4.42,5.54,4.485967190704033,4.12,4.92,5.78,4.9,5.6,5.35,4.67,5.15,5.96,5.92,5.93,4.99,5.97,4.55,5.07,5.66,5.25,4.87,5.85,4.75,5.0,4.09,4.49,4.77,4.86,6.03,5.14,5.21,5.56,4.81,4.84,5.19,5.11,4.86,5.28,4.7,5.22,4.87,4.34,4.87,5.31,5.26,5.24,5.28,5.43,5.02,4.2,5.59,5.12,6.11,5.7,5.74,6.05,5.79,4.84,5.04,5.69,5.8,5.58,5.1,5.4,5.91,5.34,5.01,4.71,5.14,5.43,6.14,3.82,5.14,5.27,4.6,4.88,5.58,5.71,4.36,5.5,6.49,5.28,5.76,5.89,5.25,4.81,4.75,5.47,5.8,5.05,4.45,5.82,5.68,5.47,4.87,4.81,4.78,4.62,5.14,4.4,5.63,4.73,4.88,5.04,5.24,5.73,5.33,4.89,5.67,5.57,6.0,4.71,5.48,5.14,5.09,5.46,6.9,4.51,4.63,5.12,4.92,5.59,4.69,4.84,4.94,5.61,5.67,5.72,4.99,4.485967190704033,4.68,4.96,5.8,4.49,5.62,5.5,5.96,5.77,4.95,5.59,4.13,4.485967190704033,5.18,4.71,5.01,4.87,5.12,5.71,6.19,5.1,4.99,5.51,6.0,5.9,5.26,3.82,5.64,4.84,5.28,4.07,5.2,5.05,5.02,4.52,5.26,5.75,4.88,4.28,5.59,4.94,5.34,6.16,5.37,4.485967190704033,6.28,5.77,5.22,5.78,5.5,6.19,5.13,5.97,5.88,4.78,5.42,4.65,5.75,5.92,5.66,5.27,5.62,5.14,5.0,5.82,5.65,4.6,5.46,6.01,5.54,5.31,5.92,4.66,5.97,5.04,4.31,5.47,4.67,5.39,5.87,4.23,5.17,5.2,5.87,5.39,4.72,4.86,5.14,5.23,5.25,4.93,4.72,5.2,4.75,5.6,4.71,5.29,5.59,4.92,5.11,4.3,5.12,5.65,5.57,4.22,5.46,4.59,5.06,5.98,4.14,6.0,5.59,6.04,4.25,5.18,5.97,4.75,6.38,5.02,5.93,5.54,4.74,5.14,6.25,5.09,5.09,4.31,5.28,5.3,5.0,4.57,4.73,4.485967190704033,5.79,5.67,4.485967190704033,4.67,4.64,6.56,5.59,5.23,4.91,4.44,5.37,5.1,5.47,4.53,4.21,5.1,4.57,5.42,5.19,4.85,4.81,4.7,5.69,6.19,5.27,5.15,5.38,4.35,6.54,5.22,5.5,4.95,4.82,5.36,5.08,5.28,4.15,6.29,4.75,5.66,5.13,5.09,6.08,5.11,5.71,5.06,4.12,4.79,5.22,5.16,3.99,4.88,5.88,4.84,6.06,5.13,5.52,4.88,5.41,4.42,5.27,5.51,5.17,4.63],\"type\":\"histogram\"}],                        {\"barmode\":\"overlay\",\"legend\":{\"bgcolor\":\"#F5F6F9\",\"font\":{\"color\":\"#4D5663\"}},\"paper_bgcolor\":\"#F5F6F9\",\"plot_bgcolor\":\"#F5F6F9\",\"template\":{\"data\":{\"barpolar\":[{\"marker\":{\"line\":{\"color\":\"#E5ECF6\",\"width\":0.5},\"pattern\":{\"fillmode\":\"overlay\",\"size\":10,\"solidity\":0.2}},\"type\":\"barpolar\"}],\"bar\":[{\"error_x\":{\"color\":\"#2a3f5f\"},\"error_y\":{\"color\":\"#2a3f5f\"},\"marker\":{\"line\":{\"color\":\"#E5ECF6\",\"width\":0.5},\"pattern\":{\"fillmode\":\"overlay\",\"size\":10,\"solidity\":0.2}},\"type\":\"bar\"}],\"carpet\":[{\"aaxis\":{\"endlinecolor\":\"#2a3f5f\",\"gridcolor\":\"white\",\"linecolor\":\"white\",\"minorgridcolor\":\"white\",\"startlinecolor\":\"#2a3f5f\"},\"baxis\":{\"endlinecolor\":\"#2a3f5f\",\"gridcolor\":\"white\",\"linecolor\":\"white\",\"minorgridcolor\":\"white\",\"startlinecolor\":\"#2a3f5f\"},\"type\":\"carpet\"}],\"choropleth\":[{\"colorbar\":{\"outlinewidth\":0,\"ticks\":\"\"},\"type\":\"choropleth\"}],\"contourcarpet\":[{\"colorbar\":{\"outlinewidth\":0,\"ticks\":\"\"},\"type\":\"contourcarpet\"}],\"contour\":[{\"colorbar\":{\"outlinewidth\":0,\"ticks\":\"\"},\"colorscale\":[[0.0,\"#0d0887\"],[0.1111111111111111,\"#46039f\"],[0.2222222222222222,\"#7201a8\"],[0.3333333333333333,\"#9c179e\"],[0.4444444444444444,\"#bd3786\"],[0.5555555555555556,\"#d8576b\"],[0.6666666666666666,\"#ed7953\"],[0.7777777777777778,\"#fb9f3a\"],[0.8888888888888888,\"#fdca26\"],[1.0,\"#f0f921\"]],\"type\":\"contour\"}],\"heatmapgl\":[{\"colorbar\":{\"outlinewidth\":0,\"ticks\":\"\"},\"colorscale\":[[0.0,\"#0d0887\"],[0.1111111111111111,\"#46039f\"],[0.2222222222222222,\"#7201a8\"],[0.3333333333333333,\"#9c179e\"],[0.4444444444444444,\"#bd3786\"],[0.5555555555555556,\"#d8576b\"],[0.6666666666666666,\"#ed7953\"],[0.7777777777777778,\"#fb9f3a\"],[0.8888888888888888,\"#fdca26\"],[1.0,\"#f0f921\"]],\"type\":\"heatmapgl\"}],\"heatmap\":[{\"colorbar\":{\"outlinewidth\":0,\"ticks\":\"\"},\"colorscale\":[[0.0,\"#0d0887\"],[0.1111111111111111,\"#46039f\"],[0.2222222222222222,\"#7201a8\"],[0.3333333333333333,\"#9c179e\"],[0.4444444444444444,\"#bd3786\"],[0.5555555555555556,\"#d8576b\"],[0.6666666666666666,\"#ed7953\"],[0.7777777777777778,\"#fb9f3a\"],[0.8888888888888888,\"#fdca26\"],[1.0,\"#f0f921\"]],\"type\":\"heatmap\"}],\"histogram2dcontour\":[{\"colorbar\":{\"outlinewidth\":0,\"ticks\":\"\"},\"colorscale\":[[0.0,\"#0d0887\"],[0.1111111111111111,\"#46039f\"],[0.2222222222222222,\"#7201a8\"],[0.3333333333333333,\"#9c179e\"],[0.4444444444444444,\"#bd3786\"],[0.5555555555555556,\"#d8576b\"],[0.6666666666666666,\"#ed7953\"],[0.7777777777777778,\"#fb9f3a\"],[0.8888888888888888,\"#fdca26\"],[1.0,\"#f0f921\"]],\"type\":\"histogram2dcontour\"}],\"histogram2d\":[{\"colorbar\":{\"outlinewidth\":0,\"ticks\":\"\"},\"colorscale\":[[0.0,\"#0d0887\"],[0.1111111111111111,\"#46039f\"],[0.2222222222222222,\"#7201a8\"],[0.3333333333333333,\"#9c179e\"],[0.4444444444444444,\"#bd3786\"],[0.5555555555555556,\"#d8576b\"],[0.6666666666666666,\"#ed7953\"],[0.7777777777777778,\"#fb9f3a\"],[0.8888888888888888,\"#fdca26\"],[1.0,\"#f0f921\"]],\"type\":\"histogram2d\"}],\"histogram\":[{\"marker\":{\"pattern\":{\"fillmode\":\"overlay\",\"size\":10,\"solidity\":0.2}},\"type\":\"histogram\"}],\"mesh3d\":[{\"colorbar\":{\"outlinewidth\":0,\"ticks\":\"\"},\"type\":\"mesh3d\"}],\"parcoords\":[{\"line\":{\"colorbar\":{\"outlinewidth\":0,\"ticks\":\"\"}},\"type\":\"parcoords\"}],\"pie\":[{\"automargin\":true,\"type\":\"pie\"}],\"scatter3d\":[{\"line\":{\"colorbar\":{\"outlinewidth\":0,\"ticks\":\"\"}},\"marker\":{\"colorbar\":{\"outlinewidth\":0,\"ticks\":\"\"}},\"type\":\"scatter3d\"}],\"scattercarpet\":[{\"marker\":{\"colorbar\":{\"outlinewidth\":0,\"ticks\":\"\"}},\"type\":\"scattercarpet\"}],\"scattergeo\":[{\"marker\":{\"colorbar\":{\"outlinewidth\":0,\"ticks\":\"\"}},\"type\":\"scattergeo\"}],\"scattergl\":[{\"marker\":{\"colorbar\":{\"outlinewidth\":0,\"ticks\":\"\"}},\"type\":\"scattergl\"}],\"scattermapbox\":[{\"marker\":{\"colorbar\":{\"outlinewidth\":0,\"ticks\":\"\"}},\"type\":\"scattermapbox\"}],\"scatterpolargl\":[{\"marker\":{\"colorbar\":{\"outlinewidth\":0,\"ticks\":\"\"}},\"type\":\"scatterpolargl\"}],\"scatterpolar\":[{\"marker\":{\"colorbar\":{\"outlinewidth\":0,\"ticks\":\"\"}},\"type\":\"scatterpolar\"}],\"scatter\":[{\"fillpattern\":{\"fillmode\":\"overlay\",\"size\":10,\"solidity\":0.2},\"type\":\"scatter\"}],\"scatterternary\":[{\"marker\":{\"colorbar\":{\"outlinewidth\":0,\"ticks\":\"\"}},\"type\":\"scatterternary\"}],\"surface\":[{\"colorbar\":{\"outlinewidth\":0,\"ticks\":\"\"},\"colorscale\":[[0.0,\"#0d0887\"],[0.1111111111111111,\"#46039f\"],[0.2222222222222222,\"#7201a8\"],[0.3333333333333333,\"#9c179e\"],[0.4444444444444444,\"#bd3786\"],[0.5555555555555556,\"#d8576b\"],[0.6666666666666666,\"#ed7953\"],[0.7777777777777778,\"#fb9f3a\"],[0.8888888888888888,\"#fdca26\"],[1.0,\"#f0f921\"]],\"type\":\"surface\"}],\"table\":[{\"cells\":{\"fill\":{\"color\":\"#EBF0F8\"},\"line\":{\"color\":\"white\"}},\"header\":{\"fill\":{\"color\":\"#C8D4E3\"},\"line\":{\"color\":\"white\"}},\"type\":\"table\"}]},\"layout\":{\"annotationdefaults\":{\"arrowcolor\":\"#2a3f5f\",\"arrowhead\":0,\"arrowwidth\":1},\"autotypenumbers\":\"strict\",\"coloraxis\":{\"colorbar\":{\"outlinewidth\":0,\"ticks\":\"\"}},\"colorscale\":{\"diverging\":[[0,\"#8e0152\"],[0.1,\"#c51b7d\"],[0.2,\"#de77ae\"],[0.3,\"#f1b6da\"],[0.4,\"#fde0ef\"],[0.5,\"#f7f7f7\"],[0.6,\"#e6f5d0\"],[0.7,\"#b8e186\"],[0.8,\"#7fbc41\"],[0.9,\"#4d9221\"],[1,\"#276419\"]],\"sequential\":[[0.0,\"#0d0887\"],[0.1111111111111111,\"#46039f\"],[0.2222222222222222,\"#7201a8\"],[0.3333333333333333,\"#9c179e\"],[0.4444444444444444,\"#bd3786\"],[0.5555555555555556,\"#d8576b\"],[0.6666666666666666,\"#ed7953\"],[0.7777777777777778,\"#fb9f3a\"],[0.8888888888888888,\"#fdca26\"],[1.0,\"#f0f921\"]],\"sequentialminus\":[[0.0,\"#0d0887\"],[0.1111111111111111,\"#46039f\"],[0.2222222222222222,\"#7201a8\"],[0.3333333333333333,\"#9c179e\"],[0.4444444444444444,\"#bd3786\"],[0.5555555555555556,\"#d8576b\"],[0.6666666666666666,\"#ed7953\"],[0.7777777777777778,\"#fb9f3a\"],[0.8888888888888888,\"#fdca26\"],[1.0,\"#f0f921\"]]},\"colorway\":[\"#636efa\",\"#EF553B\",\"#00cc96\",\"#ab63fa\",\"#FFA15A\",\"#19d3f3\",\"#FF6692\",\"#B6E880\",\"#FF97FF\",\"#FECB52\"],\"font\":{\"color\":\"#2a3f5f\"},\"geo\":{\"bgcolor\":\"white\",\"lakecolor\":\"white\",\"landcolor\":\"#E5ECF6\",\"showlakes\":true,\"showland\":true,\"subunitcolor\":\"white\"},\"hoverlabel\":{\"align\":\"left\"},\"hovermode\":\"closest\",\"mapbox\":{\"style\":\"light\"},\"paper_bgcolor\":\"white\",\"plot_bgcolor\":\"#E5ECF6\",\"polar\":{\"angularaxis\":{\"gridcolor\":\"white\",\"linecolor\":\"white\",\"ticks\":\"\"},\"bgcolor\":\"#E5ECF6\",\"radialaxis\":{\"gridcolor\":\"white\",\"linecolor\":\"white\",\"ticks\":\"\"}},\"scene\":{\"xaxis\":{\"backgroundcolor\":\"#E5ECF6\",\"gridcolor\":\"white\",\"gridwidth\":2,\"linecolor\":\"white\",\"showbackground\":true,\"ticks\":\"\",\"zerolinecolor\":\"white\"},\"yaxis\":{\"backgroundcolor\":\"#E5ECF6\",\"gridcolor\":\"white\",\"gridwidth\":2,\"linecolor\":\"white\",\"showbackground\":true,\"ticks\":\"\",\"zerolinecolor\":\"white\"},\"zaxis\":{\"backgroundcolor\":\"#E5ECF6\",\"gridcolor\":\"white\",\"gridwidth\":2,\"linecolor\":\"white\",\"showbackground\":true,\"ticks\":\"\",\"zerolinecolor\":\"white\"}},\"shapedefaults\":{\"line\":{\"color\":\"#2a3f5f\"}},\"ternary\":{\"aaxis\":{\"gridcolor\":\"white\",\"linecolor\":\"white\",\"ticks\":\"\"},\"baxis\":{\"gridcolor\":\"white\",\"linecolor\":\"white\",\"ticks\":\"\"},\"bgcolor\":\"#E5ECF6\",\"caxis\":{\"gridcolor\":\"white\",\"linecolor\":\"white\",\"ticks\":\"\"}},\"title\":{\"x\":0.05},\"xaxis\":{\"automargin\":true,\"gridcolor\":\"white\",\"linecolor\":\"white\",\"ticks\":\"\",\"title\":{\"standoff\":15},\"zerolinecolor\":\"white\",\"zerolinewidth\":2},\"yaxis\":{\"automargin\":true,\"gridcolor\":\"white\",\"linecolor\":\"white\",\"ticks\":\"\",\"title\":{\"standoff\":15},\"zerolinecolor\":\"white\",\"zerolinewidth\":2}}},\"title\":{\"font\":{\"color\":\"#4D5663\"},\"text\":\"Distribution of margin_low\"},\"xaxis\":{\"gridcolor\":\"#E1E5ED\",\"showgrid\":true,\"tickfont\":{\"color\":\"#4D5663\"},\"title\":{\"font\":{\"color\":\"#4D5663\"},\"text\":\"margin_low\"},\"zerolinecolor\":\"#E1E5ED\"},\"yaxis\":{\"gridcolor\":\"#E1E5ED\",\"showgrid\":true,\"tickfont\":{\"color\":\"#4D5663\"},\"title\":{\"font\":{\"color\":\"#4D5663\"},\"text\":\"Count\"},\"zerolinecolor\":\"#E1E5ED\"}},                        {\"showLink\": true, \"linkText\": \"Export to plot.ly\", \"plotlyServerURL\": \"https://plot.ly\", \"responsive\": true}                    ).then(function(){\n",
       "                            \n",
       "var gd = document.getElementById('8d2bcbc9-03ff-453f-a723-bae7177352c0');\n",
       "var x = new MutationObserver(function (mutations, observer) {{\n",
       "        var display = window.getComputedStyle(gd).display;\n",
       "        if (!display || display === 'none') {{\n",
       "            console.log([gd, 'removed!']);\n",
       "            Plotly.purge(gd);\n",
       "            observer.disconnect();\n",
       "        }}\n",
       "}});\n",
       "\n",
       "// Listen for the removal of the full notebook cells\n",
       "var notebookContainer = gd.closest('#notebook-container');\n",
       "if (notebookContainer) {{\n",
       "    x.observe(notebookContainer, {childList: true});\n",
       "}}\n",
       "\n",
       "// Listen for the clearing of the current output cell\n",
       "var outputEl = gd.closest('.output');\n",
       "if (outputEl) {{\n",
       "    x.observe(outputEl, {childList: true});\n",
       "}}\n",
       "\n",
       "                        })                };                });            </script>        </div>"
      ]
     },
     "metadata": {},
     "output_type": "display_data"
    }
   ],
   "source": [
    "distr(df['margin_low'],title='Distribution of margin_low',xlabel='margin_low',ylabel='Count')"
   ]
  },
  {
   "cell_type": "code",
   "execution_count": 13,
   "metadata": {},
   "outputs": [
    {
     "data": {
      "application/vnd.plotly.v1+json": {
       "config": {
        "linkText": "Export to plot.ly",
        "plotlyServerURL": "https://plot.ly",
        "showLink": true
       },
       "data": [
        {
         "histfunc": "count",
         "histnorm": "",
         "marker": {
          "color": "rgba(255, 153, 51, 1.0)",
          "line": {
           "color": "#4D5663",
           "width": 1.3
          }
         },
         "name": "margin_up",
         "opacity": 0.8,
         "orientation": "v",
         "type": "histogram",
         "x": [
          2.89,
          2.99,
          2.94,
          3.01,
          3.48,
          2.95,
          3.26,
          2.92,
          3.25,
          3.25,
          3.18,
          3.27,
          2.96,
          3.38,
          2.92,
          2.78,
          2.82,
          3.33,
          3.28,
          3.15,
          2.97,
          2.8,
          2.89,
          3.13,
          3.19,
          2.88,
          3.1,
          3.17,
          3.23,
          2.92,
          2.83,
          3.14,
          2.9,
          2.93,
          2.69,
          3.03,
          3.29,
          3.19,
          3.29,
          3.08,
          2.86,
          3.21,
          3.02,
          3.15,
          3.18,
          3.05,
          2.92,
          2.87,
          3.61,
          2.9,
          3,
          2.85,
          3.74,
          3.04,
          3.46,
          3.04,
          2.68,
          2.98,
          3.41,
          3.16,
          3.01,
          3,
          2.96,
          2.75,
          2.96,
          3.14,
          3.31,
          3.07,
          2.86,
          2.94,
          2.93,
          3.05,
          3.25,
          2.85,
          2.77,
          3.2,
          3.37,
          2.77,
          2.97,
          3.14,
          3.02,
          2.95,
          3.26,
          3.14,
          3.21,
          3.06,
          2.87,
          3.28,
          2.77,
          3.19,
          3.08,
          2.97,
          3.03,
          3.12,
          3.17,
          3.32,
          3.16,
          3.15,
          2.85,
          3.14,
          3.03,
          3.19,
          3.15,
          3.12,
          3.09,
          2.98,
          3.19,
          3.2,
          3.11,
          3.16,
          2.9,
          2.85,
          3.08,
          3.2,
          2.98,
          2.99,
          3.32,
          3.17,
          2.93,
          3.03,
          3.31,
          3.02,
          3.06,
          2.9,
          3.06,
          3.54,
          2.83,
          2.96,
          3.28,
          3.18,
          3.51,
          2.69,
          2.99,
          3.21,
          2.74,
          2.71,
          3.22,
          3.15,
          2.93,
          3.16,
          2.77,
          3.08,
          2.84,
          3.2,
          3.12,
          3.12,
          3.05,
          3.07,
          2.68,
          3.03,
          2.79,
          3.02,
          2.97,
          3.23,
          2.97,
          2.96,
          2.74,
          3.01,
          3.15,
          3.35,
          3.31,
          3.06,
          2.95,
          3.33,
          2.8,
          2.87,
          2.86,
          3.17,
          3.04,
          3.06,
          3.21,
          3.16,
          2.99,
          2.92,
          2.83,
          3,
          2.77,
          3.04,
          3.15,
          3.04,
          2.92,
          3.13,
          3.02,
          3.05,
          2.82,
          3.09,
          3,
          3.38,
          3.17,
          3.49,
          3.02,
          3.34,
          2.87,
          3.37,
          2.87,
          3.34,
          3.2,
          3.62,
          2.97,
          3.1,
          2.96,
          3.15,
          3.24,
          2.99,
          3.07,
          3.08,
          3.18,
          3.33,
          3.17,
          3.38,
          2.95,
          2.85,
          3.29,
          3.1,
          3.14,
          3.24,
          3.15,
          3.11,
          2.82,
          2.91,
          3.25,
          3.14,
          3.12,
          2.88,
          3.26,
          3.14,
          2.86,
          2.69,
          3.1,
          2.94,
          3.08,
          3.27,
          3.2,
          3.35,
          3.12,
          3.17,
          3.06,
          3.2,
          2.9,
          3.46,
          2.8,
          3.02,
          3.29,
          2.82,
          3.23,
          3.12,
          2.94,
          3.23,
          2.83,
          2.87,
          3.01,
          2.95,
          3.34,
          3.39,
          2.98,
          3.11,
          3.31,
          2.81,
          3.03,
          2.86,
          2.67,
          2.81,
          3.03,
          3,
          3.24,
          2.87,
          3.41,
          3.04,
          2.68,
          3.26,
          2.91,
          3.22,
          3.29,
          3.24,
          2.87,
          3.05,
          3.14,
          3.29,
          2.92,
          3.23,
          3.29,
          3.07,
          2.94,
          3.2,
          3.23,
          2.86,
          3.02,
          2.88,
          3.17,
          2.97,
          3.12,
          3.18,
          3.01,
          3.01,
          3.07,
          3.42,
          2.89,
          3.03,
          2.81,
          2.86,
          3.05,
          3.15,
          3.04,
          3,
          3.09,
          2.95,
          3.13,
          3.33,
          3.02,
          2.81,
          3.18,
          3.07,
          3,
          2.95,
          3.08,
          2.96,
          2.88,
          3.03,
          3.06,
          2.73,
          3.02,
          3.14,
          2.97,
          2.86,
          2.89,
          3.31,
          3.05,
          3.36,
          3.12,
          3.45,
          2.75,
          3.02,
          3.19,
          3.08,
          3,
          2.87,
          2.65,
          2.89,
          2.96,
          2.98,
          2.98,
          3.38,
          2.97,
          2.96,
          3.41,
          3.34,
          2.77,
          3.2,
          3.08,
          2.87,
          3.15,
          2.6,
          2.81,
          2.98,
          2.7,
          3.22,
          2.86,
          2.93,
          2.61,
          3.32,
          2.93,
          3.04,
          2.96,
          2.92,
          2.99,
          3.14,
          2.99,
          2.64,
          3.3,
          3.4,
          3.21,
          3.12,
          2.94,
          3.05,
          3,
          3.09,
          3,
          3.17,
          3.1,
          3.04,
          2.91,
          3.25,
          3.08,
          3.29,
          2.56,
          3.11,
          3.01,
          2.82,
          3.11,
          2.82,
          2.99,
          2.84,
          3.01,
          3.04,
          3.25,
          2.73,
          3.08,
          3.3,
          2.89,
          3.36,
          3.22,
          2.83,
          3.06,
          2.75,
          2.92,
          3.01,
          2.8,
          3.06,
          3.06,
          3.15,
          3.12,
          3.21,
          3.09,
          3.16,
          2.93,
          3.15,
          3.18,
          3.2,
          2.93,
          3.32,
          3.1,
          2.94,
          2.96,
          2.67,
          2.8,
          3.01,
          2.92,
          3,
          3.17,
          3.18,
          3.18,
          3.12,
          3.06,
          3.17,
          3.14,
          3.25,
          2.82,
          3.05,
          3.17,
          2.76,
          3.05,
          3.29,
          2.87,
          2.95,
          3.15,
          3.01,
          3.07,
          2.84,
          3.34,
          2.91,
          2.96,
          2.78,
          3.11,
          2.93,
          3.12,
          2.81,
          3.15,
          2.97,
          3.3,
          3.23,
          3.12,
          3.1,
          2.91,
          3.08,
          2.91,
          2.95,
          3.05,
          3.14,
          3.13,
          3.08,
          3.19,
          3.17,
          2.84,
          3.01,
          3.05,
          2.82,
          3.18,
          2.81,
          3.2,
          3.14,
          2.65,
          2.71,
          2.96,
          3.23,
          3.1,
          3.32,
          2.81,
          2.92,
          3.37,
          3.2,
          3.12,
          2.94,
          2.94,
          3.34,
          2.99,
          2.95,
          3.2,
          3.08,
          2.75,
          3.02,
          2.81,
          3.1,
          3.03,
          3.14,
          2.93,
          2.98,
          3.2,
          2.99,
          3.01,
          2.81,
          2.94,
          3.14,
          3.07,
          2.85,
          3.13,
          3,
          2.95,
          3.08,
          3.31,
          3.48,
          3.04,
          2.75,
          3.12,
          3.16,
          3.26,
          3.17,
          3,
          2.8,
          3.29,
          3.11,
          2.87,
          3.41,
          3.08,
          2.86,
          3.21,
          3.33,
          3.14,
          3.1,
          2.82,
          2.82,
          3.07,
          3.26,
          3.11,
          3.01,
          3.01,
          2.82,
          3.17,
          2.8,
          2.98,
          2.89,
          3.18,
          2.97,
          2.86,
          3.12,
          3.17,
          2.7,
          3.05,
          3.29,
          3.08,
          3.21,
          3.28,
          3,
          2.87,
          3.15,
          2.92,
          2.95,
          3.13,
          2.82,
          2.78,
          2.85,
          3.44,
          2.78,
          2.76,
          2.83,
          3.19,
          3.42,
          3.37,
          2.86,
          3.28,
          3.04,
          3.37,
          3.33,
          2.91,
          3.01,
          2.84,
          3.38,
          3.17,
          2.77,
          3.09,
          3.28,
          3.07,
          3.3,
          3.08,
          2.9,
          3.1,
          2.71,
          2.88,
          3.22,
          2.93,
          2.85,
          3.03,
          2.95,
          2.96,
          2.77,
          3.03,
          3.12,
          3.01,
          2.89,
          3.08,
          2.71,
          3.18,
          3.3,
          3.29,
          3.34,
          2.97,
          3.09,
          2.91,
          3.07,
          3.05,
          2.84,
          2.94,
          3.02,
          2.97,
          3.19,
          2.95,
          2.99,
          3.21,
          2.76,
          3.12,
          3.18,
          3.07,
          3.14,
          2.94,
          2.93,
          2.99,
          2.79,
          2.92,
          2.8,
          2.95,
          2.75,
          2.95,
          3.08,
          3.07,
          2.99,
          3.28,
          3.12,
          2.94,
          3.02,
          2.91,
          3.24,
          3.25,
          3,
          2.83,
          3.1,
          2.7,
          3.32,
          3.12,
          2.77,
          3.22,
          2.7,
          3.16,
          3.25,
          2.88,
          3.12,
          2.27,
          2.99,
          2.9,
          3.19,
          3.33,
          3.02,
          3.53,
          3.2,
          3.26,
          3.25,
          3.24,
          2.56,
          2.92,
          2.71,
          3.5,
          3.03,
          3.01,
          3.07,
          3.22,
          2.95,
          3.24,
          3.3,
          2.94,
          2.89,
          2.98,
          3.17,
          3.18,
          3.2,
          2.84,
          3.04,
          3.09,
          3.06,
          3,
          3.09,
          2.84,
          3.31,
          2.99,
          3.04,
          3.06,
          2.91,
          2.84,
          3.22,
          3.13,
          2.97,
          2.98,
          3.35,
          3.07,
          3.08,
          3.28,
          2.66,
          2.79,
          2.98,
          2.95,
          3.08,
          2.62,
          3.06,
          2.97,
          3.25,
          2.92,
          3.17,
          3.19,
          3.15,
          2.8,
          2.97,
          3.35,
          3.36,
          3.08,
          3,
          3.15,
          3.2,
          3.22,
          2.97,
          3.19,
          3.32,
          3.03,
          3.09,
          3.09,
          2.88,
          3.24,
          3.33,
          3.07,
          2.84,
          3.07,
          3.36,
          3.11,
          2.92,
          3.21,
          2.94,
          3.01,
          3.24,
          3.09,
          3.13,
          3.13,
          3.16,
          3.19,
          2.89,
          3.1,
          2.99,
          2.77,
          3.35,
          3.12,
          3.29,
          3.02,
          3.29,
          3.22,
          3,
          2.88,
          2.76,
          3.06,
          3.1,
          3.33,
          2.98,
          2.88,
          2.97,
          3.02,
          2.86,
          3.13,
          2.93,
          3.16,
          3.07,
          3.39,
          3.12,
          3.39,
          3.29,
          2.99,
          2.87,
          2.99,
          3.49,
          2.92,
          2.99,
          3.54,
          3.01,
          2.98,
          2.86,
          3.01,
          2.9,
          2.58,
          3.21,
          2.88,
          3.03,
          2.76,
          3.02,
          3.04,
          3.22,
          2.97,
          3.13,
          3.31,
          3.35,
          2.92,
          2.83,
          3.09,
          3.2,
          2.95,
          2.73,
          3.09,
          3.17,
          3.06,
          3,
          3.11,
          3.08,
          3.25,
          2.87,
          2.99,
          2.85,
          3.27,
          2.96,
          3.32,
          3.02,
          3,
          3.06,
          2.85,
          2.78,
          3.19,
          2.75,
          2.83,
          3.04,
          2.96,
          3.1,
          3.01,
          3.16,
          2.99,
          2.9,
          3.04,
          3.14,
          3.12,
          2.96,
          3.17,
          3.02,
          2.65,
          3.03,
          3.02,
          2.8,
          3.08,
          3.34,
          3.02,
          3.09,
          3.12,
          2.9,
          2.88,
          3.21,
          3.1,
          3.23,
          3.17,
          3.28,
          3.09,
          3.25,
          2.98,
          3.07,
          3.2,
          3.11,
          3.19,
          3.13,
          2.96,
          2.9,
          3.07,
          3.01,
          3.12,
          3.06,
          3.12,
          3.04,
          3.04,
          3.15,
          3.11,
          3.3,
          3.24,
          3.2,
          3.03,
          3.38,
          3.45,
          3.4,
          3.04,
          2.98,
          2.99,
          2.76,
          3.2,
          2.98,
          3.22,
          2.88,
          3.37,
          3.11,
          3.03,
          3.02,
          3.08,
          2.89,
          3.05,
          3.35,
          3.18,
          2.87,
          2.8,
          3.32,
          2.98,
          3.09,
          3.39,
          3.37,
          2.74,
          2.58,
          2.65,
          2.88,
          2.88,
          3.07,
          2.66,
          2.73,
          3.08,
          3.07,
          2.95,
          2.86,
          3.29,
          3.08,
          2.87,
          3.08,
          3.32,
          3.09,
          3.31,
          2.98,
          3.26,
          2.98,
          3.08,
          3.27,
          2.84,
          2.8,
          3.33,
          3.02,
          3.27,
          2.97,
          2.97,
          3.18,
          3.13,
          2.87,
          3.36,
          3.33,
          3.32,
          2.87,
          3.22,
          2.99,
          3.03,
          2.97,
          2.9,
          3.05,
          3.18,
          2.85,
          2.83,
          3.16,
          2.88,
          2.93,
          3.05,
          2.98,
          3.5,
          2.94,
          2.8,
          3.14,
          2.97,
          3.24,
          2.87,
          3.3,
          2.94,
          2.59,
          3.56,
          2.99,
          2.82,
          3.09,
          3.25,
          3.33,
          2.72,
          3.1,
          2.99,
          2.74,
          2.89,
          3.05,
          2.77,
          3.1,
          2.72,
          2.83,
          2.72,
          3.07,
          2.89,
          3.02,
          3.31,
          3.13,
          3.47,
          3.21,
          3.13,
          3.33,
          3.1,
          3.27,
          3.57,
          3.31,
          3.23,
          3.13,
          3.34,
          3.39,
          3.33,
          3.54,
          3.21,
          3.52,
          3.25,
          3.33,
          3.29,
          3.52,
          3,
          3.58,
          3.7,
          3.38,
          3.31,
          3.28,
          3.49,
          3.91,
          3.42,
          3.1,
          3.3,
          3.64,
          3.35,
          3.27,
          3.52,
          3.37,
          3.13,
          3.19,
          3.41,
          3.63,
          3.4,
          3.27,
          3.42,
          3.43,
          3.29,
          3.29,
          3.49,
          3.51,
          3.29,
          3.58,
          3.38,
          3.43,
          3.39,
          3.52,
          3.33,
          3.06,
          3.45,
          3.25,
          3.29,
          3.35,
          2.99,
          3.49,
          3.32,
          3.12,
          3.02,
          3.55,
          3.63,
          3.26,
          3.41,
          3.4,
          3.4,
          3.22,
          3.24,
          3.39,
          3.21,
          3.29,
          3.42,
          3.43,
          3.47,
          3.36,
          3.54,
          3.21,
          3.14,
          3.45,
          3.43,
          3.37,
          3.44,
          3.69,
          3.73,
          3.42,
          3.61,
          3.64,
          3.65,
          3.21,
          3.47,
          3.08,
          3.69,
          3.18,
          3.54,
          3.6,
          3.6,
          3.21,
          3.42,
          3.25,
          3.29,
          3.31,
          3.11,
          3.24,
          3.3,
          3.48,
          3.27,
          3.47,
          3.16,
          3.62,
          3.42,
          3.06,
          3.41,
          3.31,
          3.61,
          3.17,
          3.4,
          3.64,
          3.11,
          3.49,
          3.25,
          3.42,
          3.3,
          3.56,
          3.63,
          3.36,
          3.57,
          3.52,
          3.5,
          3.34,
          3.36,
          3.38,
          3.35,
          3.19,
          3.49,
          3.52,
          3.56,
          3.07,
          3.05,
          3.2,
          3.14,
          3.33,
          3.21,
          3.28,
          3.14,
          3.18,
          3.22,
          3.13,
          3.31,
          3.56,
          3.26,
          3.51,
          3.21,
          3.01,
          3.41,
          3.13,
          3.33,
          3.44,
          3.12,
          3.53,
          3.15,
          3.5,
          3.49,
          3.42,
          3.26,
          3.23,
          3.5,
          3.18,
          3.57,
          3.13,
          3.02,
          3.42,
          3.34,
          3.21,
          3.1,
          3.12,
          3.56,
          3.24,
          3.24,
          3.25,
          3.66,
          3.26,
          3.4,
          3.18,
          3.52,
          3.3,
          3.32,
          3.38,
          3.21,
          3.27,
          3.16,
          3.43,
          3.37,
          3.77,
          3.43,
          3.5,
          3.29,
          3.73,
          3.31,
          3.5,
          3.46,
          3.38,
          3.32,
          3.37,
          3.3,
          3.47,
          3.31,
          3.55,
          3.6,
          3.18,
          3.58,
          3.14,
          3.22,
          3.17,
          3.19,
          3.35,
          3.42,
          3.61,
          3.61,
          3.3,
          3.55,
          3.26,
          3.51,
          3.39,
          3.11,
          3.32,
          3.23,
          3.3,
          2.96,
          3.52,
          3.45,
          3.75,
          3.31,
          3.61,
          3.43,
          3.22,
          3.7,
          3.6,
          3.32,
          3.47,
          3.41,
          3.42,
          3.14,
          3.44,
          3.25,
          3.5,
          3.26,
          3.3,
          3.2,
          3.18,
          3.37,
          3.14,
          3.33,
          3.58,
          3.59,
          3.5,
          3.4,
          3.45,
          3.41,
          3.41,
          3.18,
          2.94,
          3.39,
          3.5,
          3.81,
          3.31,
          3.16,
          3.33,
          3.26,
          3.55,
          3.33,
          3.05,
          3.58,
          3.14,
          2.94,
          3.16,
          3.35,
          3.45,
          3.09,
          3.44,
          3.16,
          3.41,
          3.53,
          3.21,
          3.36,
          3.39,
          3.64,
          3.68,
          3.17,
          3.61,
          3.31,
          3.76,
          3.25,
          3.6,
          3.46,
          3.25,
          3.31,
          2.93,
          3.42,
          3.46,
          3.28,
          3.24,
          3.4,
          2.99,
          2.92,
          3.3,
          3.04,
          3.2,
          3.39,
          3.4,
          3.51,
          3.45,
          3.42,
          3.06,
          3.35,
          3.16,
          3.07,
          3.68,
          3.6,
          3.33,
          3.13,
          3.18,
          3.24,
          3.63,
          3.3,
          3.51,
          3.41,
          3.41,
          3.37,
          3.62,
          3.44,
          3.67,
          3.23,
          3.25,
          3.28,
          3.47,
          3.47,
          3.66,
          3.14,
          3.38,
          3.46,
          3.61,
          3,
          3.22,
          3.43,
          3.16,
          3.45,
          3.08,
          3.32,
          3.03,
          3.16,
          3.65,
          3.3,
          3.43,
          3.2,
          3.1,
          2.98,
          3.37,
          3.23,
          3.3,
          3.6,
          3.08,
          3.24,
          3.37,
          3.31,
          3.34,
          3.38,
          3.54,
          3.19,
          3.22,
          3.51,
          3.35,
          3.32,
          3.37,
          3.51,
          3.19,
          3.56,
          2.99,
          3.35,
          3.3,
          3.18,
          3.07,
          3.1,
          3.41,
          3.53,
          3.07,
          3.08,
          3.31,
          3.4,
          3.24,
          3.34,
          3.44,
          3.5,
          3.39,
          3.56,
          3.41,
          3.4,
          3.5,
          3.22,
          3.11,
          3.09,
          2.98,
          3.48,
          3.27,
          3.55,
          3.23,
          3.25,
          2.95,
          3.14,
          3.46,
          3.22,
          3.12,
          3.26,
          3.08,
          3.43,
          3.63,
          3.09,
          3.05,
          3.29,
          3.35,
          3.14,
          3.11,
          3.55,
          3.49,
          3.26,
          3.31,
          3.35,
          3.65,
          3.12,
          3.56,
          3.37,
          3.58,
          3.24,
          3.32,
          3.39,
          3.1,
          3.3,
          3.49,
          3.39,
          3.34,
          3.56,
          3.31,
          3.28,
          3.4,
          3.37,
          3.43,
          3.57,
          3.54,
          3.62,
          3.56,
          3.62,
          3.39,
          3.41,
          3.25,
          3.46,
          3.33,
          3.48,
          3.68,
          3.54,
          3.68,
          3.32,
          3.36,
          3.58,
          3.26,
          3.36,
          3.36,
          3.37,
          3.2,
          3.32,
          3.01,
          3.05,
          3.61,
          3.76,
          3.01,
          3.38,
          3.71,
          3.27,
          3.72,
          3.45,
          3.39,
          3.32,
          3.17,
          3.19,
          3.28,
          3.03,
          3.51,
          3.31,
          3.35,
          3.23,
          3.09,
          3.37,
          3.36,
          3.46,
          3.37
         ]
        }
       ],
       "layout": {
        "barmode": "overlay",
        "legend": {
         "bgcolor": "#F5F6F9",
         "font": {
          "color": "#4D5663"
         }
        },
        "paper_bgcolor": "#F5F6F9",
        "plot_bgcolor": "#F5F6F9",
        "template": {
         "data": {
          "bar": [
           {
            "error_x": {
             "color": "#2a3f5f"
            },
            "error_y": {
             "color": "#2a3f5f"
            },
            "marker": {
             "line": {
              "color": "#E5ECF6",
              "width": 0.5
             },
             "pattern": {
              "fillmode": "overlay",
              "size": 10,
              "solidity": 0.2
             }
            },
            "type": "bar"
           }
          ],
          "barpolar": [
           {
            "marker": {
             "line": {
              "color": "#E5ECF6",
              "width": 0.5
             },
             "pattern": {
              "fillmode": "overlay",
              "size": 10,
              "solidity": 0.2
             }
            },
            "type": "barpolar"
           }
          ],
          "carpet": [
           {
            "aaxis": {
             "endlinecolor": "#2a3f5f",
             "gridcolor": "white",
             "linecolor": "white",
             "minorgridcolor": "white",
             "startlinecolor": "#2a3f5f"
            },
            "baxis": {
             "endlinecolor": "#2a3f5f",
             "gridcolor": "white",
             "linecolor": "white",
             "minorgridcolor": "white",
             "startlinecolor": "#2a3f5f"
            },
            "type": "carpet"
           }
          ],
          "choropleth": [
           {
            "colorbar": {
             "outlinewidth": 0,
             "ticks": ""
            },
            "type": "choropleth"
           }
          ],
          "contour": [
           {
            "colorbar": {
             "outlinewidth": 0,
             "ticks": ""
            },
            "colorscale": [
             [
              0,
              "#0d0887"
             ],
             [
              0.1111111111111111,
              "#46039f"
             ],
             [
              0.2222222222222222,
              "#7201a8"
             ],
             [
              0.3333333333333333,
              "#9c179e"
             ],
             [
              0.4444444444444444,
              "#bd3786"
             ],
             [
              0.5555555555555556,
              "#d8576b"
             ],
             [
              0.6666666666666666,
              "#ed7953"
             ],
             [
              0.7777777777777778,
              "#fb9f3a"
             ],
             [
              0.8888888888888888,
              "#fdca26"
             ],
             [
              1,
              "#f0f921"
             ]
            ],
            "type": "contour"
           }
          ],
          "contourcarpet": [
           {
            "colorbar": {
             "outlinewidth": 0,
             "ticks": ""
            },
            "type": "contourcarpet"
           }
          ],
          "heatmap": [
           {
            "colorbar": {
             "outlinewidth": 0,
             "ticks": ""
            },
            "colorscale": [
             [
              0,
              "#0d0887"
             ],
             [
              0.1111111111111111,
              "#46039f"
             ],
             [
              0.2222222222222222,
              "#7201a8"
             ],
             [
              0.3333333333333333,
              "#9c179e"
             ],
             [
              0.4444444444444444,
              "#bd3786"
             ],
             [
              0.5555555555555556,
              "#d8576b"
             ],
             [
              0.6666666666666666,
              "#ed7953"
             ],
             [
              0.7777777777777778,
              "#fb9f3a"
             ],
             [
              0.8888888888888888,
              "#fdca26"
             ],
             [
              1,
              "#f0f921"
             ]
            ],
            "type": "heatmap"
           }
          ],
          "heatmapgl": [
           {
            "colorbar": {
             "outlinewidth": 0,
             "ticks": ""
            },
            "colorscale": [
             [
              0,
              "#0d0887"
             ],
             [
              0.1111111111111111,
              "#46039f"
             ],
             [
              0.2222222222222222,
              "#7201a8"
             ],
             [
              0.3333333333333333,
              "#9c179e"
             ],
             [
              0.4444444444444444,
              "#bd3786"
             ],
             [
              0.5555555555555556,
              "#d8576b"
             ],
             [
              0.6666666666666666,
              "#ed7953"
             ],
             [
              0.7777777777777778,
              "#fb9f3a"
             ],
             [
              0.8888888888888888,
              "#fdca26"
             ],
             [
              1,
              "#f0f921"
             ]
            ],
            "type": "heatmapgl"
           }
          ],
          "histogram": [
           {
            "marker": {
             "pattern": {
              "fillmode": "overlay",
              "size": 10,
              "solidity": 0.2
             }
            },
            "type": "histogram"
           }
          ],
          "histogram2d": [
           {
            "colorbar": {
             "outlinewidth": 0,
             "ticks": ""
            },
            "colorscale": [
             [
              0,
              "#0d0887"
             ],
             [
              0.1111111111111111,
              "#46039f"
             ],
             [
              0.2222222222222222,
              "#7201a8"
             ],
             [
              0.3333333333333333,
              "#9c179e"
             ],
             [
              0.4444444444444444,
              "#bd3786"
             ],
             [
              0.5555555555555556,
              "#d8576b"
             ],
             [
              0.6666666666666666,
              "#ed7953"
             ],
             [
              0.7777777777777778,
              "#fb9f3a"
             ],
             [
              0.8888888888888888,
              "#fdca26"
             ],
             [
              1,
              "#f0f921"
             ]
            ],
            "type": "histogram2d"
           }
          ],
          "histogram2dcontour": [
           {
            "colorbar": {
             "outlinewidth": 0,
             "ticks": ""
            },
            "colorscale": [
             [
              0,
              "#0d0887"
             ],
             [
              0.1111111111111111,
              "#46039f"
             ],
             [
              0.2222222222222222,
              "#7201a8"
             ],
             [
              0.3333333333333333,
              "#9c179e"
             ],
             [
              0.4444444444444444,
              "#bd3786"
             ],
             [
              0.5555555555555556,
              "#d8576b"
             ],
             [
              0.6666666666666666,
              "#ed7953"
             ],
             [
              0.7777777777777778,
              "#fb9f3a"
             ],
             [
              0.8888888888888888,
              "#fdca26"
             ],
             [
              1,
              "#f0f921"
             ]
            ],
            "type": "histogram2dcontour"
           }
          ],
          "mesh3d": [
           {
            "colorbar": {
             "outlinewidth": 0,
             "ticks": ""
            },
            "type": "mesh3d"
           }
          ],
          "parcoords": [
           {
            "line": {
             "colorbar": {
              "outlinewidth": 0,
              "ticks": ""
             }
            },
            "type": "parcoords"
           }
          ],
          "pie": [
           {
            "automargin": true,
            "type": "pie"
           }
          ],
          "scatter": [
           {
            "fillpattern": {
             "fillmode": "overlay",
             "size": 10,
             "solidity": 0.2
            },
            "type": "scatter"
           }
          ],
          "scatter3d": [
           {
            "line": {
             "colorbar": {
              "outlinewidth": 0,
              "ticks": ""
             }
            },
            "marker": {
             "colorbar": {
              "outlinewidth": 0,
              "ticks": ""
             }
            },
            "type": "scatter3d"
           }
          ],
          "scattercarpet": [
           {
            "marker": {
             "colorbar": {
              "outlinewidth": 0,
              "ticks": ""
             }
            },
            "type": "scattercarpet"
           }
          ],
          "scattergeo": [
           {
            "marker": {
             "colorbar": {
              "outlinewidth": 0,
              "ticks": ""
             }
            },
            "type": "scattergeo"
           }
          ],
          "scattergl": [
           {
            "marker": {
             "colorbar": {
              "outlinewidth": 0,
              "ticks": ""
             }
            },
            "type": "scattergl"
           }
          ],
          "scattermapbox": [
           {
            "marker": {
             "colorbar": {
              "outlinewidth": 0,
              "ticks": ""
             }
            },
            "type": "scattermapbox"
           }
          ],
          "scatterpolar": [
           {
            "marker": {
             "colorbar": {
              "outlinewidth": 0,
              "ticks": ""
             }
            },
            "type": "scatterpolar"
           }
          ],
          "scatterpolargl": [
           {
            "marker": {
             "colorbar": {
              "outlinewidth": 0,
              "ticks": ""
             }
            },
            "type": "scatterpolargl"
           }
          ],
          "scatterternary": [
           {
            "marker": {
             "colorbar": {
              "outlinewidth": 0,
              "ticks": ""
             }
            },
            "type": "scatterternary"
           }
          ],
          "surface": [
           {
            "colorbar": {
             "outlinewidth": 0,
             "ticks": ""
            },
            "colorscale": [
             [
              0,
              "#0d0887"
             ],
             [
              0.1111111111111111,
              "#46039f"
             ],
             [
              0.2222222222222222,
              "#7201a8"
             ],
             [
              0.3333333333333333,
              "#9c179e"
             ],
             [
              0.4444444444444444,
              "#bd3786"
             ],
             [
              0.5555555555555556,
              "#d8576b"
             ],
             [
              0.6666666666666666,
              "#ed7953"
             ],
             [
              0.7777777777777778,
              "#fb9f3a"
             ],
             [
              0.8888888888888888,
              "#fdca26"
             ],
             [
              1,
              "#f0f921"
             ]
            ],
            "type": "surface"
           }
          ],
          "table": [
           {
            "cells": {
             "fill": {
              "color": "#EBF0F8"
             },
             "line": {
              "color": "white"
             }
            },
            "header": {
             "fill": {
              "color": "#C8D4E3"
             },
             "line": {
              "color": "white"
             }
            },
            "type": "table"
           }
          ]
         },
         "layout": {
          "annotationdefaults": {
           "arrowcolor": "#2a3f5f",
           "arrowhead": 0,
           "arrowwidth": 1
          },
          "autotypenumbers": "strict",
          "coloraxis": {
           "colorbar": {
            "outlinewidth": 0,
            "ticks": ""
           }
          },
          "colorscale": {
           "diverging": [
            [
             0,
             "#8e0152"
            ],
            [
             0.1,
             "#c51b7d"
            ],
            [
             0.2,
             "#de77ae"
            ],
            [
             0.3,
             "#f1b6da"
            ],
            [
             0.4,
             "#fde0ef"
            ],
            [
             0.5,
             "#f7f7f7"
            ],
            [
             0.6,
             "#e6f5d0"
            ],
            [
             0.7,
             "#b8e186"
            ],
            [
             0.8,
             "#7fbc41"
            ],
            [
             0.9,
             "#4d9221"
            ],
            [
             1,
             "#276419"
            ]
           ],
           "sequential": [
            [
             0,
             "#0d0887"
            ],
            [
             0.1111111111111111,
             "#46039f"
            ],
            [
             0.2222222222222222,
             "#7201a8"
            ],
            [
             0.3333333333333333,
             "#9c179e"
            ],
            [
             0.4444444444444444,
             "#bd3786"
            ],
            [
             0.5555555555555556,
             "#d8576b"
            ],
            [
             0.6666666666666666,
             "#ed7953"
            ],
            [
             0.7777777777777778,
             "#fb9f3a"
            ],
            [
             0.8888888888888888,
             "#fdca26"
            ],
            [
             1,
             "#f0f921"
            ]
           ],
           "sequentialminus": [
            [
             0,
             "#0d0887"
            ],
            [
             0.1111111111111111,
             "#46039f"
            ],
            [
             0.2222222222222222,
             "#7201a8"
            ],
            [
             0.3333333333333333,
             "#9c179e"
            ],
            [
             0.4444444444444444,
             "#bd3786"
            ],
            [
             0.5555555555555556,
             "#d8576b"
            ],
            [
             0.6666666666666666,
             "#ed7953"
            ],
            [
             0.7777777777777778,
             "#fb9f3a"
            ],
            [
             0.8888888888888888,
             "#fdca26"
            ],
            [
             1,
             "#f0f921"
            ]
           ]
          },
          "colorway": [
           "#636efa",
           "#EF553B",
           "#00cc96",
           "#ab63fa",
           "#FFA15A",
           "#19d3f3",
           "#FF6692",
           "#B6E880",
           "#FF97FF",
           "#FECB52"
          ],
          "font": {
           "color": "#2a3f5f"
          },
          "geo": {
           "bgcolor": "white",
           "lakecolor": "white",
           "landcolor": "#E5ECF6",
           "showlakes": true,
           "showland": true,
           "subunitcolor": "white"
          },
          "hoverlabel": {
           "align": "left"
          },
          "hovermode": "closest",
          "mapbox": {
           "style": "light"
          },
          "paper_bgcolor": "white",
          "plot_bgcolor": "#E5ECF6",
          "polar": {
           "angularaxis": {
            "gridcolor": "white",
            "linecolor": "white",
            "ticks": ""
           },
           "bgcolor": "#E5ECF6",
           "radialaxis": {
            "gridcolor": "white",
            "linecolor": "white",
            "ticks": ""
           }
          },
          "scene": {
           "xaxis": {
            "backgroundcolor": "#E5ECF6",
            "gridcolor": "white",
            "gridwidth": 2,
            "linecolor": "white",
            "showbackground": true,
            "ticks": "",
            "zerolinecolor": "white"
           },
           "yaxis": {
            "backgroundcolor": "#E5ECF6",
            "gridcolor": "white",
            "gridwidth": 2,
            "linecolor": "white",
            "showbackground": true,
            "ticks": "",
            "zerolinecolor": "white"
           },
           "zaxis": {
            "backgroundcolor": "#E5ECF6",
            "gridcolor": "white",
            "gridwidth": 2,
            "linecolor": "white",
            "showbackground": true,
            "ticks": "",
            "zerolinecolor": "white"
           }
          },
          "shapedefaults": {
           "line": {
            "color": "#2a3f5f"
           }
          },
          "ternary": {
           "aaxis": {
            "gridcolor": "white",
            "linecolor": "white",
            "ticks": ""
           },
           "baxis": {
            "gridcolor": "white",
            "linecolor": "white",
            "ticks": ""
           },
           "bgcolor": "#E5ECF6",
           "caxis": {
            "gridcolor": "white",
            "linecolor": "white",
            "ticks": ""
           }
          },
          "title": {
           "x": 0.05
          },
          "xaxis": {
           "automargin": true,
           "gridcolor": "white",
           "linecolor": "white",
           "ticks": "",
           "title": {
            "standoff": 15
           },
           "zerolinecolor": "white",
           "zerolinewidth": 2
          },
          "yaxis": {
           "automargin": true,
           "gridcolor": "white",
           "linecolor": "white",
           "ticks": "",
           "title": {
            "standoff": 15
           },
           "zerolinecolor": "white",
           "zerolinewidth": 2
          }
         }
        },
        "title": {
         "font": {
          "color": "#4D5663"
         },
         "text": "Distribution of margin_up"
        },
        "xaxis": {
         "gridcolor": "#E1E5ED",
         "showgrid": true,
         "tickfont": {
          "color": "#4D5663"
         },
         "title": {
          "font": {
           "color": "#4D5663"
          },
          "text": "margin_up"
         },
         "zerolinecolor": "#E1E5ED"
        },
        "yaxis": {
         "gridcolor": "#E1E5ED",
         "showgrid": true,
         "tickfont": {
          "color": "#4D5663"
         },
         "title": {
          "font": {
           "color": "#4D5663"
          },
          "text": "Count"
         },
         "zerolinecolor": "#E1E5ED"
        }
       }
      },
      "text/html": [
       "<div>                            <div id=\"151ce9ba-5c78-4d29-8778-51c0cd28acba\" class=\"plotly-graph-div\" style=\"height:525px; width:100%;\"></div>            <script type=\"text/javascript\">                require([\"plotly\"], function(Plotly) {                    window.PLOTLYENV=window.PLOTLYENV || {};\n",
       "                    window.PLOTLYENV.BASE_URL='https://plot.ly';                                    if (document.getElementById(\"151ce9ba-5c78-4d29-8778-51c0cd28acba\")) {                    Plotly.newPlot(                        \"151ce9ba-5c78-4d29-8778-51c0cd28acba\",                        [{\"histfunc\":\"count\",\"histnorm\":\"\",\"marker\":{\"color\":\"rgba(255, 153, 51, 1.0)\",\"line\":{\"color\":\"#4D5663\",\"width\":1.3}},\"name\":\"margin_up\",\"opacity\":0.8,\"orientation\":\"v\",\"x\":[2.89,2.99,2.94,3.01,3.48,2.95,3.26,2.92,3.25,3.25,3.18,3.27,2.96,3.38,2.92,2.78,2.82,3.33,3.28,3.15,2.97,2.8,2.89,3.13,3.19,2.88,3.1,3.17,3.23,2.92,2.83,3.14,2.9,2.93,2.69,3.03,3.29,3.19,3.29,3.08,2.86,3.21,3.02,3.15,3.18,3.05,2.92,2.87,3.61,2.9,3.0,2.85,3.74,3.04,3.46,3.04,2.68,2.98,3.41,3.16,3.01,3.0,2.96,2.75,2.96,3.14,3.31,3.07,2.86,2.94,2.93,3.05,3.25,2.85,2.77,3.2,3.37,2.77,2.97,3.14,3.02,2.95,3.26,3.14,3.21,3.06,2.87,3.28,2.77,3.19,3.08,2.97,3.03,3.12,3.17,3.32,3.16,3.15,2.85,3.14,3.03,3.19,3.15,3.12,3.09,2.98,3.19,3.2,3.11,3.16,2.9,2.85,3.08,3.2,2.98,2.99,3.32,3.17,2.93,3.03,3.31,3.02,3.06,2.9,3.06,3.54,2.83,2.96,3.28,3.18,3.51,2.69,2.99,3.21,2.74,2.71,3.22,3.15,2.93,3.16,2.77,3.08,2.84,3.2,3.12,3.12,3.05,3.07,2.68,3.03,2.79,3.02,2.97,3.23,2.97,2.96,2.74,3.01,3.15,3.35,3.31,3.06,2.95,3.33,2.8,2.87,2.86,3.17,3.04,3.06,3.21,3.16,2.99,2.92,2.83,3.0,2.77,3.04,3.15,3.04,2.92,3.13,3.02,3.05,2.82,3.09,3.0,3.38,3.17,3.49,3.02,3.34,2.87,3.37,2.87,3.34,3.2,3.62,2.97,3.1,2.96,3.15,3.24,2.99,3.07,3.08,3.18,3.33,3.17,3.38,2.95,2.85,3.29,3.1,3.14,3.24,3.15,3.11,2.82,2.91,3.25,3.14,3.12,2.88,3.26,3.14,2.86,2.69,3.1,2.94,3.08,3.27,3.2,3.35,3.12,3.17,3.06,3.2,2.9,3.46,2.8,3.02,3.29,2.82,3.23,3.12,2.94,3.23,2.83,2.87,3.01,2.95,3.34,3.39,2.98,3.11,3.31,2.81,3.03,2.86,2.67,2.81,3.03,3.0,3.24,2.87,3.41,3.04,2.68,3.26,2.91,3.22,3.29,3.24,2.87,3.05,3.14,3.29,2.92,3.23,3.29,3.07,2.94,3.2,3.23,2.86,3.02,2.88,3.17,2.97,3.12,3.18,3.01,3.01,3.07,3.42,2.89,3.03,2.81,2.86,3.05,3.15,3.04,3.0,3.09,2.95,3.13,3.33,3.02,2.81,3.18,3.07,3.0,2.95,3.08,2.96,2.88,3.03,3.06,2.73,3.02,3.14,2.97,2.86,2.89,3.31,3.05,3.36,3.12,3.45,2.75,3.02,3.19,3.08,3.0,2.87,2.65,2.89,2.96,2.98,2.98,3.38,2.97,2.96,3.41,3.34,2.77,3.2,3.08,2.87,3.15,2.6,2.81,2.98,2.7,3.22,2.86,2.93,2.61,3.32,2.93,3.04,2.96,2.92,2.99,3.14,2.99,2.64,3.3,3.4,3.21,3.12,2.94,3.05,3.0,3.09,3.0,3.17,3.1,3.04,2.91,3.25,3.08,3.29,2.56,3.11,3.01,2.82,3.11,2.82,2.99,2.84,3.01,3.04,3.25,2.73,3.08,3.3,2.89,3.36,3.22,2.83,3.06,2.75,2.92,3.01,2.8,3.06,3.06,3.15,3.12,3.21,3.09,3.16,2.93,3.15,3.18,3.2,2.93,3.32,3.1,2.94,2.96,2.67,2.8,3.01,2.92,3.0,3.17,3.18,3.18,3.12,3.06,3.17,3.14,3.25,2.82,3.05,3.17,2.76,3.05,3.29,2.87,2.95,3.15,3.01,3.07,2.84,3.34,2.91,2.96,2.78,3.11,2.93,3.12,2.81,3.15,2.97,3.3,3.23,3.12,3.1,2.91,3.08,2.91,2.95,3.05,3.14,3.13,3.08,3.19,3.17,2.84,3.01,3.05,2.82,3.18,2.81,3.2,3.14,2.65,2.71,2.96,3.23,3.1,3.32,2.81,2.92,3.37,3.2,3.12,2.94,2.94,3.34,2.99,2.95,3.2,3.08,2.75,3.02,2.81,3.1,3.03,3.14,2.93,2.98,3.2,2.99,3.01,2.81,2.94,3.14,3.07,2.85,3.13,3.0,2.95,3.08,3.31,3.48,3.04,2.75,3.12,3.16,3.26,3.17,3.0,2.8,3.29,3.11,2.87,3.41,3.08,2.86,3.21,3.33,3.14,3.1,2.82,2.82,3.07,3.26,3.11,3.01,3.01,2.82,3.17,2.8,2.98,2.89,3.18,2.97,2.86,3.12,3.17,2.7,3.05,3.29,3.08,3.21,3.28,3.0,2.87,3.15,2.92,2.95,3.13,2.82,2.78,2.85,3.44,2.78,2.76,2.83,3.19,3.42,3.37,2.86,3.28,3.04,3.37,3.33,2.91,3.01,2.84,3.38,3.17,2.77,3.09,3.28,3.07,3.3,3.08,2.9,3.1,2.71,2.88,3.22,2.93,2.85,3.03,2.95,2.96,2.77,3.03,3.12,3.01,2.89,3.08,2.71,3.18,3.3,3.29,3.34,2.97,3.09,2.91,3.07,3.05,2.84,2.94,3.02,2.97,3.19,2.95,2.99,3.21,2.76,3.12,3.18,3.07,3.14,2.94,2.93,2.99,2.79,2.92,2.8,2.95,2.75,2.95,3.08,3.07,2.99,3.28,3.12,2.94,3.02,2.91,3.24,3.25,3.0,2.83,3.1,2.7,3.32,3.12,2.77,3.22,2.7,3.16,3.25,2.88,3.12,2.27,2.99,2.9,3.19,3.33,3.02,3.53,3.2,3.26,3.25,3.24,2.56,2.92,2.71,3.5,3.03,3.01,3.07,3.22,2.95,3.24,3.3,2.94,2.89,2.98,3.17,3.18,3.2,2.84,3.04,3.09,3.06,3.0,3.09,2.84,3.31,2.99,3.04,3.06,2.91,2.84,3.22,3.13,2.97,2.98,3.35,3.07,3.08,3.28,2.66,2.79,2.98,2.95,3.08,2.62,3.06,2.97,3.25,2.92,3.17,3.19,3.15,2.8,2.97,3.35,3.36,3.08,3.0,3.15,3.2,3.22,2.97,3.19,3.32,3.03,3.09,3.09,2.88,3.24,3.33,3.07,2.84,3.07,3.36,3.11,2.92,3.21,2.94,3.01,3.24,3.09,3.13,3.13,3.16,3.19,2.89,3.1,2.99,2.77,3.35,3.12,3.29,3.02,3.29,3.22,3.0,2.88,2.76,3.06,3.1,3.33,2.98,2.88,2.97,3.02,2.86,3.13,2.93,3.16,3.07,3.39,3.12,3.39,3.29,2.99,2.87,2.99,3.49,2.92,2.99,3.54,3.01,2.98,2.86,3.01,2.9,2.58,3.21,2.88,3.03,2.76,3.02,3.04,3.22,2.97,3.13,3.31,3.35,2.92,2.83,3.09,3.2,2.95,2.73,3.09,3.17,3.06,3.0,3.11,3.08,3.25,2.87,2.99,2.85,3.27,2.96,3.32,3.02,3.0,3.06,2.85,2.78,3.19,2.75,2.83,3.04,2.96,3.1,3.01,3.16,2.99,2.9,3.04,3.14,3.12,2.96,3.17,3.02,2.65,3.03,3.02,2.8,3.08,3.34,3.02,3.09,3.12,2.9,2.88,3.21,3.1,3.23,3.17,3.28,3.09,3.25,2.98,3.07,3.2,3.11,3.19,3.13,2.96,2.9,3.07,3.01,3.12,3.06,3.12,3.04,3.04,3.15,3.11,3.3,3.24,3.2,3.03,3.38,3.45,3.4,3.04,2.98,2.99,2.76,3.2,2.98,3.22,2.88,3.37,3.11,3.03,3.02,3.08,2.89,3.05,3.35,3.18,2.87,2.8,3.32,2.98,3.09,3.39,3.37,2.74,2.58,2.65,2.88,2.88,3.07,2.66,2.73,3.08,3.07,2.95,2.86,3.29,3.08,2.87,3.08,3.32,3.09,3.31,2.98,3.26,2.98,3.08,3.27,2.84,2.8,3.33,3.02,3.27,2.97,2.97,3.18,3.13,2.87,3.36,3.33,3.32,2.87,3.22,2.99,3.03,2.97,2.9,3.05,3.18,2.85,2.83,3.16,2.88,2.93,3.05,2.98,3.5,2.94,2.8,3.14,2.97,3.24,2.87,3.3,2.94,2.59,3.56,2.99,2.82,3.09,3.25,3.33,2.72,3.1,2.99,2.74,2.89,3.05,2.77,3.1,2.72,2.83,2.72,3.07,2.89,3.02,3.31,3.13,3.47,3.21,3.13,3.33,3.1,3.27,3.57,3.31,3.23,3.13,3.34,3.39,3.33,3.54,3.21,3.52,3.25,3.33,3.29,3.52,3.0,3.58,3.7,3.38,3.31,3.28,3.49,3.91,3.42,3.1,3.3,3.64,3.35,3.27,3.52,3.37,3.13,3.19,3.41,3.63,3.4,3.27,3.42,3.43,3.29,3.29,3.49,3.51,3.29,3.58,3.38,3.43,3.39,3.52,3.33,3.06,3.45,3.25,3.29,3.35,2.99,3.49,3.32,3.12,3.02,3.55,3.63,3.26,3.41,3.4,3.4,3.22,3.24,3.39,3.21,3.29,3.42,3.43,3.47,3.36,3.54,3.21,3.14,3.45,3.43,3.37,3.44,3.69,3.73,3.42,3.61,3.64,3.65,3.21,3.47,3.08,3.69,3.18,3.54,3.6,3.6,3.21,3.42,3.25,3.29,3.31,3.11,3.24,3.3,3.48,3.27,3.47,3.16,3.62,3.42,3.06,3.41,3.31,3.61,3.17,3.4,3.64,3.11,3.49,3.25,3.42,3.3,3.56,3.63,3.36,3.57,3.52,3.5,3.34,3.36,3.38,3.35,3.19,3.49,3.52,3.56,3.07,3.05,3.2,3.14,3.33,3.21,3.28,3.14,3.18,3.22,3.13,3.31,3.56,3.26,3.51,3.21,3.01,3.41,3.13,3.33,3.44,3.12,3.53,3.15,3.5,3.49,3.42,3.26,3.23,3.5,3.18,3.57,3.13,3.02,3.42,3.34,3.21,3.1,3.12,3.56,3.24,3.24,3.25,3.66,3.26,3.4,3.18,3.52,3.3,3.32,3.38,3.21,3.27,3.16,3.43,3.37,3.77,3.43,3.5,3.29,3.73,3.31,3.5,3.46,3.38,3.32,3.37,3.3,3.47,3.31,3.55,3.6,3.18,3.58,3.14,3.22,3.17,3.19,3.35,3.42,3.61,3.61,3.3,3.55,3.26,3.51,3.39,3.11,3.32,3.23,3.3,2.96,3.52,3.45,3.75,3.31,3.61,3.43,3.22,3.7,3.6,3.32,3.47,3.41,3.42,3.14,3.44,3.25,3.5,3.26,3.3,3.2,3.18,3.37,3.14,3.33,3.58,3.59,3.5,3.4,3.45,3.41,3.41,3.18,2.94,3.39,3.5,3.81,3.31,3.16,3.33,3.26,3.55,3.33,3.05,3.58,3.14,2.94,3.16,3.35,3.45,3.09,3.44,3.16,3.41,3.53,3.21,3.36,3.39,3.64,3.68,3.17,3.61,3.31,3.76,3.25,3.6,3.46,3.25,3.31,2.93,3.42,3.46,3.28,3.24,3.4,2.99,2.92,3.3,3.04,3.2,3.39,3.4,3.51,3.45,3.42,3.06,3.35,3.16,3.07,3.68,3.6,3.33,3.13,3.18,3.24,3.63,3.3,3.51,3.41,3.41,3.37,3.62,3.44,3.67,3.23,3.25,3.28,3.47,3.47,3.66,3.14,3.38,3.46,3.61,3.0,3.22,3.43,3.16,3.45,3.08,3.32,3.03,3.16,3.65,3.3,3.43,3.2,3.1,2.98,3.37,3.23,3.3,3.6,3.08,3.24,3.37,3.31,3.34,3.38,3.54,3.19,3.22,3.51,3.35,3.32,3.37,3.51,3.19,3.56,2.99,3.35,3.3,3.18,3.07,3.1,3.41,3.53,3.07,3.08,3.31,3.4,3.24,3.34,3.44,3.5,3.39,3.56,3.41,3.4,3.5,3.22,3.11,3.09,2.98,3.48,3.27,3.55,3.23,3.25,2.95,3.14,3.46,3.22,3.12,3.26,3.08,3.43,3.63,3.09,3.05,3.29,3.35,3.14,3.11,3.55,3.49,3.26,3.31,3.35,3.65,3.12,3.56,3.37,3.58,3.24,3.32,3.39,3.1,3.3,3.49,3.39,3.34,3.56,3.31,3.28,3.4,3.37,3.43,3.57,3.54,3.62,3.56,3.62,3.39,3.41,3.25,3.46,3.33,3.48,3.68,3.54,3.68,3.32,3.36,3.58,3.26,3.36,3.36,3.37,3.2,3.32,3.01,3.05,3.61,3.76,3.01,3.38,3.71,3.27,3.72,3.45,3.39,3.32,3.17,3.19,3.28,3.03,3.51,3.31,3.35,3.23,3.09,3.37,3.36,3.46,3.37],\"type\":\"histogram\"}],                        {\"barmode\":\"overlay\",\"legend\":{\"bgcolor\":\"#F5F6F9\",\"font\":{\"color\":\"#4D5663\"}},\"paper_bgcolor\":\"#F5F6F9\",\"plot_bgcolor\":\"#F5F6F9\",\"template\":{\"data\":{\"barpolar\":[{\"marker\":{\"line\":{\"color\":\"#E5ECF6\",\"width\":0.5},\"pattern\":{\"fillmode\":\"overlay\",\"size\":10,\"solidity\":0.2}},\"type\":\"barpolar\"}],\"bar\":[{\"error_x\":{\"color\":\"#2a3f5f\"},\"error_y\":{\"color\":\"#2a3f5f\"},\"marker\":{\"line\":{\"color\":\"#E5ECF6\",\"width\":0.5},\"pattern\":{\"fillmode\":\"overlay\",\"size\":10,\"solidity\":0.2}},\"type\":\"bar\"}],\"carpet\":[{\"aaxis\":{\"endlinecolor\":\"#2a3f5f\",\"gridcolor\":\"white\",\"linecolor\":\"white\",\"minorgridcolor\":\"white\",\"startlinecolor\":\"#2a3f5f\"},\"baxis\":{\"endlinecolor\":\"#2a3f5f\",\"gridcolor\":\"white\",\"linecolor\":\"white\",\"minorgridcolor\":\"white\",\"startlinecolor\":\"#2a3f5f\"},\"type\":\"carpet\"}],\"choropleth\":[{\"colorbar\":{\"outlinewidth\":0,\"ticks\":\"\"},\"type\":\"choropleth\"}],\"contourcarpet\":[{\"colorbar\":{\"outlinewidth\":0,\"ticks\":\"\"},\"type\":\"contourcarpet\"}],\"contour\":[{\"colorbar\":{\"outlinewidth\":0,\"ticks\":\"\"},\"colorscale\":[[0.0,\"#0d0887\"],[0.1111111111111111,\"#46039f\"],[0.2222222222222222,\"#7201a8\"],[0.3333333333333333,\"#9c179e\"],[0.4444444444444444,\"#bd3786\"],[0.5555555555555556,\"#d8576b\"],[0.6666666666666666,\"#ed7953\"],[0.7777777777777778,\"#fb9f3a\"],[0.8888888888888888,\"#fdca26\"],[1.0,\"#f0f921\"]],\"type\":\"contour\"}],\"heatmapgl\":[{\"colorbar\":{\"outlinewidth\":0,\"ticks\":\"\"},\"colorscale\":[[0.0,\"#0d0887\"],[0.1111111111111111,\"#46039f\"],[0.2222222222222222,\"#7201a8\"],[0.3333333333333333,\"#9c179e\"],[0.4444444444444444,\"#bd3786\"],[0.5555555555555556,\"#d8576b\"],[0.6666666666666666,\"#ed7953\"],[0.7777777777777778,\"#fb9f3a\"],[0.8888888888888888,\"#fdca26\"],[1.0,\"#f0f921\"]],\"type\":\"heatmapgl\"}],\"heatmap\":[{\"colorbar\":{\"outlinewidth\":0,\"ticks\":\"\"},\"colorscale\":[[0.0,\"#0d0887\"],[0.1111111111111111,\"#46039f\"],[0.2222222222222222,\"#7201a8\"],[0.3333333333333333,\"#9c179e\"],[0.4444444444444444,\"#bd3786\"],[0.5555555555555556,\"#d8576b\"],[0.6666666666666666,\"#ed7953\"],[0.7777777777777778,\"#fb9f3a\"],[0.8888888888888888,\"#fdca26\"],[1.0,\"#f0f921\"]],\"type\":\"heatmap\"}],\"histogram2dcontour\":[{\"colorbar\":{\"outlinewidth\":0,\"ticks\":\"\"},\"colorscale\":[[0.0,\"#0d0887\"],[0.1111111111111111,\"#46039f\"],[0.2222222222222222,\"#7201a8\"],[0.3333333333333333,\"#9c179e\"],[0.4444444444444444,\"#bd3786\"],[0.5555555555555556,\"#d8576b\"],[0.6666666666666666,\"#ed7953\"],[0.7777777777777778,\"#fb9f3a\"],[0.8888888888888888,\"#fdca26\"],[1.0,\"#f0f921\"]],\"type\":\"histogram2dcontour\"}],\"histogram2d\":[{\"colorbar\":{\"outlinewidth\":0,\"ticks\":\"\"},\"colorscale\":[[0.0,\"#0d0887\"],[0.1111111111111111,\"#46039f\"],[0.2222222222222222,\"#7201a8\"],[0.3333333333333333,\"#9c179e\"],[0.4444444444444444,\"#bd3786\"],[0.5555555555555556,\"#d8576b\"],[0.6666666666666666,\"#ed7953\"],[0.7777777777777778,\"#fb9f3a\"],[0.8888888888888888,\"#fdca26\"],[1.0,\"#f0f921\"]],\"type\":\"histogram2d\"}],\"histogram\":[{\"marker\":{\"pattern\":{\"fillmode\":\"overlay\",\"size\":10,\"solidity\":0.2}},\"type\":\"histogram\"}],\"mesh3d\":[{\"colorbar\":{\"outlinewidth\":0,\"ticks\":\"\"},\"type\":\"mesh3d\"}],\"parcoords\":[{\"line\":{\"colorbar\":{\"outlinewidth\":0,\"ticks\":\"\"}},\"type\":\"parcoords\"}],\"pie\":[{\"automargin\":true,\"type\":\"pie\"}],\"scatter3d\":[{\"line\":{\"colorbar\":{\"outlinewidth\":0,\"ticks\":\"\"}},\"marker\":{\"colorbar\":{\"outlinewidth\":0,\"ticks\":\"\"}},\"type\":\"scatter3d\"}],\"scattercarpet\":[{\"marker\":{\"colorbar\":{\"outlinewidth\":0,\"ticks\":\"\"}},\"type\":\"scattercarpet\"}],\"scattergeo\":[{\"marker\":{\"colorbar\":{\"outlinewidth\":0,\"ticks\":\"\"}},\"type\":\"scattergeo\"}],\"scattergl\":[{\"marker\":{\"colorbar\":{\"outlinewidth\":0,\"ticks\":\"\"}},\"type\":\"scattergl\"}],\"scattermapbox\":[{\"marker\":{\"colorbar\":{\"outlinewidth\":0,\"ticks\":\"\"}},\"type\":\"scattermapbox\"}],\"scatterpolargl\":[{\"marker\":{\"colorbar\":{\"outlinewidth\":0,\"ticks\":\"\"}},\"type\":\"scatterpolargl\"}],\"scatterpolar\":[{\"marker\":{\"colorbar\":{\"outlinewidth\":0,\"ticks\":\"\"}},\"type\":\"scatterpolar\"}],\"scatter\":[{\"fillpattern\":{\"fillmode\":\"overlay\",\"size\":10,\"solidity\":0.2},\"type\":\"scatter\"}],\"scatterternary\":[{\"marker\":{\"colorbar\":{\"outlinewidth\":0,\"ticks\":\"\"}},\"type\":\"scatterternary\"}],\"surface\":[{\"colorbar\":{\"outlinewidth\":0,\"ticks\":\"\"},\"colorscale\":[[0.0,\"#0d0887\"],[0.1111111111111111,\"#46039f\"],[0.2222222222222222,\"#7201a8\"],[0.3333333333333333,\"#9c179e\"],[0.4444444444444444,\"#bd3786\"],[0.5555555555555556,\"#d8576b\"],[0.6666666666666666,\"#ed7953\"],[0.7777777777777778,\"#fb9f3a\"],[0.8888888888888888,\"#fdca26\"],[1.0,\"#f0f921\"]],\"type\":\"surface\"}],\"table\":[{\"cells\":{\"fill\":{\"color\":\"#EBF0F8\"},\"line\":{\"color\":\"white\"}},\"header\":{\"fill\":{\"color\":\"#C8D4E3\"},\"line\":{\"color\":\"white\"}},\"type\":\"table\"}]},\"layout\":{\"annotationdefaults\":{\"arrowcolor\":\"#2a3f5f\",\"arrowhead\":0,\"arrowwidth\":1},\"autotypenumbers\":\"strict\",\"coloraxis\":{\"colorbar\":{\"outlinewidth\":0,\"ticks\":\"\"}},\"colorscale\":{\"diverging\":[[0,\"#8e0152\"],[0.1,\"#c51b7d\"],[0.2,\"#de77ae\"],[0.3,\"#f1b6da\"],[0.4,\"#fde0ef\"],[0.5,\"#f7f7f7\"],[0.6,\"#e6f5d0\"],[0.7,\"#b8e186\"],[0.8,\"#7fbc41\"],[0.9,\"#4d9221\"],[1,\"#276419\"]],\"sequential\":[[0.0,\"#0d0887\"],[0.1111111111111111,\"#46039f\"],[0.2222222222222222,\"#7201a8\"],[0.3333333333333333,\"#9c179e\"],[0.4444444444444444,\"#bd3786\"],[0.5555555555555556,\"#d8576b\"],[0.6666666666666666,\"#ed7953\"],[0.7777777777777778,\"#fb9f3a\"],[0.8888888888888888,\"#fdca26\"],[1.0,\"#f0f921\"]],\"sequentialminus\":[[0.0,\"#0d0887\"],[0.1111111111111111,\"#46039f\"],[0.2222222222222222,\"#7201a8\"],[0.3333333333333333,\"#9c179e\"],[0.4444444444444444,\"#bd3786\"],[0.5555555555555556,\"#d8576b\"],[0.6666666666666666,\"#ed7953\"],[0.7777777777777778,\"#fb9f3a\"],[0.8888888888888888,\"#fdca26\"],[1.0,\"#f0f921\"]]},\"colorway\":[\"#636efa\",\"#EF553B\",\"#00cc96\",\"#ab63fa\",\"#FFA15A\",\"#19d3f3\",\"#FF6692\",\"#B6E880\",\"#FF97FF\",\"#FECB52\"],\"font\":{\"color\":\"#2a3f5f\"},\"geo\":{\"bgcolor\":\"white\",\"lakecolor\":\"white\",\"landcolor\":\"#E5ECF6\",\"showlakes\":true,\"showland\":true,\"subunitcolor\":\"white\"},\"hoverlabel\":{\"align\":\"left\"},\"hovermode\":\"closest\",\"mapbox\":{\"style\":\"light\"},\"paper_bgcolor\":\"white\",\"plot_bgcolor\":\"#E5ECF6\",\"polar\":{\"angularaxis\":{\"gridcolor\":\"white\",\"linecolor\":\"white\",\"ticks\":\"\"},\"bgcolor\":\"#E5ECF6\",\"radialaxis\":{\"gridcolor\":\"white\",\"linecolor\":\"white\",\"ticks\":\"\"}},\"scene\":{\"xaxis\":{\"backgroundcolor\":\"#E5ECF6\",\"gridcolor\":\"white\",\"gridwidth\":2,\"linecolor\":\"white\",\"showbackground\":true,\"ticks\":\"\",\"zerolinecolor\":\"white\"},\"yaxis\":{\"backgroundcolor\":\"#E5ECF6\",\"gridcolor\":\"white\",\"gridwidth\":2,\"linecolor\":\"white\",\"showbackground\":true,\"ticks\":\"\",\"zerolinecolor\":\"white\"},\"zaxis\":{\"backgroundcolor\":\"#E5ECF6\",\"gridcolor\":\"white\",\"gridwidth\":2,\"linecolor\":\"white\",\"showbackground\":true,\"ticks\":\"\",\"zerolinecolor\":\"white\"}},\"shapedefaults\":{\"line\":{\"color\":\"#2a3f5f\"}},\"ternary\":{\"aaxis\":{\"gridcolor\":\"white\",\"linecolor\":\"white\",\"ticks\":\"\"},\"baxis\":{\"gridcolor\":\"white\",\"linecolor\":\"white\",\"ticks\":\"\"},\"bgcolor\":\"#E5ECF6\",\"caxis\":{\"gridcolor\":\"white\",\"linecolor\":\"white\",\"ticks\":\"\"}},\"title\":{\"x\":0.05},\"xaxis\":{\"automargin\":true,\"gridcolor\":\"white\",\"linecolor\":\"white\",\"ticks\":\"\",\"title\":{\"standoff\":15},\"zerolinecolor\":\"white\",\"zerolinewidth\":2},\"yaxis\":{\"automargin\":true,\"gridcolor\":\"white\",\"linecolor\":\"white\",\"ticks\":\"\",\"title\":{\"standoff\":15},\"zerolinecolor\":\"white\",\"zerolinewidth\":2}}},\"title\":{\"font\":{\"color\":\"#4D5663\"},\"text\":\"Distribution of margin_up\"},\"xaxis\":{\"gridcolor\":\"#E1E5ED\",\"showgrid\":true,\"tickfont\":{\"color\":\"#4D5663\"},\"title\":{\"font\":{\"color\":\"#4D5663\"},\"text\":\"margin_up\"},\"zerolinecolor\":\"#E1E5ED\"},\"yaxis\":{\"gridcolor\":\"#E1E5ED\",\"showgrid\":true,\"tickfont\":{\"color\":\"#4D5663\"},\"title\":{\"font\":{\"color\":\"#4D5663\"},\"text\":\"Count\"},\"zerolinecolor\":\"#E1E5ED\"}},                        {\"showLink\": true, \"linkText\": \"Export to plot.ly\", \"plotlyServerURL\": \"https://plot.ly\", \"responsive\": true}                    ).then(function(){\n",
       "                            \n",
       "var gd = document.getElementById('151ce9ba-5c78-4d29-8778-51c0cd28acba');\n",
       "var x = new MutationObserver(function (mutations, observer) {{\n",
       "        var display = window.getComputedStyle(gd).display;\n",
       "        if (!display || display === 'none') {{\n",
       "            console.log([gd, 'removed!']);\n",
       "            Plotly.purge(gd);\n",
       "            observer.disconnect();\n",
       "        }}\n",
       "}});\n",
       "\n",
       "// Listen for the removal of the full notebook cells\n",
       "var notebookContainer = gd.closest('#notebook-container');\n",
       "if (notebookContainer) {{\n",
       "    x.observe(notebookContainer, {childList: true});\n",
       "}}\n",
       "\n",
       "// Listen for the clearing of the current output cell\n",
       "var outputEl = gd.closest('.output');\n",
       "if (outputEl) {{\n",
       "    x.observe(outputEl, {childList: true});\n",
       "}}\n",
       "\n",
       "                        })                };                });            </script>        </div>"
      ]
     },
     "metadata": {},
     "output_type": "display_data"
    }
   ],
   "source": [
    "distr(df['margin_up'],title='Distribution of margin_up',xlabel='margin_up',ylabel='Count')"
   ]
  },
  {
   "cell_type": "code",
   "execution_count": 14,
   "metadata": {},
   "outputs": [
    {
     "data": {
      "application/vnd.plotly.v1+json": {
       "config": {
        "linkText": "Export to plot.ly",
        "plotlyServerURL": "https://plot.ly",
        "showLink": true
       },
       "data": [
        {
         "histfunc": "count",
         "histnorm": "",
         "marker": {
          "color": "rgba(255, 153, 51, 1.0)",
          "line": {
           "color": "#4D5663",
           "width": 1.3
          }
         },
         "name": "length",
         "opacity": 0.8,
         "orientation": "v",
         "type": "histogram",
         "x": [
          112.83,
          113.09,
          113.16,
          113.51,
          112.54,
          112.81,
          112.81,
          113.08,
          112.85,
          113.45,
          113.22,
          113.08,
          113.24,
          113.65,
          113.19,
          112.98,
          112.87,
          113.01,
          113.47,
          113.12,
          113.59,
          112.57,
          112.68,
          113.37,
          113.34,
          113.46,
          113.47,
          113.76,
          113.64,
          113.56,
          113.55,
          113.41,
          112.92,
          112.93,
          113.48,
          113.26,
          113.93,
          112.79,
          112.67,
          113.51,
          113.16,
          113.2,
          113.5,
          113.45,
          112.9,
          113.08,
          113.53,
          113.31,
          113.05,
          113.02,
          113.28,
          113.44,
          113.94,
          113.07,
          112.4,
          113.3,
          113.5,
          113.47,
          113.5,
          113.24,
          113.03,
          113.08,
          113.16,
          113.13,
          113.39,
          113.42,
          112.68,
          112.97,
          112.82,
          113.08,
          112.97,
          113.09,
          112.79,
          114.09,
          113.09,
          112.35,
          112.87,
          113.18,
          112.95,
          113.65,
          113.2,
          113.09,
          113.65,
          113.36,
          113.09,
          113.46,
          113.28,
          113.57,
          112.95,
          113.05,
          112.74,
          113.05,
          112.83,
          113.27,
          113.28,
          113,
          113.42,
          113.56,
          113.44,
          113.08,
          113.32,
          113.42,
          112.67,
          113.5,
          113.27,
          112.91,
          114.04,
          113.22,
          113.42,
          113.26,
          113.55,
          113.02,
          113.53,
          112.89,
          113.26,
          112.94,
          113.48,
          112.59,
          113.51,
          112.74,
          112.91,
          113.02,
          113.32,
          112.87,
          113.38,
          113.24,
          112.92,
          113.02,
          113.73,
          113.4,
          113.2,
          112.81,
          113.59,
          113.43,
          113.12,
          113.71,
          113.69,
          113.15,
          113.6,
          112.6,
          113.17,
          113.33,
          113.58,
          114.13,
          112.78,
          113.04,
          113.19,
          112.87,
          112.93,
          114.04,
          113.44,
          112.93,
          113.81,
          112.97,
          113.52,
          113.22,
          113.7,
          113.6,
          113.94,
          113.19,
          113,
          113.34,
          113.68,
          112.97,
          112.9,
          113.52,
          113.18,
          112.47,
          113.46,
          112.56,
          114.03,
          113.35,
          113.1,
          113.57,
          113.3,
          113.11,
          113.22,
          112.94,
          113.46,
          113.09,
          113.04,
          112.43,
          113.49,
          112.88,
          112.68,
          113.29,
          113.15,
          113.12,
          113.44,
          113.64,
          113.6,
          112.89,
          113.41,
          112.49,
          113.14,
          113.23,
          113.05,
          113.27,
          113,
          112.87,
          112.85,
          112.71,
          112.96,
          114.08,
          113.83,
          113.02,
          113.93,
          113.08,
          113.04,
          113.9,
          113.4,
          113.59,
          113.49,
          113.08,
          112.89,
          113.23,
          113.19,
          112.84,
          112.71,
          113.17,
          113.03,
          112.99,
          113.42,
          112.67,
          113.44,
          113.3,
          113.14,
          113.52,
          112.82,
          112.9,
          112.87,
          113.69,
          113.91,
          113.23,
          113.2,
          113.45,
          113.19,
          112.71,
          113.4,
          113.73,
          113.18,
          112.36,
          113.04,
          112.79,
          112.98,
          112.85,
          113.06,
          113.45,
          113.03,
          113.29,
          113.19,
          113.22,
          113.57,
          113.39,
          113.66,
          113.41,
          112.89,
          112.94,
          113.51,
          113.28,
          113.63,
          112.52,
          112.64,
          113.41,
          113.3,
          112.38,
          113.38,
          113.56,
          113.07,
          113.11,
          112.72,
          113.7,
          113.4,
          112.84,
          113.58,
          112.49,
          113.14,
          112.71,
          113.87,
          113.9,
          112.95,
          113.01,
          113.51,
          112.93,
          113.29,
          112.73,
          113.16,
          112.65,
          112.43,
          113.08,
          112.82,
          113.33,
          113.69,
          113.18,
          112.74,
          112.93,
          112.72,
          113.56,
          113.27,
          113.6,
          113.09,
          113.59,
          113.4,
          113.12,
          113.1,
          113.28,
          113.38,
          113.13,
          113,
          112.72,
          112.98,
          112.79,
          113.19,
          113.08,
          112.65,
          113.09,
          113.02,
          113.42,
          112.86,
          113.3,
          112.76,
          113.02,
          113.33,
          113.41,
          113.32,
          113.67,
          112.7,
          113.01,
          112.77,
          113.73,
          113.18,
          113.16,
          112.43,
          113.15,
          113.36,
          113.2,
          112.68,
          113.27,
          113.43,
          113.24,
          113.3,
          113.2,
          113.13,
          112.91,
          113.25,
          113.13,
          112.98,
          113.05,
          112.44,
          113.52,
          113.48,
          112.64,
          113.29,
          112.95,
          113.56,
          113.23,
          113.47,
          112.43,
          112.94,
          113.23,
          112.76,
          113.13,
          112.72,
          113.4,
          113.13,
          113.45,
          113.24,
          112.72,
          113.42,
          113.75,
          113.12,
          113.62,
          113.07,
          113.58,
          113.06,
          112.82,
          112.85,
          112.68,
          113.02,
          113.36,
          113.26,
          113.08,
          113.26,
          113.51,
          112.98,
          112.93,
          113.38,
          112.88,
          113.27,
          113.74,
          112.89,
          112.95,
          112.45,
          113.48,
          112.76,
          112.99,
          113.45,
          113.42,
          112.91,
          113.32,
          113.5,
          113.75,
          113.23,
          113.62,
          113.3,
          112.82,
          113.39,
          113.48,
          113.46,
          113.17,
          112.95,
          113.48,
          112.81,
          112.95,
          113.68,
          112.86,
          113.41,
          113.52,
          113.79,
          113.43,
          113,
          113.25,
          112.76,
          112.73,
          112.59,
          112.98,
          113.02,
          112.97,
          113.35,
          113.3,
          113.38,
          113.38,
          113.59,
          113.07,
          113.23,
          113.19,
          113.71,
          113.28,
          113.91,
          113.33,
          113.62,
          112.7,
          112.49,
          113.19,
          113.77,
          112.97,
          113.21,
          114,
          113.16,
          112.4,
          113.45,
          113.03,
          112.46,
          114.14,
          113.28,
          112.71,
          112.74,
          113.28,
          114.03,
          113.67,
          113.04,
          113.19,
          113.21,
          113.81,
          113.47,
          113.31,
          113.38,
          112.98,
          113.83,
          112.96,
          112.87,
          113.05,
          113.54,
          113.44,
          113.2,
          113.38,
          113.14,
          113.42,
          113.43,
          113.32,
          113.7,
          113.99,
          113.05,
          113.54,
          113.39,
          113.21,
          113.65,
          113.48,
          113.27,
          112.92,
          113.8,
          113.38,
          113.39,
          113.36,
          113.5,
          113.46,
          113.54,
          113.23,
          112.81,
          113.64,
          113.52,
          112.96,
          113.94,
          113.38,
          113.22,
          113.65,
          113.28,
          113.66,
          113.47,
          113.45,
          112.95,
          112.98,
          113.49,
          112.89,
          113.26,
          113.25,
          113.69,
          112.71,
          112.76,
          113.34,
          112.97,
          112.92,
          113.43,
          113.75,
          112.88,
          112.96,
          112.97,
          113,
          112.74,
          113.08,
          113.28,
          112.94,
          112.75,
          113.58,
          113.15,
          113.21,
          114.07,
          112.64,
          113.5,
          113.38,
          112.74,
          113.1,
          113.21,
          112.97,
          113.46,
          112.83,
          113.09,
          113.41,
          112.89,
          113.53,
          113.61,
          113.59,
          113.97,
          112.76,
          112.81,
          113.99,
          113.55,
          113.53,
          112.62,
          113.32,
          112.98,
          113.38,
          112.34,
          113.35,
          113,
          113.12,
          112.94,
          112.85,
          112.93,
          113.61,
          113.4,
          113.2,
          113.25,
          113.48,
          113.42,
          113.64,
          113.77,
          113.16,
          113.54,
          113.15,
          113.09,
          113.47,
          113.39,
          113.45,
          113.01,
          113.05,
          113.12,
          113.09,
          113.23,
          112.78,
          113.59,
          112.18,
          113.04,
          113.38,
          113.53,
          113.52,
          112.58,
          113.24,
          112.84,
          113.23,
          113.69,
          113.07,
          113.71,
          113.27,
          113.24,
          112.82,
          113.44,
          112.73,
          112.68,
          112.74,
          112.76,
          112.84,
          113.07,
          113.06,
          113.49,
          113.24,
          112.81,
          113.75,
          113.48,
          113.14,
          113.02,
          113.04,
          113.04,
          112.46,
          112.79,
          112.67,
          112.73,
          112.96,
          113.23,
          112.61,
          112.71,
          113.12,
          113.52,
          113.44,
          113.63,
          113.78,
          113,
          113.87,
          112.72,
          113.25,
          112.66,
          112.71,
          113.15,
          113.11,
          113.59,
          112.85,
          113.59,
          113.01,
          112.82,
          112.8,
          113.38,
          113.1,
          113.43,
          113.03,
          112.79,
          113.09,
          113.18,
          113.79,
          113.52,
          113.72,
          113.37,
          113.4,
          113.84,
          113.63,
          113.55,
          113.16,
          113.3,
          113.38,
          113.53,
          112.47,
          113.5,
          113.83,
          112.91,
          113.36,
          113.41,
          113.27,
          113.52,
          113.42,
          113.24,
          113.55,
          113.09,
          113.16,
          113.21,
          113.19,
          112.92,
          113.92,
          113.98,
          113.49,
          113.09,
          113.14,
          113.31,
          113.3,
          113.38,
          112.93,
          112.95,
          113,
          113.1,
          113.6,
          113.15,
          113.15,
          113.01,
          112.96,
          113.18,
          113.4,
          112.9,
          113.63,
          113.48,
          113.65,
          113.28,
          113.3,
          112.65,
          112.95,
          113.27,
          113.55,
          112.85,
          113.37,
          112.95,
          112.66,
          112.81,
          113.6,
          113.22,
          113.06,
          113.19,
          113.12,
          112.69,
          112.89,
          113.35,
          113.61,
          111.76,
          112.7,
          113.1,
          112.82,
          113.54,
          113.78,
          113.28,
          113.01,
          112.68,
          112.55,
          113.6,
          112.41,
          112.68,
          113.38,
          113.07,
          112.98,
          113.15,
          113.21,
          113.62,
          113.15,
          113.67,
          113.24,
          113.56,
          113.59,
          113.11,
          112.87,
          113.44,
          112.64,
          113.51,
          113.31,
          113.25,
          112.38,
          113.06,
          113.26,
          112.72,
          113.71,
          113.71,
          113.38,
          112.7,
          113.1,
          113.56,
          113.51,
          113.03,
          113.1,
          113.18,
          113.37,
          112.84,
          112.64,
          113.9,
          112.89,
          113.16,
          113.66,
          113.41,
          113.52,
          113.77,
          113.32,
          113.13,
          112.74,
          112.87,
          113.29,
          113.22,
          113.84,
          113.37,
          113.32,
          113.07,
          113.36,
          113.31,
          112.82,
          113.14,
          113.58,
          114.44,
          112.72,
          113.28,
          113.45,
          113.42,
          113.19,
          112.58,
          113.25,
          113,
          113.45,
          113.55,
          113.5,
          112.96,
          113.8,
          113.63,
          113.35,
          113.19,
          113.23,
          113.22,
          113.36,
          112.93,
          112.94,
          113.52,
          113.6,
          113.58,
          113.62,
          113.37,
          113.05,
          113.51,
          113.37,
          113.55,
          112.91,
          113.67,
          113.27,
          112.94,
          113.42,
          113.03,
          113.33,
          113.44,
          112.24,
          113.27,
          113.24,
          112.49,
          112.88,
          113.72,
          113.11,
          113.35,
          113.62,
          112.69,
          113.85,
          112.7,
          112.56,
          113.14,
          113.43,
          113.4,
          114.15,
          113.33,
          112.44,
          112.75,
          113.67,
          113.02,
          113.1,
          113.48,
          113.65,
          113.22,
          112.87,
          112.91,
          112.85,
          112.77,
          113.11,
          113.38,
          112.71,
          113.05,
          113.27,
          112.94,
          113.54,
          113.06,
          113.53,
          113.09,
          113.17,
          113.31,
          113.78,
          113.11,
          112.92,
          113.02,
          112.72,
          113,
          113.21,
          113.18,
          113.41,
          113.35,
          113.8,
          113.15,
          113.58,
          113.34,
          113.35,
          113.33,
          113.82,
          112.65,
          113.17,
          112.68,
          113.41,
          113.63,
          113.56,
          112.98,
          113.49,
          113.13,
          113.7,
          113.73,
          113.01,
          113.04,
          112.83,
          113.07,
          112.83,
          113.56,
          112.97,
          113.04,
          113.42,
          113.18,
          112.94,
          112.78,
          113.68,
          113.62,
          113.14,
          113.48,
          113.8,
          112.93,
          113.4,
          113.61,
          113.03,
          113.23,
          113.06,
          113.33,
          112.47,
          113.21,
          113.35,
          113.48,
          112.97,
          113.66,
          112.94,
          113.07,
          112.83,
          112.74,
          113.06,
          113.35,
          112.67,
          113.74,
          112.78,
          112.68,
          113.05,
          113.05,
          113.75,
          113.46,
          112.17,
          113.07,
          113.53,
          112.77,
          113.68,
          112.84,
          113.81,
          112.89,
          113.47,
          113.36,
          112.67,
          112.67,
          113.2,
          113.31,
          112.64,
          113.12,
          112.7,
          113.42,
          112.96,
          113.36,
          113.03,
          113.01,
          112.61,
          114.32,
          112.82,
          112.4,
          113.5,
          113.06,
          113.64,
          113.5,
          113.37,
          113.02,
          113.66,
          112.76,
          112.47,
          112.4,
          113.1,
          113.36,
          113.6,
          113.36,
          113.11,
          112.78,
          113.53,
          113.28,
          113.2,
          113.51,
          113.77,
          113.21,
          112.96,
          111.4,
          111.29,
          111.22,
          111.99,
          111.72,
          112.69,
          110.91,
          111.72,
          110.66,
          111.25,
          111.71,
          111.93,
          110.98,
          112.07,
          111.28,
          110.76,
          110.99,
          110.95,
          111.88,
          111.21,
          111.57,
          111.14,
          110.95,
          111.25,
          112.6,
          112.44,
          112.64,
          111.28,
          111.34,
          110.83,
          111.75,
          112.11,
          111.4,
          111.77,
          112.02,
          111.14,
          112.47,
          111.69,
          111.51,
          111.48,
          111.32,
          111.53,
          110.5,
          111.33,
          111.6,
          111.53,
          111.73,
          110.73,
          111.59,
          112.68,
          111.08,
          111.33,
          111.79,
          111.96,
          111.83,
          111.76,
          111.95,
          110.35,
          111.55,
          111.05,
          110.98,
          110.94,
          112.86,
          111.74,
          111.99,
          112.06,
          111.44,
          111.56,
          110.48,
          111.16,
          111.42,
          112.07,
          111.02,
          112.15,
          110.36,
          112.35,
          111.87,
          111.09,
          112.99,
          112.06,
          111.72,
          112.43,
          109.49,
          112.5,
          112.13,
          111.54,
          111.7,
          113.13,
          110.68,
          111.52,
          110.78,
          111.92,
          111.29,
          110.68,
          111.17,
          112.18,
          111.33,
          111.7,
          112.09,
          111.73,
          110.94,
          111.11,
          111.78,
          112.52,
          112.02,
          111.99,
          112.03,
          111.43,
          111.31,
          112.82,
          112.8,
          112.16,
          111.61,
          110.64,
          111.85,
          110.97,
          111.27,
          112.04,
          111.84,
          111.95,
          110.8,
          112.39,
          113.85,
          111.27,
          110.93,
          112.09,
          111.04,
          111.87,
          112.03,
          111.04,
          112.94,
          111.49,
          112.37,
          110.93,
          113.05,
          110.8,
          112.36,
          111.07,
          111.01,
          112.02,
          112.33,
          111.73,
          111.54,
          110.86,
          112.07,
          111.04,
          112.46,
          111.59,
          111.48,
          111.03,
          113.02,
          111.46,
          112.03,
          112.11,
          111.41,
          111.57,
          111.3,
          112.2,
          111.45,
          111.68,
          112.66,
          111.37,
          110.69,
          111.44,
          110.37,
          111.24,
          110.94,
          111.16,
          110.7,
          112.16,
          111.88,
          111.55,
          112.06,
          111.82,
          112.01,
          111.01,
          111.29,
          111.91,
          112.12,
          111.8,
          111.77,
          112.48,
          111.2,
          111.06,
          110.87,
          111.59,
          111.87,
          110.87,
          111.52,
          111.11,
          113.21,
          110.22,
          110.93,
          111.71,
          111.49,
          111.63,
          111.61,
          112.08,
          111.18,
          111.04,
          111.83,
          111.55,
          111.83,
          110.49,
          111.35,
          110.59,
          112.3,
          111.68,
          111.68,
          111.17,
          111.53,
          111.71,
          112.12,
          111.9,
          110.48,
          111.38,
          111.63,
          111.51,
          111.32,
          110.91,
          112.31,
          110.29,
          112.08,
          112.37,
          112.14,
          112.36,
          110.77,
          112.61,
          112.35,
          111.52,
          111.03,
          111.76,
          111.57,
          111.92,
          111.79,
          112.32,
          112.18,
          111.59,
          110.91,
          112.12,
          110.99,
          110.91,
          111.75,
          112.72,
          110.78,
          111.95,
          111.5,
          112.68,
          111.17,
          111.92,
          112.38,
          111.88,
          112.08,
          112.94,
          111.61,
          112.16,
          110.94,
          111.56,
          110.7,
          111.2,
          112.1,
          111.67,
          111.82,
          111.14,
          111.46,
          111.45,
          111.55,
          112.3,
          111.22,
          111.25,
          112.88,
          111.27,
          111.73,
          112.03,
          110.96,
          111.87,
          110.68,
          110.91,
          111.78,
          111.82,
          112.26,
          112.54,
          111.46,
          110.34,
          111.62,
          111.52,
          111.84,
          112.44,
          112.07,
          111.49,
          111.7,
          110.73,
          111.63,
          110.98,
          111.79,
          112.05,
          111.57,
          111.04,
          111.82,
          111.76,
          112.48,
          111.99,
          112.19,
          111.21,
          111.82,
          111.93,
          111.3,
          112.18,
          112.13,
          111.99,
          110.69,
          111.27,
          110.61,
          112.53,
          111.5,
          112.29,
          111.94,
          112.18,
          111.77,
          112,
          111.78,
          112.15,
          111.21,
          111.72,
          111.23,
          113.64,
          111.79,
          111.91,
          111.94,
          110.74,
          111.56,
          112.55,
          112.11,
          111.27,
          112.2,
          111.56,
          112.01,
          112.13,
          111.83,
          111.68,
          112.15,
          112.23,
          110.98,
          111.93,
          111.76,
          111.55,
          111.94,
          110.31,
          111.06,
          111.93,
          111.6,
          111.09,
          111.35,
          110.73,
          111.47,
          109.97,
          112.44,
          111.41,
          111.63,
          110.48,
          110.93,
          113.17,
          112.95,
          111.85,
          110.53,
          111.4,
          111.55,
          112.84,
          112.3,
          110.64,
          111.42,
          111.91,
          112.8,
          111.89,
          111.46,
          111.04,
          111.2,
          111.11,
          111.74,
          112.53,
          111.53,
          111.04,
          110.98,
          111.83,
          111.04,
          111.58,
          111.13,
          111.22,
          112.44,
          112.06,
          111.9,
          110.71,
          112.14,
          111.81,
          111.17,
          111.56,
          112.28,
          111.37,
          112.15,
          111.64,
          111.86,
          112.4,
          111.76,
          112.23,
          112.08,
          111.8,
          111.88,
          112.42,
          111.06,
          112.47,
          110.44,
          111.33,
          112.48,
          112.98,
          112.2,
          111.46,
          111.45,
          111.7,
          111.86,
          110.75,
          112.12,
          111.33,
          111.56,
          111.67,
          111.85,
          111.83,
          110.89,
          112.51,
          111.82,
          112,
          111.4,
          111.55,
          111.16,
          111.92,
          111.56,
          111.47,
          111.3,
          112.37,
          111.49,
          110.95,
          111.94,
          111.87,
          111.09,
          110.52,
          111.26,
          111.86,
          111.36,
          111.28,
          111.56,
          111.83,
          111.53,
          111.69,
          112.71,
          109.93,
          111.17,
          111.31,
          111.31,
          111.01,
          111.09,
          111.14,
          110.94,
          112.75,
          111.98,
          111.64,
          111.2,
          110.68,
          110.97,
          112.29,
          111.11,
          111.27,
          111.45,
          112.41,
          112,
          112.87,
          111.63,
          112.15,
          111.2,
          112.43,
          112.89,
          111.48,
          112.33,
          111.75,
          111.69,
          111.04,
          112.07,
          110.71,
          111.25,
          111.51,
          111.07,
          110.98,
          111.68,
          112.4,
          111.18,
          112.16,
          111.76,
          111.28,
          110.97,
          111.95,
          112.25,
          112.07
         ]
        }
       ],
       "layout": {
        "barmode": "overlay",
        "legend": {
         "bgcolor": "#F5F6F9",
         "font": {
          "color": "#4D5663"
         }
        },
        "paper_bgcolor": "#F5F6F9",
        "plot_bgcolor": "#F5F6F9",
        "template": {
         "data": {
          "bar": [
           {
            "error_x": {
             "color": "#2a3f5f"
            },
            "error_y": {
             "color": "#2a3f5f"
            },
            "marker": {
             "line": {
              "color": "#E5ECF6",
              "width": 0.5
             },
             "pattern": {
              "fillmode": "overlay",
              "size": 10,
              "solidity": 0.2
             }
            },
            "type": "bar"
           }
          ],
          "barpolar": [
           {
            "marker": {
             "line": {
              "color": "#E5ECF6",
              "width": 0.5
             },
             "pattern": {
              "fillmode": "overlay",
              "size": 10,
              "solidity": 0.2
             }
            },
            "type": "barpolar"
           }
          ],
          "carpet": [
           {
            "aaxis": {
             "endlinecolor": "#2a3f5f",
             "gridcolor": "white",
             "linecolor": "white",
             "minorgridcolor": "white",
             "startlinecolor": "#2a3f5f"
            },
            "baxis": {
             "endlinecolor": "#2a3f5f",
             "gridcolor": "white",
             "linecolor": "white",
             "minorgridcolor": "white",
             "startlinecolor": "#2a3f5f"
            },
            "type": "carpet"
           }
          ],
          "choropleth": [
           {
            "colorbar": {
             "outlinewidth": 0,
             "ticks": ""
            },
            "type": "choropleth"
           }
          ],
          "contour": [
           {
            "colorbar": {
             "outlinewidth": 0,
             "ticks": ""
            },
            "colorscale": [
             [
              0,
              "#0d0887"
             ],
             [
              0.1111111111111111,
              "#46039f"
             ],
             [
              0.2222222222222222,
              "#7201a8"
             ],
             [
              0.3333333333333333,
              "#9c179e"
             ],
             [
              0.4444444444444444,
              "#bd3786"
             ],
             [
              0.5555555555555556,
              "#d8576b"
             ],
             [
              0.6666666666666666,
              "#ed7953"
             ],
             [
              0.7777777777777778,
              "#fb9f3a"
             ],
             [
              0.8888888888888888,
              "#fdca26"
             ],
             [
              1,
              "#f0f921"
             ]
            ],
            "type": "contour"
           }
          ],
          "contourcarpet": [
           {
            "colorbar": {
             "outlinewidth": 0,
             "ticks": ""
            },
            "type": "contourcarpet"
           }
          ],
          "heatmap": [
           {
            "colorbar": {
             "outlinewidth": 0,
             "ticks": ""
            },
            "colorscale": [
             [
              0,
              "#0d0887"
             ],
             [
              0.1111111111111111,
              "#46039f"
             ],
             [
              0.2222222222222222,
              "#7201a8"
             ],
             [
              0.3333333333333333,
              "#9c179e"
             ],
             [
              0.4444444444444444,
              "#bd3786"
             ],
             [
              0.5555555555555556,
              "#d8576b"
             ],
             [
              0.6666666666666666,
              "#ed7953"
             ],
             [
              0.7777777777777778,
              "#fb9f3a"
             ],
             [
              0.8888888888888888,
              "#fdca26"
             ],
             [
              1,
              "#f0f921"
             ]
            ],
            "type": "heatmap"
           }
          ],
          "heatmapgl": [
           {
            "colorbar": {
             "outlinewidth": 0,
             "ticks": ""
            },
            "colorscale": [
             [
              0,
              "#0d0887"
             ],
             [
              0.1111111111111111,
              "#46039f"
             ],
             [
              0.2222222222222222,
              "#7201a8"
             ],
             [
              0.3333333333333333,
              "#9c179e"
             ],
             [
              0.4444444444444444,
              "#bd3786"
             ],
             [
              0.5555555555555556,
              "#d8576b"
             ],
             [
              0.6666666666666666,
              "#ed7953"
             ],
             [
              0.7777777777777778,
              "#fb9f3a"
             ],
             [
              0.8888888888888888,
              "#fdca26"
             ],
             [
              1,
              "#f0f921"
             ]
            ],
            "type": "heatmapgl"
           }
          ],
          "histogram": [
           {
            "marker": {
             "pattern": {
              "fillmode": "overlay",
              "size": 10,
              "solidity": 0.2
             }
            },
            "type": "histogram"
           }
          ],
          "histogram2d": [
           {
            "colorbar": {
             "outlinewidth": 0,
             "ticks": ""
            },
            "colorscale": [
             [
              0,
              "#0d0887"
             ],
             [
              0.1111111111111111,
              "#46039f"
             ],
             [
              0.2222222222222222,
              "#7201a8"
             ],
             [
              0.3333333333333333,
              "#9c179e"
             ],
             [
              0.4444444444444444,
              "#bd3786"
             ],
             [
              0.5555555555555556,
              "#d8576b"
             ],
             [
              0.6666666666666666,
              "#ed7953"
             ],
             [
              0.7777777777777778,
              "#fb9f3a"
             ],
             [
              0.8888888888888888,
              "#fdca26"
             ],
             [
              1,
              "#f0f921"
             ]
            ],
            "type": "histogram2d"
           }
          ],
          "histogram2dcontour": [
           {
            "colorbar": {
             "outlinewidth": 0,
             "ticks": ""
            },
            "colorscale": [
             [
              0,
              "#0d0887"
             ],
             [
              0.1111111111111111,
              "#46039f"
             ],
             [
              0.2222222222222222,
              "#7201a8"
             ],
             [
              0.3333333333333333,
              "#9c179e"
             ],
             [
              0.4444444444444444,
              "#bd3786"
             ],
             [
              0.5555555555555556,
              "#d8576b"
             ],
             [
              0.6666666666666666,
              "#ed7953"
             ],
             [
              0.7777777777777778,
              "#fb9f3a"
             ],
             [
              0.8888888888888888,
              "#fdca26"
             ],
             [
              1,
              "#f0f921"
             ]
            ],
            "type": "histogram2dcontour"
           }
          ],
          "mesh3d": [
           {
            "colorbar": {
             "outlinewidth": 0,
             "ticks": ""
            },
            "type": "mesh3d"
           }
          ],
          "parcoords": [
           {
            "line": {
             "colorbar": {
              "outlinewidth": 0,
              "ticks": ""
             }
            },
            "type": "parcoords"
           }
          ],
          "pie": [
           {
            "automargin": true,
            "type": "pie"
           }
          ],
          "scatter": [
           {
            "fillpattern": {
             "fillmode": "overlay",
             "size": 10,
             "solidity": 0.2
            },
            "type": "scatter"
           }
          ],
          "scatter3d": [
           {
            "line": {
             "colorbar": {
              "outlinewidth": 0,
              "ticks": ""
             }
            },
            "marker": {
             "colorbar": {
              "outlinewidth": 0,
              "ticks": ""
             }
            },
            "type": "scatter3d"
           }
          ],
          "scattercarpet": [
           {
            "marker": {
             "colorbar": {
              "outlinewidth": 0,
              "ticks": ""
             }
            },
            "type": "scattercarpet"
           }
          ],
          "scattergeo": [
           {
            "marker": {
             "colorbar": {
              "outlinewidth": 0,
              "ticks": ""
             }
            },
            "type": "scattergeo"
           }
          ],
          "scattergl": [
           {
            "marker": {
             "colorbar": {
              "outlinewidth": 0,
              "ticks": ""
             }
            },
            "type": "scattergl"
           }
          ],
          "scattermapbox": [
           {
            "marker": {
             "colorbar": {
              "outlinewidth": 0,
              "ticks": ""
             }
            },
            "type": "scattermapbox"
           }
          ],
          "scatterpolar": [
           {
            "marker": {
             "colorbar": {
              "outlinewidth": 0,
              "ticks": ""
             }
            },
            "type": "scatterpolar"
           }
          ],
          "scatterpolargl": [
           {
            "marker": {
             "colorbar": {
              "outlinewidth": 0,
              "ticks": ""
             }
            },
            "type": "scatterpolargl"
           }
          ],
          "scatterternary": [
           {
            "marker": {
             "colorbar": {
              "outlinewidth": 0,
              "ticks": ""
             }
            },
            "type": "scatterternary"
           }
          ],
          "surface": [
           {
            "colorbar": {
             "outlinewidth": 0,
             "ticks": ""
            },
            "colorscale": [
             [
              0,
              "#0d0887"
             ],
             [
              0.1111111111111111,
              "#46039f"
             ],
             [
              0.2222222222222222,
              "#7201a8"
             ],
             [
              0.3333333333333333,
              "#9c179e"
             ],
             [
              0.4444444444444444,
              "#bd3786"
             ],
             [
              0.5555555555555556,
              "#d8576b"
             ],
             [
              0.6666666666666666,
              "#ed7953"
             ],
             [
              0.7777777777777778,
              "#fb9f3a"
             ],
             [
              0.8888888888888888,
              "#fdca26"
             ],
             [
              1,
              "#f0f921"
             ]
            ],
            "type": "surface"
           }
          ],
          "table": [
           {
            "cells": {
             "fill": {
              "color": "#EBF0F8"
             },
             "line": {
              "color": "white"
             }
            },
            "header": {
             "fill": {
              "color": "#C8D4E3"
             },
             "line": {
              "color": "white"
             }
            },
            "type": "table"
           }
          ]
         },
         "layout": {
          "annotationdefaults": {
           "arrowcolor": "#2a3f5f",
           "arrowhead": 0,
           "arrowwidth": 1
          },
          "autotypenumbers": "strict",
          "coloraxis": {
           "colorbar": {
            "outlinewidth": 0,
            "ticks": ""
           }
          },
          "colorscale": {
           "diverging": [
            [
             0,
             "#8e0152"
            ],
            [
             0.1,
             "#c51b7d"
            ],
            [
             0.2,
             "#de77ae"
            ],
            [
             0.3,
             "#f1b6da"
            ],
            [
             0.4,
             "#fde0ef"
            ],
            [
             0.5,
             "#f7f7f7"
            ],
            [
             0.6,
             "#e6f5d0"
            ],
            [
             0.7,
             "#b8e186"
            ],
            [
             0.8,
             "#7fbc41"
            ],
            [
             0.9,
             "#4d9221"
            ],
            [
             1,
             "#276419"
            ]
           ],
           "sequential": [
            [
             0,
             "#0d0887"
            ],
            [
             0.1111111111111111,
             "#46039f"
            ],
            [
             0.2222222222222222,
             "#7201a8"
            ],
            [
             0.3333333333333333,
             "#9c179e"
            ],
            [
             0.4444444444444444,
             "#bd3786"
            ],
            [
             0.5555555555555556,
             "#d8576b"
            ],
            [
             0.6666666666666666,
             "#ed7953"
            ],
            [
             0.7777777777777778,
             "#fb9f3a"
            ],
            [
             0.8888888888888888,
             "#fdca26"
            ],
            [
             1,
             "#f0f921"
            ]
           ],
           "sequentialminus": [
            [
             0,
             "#0d0887"
            ],
            [
             0.1111111111111111,
             "#46039f"
            ],
            [
             0.2222222222222222,
             "#7201a8"
            ],
            [
             0.3333333333333333,
             "#9c179e"
            ],
            [
             0.4444444444444444,
             "#bd3786"
            ],
            [
             0.5555555555555556,
             "#d8576b"
            ],
            [
             0.6666666666666666,
             "#ed7953"
            ],
            [
             0.7777777777777778,
             "#fb9f3a"
            ],
            [
             0.8888888888888888,
             "#fdca26"
            ],
            [
             1,
             "#f0f921"
            ]
           ]
          },
          "colorway": [
           "#636efa",
           "#EF553B",
           "#00cc96",
           "#ab63fa",
           "#FFA15A",
           "#19d3f3",
           "#FF6692",
           "#B6E880",
           "#FF97FF",
           "#FECB52"
          ],
          "font": {
           "color": "#2a3f5f"
          },
          "geo": {
           "bgcolor": "white",
           "lakecolor": "white",
           "landcolor": "#E5ECF6",
           "showlakes": true,
           "showland": true,
           "subunitcolor": "white"
          },
          "hoverlabel": {
           "align": "left"
          },
          "hovermode": "closest",
          "mapbox": {
           "style": "light"
          },
          "paper_bgcolor": "white",
          "plot_bgcolor": "#E5ECF6",
          "polar": {
           "angularaxis": {
            "gridcolor": "white",
            "linecolor": "white",
            "ticks": ""
           },
           "bgcolor": "#E5ECF6",
           "radialaxis": {
            "gridcolor": "white",
            "linecolor": "white",
            "ticks": ""
           }
          },
          "scene": {
           "xaxis": {
            "backgroundcolor": "#E5ECF6",
            "gridcolor": "white",
            "gridwidth": 2,
            "linecolor": "white",
            "showbackground": true,
            "ticks": "",
            "zerolinecolor": "white"
           },
           "yaxis": {
            "backgroundcolor": "#E5ECF6",
            "gridcolor": "white",
            "gridwidth": 2,
            "linecolor": "white",
            "showbackground": true,
            "ticks": "",
            "zerolinecolor": "white"
           },
           "zaxis": {
            "backgroundcolor": "#E5ECF6",
            "gridcolor": "white",
            "gridwidth": 2,
            "linecolor": "white",
            "showbackground": true,
            "ticks": "",
            "zerolinecolor": "white"
           }
          },
          "shapedefaults": {
           "line": {
            "color": "#2a3f5f"
           }
          },
          "ternary": {
           "aaxis": {
            "gridcolor": "white",
            "linecolor": "white",
            "ticks": ""
           },
           "baxis": {
            "gridcolor": "white",
            "linecolor": "white",
            "ticks": ""
           },
           "bgcolor": "#E5ECF6",
           "caxis": {
            "gridcolor": "white",
            "linecolor": "white",
            "ticks": ""
           }
          },
          "title": {
           "x": 0.05
          },
          "xaxis": {
           "automargin": true,
           "gridcolor": "white",
           "linecolor": "white",
           "ticks": "",
           "title": {
            "standoff": 15
           },
           "zerolinecolor": "white",
           "zerolinewidth": 2
          },
          "yaxis": {
           "automargin": true,
           "gridcolor": "white",
           "linecolor": "white",
           "ticks": "",
           "title": {
            "standoff": 15
           },
           "zerolinecolor": "white",
           "zerolinewidth": 2
          }
         }
        },
        "title": {
         "font": {
          "color": "#4D5663"
         },
         "text": "Distribution of Length"
        },
        "xaxis": {
         "gridcolor": "#E1E5ED",
         "showgrid": true,
         "tickfont": {
          "color": "#4D5663"
         },
         "title": {
          "font": {
           "color": "#4D5663"
          },
          "text": "Length"
         },
         "zerolinecolor": "#E1E5ED"
        },
        "yaxis": {
         "gridcolor": "#E1E5ED",
         "showgrid": true,
         "tickfont": {
          "color": "#4D5663"
         },
         "title": {
          "font": {
           "color": "#4D5663"
          },
          "text": "Count"
         },
         "zerolinecolor": "#E1E5ED"
        }
       }
      },
      "text/html": [
       "<div>                            <div id=\"7d0f2db8-9761-4b38-abee-f264fcdea0c5\" class=\"plotly-graph-div\" style=\"height:525px; width:100%;\"></div>            <script type=\"text/javascript\">                require([\"plotly\"], function(Plotly) {                    window.PLOTLYENV=window.PLOTLYENV || {};\n",
       "                    window.PLOTLYENV.BASE_URL='https://plot.ly';                                    if (document.getElementById(\"7d0f2db8-9761-4b38-abee-f264fcdea0c5\")) {                    Plotly.newPlot(                        \"7d0f2db8-9761-4b38-abee-f264fcdea0c5\",                        [{\"histfunc\":\"count\",\"histnorm\":\"\",\"marker\":{\"color\":\"rgba(255, 153, 51, 1.0)\",\"line\":{\"color\":\"#4D5663\",\"width\":1.3}},\"name\":\"length\",\"opacity\":0.8,\"orientation\":\"v\",\"x\":[112.83,113.09,113.16,113.51,112.54,112.81,112.81,113.08,112.85,113.45,113.22,113.08,113.24,113.65,113.19,112.98,112.87,113.01,113.47,113.12,113.59,112.57,112.68,113.37,113.34,113.46,113.47,113.76,113.64,113.56,113.55,113.41,112.92,112.93,113.48,113.26,113.93,112.79,112.67,113.51,113.16,113.2,113.5,113.45,112.9,113.08,113.53,113.31,113.05,113.02,113.28,113.44,113.94,113.07,112.4,113.3,113.5,113.47,113.5,113.24,113.03,113.08,113.16,113.13,113.39,113.42,112.68,112.97,112.82,113.08,112.97,113.09,112.79,114.09,113.09,112.35,112.87,113.18,112.95,113.65,113.2,113.09,113.65,113.36,113.09,113.46,113.28,113.57,112.95,113.05,112.74,113.05,112.83,113.27,113.28,113.0,113.42,113.56,113.44,113.08,113.32,113.42,112.67,113.5,113.27,112.91,114.04,113.22,113.42,113.26,113.55,113.02,113.53,112.89,113.26,112.94,113.48,112.59,113.51,112.74,112.91,113.02,113.32,112.87,113.38,113.24,112.92,113.02,113.73,113.4,113.2,112.81,113.59,113.43,113.12,113.71,113.69,113.15,113.6,112.6,113.17,113.33,113.58,114.13,112.78,113.04,113.19,112.87,112.93,114.04,113.44,112.93,113.81,112.97,113.52,113.22,113.7,113.6,113.94,113.19,113.0,113.34,113.68,112.97,112.9,113.52,113.18,112.47,113.46,112.56,114.03,113.35,113.1,113.57,113.3,113.11,113.22,112.94,113.46,113.09,113.04,112.43,113.49,112.88,112.68,113.29,113.15,113.12,113.44,113.64,113.6,112.89,113.41,112.49,113.14,113.23,113.05,113.27,113.0,112.87,112.85,112.71,112.96,114.08,113.83,113.02,113.93,113.08,113.04,113.9,113.4,113.59,113.49,113.08,112.89,113.23,113.19,112.84,112.71,113.17,113.03,112.99,113.42,112.67,113.44,113.3,113.14,113.52,112.82,112.9,112.87,113.69,113.91,113.23,113.2,113.45,113.19,112.71,113.4,113.73,113.18,112.36,113.04,112.79,112.98,112.85,113.06,113.45,113.03,113.29,113.19,113.22,113.57,113.39,113.66,113.41,112.89,112.94,113.51,113.28,113.63,112.52,112.64,113.41,113.3,112.38,113.38,113.56,113.07,113.11,112.72,113.7,113.4,112.84,113.58,112.49,113.14,112.71,113.87,113.9,112.95,113.01,113.51,112.93,113.29,112.73,113.16,112.65,112.43,113.08,112.82,113.33,113.69,113.18,112.74,112.93,112.72,113.56,113.27,113.6,113.09,113.59,113.4,113.12,113.1,113.28,113.38,113.13,113.0,112.72,112.98,112.79,113.19,113.08,112.65,113.09,113.02,113.42,112.86,113.3,112.76,113.02,113.33,113.41,113.32,113.67,112.7,113.01,112.77,113.73,113.18,113.16,112.43,113.15,113.36,113.2,112.68,113.27,113.43,113.24,113.3,113.2,113.13,112.91,113.25,113.13,112.98,113.05,112.44,113.52,113.48,112.64,113.29,112.95,113.56,113.23,113.47,112.43,112.94,113.23,112.76,113.13,112.72,113.4,113.13,113.45,113.24,112.72,113.42,113.75,113.12,113.62,113.07,113.58,113.06,112.82,112.85,112.68,113.02,113.36,113.26,113.08,113.26,113.51,112.98,112.93,113.38,112.88,113.27,113.74,112.89,112.95,112.45,113.48,112.76,112.99,113.45,113.42,112.91,113.32,113.5,113.75,113.23,113.62,113.3,112.82,113.39,113.48,113.46,113.17,112.95,113.48,112.81,112.95,113.68,112.86,113.41,113.52,113.79,113.43,113.0,113.25,112.76,112.73,112.59,112.98,113.02,112.97,113.35,113.3,113.38,113.38,113.59,113.07,113.23,113.19,113.71,113.28,113.91,113.33,113.62,112.7,112.49,113.19,113.77,112.97,113.21,114.0,113.16,112.4,113.45,113.03,112.46,114.14,113.28,112.71,112.74,113.28,114.03,113.67,113.04,113.19,113.21,113.81,113.47,113.31,113.38,112.98,113.83,112.96,112.87,113.05,113.54,113.44,113.2,113.38,113.14,113.42,113.43,113.32,113.7,113.99,113.05,113.54,113.39,113.21,113.65,113.48,113.27,112.92,113.8,113.38,113.39,113.36,113.5,113.46,113.54,113.23,112.81,113.64,113.52,112.96,113.94,113.38,113.22,113.65,113.28,113.66,113.47,113.45,112.95,112.98,113.49,112.89,113.26,113.25,113.69,112.71,112.76,113.34,112.97,112.92,113.43,113.75,112.88,112.96,112.97,113.0,112.74,113.08,113.28,112.94,112.75,113.58,113.15,113.21,114.07,112.64,113.5,113.38,112.74,113.1,113.21,112.97,113.46,112.83,113.09,113.41,112.89,113.53,113.61,113.59,113.97,112.76,112.81,113.99,113.55,113.53,112.62,113.32,112.98,113.38,112.34,113.35,113.0,113.12,112.94,112.85,112.93,113.61,113.4,113.2,113.25,113.48,113.42,113.64,113.77,113.16,113.54,113.15,113.09,113.47,113.39,113.45,113.01,113.05,113.12,113.09,113.23,112.78,113.59,112.18,113.04,113.38,113.53,113.52,112.58,113.24,112.84,113.23,113.69,113.07,113.71,113.27,113.24,112.82,113.44,112.73,112.68,112.74,112.76,112.84,113.07,113.06,113.49,113.24,112.81,113.75,113.48,113.14,113.02,113.04,113.04,112.46,112.79,112.67,112.73,112.96,113.23,112.61,112.71,113.12,113.52,113.44,113.63,113.78,113.0,113.87,112.72,113.25,112.66,112.71,113.15,113.11,113.59,112.85,113.59,113.01,112.82,112.8,113.38,113.1,113.43,113.03,112.79,113.09,113.18,113.79,113.52,113.72,113.37,113.4,113.84,113.63,113.55,113.16,113.3,113.38,113.53,112.47,113.5,113.83,112.91,113.36,113.41,113.27,113.52,113.42,113.24,113.55,113.09,113.16,113.21,113.19,112.92,113.92,113.98,113.49,113.09,113.14,113.31,113.3,113.38,112.93,112.95,113.0,113.1,113.6,113.15,113.15,113.01,112.96,113.18,113.4,112.9,113.63,113.48,113.65,113.28,113.3,112.65,112.95,113.27,113.55,112.85,113.37,112.95,112.66,112.81,113.6,113.22,113.06,113.19,113.12,112.69,112.89,113.35,113.61,111.76,112.7,113.1,112.82,113.54,113.78,113.28,113.01,112.68,112.55,113.6,112.41,112.68,113.38,113.07,112.98,113.15,113.21,113.62,113.15,113.67,113.24,113.56,113.59,113.11,112.87,113.44,112.64,113.51,113.31,113.25,112.38,113.06,113.26,112.72,113.71,113.71,113.38,112.7,113.1,113.56,113.51,113.03,113.1,113.18,113.37,112.84,112.64,113.9,112.89,113.16,113.66,113.41,113.52,113.77,113.32,113.13,112.74,112.87,113.29,113.22,113.84,113.37,113.32,113.07,113.36,113.31,112.82,113.14,113.58,114.44,112.72,113.28,113.45,113.42,113.19,112.58,113.25,113.0,113.45,113.55,113.5,112.96,113.8,113.63,113.35,113.19,113.23,113.22,113.36,112.93,112.94,113.52,113.6,113.58,113.62,113.37,113.05,113.51,113.37,113.55,112.91,113.67,113.27,112.94,113.42,113.03,113.33,113.44,112.24,113.27,113.24,112.49,112.88,113.72,113.11,113.35,113.62,112.69,113.85,112.7,112.56,113.14,113.43,113.4,114.15,113.33,112.44,112.75,113.67,113.02,113.1,113.48,113.65,113.22,112.87,112.91,112.85,112.77,113.11,113.38,112.71,113.05,113.27,112.94,113.54,113.06,113.53,113.09,113.17,113.31,113.78,113.11,112.92,113.02,112.72,113.0,113.21,113.18,113.41,113.35,113.8,113.15,113.58,113.34,113.35,113.33,113.82,112.65,113.17,112.68,113.41,113.63,113.56,112.98,113.49,113.13,113.7,113.73,113.01,113.04,112.83,113.07,112.83,113.56,112.97,113.04,113.42,113.18,112.94,112.78,113.68,113.62,113.14,113.48,113.8,112.93,113.4,113.61,113.03,113.23,113.06,113.33,112.47,113.21,113.35,113.48,112.97,113.66,112.94,113.07,112.83,112.74,113.06,113.35,112.67,113.74,112.78,112.68,113.05,113.05,113.75,113.46,112.17,113.07,113.53,112.77,113.68,112.84,113.81,112.89,113.47,113.36,112.67,112.67,113.2,113.31,112.64,113.12,112.7,113.42,112.96,113.36,113.03,113.01,112.61,114.32,112.82,112.4,113.5,113.06,113.64,113.5,113.37,113.02,113.66,112.76,112.47,112.4,113.1,113.36,113.6,113.36,113.11,112.78,113.53,113.28,113.2,113.51,113.77,113.21,112.96,111.4,111.29,111.22,111.99,111.72,112.69,110.91,111.72,110.66,111.25,111.71,111.93,110.98,112.07,111.28,110.76,110.99,110.95,111.88,111.21,111.57,111.14,110.95,111.25,112.6,112.44,112.64,111.28,111.34,110.83,111.75,112.11,111.4,111.77,112.02,111.14,112.47,111.69,111.51,111.48,111.32,111.53,110.5,111.33,111.6,111.53,111.73,110.73,111.59,112.68,111.08,111.33,111.79,111.96,111.83,111.76,111.95,110.35,111.55,111.05,110.98,110.94,112.86,111.74,111.99,112.06,111.44,111.56,110.48,111.16,111.42,112.07,111.02,112.15,110.36,112.35,111.87,111.09,112.99,112.06,111.72,112.43,109.49,112.5,112.13,111.54,111.7,113.13,110.68,111.52,110.78,111.92,111.29,110.68,111.17,112.18,111.33,111.7,112.09,111.73,110.94,111.11,111.78,112.52,112.02,111.99,112.03,111.43,111.31,112.82,112.8,112.16,111.61,110.64,111.85,110.97,111.27,112.04,111.84,111.95,110.8,112.39,113.85,111.27,110.93,112.09,111.04,111.87,112.03,111.04,112.94,111.49,112.37,110.93,113.05,110.8,112.36,111.07,111.01,112.02,112.33,111.73,111.54,110.86,112.07,111.04,112.46,111.59,111.48,111.03,113.02,111.46,112.03,112.11,111.41,111.57,111.3,112.2,111.45,111.68,112.66,111.37,110.69,111.44,110.37,111.24,110.94,111.16,110.7,112.16,111.88,111.55,112.06,111.82,112.01,111.01,111.29,111.91,112.12,111.8,111.77,112.48,111.2,111.06,110.87,111.59,111.87,110.87,111.52,111.11,113.21,110.22,110.93,111.71,111.49,111.63,111.61,112.08,111.18,111.04,111.83,111.55,111.83,110.49,111.35,110.59,112.3,111.68,111.68,111.17,111.53,111.71,112.12,111.9,110.48,111.38,111.63,111.51,111.32,110.91,112.31,110.29,112.08,112.37,112.14,112.36,110.77,112.61,112.35,111.52,111.03,111.76,111.57,111.92,111.79,112.32,112.18,111.59,110.91,112.12,110.99,110.91,111.75,112.72,110.78,111.95,111.5,112.68,111.17,111.92,112.38,111.88,112.08,112.94,111.61,112.16,110.94,111.56,110.7,111.2,112.1,111.67,111.82,111.14,111.46,111.45,111.55,112.3,111.22,111.25,112.88,111.27,111.73,112.03,110.96,111.87,110.68,110.91,111.78,111.82,112.26,112.54,111.46,110.34,111.62,111.52,111.84,112.44,112.07,111.49,111.7,110.73,111.63,110.98,111.79,112.05,111.57,111.04,111.82,111.76,112.48,111.99,112.19,111.21,111.82,111.93,111.3,112.18,112.13,111.99,110.69,111.27,110.61,112.53,111.5,112.29,111.94,112.18,111.77,112.0,111.78,112.15,111.21,111.72,111.23,113.64,111.79,111.91,111.94,110.74,111.56,112.55,112.11,111.27,112.2,111.56,112.01,112.13,111.83,111.68,112.15,112.23,110.98,111.93,111.76,111.55,111.94,110.31,111.06,111.93,111.6,111.09,111.35,110.73,111.47,109.97,112.44,111.41,111.63,110.48,110.93,113.17,112.95,111.85,110.53,111.4,111.55,112.84,112.3,110.64,111.42,111.91,112.8,111.89,111.46,111.04,111.2,111.11,111.74,112.53,111.53,111.04,110.98,111.83,111.04,111.58,111.13,111.22,112.44,112.06,111.9,110.71,112.14,111.81,111.17,111.56,112.28,111.37,112.15,111.64,111.86,112.4,111.76,112.23,112.08,111.8,111.88,112.42,111.06,112.47,110.44,111.33,112.48,112.98,112.2,111.46,111.45,111.7,111.86,110.75,112.12,111.33,111.56,111.67,111.85,111.83,110.89,112.51,111.82,112.0,111.4,111.55,111.16,111.92,111.56,111.47,111.3,112.37,111.49,110.95,111.94,111.87,111.09,110.52,111.26,111.86,111.36,111.28,111.56,111.83,111.53,111.69,112.71,109.93,111.17,111.31,111.31,111.01,111.09,111.14,110.94,112.75,111.98,111.64,111.2,110.68,110.97,112.29,111.11,111.27,111.45,112.41,112.0,112.87,111.63,112.15,111.2,112.43,112.89,111.48,112.33,111.75,111.69,111.04,112.07,110.71,111.25,111.51,111.07,110.98,111.68,112.4,111.18,112.16,111.76,111.28,110.97,111.95,112.25,112.07],\"type\":\"histogram\"}],                        {\"barmode\":\"overlay\",\"legend\":{\"bgcolor\":\"#F5F6F9\",\"font\":{\"color\":\"#4D5663\"}},\"paper_bgcolor\":\"#F5F6F9\",\"plot_bgcolor\":\"#F5F6F9\",\"template\":{\"data\":{\"barpolar\":[{\"marker\":{\"line\":{\"color\":\"#E5ECF6\",\"width\":0.5},\"pattern\":{\"fillmode\":\"overlay\",\"size\":10,\"solidity\":0.2}},\"type\":\"barpolar\"}],\"bar\":[{\"error_x\":{\"color\":\"#2a3f5f\"},\"error_y\":{\"color\":\"#2a3f5f\"},\"marker\":{\"line\":{\"color\":\"#E5ECF6\",\"width\":0.5},\"pattern\":{\"fillmode\":\"overlay\",\"size\":10,\"solidity\":0.2}},\"type\":\"bar\"}],\"carpet\":[{\"aaxis\":{\"endlinecolor\":\"#2a3f5f\",\"gridcolor\":\"white\",\"linecolor\":\"white\",\"minorgridcolor\":\"white\",\"startlinecolor\":\"#2a3f5f\"},\"baxis\":{\"endlinecolor\":\"#2a3f5f\",\"gridcolor\":\"white\",\"linecolor\":\"white\",\"minorgridcolor\":\"white\",\"startlinecolor\":\"#2a3f5f\"},\"type\":\"carpet\"}],\"choropleth\":[{\"colorbar\":{\"outlinewidth\":0,\"ticks\":\"\"},\"type\":\"choropleth\"}],\"contourcarpet\":[{\"colorbar\":{\"outlinewidth\":0,\"ticks\":\"\"},\"type\":\"contourcarpet\"}],\"contour\":[{\"colorbar\":{\"outlinewidth\":0,\"ticks\":\"\"},\"colorscale\":[[0.0,\"#0d0887\"],[0.1111111111111111,\"#46039f\"],[0.2222222222222222,\"#7201a8\"],[0.3333333333333333,\"#9c179e\"],[0.4444444444444444,\"#bd3786\"],[0.5555555555555556,\"#d8576b\"],[0.6666666666666666,\"#ed7953\"],[0.7777777777777778,\"#fb9f3a\"],[0.8888888888888888,\"#fdca26\"],[1.0,\"#f0f921\"]],\"type\":\"contour\"}],\"heatmapgl\":[{\"colorbar\":{\"outlinewidth\":0,\"ticks\":\"\"},\"colorscale\":[[0.0,\"#0d0887\"],[0.1111111111111111,\"#46039f\"],[0.2222222222222222,\"#7201a8\"],[0.3333333333333333,\"#9c179e\"],[0.4444444444444444,\"#bd3786\"],[0.5555555555555556,\"#d8576b\"],[0.6666666666666666,\"#ed7953\"],[0.7777777777777778,\"#fb9f3a\"],[0.8888888888888888,\"#fdca26\"],[1.0,\"#f0f921\"]],\"type\":\"heatmapgl\"}],\"heatmap\":[{\"colorbar\":{\"outlinewidth\":0,\"ticks\":\"\"},\"colorscale\":[[0.0,\"#0d0887\"],[0.1111111111111111,\"#46039f\"],[0.2222222222222222,\"#7201a8\"],[0.3333333333333333,\"#9c179e\"],[0.4444444444444444,\"#bd3786\"],[0.5555555555555556,\"#d8576b\"],[0.6666666666666666,\"#ed7953\"],[0.7777777777777778,\"#fb9f3a\"],[0.8888888888888888,\"#fdca26\"],[1.0,\"#f0f921\"]],\"type\":\"heatmap\"}],\"histogram2dcontour\":[{\"colorbar\":{\"outlinewidth\":0,\"ticks\":\"\"},\"colorscale\":[[0.0,\"#0d0887\"],[0.1111111111111111,\"#46039f\"],[0.2222222222222222,\"#7201a8\"],[0.3333333333333333,\"#9c179e\"],[0.4444444444444444,\"#bd3786\"],[0.5555555555555556,\"#d8576b\"],[0.6666666666666666,\"#ed7953\"],[0.7777777777777778,\"#fb9f3a\"],[0.8888888888888888,\"#fdca26\"],[1.0,\"#f0f921\"]],\"type\":\"histogram2dcontour\"}],\"histogram2d\":[{\"colorbar\":{\"outlinewidth\":0,\"ticks\":\"\"},\"colorscale\":[[0.0,\"#0d0887\"],[0.1111111111111111,\"#46039f\"],[0.2222222222222222,\"#7201a8\"],[0.3333333333333333,\"#9c179e\"],[0.4444444444444444,\"#bd3786\"],[0.5555555555555556,\"#d8576b\"],[0.6666666666666666,\"#ed7953\"],[0.7777777777777778,\"#fb9f3a\"],[0.8888888888888888,\"#fdca26\"],[1.0,\"#f0f921\"]],\"type\":\"histogram2d\"}],\"histogram\":[{\"marker\":{\"pattern\":{\"fillmode\":\"overlay\",\"size\":10,\"solidity\":0.2}},\"type\":\"histogram\"}],\"mesh3d\":[{\"colorbar\":{\"outlinewidth\":0,\"ticks\":\"\"},\"type\":\"mesh3d\"}],\"parcoords\":[{\"line\":{\"colorbar\":{\"outlinewidth\":0,\"ticks\":\"\"}},\"type\":\"parcoords\"}],\"pie\":[{\"automargin\":true,\"type\":\"pie\"}],\"scatter3d\":[{\"line\":{\"colorbar\":{\"outlinewidth\":0,\"ticks\":\"\"}},\"marker\":{\"colorbar\":{\"outlinewidth\":0,\"ticks\":\"\"}},\"type\":\"scatter3d\"}],\"scattercarpet\":[{\"marker\":{\"colorbar\":{\"outlinewidth\":0,\"ticks\":\"\"}},\"type\":\"scattercarpet\"}],\"scattergeo\":[{\"marker\":{\"colorbar\":{\"outlinewidth\":0,\"ticks\":\"\"}},\"type\":\"scattergeo\"}],\"scattergl\":[{\"marker\":{\"colorbar\":{\"outlinewidth\":0,\"ticks\":\"\"}},\"type\":\"scattergl\"}],\"scattermapbox\":[{\"marker\":{\"colorbar\":{\"outlinewidth\":0,\"ticks\":\"\"}},\"type\":\"scattermapbox\"}],\"scatterpolargl\":[{\"marker\":{\"colorbar\":{\"outlinewidth\":0,\"ticks\":\"\"}},\"type\":\"scatterpolargl\"}],\"scatterpolar\":[{\"marker\":{\"colorbar\":{\"outlinewidth\":0,\"ticks\":\"\"}},\"type\":\"scatterpolar\"}],\"scatter\":[{\"fillpattern\":{\"fillmode\":\"overlay\",\"size\":10,\"solidity\":0.2},\"type\":\"scatter\"}],\"scatterternary\":[{\"marker\":{\"colorbar\":{\"outlinewidth\":0,\"ticks\":\"\"}},\"type\":\"scatterternary\"}],\"surface\":[{\"colorbar\":{\"outlinewidth\":0,\"ticks\":\"\"},\"colorscale\":[[0.0,\"#0d0887\"],[0.1111111111111111,\"#46039f\"],[0.2222222222222222,\"#7201a8\"],[0.3333333333333333,\"#9c179e\"],[0.4444444444444444,\"#bd3786\"],[0.5555555555555556,\"#d8576b\"],[0.6666666666666666,\"#ed7953\"],[0.7777777777777778,\"#fb9f3a\"],[0.8888888888888888,\"#fdca26\"],[1.0,\"#f0f921\"]],\"type\":\"surface\"}],\"table\":[{\"cells\":{\"fill\":{\"color\":\"#EBF0F8\"},\"line\":{\"color\":\"white\"}},\"header\":{\"fill\":{\"color\":\"#C8D4E3\"},\"line\":{\"color\":\"white\"}},\"type\":\"table\"}]},\"layout\":{\"annotationdefaults\":{\"arrowcolor\":\"#2a3f5f\",\"arrowhead\":0,\"arrowwidth\":1},\"autotypenumbers\":\"strict\",\"coloraxis\":{\"colorbar\":{\"outlinewidth\":0,\"ticks\":\"\"}},\"colorscale\":{\"diverging\":[[0,\"#8e0152\"],[0.1,\"#c51b7d\"],[0.2,\"#de77ae\"],[0.3,\"#f1b6da\"],[0.4,\"#fde0ef\"],[0.5,\"#f7f7f7\"],[0.6,\"#e6f5d0\"],[0.7,\"#b8e186\"],[0.8,\"#7fbc41\"],[0.9,\"#4d9221\"],[1,\"#276419\"]],\"sequential\":[[0.0,\"#0d0887\"],[0.1111111111111111,\"#46039f\"],[0.2222222222222222,\"#7201a8\"],[0.3333333333333333,\"#9c179e\"],[0.4444444444444444,\"#bd3786\"],[0.5555555555555556,\"#d8576b\"],[0.6666666666666666,\"#ed7953\"],[0.7777777777777778,\"#fb9f3a\"],[0.8888888888888888,\"#fdca26\"],[1.0,\"#f0f921\"]],\"sequentialminus\":[[0.0,\"#0d0887\"],[0.1111111111111111,\"#46039f\"],[0.2222222222222222,\"#7201a8\"],[0.3333333333333333,\"#9c179e\"],[0.4444444444444444,\"#bd3786\"],[0.5555555555555556,\"#d8576b\"],[0.6666666666666666,\"#ed7953\"],[0.7777777777777778,\"#fb9f3a\"],[0.8888888888888888,\"#fdca26\"],[1.0,\"#f0f921\"]]},\"colorway\":[\"#636efa\",\"#EF553B\",\"#00cc96\",\"#ab63fa\",\"#FFA15A\",\"#19d3f3\",\"#FF6692\",\"#B6E880\",\"#FF97FF\",\"#FECB52\"],\"font\":{\"color\":\"#2a3f5f\"},\"geo\":{\"bgcolor\":\"white\",\"lakecolor\":\"white\",\"landcolor\":\"#E5ECF6\",\"showlakes\":true,\"showland\":true,\"subunitcolor\":\"white\"},\"hoverlabel\":{\"align\":\"left\"},\"hovermode\":\"closest\",\"mapbox\":{\"style\":\"light\"},\"paper_bgcolor\":\"white\",\"plot_bgcolor\":\"#E5ECF6\",\"polar\":{\"angularaxis\":{\"gridcolor\":\"white\",\"linecolor\":\"white\",\"ticks\":\"\"},\"bgcolor\":\"#E5ECF6\",\"radialaxis\":{\"gridcolor\":\"white\",\"linecolor\":\"white\",\"ticks\":\"\"}},\"scene\":{\"xaxis\":{\"backgroundcolor\":\"#E5ECF6\",\"gridcolor\":\"white\",\"gridwidth\":2,\"linecolor\":\"white\",\"showbackground\":true,\"ticks\":\"\",\"zerolinecolor\":\"white\"},\"yaxis\":{\"backgroundcolor\":\"#E5ECF6\",\"gridcolor\":\"white\",\"gridwidth\":2,\"linecolor\":\"white\",\"showbackground\":true,\"ticks\":\"\",\"zerolinecolor\":\"white\"},\"zaxis\":{\"backgroundcolor\":\"#E5ECF6\",\"gridcolor\":\"white\",\"gridwidth\":2,\"linecolor\":\"white\",\"showbackground\":true,\"ticks\":\"\",\"zerolinecolor\":\"white\"}},\"shapedefaults\":{\"line\":{\"color\":\"#2a3f5f\"}},\"ternary\":{\"aaxis\":{\"gridcolor\":\"white\",\"linecolor\":\"white\",\"ticks\":\"\"},\"baxis\":{\"gridcolor\":\"white\",\"linecolor\":\"white\",\"ticks\":\"\"},\"bgcolor\":\"#E5ECF6\",\"caxis\":{\"gridcolor\":\"white\",\"linecolor\":\"white\",\"ticks\":\"\"}},\"title\":{\"x\":0.05},\"xaxis\":{\"automargin\":true,\"gridcolor\":\"white\",\"linecolor\":\"white\",\"ticks\":\"\",\"title\":{\"standoff\":15},\"zerolinecolor\":\"white\",\"zerolinewidth\":2},\"yaxis\":{\"automargin\":true,\"gridcolor\":\"white\",\"linecolor\":\"white\",\"ticks\":\"\",\"title\":{\"standoff\":15},\"zerolinecolor\":\"white\",\"zerolinewidth\":2}}},\"title\":{\"font\":{\"color\":\"#4D5663\"},\"text\":\"Distribution of Length\"},\"xaxis\":{\"gridcolor\":\"#E1E5ED\",\"showgrid\":true,\"tickfont\":{\"color\":\"#4D5663\"},\"title\":{\"font\":{\"color\":\"#4D5663\"},\"text\":\"Length\"},\"zerolinecolor\":\"#E1E5ED\"},\"yaxis\":{\"gridcolor\":\"#E1E5ED\",\"showgrid\":true,\"tickfont\":{\"color\":\"#4D5663\"},\"title\":{\"font\":{\"color\":\"#4D5663\"},\"text\":\"Count\"},\"zerolinecolor\":\"#E1E5ED\"}},                        {\"showLink\": true, \"linkText\": \"Export to plot.ly\", \"plotlyServerURL\": \"https://plot.ly\", \"responsive\": true}                    ).then(function(){\n",
       "                            \n",
       "var gd = document.getElementById('7d0f2db8-9761-4b38-abee-f264fcdea0c5');\n",
       "var x = new MutationObserver(function (mutations, observer) {{\n",
       "        var display = window.getComputedStyle(gd).display;\n",
       "        if (!display || display === 'none') {{\n",
       "            console.log([gd, 'removed!']);\n",
       "            Plotly.purge(gd);\n",
       "            observer.disconnect();\n",
       "        }}\n",
       "}});\n",
       "\n",
       "// Listen for the removal of the full notebook cells\n",
       "var notebookContainer = gd.closest('#notebook-container');\n",
       "if (notebookContainer) {{\n",
       "    x.observe(notebookContainer, {childList: true});\n",
       "}}\n",
       "\n",
       "// Listen for the clearing of the current output cell\n",
       "var outputEl = gd.closest('.output');\n",
       "if (outputEl) {{\n",
       "    x.observe(outputEl, {childList: true});\n",
       "}}\n",
       "\n",
       "                        })                };                });            </script>        </div>"
      ]
     },
     "metadata": {},
     "output_type": "display_data"
    }
   ],
   "source": [
    "distr(df['length'],title='Distribution of Length',xlabel='Length',ylabel='Count')"
   ]
  },
  {
   "cell_type": "markdown",
   "metadata": {},
   "source": [
    "For the bivariate analysis, we will create plots to visualize the distribution of the bill attributes, taking into account their authenticity status, as depicted below"
   ]
  },
  {
   "cell_type": "code",
   "execution_count": 15,
   "metadata": {},
   "outputs": [
    {
     "data": {
      "text/plain": [
       "Text(0.5, 1.0, 'Distribution of Height_Left by authenticity')"
      ]
     },
     "execution_count": 15,
     "metadata": {},
     "output_type": "execute_result"
    },
    {
     "data": {
      "image/png": "[encoded data removed]",
      "text/plain": [
       "<Figure size 640x480 with 1 Axes>"
      ]
     },
     "metadata": {},
     "output_type": "display_data"
    }
   ],
   "source": [
    "sns.histplot(data=df,x='height_left',hue='is_genuine').set_title('Distribution of Height_Left by authenticity')"
   ]
  },
  {
   "cell_type": "code",
   "execution_count": 16,
   "metadata": {},
   "outputs": [
    {
     "data": {
      "text/plain": [
       "Text(0.5, 1.0, 'Distribution of Height_right by authenticity')"
      ]
     },
     "execution_count": 16,
     "metadata": {},
     "output_type": "execute_result"
    },
    {
     "data": {
      "image/png": "[encoded data removed]",
      "text/plain": [
       "<Figure size 640x480 with 1 Axes>"
      ]
     },
     "metadata": {},
     "output_type": "display_data"
    }
   ],
   "source": [
    "sns.histplot(data=df,x='height_right',hue='is_genuine').set_title('Distribution of Height_right by authenticity')"
   ]
  },
  {
   "cell_type": "code",
   "execution_count": 17,
   "metadata": {},
   "outputs": [
    {
     "data": {
      "text/plain": [
       "Text(0.5, 1.0, 'Distribution of Margin_Low by authenticity')"
      ]
     },
     "execution_count": 17,
     "metadata": {},
     "output_type": "execute_result"
    },
    {
     "data": {
      "image/png": "[encoded data removed]",
      "text/plain": [
       "<Figure size 640x480 with 1 Axes>"
      ]
     },
     "metadata": {},
     "output_type": "display_data"
    }
   ],
   "source": [
    "sns.histplot(data=df,x='margin_low',hue='is_genuine').set_title('Distribution of Margin_Low by authenticity')"
   ]
  },
  {
   "cell_type": "code",
   "execution_count": 18,
   "metadata": {},
   "outputs": [
    {
     "data": {
      "text/plain": [
       "Text(0.5, 1.0, 'Distribution of Margin_up by authenticity')"
      ]
     },
     "execution_count": 18,
     "metadata": {},
     "output_type": "execute_result"
    },
    {
     "data": {
      "image/png": "[encoded data removed]",
      "text/plain": [
       "<Figure size 640x480 with 1 Axes>"
      ]
     },
     "metadata": {},
     "output_type": "display_data"
    }
   ],
   "source": [
    "sns.histplot(data=df,x='margin_up',hue='is_genuine').set_title('Distribution of Margin_up by authenticity')"
   ]
  },
  {
   "cell_type": "code",
   "execution_count": 19,
   "metadata": {},
   "outputs": [
    {
     "data": {
      "text/plain": [
       "Text(0.5, 1.0, 'Distribution of Length by authenticity')"
      ]
     },
     "execution_count": 19,
     "metadata": {},
     "output_type": "execute_result"
    },
    {
     "data": {
      "image/png": "[encoded data removed]",
      "text/plain": [
       "<Figure size 640x480 with 1 Axes>"
      ]
     },
     "metadata": {},
     "output_type": "display_data"
    }
   ],
   "source": [
    "sns.histplot(data=df,x='length',hue='is_genuine').set_title('Distribution of Length by authenticity')"
   ]
  },
  {
   "cell_type": "markdown",
   "metadata": {},
   "source": [
    "For the purpose of multivariate analysis, we will generate a heatmap to visualize the correlation among our predictor variables as follows"
   ]
  },
  {
   "cell_type": "code",
   "execution_count": 20,
   "metadata": {},
   "outputs": [
    {
     "data": {
      "text/html": [
       "<div>\n",
       "<style scoped>\n",
       "    .dataframe tbody tr th:only-of-type {\n",
       "        vertical-align: middle;\n",
       "    }\n",
       "\n",
       "    .dataframe tbody tr th {\n",
       "        vertical-align: top;\n",
       "    }\n",
       "\n",
       "    .dataframe thead th {\n",
       "        text-align: right;\n",
       "    }\n",
       "</style>\n",
       "<table border=\"1\" class=\"dataframe\">\n",
       "  <thead>\n",
       "    <tr style=\"text-align: right;\">\n",
       "      <th></th>\n",
       "      <th>is_genuine</th>\n",
       "      <th>diagonal</th>\n",
       "      <th>height_left</th>\n",
       "      <th>height_right</th>\n",
       "      <th>margin_low</th>\n",
       "      <th>margin_up</th>\n",
       "      <th>length</th>\n",
       "    </tr>\n",
       "  </thead>\n",
       "  <tbody>\n",
       "    <tr>\n",
       "      <th>is_genuine</th>\n",
       "      <td>1.000000</td>\n",
       "      <td>0.132756</td>\n",
       "      <td>-0.379833</td>\n",
       "      <td>-0.485092</td>\n",
       "      <td>-0.775015</td>\n",
       "      <td>-0.606262</td>\n",
       "      <td>0.849285</td>\n",
       "    </tr>\n",
       "    <tr>\n",
       "      <th>diagonal</th>\n",
       "      <td>0.132756</td>\n",
       "      <td>1.000000</td>\n",
       "      <td>0.019472</td>\n",
       "      <td>-0.024492</td>\n",
       "      <td>-0.110244</td>\n",
       "      <td>-0.055649</td>\n",
       "      <td>0.097587</td>\n",
       "    </tr>\n",
       "    <tr>\n",
       "      <th>height_left</th>\n",
       "      <td>-0.379833</td>\n",
       "      <td>0.019472</td>\n",
       "      <td>1.000000</td>\n",
       "      <td>0.242279</td>\n",
       "      <td>0.299028</td>\n",
       "      <td>0.246522</td>\n",
       "      <td>-0.320863</td>\n",
       "    </tr>\n",
       "    <tr>\n",
       "      <th>height_right</th>\n",
       "      <td>-0.485092</td>\n",
       "      <td>-0.024492</td>\n",
       "      <td>0.242279</td>\n",
       "      <td>1.000000</td>\n",
       "      <td>0.384513</td>\n",
       "      <td>0.307005</td>\n",
       "      <td>-0.401751</td>\n",
       "    </tr>\n",
       "    <tr>\n",
       "      <th>margin_low</th>\n",
       "      <td>-0.775015</td>\n",
       "      <td>-0.110244</td>\n",
       "      <td>0.299028</td>\n",
       "      <td>0.384513</td>\n",
       "      <td>1.000000</td>\n",
       "      <td>0.425608</td>\n",
       "      <td>-0.658844</td>\n",
       "    </tr>\n",
       "    <tr>\n",
       "      <th>margin_up</th>\n",
       "      <td>-0.606262</td>\n",
       "      <td>-0.055649</td>\n",
       "      <td>0.246522</td>\n",
       "      <td>0.307005</td>\n",
       "      <td>0.425608</td>\n",
       "      <td>1.000000</td>\n",
       "      <td>-0.520575</td>\n",
       "    </tr>\n",
       "    <tr>\n",
       "      <th>length</th>\n",
       "      <td>0.849285</td>\n",
       "      <td>0.097587</td>\n",
       "      <td>-0.320863</td>\n",
       "      <td>-0.401751</td>\n",
       "      <td>-0.658844</td>\n",
       "      <td>-0.520575</td>\n",
       "      <td>1.000000</td>\n",
       "    </tr>\n",
       "  </tbody>\n",
       "</table>\n",
       "</div>"
      ],
      "text/plain": [
       "              is_genuine  diagonal  height_left  height_right  margin_low  \\\n",
       "is_genuine      1.000000  0.132756    -0.379833     -0.485092   -0.775015   \n",
       "diagonal        0.132756  1.000000     0.019472     -0.024492   -0.110244   \n",
       "height_left    -0.379833  0.019472     1.000000      0.242279    0.299028   \n",
       "height_right   -0.485092 -0.024492     0.242279      1.000000    0.384513   \n",
       "margin_low     -0.775015 -0.110244     0.299028      0.384513    1.000000   \n",
       "margin_up      -0.606262 -0.055649     0.246522      0.307005    0.425608   \n",
       "length          0.849285  0.097587    -0.320863     -0.401751   -0.658844   \n",
       "\n",
       "              margin_up    length  \n",
       "is_genuine    -0.606262  0.849285  \n",
       "diagonal      -0.055649  0.097587  \n",
       "height_left    0.246522 -0.320863  \n",
       "height_right   0.307005 -0.401751  \n",
       "margin_low     0.425608 -0.658844  \n",
       "margin_up      1.000000 -0.520575  \n",
       "length        -0.520575  1.000000  "
      ]
     },
     "execution_count": 20,
     "metadata": {},
     "output_type": "execute_result"
    }
   ],
   "source": [
    "# Obtaining the correlation matrix \n",
    "df.corr()"
   ]
  },
  {
   "cell_type": "code",
   "execution_count": 21,
   "metadata": {},
   "outputs": [
    {
     "data": {
      "text/plain": [
       "Text(0.5, 1.0, 'Correlation Matrix')"
      ]
     },
     "execution_count": 21,
     "metadata": {},
     "output_type": "execute_result"
    },
    {
     "data": {
      "image/png": "[encoded data removed]",
      "text/plain": [
       "<Figure size 640x480 with 1 Axes>"
      ]
     },
     "metadata": {},
     "output_type": "display_data"
    }
   ],
   "source": [
    "#Plotting the heatmap\n",
    "sns.heatmap(df.corr(),annot=True,cbar=False).set_title('Correlation Matrix')"
   ]
  },
  {
   "cell_type": "markdown",
   "metadata": {},
   "source": [
    "## Step 3: Building our Model\n",
    "\n",
    "Now that we have cleaned and explored the relationship in our data, we will proceed to build a model for predicting the authenticity of a bill using the K-Nearest Neighbors (KNN) algorithm. We will accomplish this by following the steps outlined below:\n",
    "\n",
    "1. **Encoding the dependent variable:** We will encode our dependent variable into two binary classes, with 1 representing authentic bills and 0 representing fake bills.\n",
    "\n",
    "2. **Defining the predictor variables:** Our predictor variables will include diagonal, height_left, height_right, margin_low, margin_up, and length. The dependent variable will be is_genuine.\n",
    "\n",
    "3. **Standardizing the predictor variables:** To ensure that all variables have the same scale, we will standardize our predictor variables.\n",
    "\n",
    "4. **Splitting the data:** We will split our data into training and test sets, with the training data comprising 70% of the overall data.\n",
    "\n",
    "5. **Fitting the model:** We will fit our KNN model to the training data.\n",
    "\n",
    "6. **Training and obtaining predictions:** Using the trained model, we will make predictions based on the test set.\n",
    "\n",
    "7. **Evaluating the model's performance:** We will evaluate the performance of our model by generating a classification report, which will provide metrics such as precision, recall, and F1-score.\n",
    "\n",
    "8. **Optimizing model parameters:** To improve the performance of our model, we will search for the best value of K, the number of nearest neighbors considered for classification.\n"
   ]
  },
  {
   "cell_type": "code",
   "execution_count": 22,
   "metadata": {},
   "outputs": [],
   "source": [
    "# Encoding the dependent variable\n",
    "df=pd.get_dummies(data=df,columns=['is_genuine'],drop_first=True)"
   ]
  },
  {
   "cell_type": "code",
   "execution_count": 23,
   "metadata": {},
   "outputs": [],
   "source": [
    "# Defining our dependent and independent variables \n",
    "x=df[df.columns[0:-1]]\n",
    "y=df[df.columns[-1]]"
   ]
  },
  {
   "cell_type": "code",
   "execution_count": 24,
   "metadata": {},
   "outputs": [],
   "source": [
    "# Standardizing x variables \n",
    "from sklearn.preprocessing import StandardScaler\n",
    "scalar=StandardScaler()\n",
    "x_std=scalar.fit(x).transform(x)"
   ]
  },
  {
   "cell_type": "code",
   "execution_count": 25,
   "metadata": {},
   "outputs": [],
   "source": [
    "# Dividing our Data into train and test sets\n",
    "from sklearn.model_selection import train_test_split\n",
    "x_train,x_test,y_train,y_test=train_test_split(x_std,y,train_size=0.70)\n"
   ]
  },
  {
   "cell_type": "code",
   "execution_count": 26,
   "metadata": {},
   "outputs": [
    {
     "data": {
      "text/html": [
       "<style>#sk-container-id-1 {color: black;background-color: white;}#sk-container-id-1 pre{padding: 0;}#sk-container-id-1 div.sk-toggleable {background-color: white;}#sk-container-id-1 label.sk-toggleable__label {cursor: pointer;display: block;width: 100%;margin-bottom: 0;padding: 0.3em;box-sizing: border-box;text-align: center;}#sk-container-id-1 label.sk-toggleable__label-arrow:before {content: \"▸\";float: left;margin-right: 0.25em;color: #696969;}#sk-container-id-1 label.sk-toggleable__label-arrow:hover:before {color: black;}#sk-container-id-1 div.sk-estimator:hover label.sk-toggleable__label-arrow:before {color: black;}#sk-container-id-1 div.sk-toggleable__content {max-height: 0;max-width: 0;overflow: hidden;text-align: left;background-color: #f0f8ff;}#sk-container-id-1 div.sk-toggleable__content pre {margin: 0.2em;color: black;border-radius: 0.25em;background-color: #f0f8ff;}#sk-container-id-1 input.sk-toggleable__control:checked~div.sk-toggleable__content {max-height: 200px;max-width: 100%;overflow: auto;}#sk-container-id-1 input.sk-toggleable__control:checked~label.sk-toggleable__label-arrow:before {content: \"▾\";}#sk-container-id-1 div.sk-estimator input.sk-toggleable__control:checked~label.sk-toggleable__label {background-color: #d4ebff;}#sk-container-id-1 div.sk-label input.sk-toggleable__control:checked~label.sk-toggleable__label {background-color: #d4ebff;}#sk-container-id-1 input.sk-hidden--visually {border: 0;clip: rect(1px 1px 1px 1px);clip: rect(1px, 1px, 1px, 1px);height: 1px;margin: -1px;overflow: hidden;padding: 0;position: absolute;width: 1px;}#sk-container-id-1 div.sk-estimator {font-family: monospace;background-color: #f0f8ff;border: 1px dotted black;border-radius: 0.25em;box-sizing: border-box;margin-bottom: 0.5em;}#sk-container-id-1 div.sk-estimator:hover {background-color: #d4ebff;}#sk-container-id-1 div.sk-parallel-item::after {content: \"\";width: 100%;border-bottom: 1px solid gray;flex-grow: 1;}#sk-container-id-1 div.sk-label:hover label.sk-toggleable__label {background-color: #d4ebff;}#sk-container-id-1 div.sk-serial::before {content: \"\";position: absolute;border-left: 1px solid gray;box-sizing: border-box;top: 0;bottom: 0;left: 50%;z-index: 0;}#sk-container-id-1 div.sk-serial {display: flex;flex-direction: column;align-items: center;background-color: white;padding-right: 0.2em;padding-left: 0.2em;position: relative;}#sk-container-id-1 div.sk-item {position: relative;z-index: 1;}#sk-container-id-1 div.sk-parallel {display: flex;align-items: stretch;justify-content: center;background-color: white;position: relative;}#sk-container-id-1 div.sk-item::before, #sk-container-id-1 div.sk-parallel-item::before {content: \"\";position: absolute;border-left: 1px solid gray;box-sizing: border-box;top: 0;bottom: 0;left: 50%;z-index: -1;}#sk-container-id-1 div.sk-parallel-item {display: flex;flex-direction: column;z-index: 1;position: relative;background-color: white;}#sk-container-id-1 div.sk-parallel-item:first-child::after {align-self: flex-end;width: 50%;}#sk-container-id-1 div.sk-parallel-item:last-child::after {align-self: flex-start;width: 50%;}#sk-container-id-1 div.sk-parallel-item:only-child::after {width: 0;}#sk-container-id-1 div.sk-dashed-wrapped {border: 1px dashed gray;margin: 0 0.4em 0.5em 0.4em;box-sizing: border-box;padding-bottom: 0.4em;background-color: white;}#sk-container-id-1 div.sk-label label {font-family: monospace;font-weight: bold;display: inline-block;line-height: 1.2em;}#sk-container-id-1 div.sk-label-container {text-align: center;}#sk-container-id-1 div.sk-container {/* jupyter's `normalize.less` sets `[hidden] { display: none; }` but bootstrap.min.css set `[hidden] { display: none !important; }` so we also need the `!important` here to be able to override the default hidden behavior on the sphinx rendered scikit-learn.org. See: https://github.com/scikit-learn/scikit-learn/issues/21755 */display: inline-block !important;position: relative;}#sk-container-id-1 div.sk-text-repr-fallback {display: none;}</style><div id=\"sk-container-id-1\" class=\"sk-top-container\"><div class=\"sk-text-repr-fallback\"><pre>KNeighborsClassifier()</pre><b>In a Jupyter environment, please rerun this cell to show the HTML representation or trust the notebook. <br />On GitHub, the HTML representation is unable to render, please try loading this page with nbviewer.org.</b></div><div class=\"sk-container\" hidden><div class=\"sk-item\"><div class=\"sk-estimator sk-toggleable\"><input class=\"sk-toggleable__control sk-hidden--visually\" id=\"sk-estimator-id-1\" type=\"checkbox\" checked><label for=\"sk-estimator-id-1\" class=\"sk-toggleable__label sk-toggleable__label-arrow\">KNeighborsClassifier</label><div class=\"sk-toggleable__content\"><pre>KNeighborsClassifier()</pre></div></div></div></div></div>"
      ],
      "text/plain": [
       "KNeighborsClassifier()"
      ]
     },
     "execution_count": 26,
     "metadata": {},
     "output_type": "execute_result"
    }
   ],
   "source": [
    "# fitting our model to the data\n",
    "from sklearn.neighbors import KNeighborsClassifier\n",
    "knn_model=KNeighborsClassifier(n_neighbors=5)\n",
    "knn_model.fit(X=x_train,y=y_train)\n"
   ]
  },
  {
   "cell_type": "code",
   "execution_count": 27,
   "metadata": {},
   "outputs": [],
   "source": [
    "# Obtaining predictions from the model \n",
    "pred=knn_model.predict(x_test)"
   ]
  },
  {
   "cell_type": "code",
   "execution_count": 28,
   "metadata": {},
   "outputs": [
    {
     "name": "stdout",
     "output_type": "stream",
     "text": [
      "              precision    recall  f1-score   support\n",
      "\n",
      "           0       0.99      0.97      0.98       144\n",
      "           1       0.99      1.00      0.99       306\n",
      "\n",
      "    accuracy                           0.99       450\n",
      "   macro avg       0.99      0.98      0.99       450\n",
      "weighted avg       0.99      0.99      0.99       450\n",
      "\n"
     ]
    }
   ],
   "source": [
    "# Evaluating our model performance \n",
    "from sklearn.metrics import classification_report\n",
    "report=classification_report(y_test,pred)\n",
    "print(report)"
   ]
  },
  {
   "cell_type": "markdown",
   "metadata": {},
   "source": [
    "## Model Findings\n",
    "\n",
    "Based on the classification report of the model, here are the findings:\n",
    "\n",
    "- **Precision:** The precision measures the accuracy of the positive predictions made by the model. For class 0 (representing fake bills), the precision is 0.98, indicating that out of all the instances predicted as fake bills, 98% were actually fake. For class 1 (representing authentic bills), the precision is also 0.99, indicating that out of all the instances predicted as authentic bills, 99% were actually authentic.\n",
    "\n",
    "- **Recall:** The recall measures the ability of the model to correctly identify the positive instances in the dataset. For class 0 (fake bills), the recall is 0.98, indicating that the model correctly identified 98% of the actual fake bills. For class 1 (authentic bills), the recall is 1.00, indicating that the model correctly identified all the actual authentic bills.\n",
    "\n",
    "- **F1-Score:** The F1-score is the harmonic mean of precision and recall and provides a balanced measure of the model's performance. For both class 0 and class 1, the F1-scores are 0.99, indicating high accuracy and balance between precision and recall.\n",
    "\n",
    "- **Support:** The support indicates the number of instances in each class. In this case, there are 144 instances of class 0 (fake bills) and 306 instances of class 1 (authentic bills) in the test set.\n",
    "\n",
    "- **Accuracy:** The overall accuracy of the model on the test set is 0.99, meaning that it correctly predicted the authenticity of bills with 99% accuracy.\n",
    "\n",
    "- **NB:** These values might vary when you run the model since the test and train data is randomly selected"
   ]
  },
  {
   "cell_type": "code",
   "execution_count": 29,
   "metadata": {},
   "outputs": [],
   "source": [
    "# Optimizing our model by finding the best value of K i.e minimizing the error term\n",
    "error_rate=[]\n",
    "for i in np.arange(1,40,1):\n",
    "    knn_model=KNeighborsClassifier(n_neighbors=i)\n",
    "    knn_model.fit(x_train,y_train)\n",
    "    pred=knn_model.predict(x_test)\n",
    "    error_rate.append(np.mean(pred != y_test))"
   ]
  },
  {
   "cell_type": "code",
   "execution_count": 30,
   "metadata": {},
   "outputs": [
    {
     "data": {
      "text/plain": [
       "Text(0.5, 1.0, 'Mean Error rate vs K values')"
      ]
     },
     "execution_count": 30,
     "metadata": {},
     "output_type": "execute_result"
    },
    {
     "data": {
      "image/png": "[encoded data removed]",
      "text/plain": [
       "<Figure size 640x480 with 1 Axes>"
      ]
     },
     "metadata": {},
     "output_type": "display_data"
    }
   ],
   "source": [
    "sns.lineplot(x=np.arange(1,40,1),y=error_rate,marker='o').set_title('Mean Error rate vs K values')"
   ]
  },
  {
   "cell_type": "markdown",
   "metadata": {},
   "source": [
    "## Project Summary\n",
    "\n",
    "In this project, we successfully developed a model using the K-Nearest Neighbors (KNN) algorithm to predict the authenticity of bills. The model demonstrated high precision, recall, and F1-scores for both fake and authentic bill classes. It achieved an overall accuracy of 0.99 on the test set, indicating its effectiveness in distinguishing between fake and authentic bills. This project contributes to the field of fraud detection and prevention in financial transactions and highlights the potential of machine learning techniques in addressing such challenges.\n"
   ]
  }
 ],
 "metadata": {
  "kernelspec": {
   "display_name": "base",
   "language": "python",
   "name": "python3"
  },
  "language_info": {
   "codemirror_mode": {
    "name": "ipython",
    "version": 3
   },
   "file_extension": ".py",
   "mimetype": "text/x-python",
   "name": "python",
   "nbconvert_exporter": "python",
   "pygments_lexer": "ipython3",
   "version": "3.9.16"
  },
  "orig_nbformat": 4
 },
 "nbformat": 4,
 "nbformat_minor": 2
}
